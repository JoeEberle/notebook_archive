{
 "cells": [
  {
   "cell_type": "code",
   "execution_count": 1,
   "metadata": {},
   "outputs": [],
   "source": [
    "from tkinter import *\n",
    "\n",
    "root = Tk()\n",
    "\n",
    "def get_reply(question):\n",
    "    reply = f'{question}'\n",
    "    return reply\n",
    "\n",
    "def bot_Reply(): \n",
    "    question=questionField.get()\n",
    "    answer =  get_reply(question)\n",
    "    textarea.config(fg='#757575')    \n",
    "    textarea.insert(END,f'\\nUser: {question}')\n",
    "   \n",
    "    textarea.insert(END,f'\\nBotReply: {answer}')\n",
    "    textarea.config(fg='#757575')       \n",
    "    questionField.delete(0,END) \n",
    "    \n",
    "\n",
    "root.geometry('500x570+100+30')\n",
    "root.title('Intelligent Chatbot')\n",
    "root.config(bg='light blue')\n",
    "\n",
    "logopic = PhotoImage(file='ai_brain.png')\n",
    "\n",
    "logoPicLabel=Label(root,image=logopic, bg='light blue')\n",
    "logoPicLabel.pack(pady=5)\n",
    "\n",
    "centerFrame = Frame(root)\n",
    "centerFrame.pack()\n",
    "\n",
    "scrollbar=Scrollbar(centerFrame)\n",
    "scrollbar.pack(side=RIGHT)\n",
    "\n",
    "textarea=Text(centerFrame,font=('times new roman', 18, 'bold'), height=10, yscrollcommand=scrollbar.set, wrap='word')\n",
    "textarea.pack(side=LEFT)\n",
    "\n",
    "scrollbar.config(command=textarea.yview)\n",
    "\n",
    "questionField = Entry(root, font=('tverdana', 18, 'bold'))\n",
    "questionField.pack(pady=15, fill=X)\n",
    "\n",
    "prompt='What is you name?'\n",
    "questionField.insert(END,prompt)\n",
    "\n",
    "button_send = Button(root, text='Send', padx=40, pady=20, command=bot_Reply)\n",
    "button_send.pack()\n",
    "\n",
    "root.mainloop()"
   ]
  },
  {
   "cell_type": "code",
   "execution_count": null,
   "metadata": {},
   "outputs": [],
   "source": [
    "!pip install -U chatterbot\n",
    "!pip install -U chatterbot corpus "
   ]
  },
  {
   "cell_type": "code",
   "execution_count": null,
   "metadata": {},
   "outputs": [],
   "source": [
    "!pip install chatterbot"
   ]
  },
  {
   "cell_type": "code",
   "execution_count": null,
   "metadata": {},
   "outputs": [],
   "source": [
    "!pip install  -U  chatterbot corpus "
   ]
  },
  {
   "cell_type": "code",
   "execution_count": null,
   "metadata": {},
   "outputs": [],
   "source": [
    "!pip install pandas"
   ]
  },
  {
   "cell_type": "code",
   "execution_count": null,
   "metadata": {},
   "outputs": [],
   "source": [
    "!pip install setuptools"
   ]
  }
 ],
 "metadata": {
  "kernelspec": {
   "display_name": "Python 3 (ipykernel)",
   "language": "python",
   "name": "python3"
  },
  "language_info": {
   "codemirror_mode": {
    "name": "ipython",
    "version": 3
   },
   "file_extension": ".py",
   "mimetype": "text/x-python",
   "name": "python",
   "nbconvert_exporter": "python",
   "pygments_lexer": "ipython3",
   "version": "3.8.5"
  }
 },
 "nbformat": 4,
 "nbformat_minor": 4
}
