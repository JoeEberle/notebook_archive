{
 "cells": [
  {
   "cell_type": "code",
   "execution_count": 1,
   "metadata": {},
   "outputs": [],
   "source": [
    "import os\n",
    "import shutil\n",
    "\n",
    "#drop_box_directory  = \"C:/Users/josep/Documents/Kaleida/\"   # The Directory to Inventory and Organize\n",
    "drop_box_directory  = \"C:/Users/josep/Documents/FLIPA/\"      # The Directory to Inventory and Organize\n",
    "excel_dir = 'Excel_Files'\n",
    "images_dir = 'Image_Files'\n",
    "raw_dir = 'Data_Files'\n",
    "python_dir = 'Python_Files'\n",
    "word_dir = 'Word_Files'\n",
    "html_dir = 'HTML_Files'\n",
    "pdf_dir = 'PDF_Files'\n",
    "powerpoint_dir = 'PowerPoint_Files'\n",
    "other_files_dir = 'Other_Files'\n"
   ]
  },
  {
   "cell_type": "code",
   "execution_count": 46,
   "metadata": {},
   "outputs": [
    {
     "name": "stdout",
     "output_type": "stream",
     "text": [
      "C:\\Users\\josep\n"
     ]
    }
   ],
   "source": [
    "current_dir = os.getcwd()\n",
    "print(current_dir) "
   ]
  },
  {
   "cell_type": "code",
   "execution_count": 47,
   "metadata": {},
   "outputs": [
    {
     "name": "stdout",
     "output_type": "stream",
     "text": [
      "File Directory to Inventory, Organize, and Clean - drop_box_directory: C:/Users/josep/Documents/FLIPA/\n"
     ]
    }
   ],
   "source": [
    "print(f'File Directory to Inventory, Organize, and Clean - drop_box_directory: {drop_box_directory}') "
   ]
  },
  {
   "cell_type": "code",
   "execution_count": 48,
   "metadata": {},
   "outputs": [],
   "source": [
    "def add_directory(directory_name):\n",
    "\n",
    "    path = drop_box_directory + directory_name\n",
    "\n",
    "# Check whether the specified path exists or not\n",
    "    isExist = os.path.exists(path)\n",
    "    if isExist:\n",
    "        msg = f'Directory Already Exists: {drop_box_directory}{directory_name} '\n",
    "\n",
    "    if not isExist:\n",
    "  \n",
    "  # Create a new directory because it does not exist \n",
    "      os.makedirs(path)\n",
    "      msg = f'The new directory is created!: {drop_box_directory}{directory_name} '        \n",
    "    \n",
    "    return msg\n",
    " "
   ]
  },
  {
   "cell_type": "code",
   "execution_count": 49,
   "metadata": {},
   "outputs": [
    {
     "name": "stdout",
     "output_type": "stream",
     "text": [
      "Directory Already Exists: C:/Users/josep/Documents/FLIPA/Python_Files \n",
      "Directory Already Exists: C:/Users/josep/Documents/FLIPA/Image_Files \n",
      "Directory Already Exists: C:/Users/josep/Documents/FLIPA/Data_Files \n",
      "Directory Already Exists: C:/Users/josep/Documents/FLIPA/Word_Files \n",
      "Directory Already Exists: C:/Users/josep/Documents/FLIPA/HTML_Files \n",
      "Directory Already Exists: C:/Users/josep/Documents/FLIPA/PDF_Files \n",
      "Directory Already Exists: C:/Users/josep/Documents/FLIPA/PowerPoint_Files \n",
      "Directory Already Exists: C:/Users/josep/Documents/FLIPA/Other_Files \n"
     ]
    }
   ],
   "source": [
    "# Make all the necessary directories is they dont exist \n",
    "dir_msg = add_directory(python_dir)\n",
    "print(dir_msg)\n",
    "dir_msg = add_directory(images_dir)\n",
    "print(dir_msg)\n",
    "dir_msg = add_directory(raw_dir)\n",
    "print(dir_msg)\n",
    "dir_msg = add_directory(word_dir)\n",
    "print(dir_msg)\n",
    "dir_msg = add_directory(html_dir)\n",
    "print(dir_msg)\n",
    "dir_msg = add_directory(pdf_dir)\n",
    "print(dir_msg)\n",
    "dir_msg = add_directory(powerpoint_dir)\n",
    "print(dir_msg)\n",
    "dir_msg = add_directory(other_files_dir)\n",
    "print(dir_msg)"
   ]
  },
  {
   "cell_type": "code",
   "execution_count": 45,
   "metadata": {},
   "outputs": [],
   "source": [
    "## WARNING - THIS One actually MOVES the files instead of COPIES \n",
    "for file in os.listdir(drop_box_directory):\n",
    "    filename, file_ext = os.path.splitext(file)\n",
    "    \n",
    "    try:\n",
    "        if not file_ext:\n",
    "            pass\n",
    "         \n",
    "        elif file_ext in ('.py'):\n",
    "            shutil.move(\n",
    "                os.path.join(drop_box_directory, f'{filename}{file_ext}'),\n",
    "                os.path.join(drop_box_directory,python_directory, f'{filename}{file_ext}')) \n",
    "        elif file_ext in ('.xlsx','.xls','.xltx','.xlb'):\n",
    "            shutil.move(\n",
    "                os.path.join(drop_box_directory, f'{filename}{file_ext}'),\n",
    "                os.path.join(drop_box_directory,excel_directory, f'{filename}{file_ext}'))  \n",
    "        elif file_ext in ('.png','.jpg','.gif'):\n",
    "            shutil.move(\n",
    "                os.path.join(drop_box_directory, f'{filename}{file_ext}'),\n",
    "                os.path.join(drop_box_directory,images_directory, f'{filename}{file_ext}'))     \n",
    "        elif file_ext in ('.docx'):\n",
    "            shutil.move(\n",
    "                os.path.join(drop_box_directory, f'{filename}{file_ext}'),\n",
    "                os.path.join(drop_box_directory,word_dir, f'{filename}{file_ext}'))  \n",
    "        elif file_ext in ('.ppt'):\n",
    "            shutil.move(\n",
    "                os.path.join(drop_box_directory, f'{filename}{file_ext}'),\n",
    "                os.path.join(drop_box_directory,powerpoint_dir, f'{filename}{file_ext}'))  \n",
    "        elif file_ext in ('.csv'):\n",
    "            shutil.move(\n",
    "                os.path.join(drop_box_directory, f'{filename}{file_ext}'),\n",
    "                os.path.join(drop_box_directory,raw_dir, f'{filename}{file_ext}'))   \n",
    "        elif file_ext in ('.pdf'):\n",
    "            shutil.move(\n",
    "                os.path.join(drop_box_directory, f'{filename}{file_ext}'),\n",
    "                os.path.join(drop_box_directory,pdf_dir, f'{filename}{file_ext}'))  \n",
    "        elif file_ext in ('.html'):\n",
    "            shutil.move(\n",
    "                os.path.join(drop_box_directory, f'{filename}{file_ext}'),\n",
    "                os.path.join(drop_box_directory,powerpoint_dir, f'{filename}{file_ext}'))    \n",
    "        elif file_ext in ('.html'):\n",
    "            shutil.move(\n",
    "                os.path.join(drop_box_directory, f'{filename}{file_ext}'),\n",
    "                os.path.join(drop_box_directory,html_dir, f'{filename}{file_ext}'))             \n",
    "        else :\n",
    "            shutil.move(\n",
    "                os.path.join(drop_box_directory, f'{filename}{file_ext}'),\n",
    "                os.path.join(drop_box_directory,other_files_dir, f'{filename}{file_ext}'))  \n",
    "\n",
    "    except (FileNotFoundError, PermissionError):\n",
    "        pass\n",
    "       \n",
    "                             \n",
    "                             \n",
    "                        "
   ]
  },
  {
   "cell_type": "code",
   "execution_count": 50,
   "metadata": {},
   "outputs": [],
   "source": [
    "for file in os.listdir(drop_box_directory):\n",
    "    filename, file_ext = os.path.splitext(file)\n",
    "    \n",
    "    try:\n",
    "        if not file_ext:\n",
    "            pass\n",
    "         \n",
    "        elif file_ext in ('.py'):\n",
    "            shutil.copy(\n",
    "                os.path.join(drop_box_directory, f'{filename}{file_ext}'),\n",
    "                os.path.join(drop_box_directory,python_directory, f'{filename}{file_ext}')) \n",
    "        elif file_ext in ('.xlsx','.xls','.xltx','.xlb'):\n",
    "            shutil.copy(\n",
    "                os.path.join(drop_box_directory, f'{filename}{file_ext}'),\n",
    "                os.path.join(drop_box_directory,excel_directory, f'{filename}{file_ext}'))  \n",
    "        elif file_ext in ('.png','.jpg','.gif'):\n",
    "            shutil.copy(\n",
    "                os.path.join(drop_box_directory, f'{filename}{file_ext}'),\n",
    "                os.path.join(drop_box_directory,images_directory, f'{filename}{file_ext}'))     \n",
    "        elif file_ext in ('.docx'):\n",
    "            shutil.copy(\n",
    "                os.path.join(drop_box_directory, f'{filename}{file_ext}'),\n",
    "                os.path.join(drop_box_directory,word_dir, f'{filename}{file_ext}'))  \n",
    "        elif file_ext in ('.ppt','.pptx'):\n",
    "            shutil.copy(\n",
    "                os.path.join(drop_box_directory, f'{filename}{file_ext}'),\n",
    "                os.path.join(drop_box_directory,powerpoint_dir, f'{filename}{file_ext}'))  \n",
    "        elif file_ext in ('.csv'):\n",
    "            shutil.copy(\n",
    "                os.path.join(drop_box_directory, f'{filename}{file_ext}'),\n",
    "                os.path.join(drop_box_directory,raw_dir, f'{filename}{file_ext}'))   \n",
    "        elif file_ext in ('.pdf'):\n",
    "            shutil.copy(\n",
    "                os.path.join(drop_box_directory, f'{filename}{file_ext}'),\n",
    "                os.path.join(drop_box_directory,pdf_dir, f'{filename}{file_ext}'))  \n",
    "        elif file_ext in ('.html'):\n",
    "            shutil.copy(\n",
    "                os.path.join(drop_box_directory, f'{filename}{file_ext}'),\n",
    "                os.path.join(drop_box_directory,powerpoint_dir, f'{filename}{file_ext}'))    \n",
    "        elif file_ext in ('.html'):\n",
    "            shutil.copy(\n",
    "                os.path.join(drop_box_directory, f'{filename}{file_ext}'),\n",
    "                os.path.join(drop_box_directory,html_dir, f'{filename}{file_ext}'))             \n",
    "        else :\n",
    "            shutil.copy(\n",
    "                os.path.join(drop_box_directory, f'{filename}{file_ext}'),\n",
    "                os.path.join(drop_box_directory,other_files_dir, f'{filename}{file_ext}'))  \n",
    "\n",
    "    except (FileNotFoundError, PermissionError):\n",
    "        pass\n",
    "       "
   ]
  }
 ],
 "metadata": {
  "kernelspec": {
   "display_name": "Python 3",
   "language": "python",
   "name": "python3"
  },
  "language_info": {
   "codemirror_mode": {
    "name": "ipython",
    "version": 3
   },
   "file_extension": ".py",
   "mimetype": "text/x-python",
   "name": "python",
   "nbconvert_exporter": "python",
   "pygments_lexer": "ipython3",
   "version": "3.8.5"
  }
 },
 "nbformat": 4,
 "nbformat_minor": 4
}
