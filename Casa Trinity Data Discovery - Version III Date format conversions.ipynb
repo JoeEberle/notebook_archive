{
 "cells": [
  {
   "cell_type": "markdown",
   "metadata": {},
   "source": [
    "# Data Synthesis - Patient Data Cleansing and Integration\n",
    "\n",
    "### Data Discovery\n"
   ]
  },
  {
   "cell_type": "code",
   "execution_count": 2,
   "metadata": {},
   "outputs": [],
   "source": [
    "import pandas as pd\n",
    "import numpy as np\n",
    "import random as rd\n",
    "import os\n",
    "import glob\n",
    "import matplotlib as plt\n",
    "pd.set_option('max_columns', None)"
   ]
  },
  {
   "cell_type": "code",
   "execution_count": 2,
   "metadata": {},
   "outputs": [
    {
     "data": {
      "text/html": [
       "<div>\n",
       "<style scoped>\n",
       "    .dataframe tbody tr th:only-of-type {\n",
       "        vertical-align: middle;\n",
       "    }\n",
       "\n",
       "    .dataframe tbody tr th {\n",
       "        vertical-align: top;\n",
       "    }\n",
       "\n",
       "    .dataframe thead th {\n",
       "        text-align: right;\n",
       "    }\n",
       "</style>\n",
       "<table border=\"1\" class=\"dataframe\">\n",
       "  <thead>\n",
       "    <tr style=\"text-align: right;\">\n",
       "      <th></th>\n",
       "      <th>ID</th>\n",
       "      <th>FormID</th>\n",
       "      <th>TableName</th>\n",
       "      <th>CreationDate</th>\n",
       "      <th>CreatedBy</th>\n",
       "      <th>ModifiedDate</th>\n",
       "      <th>ModifiedBy</th>\n",
       "      <th>Inactive</th>\n",
       "    </tr>\n",
       "  </thead>\n",
       "  <tbody>\n",
       "    <tr>\n",
       "      <th>0</th>\n",
       "      <td>1</td>\n",
       "      <td>1620</td>\n",
       "      <td>FL_CASATrinityCaseManagementAssessmentRev_Prov...</td>\n",
       "      <td>2019-03-04 09:23:52.6600000</td>\n",
       "      <td>357</td>\n",
       "      <td>NaN</td>\n",
       "      <td>NaN</td>\n",
       "      <td>False</td>\n",
       "    </tr>\n",
       "    <tr>\n",
       "      <th>1</th>\n",
       "      <td>2</td>\n",
       "      <td>1620</td>\n",
       "      <td>FL_CASATrinityCaseManagementAssessmentRev_Prov...</td>\n",
       "      <td>2019-03-04 09:23:52.6600000</td>\n",
       "      <td>357</td>\n",
       "      <td>NaN</td>\n",
       "      <td>NaN</td>\n",
       "      <td>False</td>\n",
       "    </tr>\n",
       "    <tr>\n",
       "      <th>2</th>\n",
       "      <td>3</td>\n",
       "      <td>1620</td>\n",
       "      <td>FL_CASATrinityCaseManagementAssessmentRev_Agen...</td>\n",
       "      <td>2019-03-04 09:23:52.6600000</td>\n",
       "      <td>357</td>\n",
       "      <td>NaN</td>\n",
       "      <td>NaN</td>\n",
       "      <td>False</td>\n",
       "    </tr>\n",
       "    <tr>\n",
       "      <th>3</th>\n",
       "      <td>4</td>\n",
       "      <td>1620</td>\n",
       "      <td>FL_CASATrinityCaseManagementAssessmentRev_Schools</td>\n",
       "      <td>2019-03-04 09:23:52.6600000</td>\n",
       "      <td>357</td>\n",
       "      <td>NaN</td>\n",
       "      <td>NaN</td>\n",
       "      <td>False</td>\n",
       "    </tr>\n",
       "    <tr>\n",
       "      <th>4</th>\n",
       "      <td>5</td>\n",
       "      <td>1620</td>\n",
       "      <td>FL_CASATrinityCaseManagementAssessmentRev_Supp...</td>\n",
       "      <td>2019-03-04 09:23:52.6600000</td>\n",
       "      <td>357</td>\n",
       "      <td>NaN</td>\n",
       "      <td>NaN</td>\n",
       "      <td>False</td>\n",
       "    </tr>\n",
       "  </tbody>\n",
       "</table>\n",
       "</div>"
      ],
      "text/plain": [
       "   ID  FormID                                          TableName  \\\n",
       "0   1    1620  FL_CASATrinityCaseManagementAssessmentRev_Prov...   \n",
       "1   2    1620  FL_CASATrinityCaseManagementAssessmentRev_Prov...   \n",
       "2   3    1620  FL_CASATrinityCaseManagementAssessmentRev_Agen...   \n",
       "3   4    1620  FL_CASATrinityCaseManagementAssessmentRev_Schools   \n",
       "4   5    1620  FL_CASATrinityCaseManagementAssessmentRev_Supp...   \n",
       "\n",
       "                  CreationDate  CreatedBy  ModifiedDate  ModifiedBy  Inactive  \n",
       "0  2019-03-04 09:23:52.6600000        357           NaN         NaN     False  \n",
       "1  2019-03-04 09:23:52.6600000        357           NaN         NaN     False  \n",
       "2  2019-03-04 09:23:52.6600000        357           NaN         NaN     False  \n",
       "3  2019-03-04 09:23:52.6600000        357           NaN         NaN     False  \n",
       "4  2019-03-04 09:23:52.6600000        357           NaN         NaN     False  "
      ]
     },
     "execution_count": 2,
     "metadata": {},
     "output_type": "execute_result"
    }
   ],
   "source": [
    "#df_form = pd.read_csv('C:/Users/josep/documents/datasets/TEG_Form_BreakOutTable.csv')\n",
    "#019-03-04 09:23:52.6600000\n",
    "# Read in the integrated Data Files \n",
    "df_forms = pd.read_csv(\"C:/Users/josep/documents/datasets/forms.csv\",nrows=100)\n",
    "df_forms.head()\n"
   ]
  },
  {
   "cell_type": "code",
   "execution_count": 3,
   "metadata": {},
   "outputs": [],
   "source": [
    "# Appending a new column\n",
    "df_forms['formdate'] = pd.to_datetime(df_forms['CreationDate'])\n",
    " "
   ]
  },
  {
   "cell_type": "code",
   "execution_count": 4,
   "metadata": {},
   "outputs": [
    {
     "data": {
      "text/html": [
       "<div>\n",
       "<style scoped>\n",
       "    .dataframe tbody tr th:only-of-type {\n",
       "        vertical-align: middle;\n",
       "    }\n",
       "\n",
       "    .dataframe tbody tr th {\n",
       "        vertical-align: top;\n",
       "    }\n",
       "\n",
       "    .dataframe thead th {\n",
       "        text-align: right;\n",
       "    }\n",
       "</style>\n",
       "<table border=\"1\" class=\"dataframe\">\n",
       "  <thead>\n",
       "    <tr style=\"text-align: right;\">\n",
       "      <th></th>\n",
       "      <th>ID</th>\n",
       "      <th>FormID</th>\n",
       "      <th>TableName</th>\n",
       "      <th>CreationDate</th>\n",
       "      <th>CreatedBy</th>\n",
       "      <th>ModifiedDate</th>\n",
       "      <th>ModifiedBy</th>\n",
       "      <th>Inactive</th>\n",
       "      <th>formdate</th>\n",
       "    </tr>\n",
       "  </thead>\n",
       "  <tbody>\n",
       "    <tr>\n",
       "      <th>0</th>\n",
       "      <td>1</td>\n",
       "      <td>1620</td>\n",
       "      <td>FL_CASATrinityCaseManagementAssessmentRev_Prov...</td>\n",
       "      <td>2019-03-04 09:23:52.6600000</td>\n",
       "      <td>357</td>\n",
       "      <td>NaN</td>\n",
       "      <td>NaN</td>\n",
       "      <td>False</td>\n",
       "      <td>2019-03-04 09:23:52.660</td>\n",
       "    </tr>\n",
       "    <tr>\n",
       "      <th>1</th>\n",
       "      <td>2</td>\n",
       "      <td>1620</td>\n",
       "      <td>FL_CASATrinityCaseManagementAssessmentRev_Prov...</td>\n",
       "      <td>2019-03-04 09:23:52.6600000</td>\n",
       "      <td>357</td>\n",
       "      <td>NaN</td>\n",
       "      <td>NaN</td>\n",
       "      <td>False</td>\n",
       "      <td>2019-03-04 09:23:52.660</td>\n",
       "    </tr>\n",
       "    <tr>\n",
       "      <th>2</th>\n",
       "      <td>3</td>\n",
       "      <td>1620</td>\n",
       "      <td>FL_CASATrinityCaseManagementAssessmentRev_Agen...</td>\n",
       "      <td>2019-03-04 09:23:52.6600000</td>\n",
       "      <td>357</td>\n",
       "      <td>NaN</td>\n",
       "      <td>NaN</td>\n",
       "      <td>False</td>\n",
       "      <td>2019-03-04 09:23:52.660</td>\n",
       "    </tr>\n",
       "    <tr>\n",
       "      <th>3</th>\n",
       "      <td>4</td>\n",
       "      <td>1620</td>\n",
       "      <td>FL_CASATrinityCaseManagementAssessmentRev_Schools</td>\n",
       "      <td>2019-03-04 09:23:52.6600000</td>\n",
       "      <td>357</td>\n",
       "      <td>NaN</td>\n",
       "      <td>NaN</td>\n",
       "      <td>False</td>\n",
       "      <td>2019-03-04 09:23:52.660</td>\n",
       "    </tr>\n",
       "    <tr>\n",
       "      <th>4</th>\n",
       "      <td>5</td>\n",
       "      <td>1620</td>\n",
       "      <td>FL_CASATrinityCaseManagementAssessmentRev_Supp...</td>\n",
       "      <td>2019-03-04 09:23:52.6600000</td>\n",
       "      <td>357</td>\n",
       "      <td>NaN</td>\n",
       "      <td>NaN</td>\n",
       "      <td>False</td>\n",
       "      <td>2019-03-04 09:23:52.660</td>\n",
       "    </tr>\n",
       "  </tbody>\n",
       "</table>\n",
       "</div>"
      ],
      "text/plain": [
       "   ID  FormID                                          TableName  \\\n",
       "0   1    1620  FL_CASATrinityCaseManagementAssessmentRev_Prov...   \n",
       "1   2    1620  FL_CASATrinityCaseManagementAssessmentRev_Prov...   \n",
       "2   3    1620  FL_CASATrinityCaseManagementAssessmentRev_Agen...   \n",
       "3   4    1620  FL_CASATrinityCaseManagementAssessmentRev_Schools   \n",
       "4   5    1620  FL_CASATrinityCaseManagementAssessmentRev_Supp...   \n",
       "\n",
       "                  CreationDate  CreatedBy  ModifiedDate  ModifiedBy  Inactive  \\\n",
       "0  2019-03-04 09:23:52.6600000        357           NaN         NaN     False   \n",
       "1  2019-03-04 09:23:52.6600000        357           NaN         NaN     False   \n",
       "2  2019-03-04 09:23:52.6600000        357           NaN         NaN     False   \n",
       "3  2019-03-04 09:23:52.6600000        357           NaN         NaN     False   \n",
       "4  2019-03-04 09:23:52.6600000        357           NaN         NaN     False   \n",
       "\n",
       "                 formdate  \n",
       "0 2019-03-04 09:23:52.660  \n",
       "1 2019-03-04 09:23:52.660  \n",
       "2 2019-03-04 09:23:52.660  \n",
       "3 2019-03-04 09:23:52.660  \n",
       "4 2019-03-04 09:23:52.660  "
      ]
     },
     "execution_count": 4,
     "metadata": {},
     "output_type": "execute_result"
    }
   ],
   "source": [
    "df_forms.head()"
   ]
  },
  {
   "cell_type": "code",
   "execution_count": 5,
   "metadata": {},
   "outputs": [],
   "source": [
    "# Changing in place\n",
    "df_forms['CreationDate'] = pd.to_datetime(df_forms['CreationDate'])"
   ]
  },
  {
   "cell_type": "code",
   "execution_count": 6,
   "metadata": {},
   "outputs": [
    {
     "data": {
      "text/plain": [
       "ID                       int64\n",
       "FormID                   int64\n",
       "TableName               object\n",
       "CreationDate    datetime64[ns]\n",
       "CreatedBy                int64\n",
       "ModifiedDate           float64\n",
       "ModifiedBy             float64\n",
       "Inactive                  bool\n",
       "formdate        datetime64[ns]\n",
       "dtype: object"
      ]
     },
     "execution_count": 6,
     "metadata": {},
     "output_type": "execute_result"
    }
   ],
   "source": [
    "df_forms.dtypes\n",
    " "
   ]
  },
  {
   "cell_type": "code",
   "execution_count": 7,
   "metadata": {},
   "outputs": [
    {
     "data": {
      "text/plain": [
       "0   2019-03-04 09:23:52.660\n",
       "1   2019-03-04 09:23:52.660\n",
       "2   2019-03-04 09:23:52.660\n",
       "3   2019-03-04 09:23:52.660\n",
       "4   2019-03-04 09:23:52.660\n",
       "Name: formdate, dtype: datetime64[ns]"
      ]
     },
     "execution_count": 7,
     "metadata": {},
     "output_type": "execute_result"
    }
   ],
   "source": [
    "df_forms['formdate'].head()\n"
   ]
  },
  {
   "cell_type": "code",
   "execution_count": 8,
   "metadata": {},
   "outputs": [
    {
     "data": {
      "text/plain": [
       "Timedelta('871 days 23:12:00.693000')"
      ]
     },
     "execution_count": 8,
     "metadata": {},
     "output_type": "execute_result"
    }
   ],
   "source": [
    "df_forms['formdate'].max() - df_forms['formdate'].min()"
   ]
  },
  {
   "cell_type": "code",
   "execution_count": 9,
   "metadata": {},
   "outputs": [
    {
     "ename": "AttributeError",
     "evalue": "'Series' object has no attribute 'year'",
     "output_type": "error",
     "traceback": [
      "\u001b[1;31m---------------------------------------------------------------------------\u001b[0m",
      "\u001b[1;31mAttributeError\u001b[0m                            Traceback (most recent call last)",
      "\u001b[1;32m<ipython-input-9-18fefc89a599>\u001b[0m in \u001b[0;36m<module>\u001b[1;34m\u001b[0m\n\u001b[1;32m----> 1\u001b[1;33m \u001b[0mdf_forms\u001b[0m\u001b[1;33m[\u001b[0m\u001b[1;34m'formdate'\u001b[0m\u001b[1;33m]\u001b[0m\u001b[1;33m.\u001b[0m\u001b[0myear\u001b[0m\u001b[1;33m(\u001b[0m\u001b[1;33m)\u001b[0m\u001b[1;33m\u001b[0m\u001b[1;33m\u001b[0m\u001b[0m\n\u001b[0m",
      "\u001b[1;32m~\\anaconda3\\lib\\site-packages\\pandas\\core\\generic.py\u001b[0m in \u001b[0;36m__getattr__\u001b[1;34m(self, name)\u001b[0m\n\u001b[0;32m   5137\u001b[0m             \u001b[1;32mif\u001b[0m \u001b[0mself\u001b[0m\u001b[1;33m.\u001b[0m\u001b[0m_info_axis\u001b[0m\u001b[1;33m.\u001b[0m\u001b[0m_can_hold_identifiers_and_holds_name\u001b[0m\u001b[1;33m(\u001b[0m\u001b[0mname\u001b[0m\u001b[1;33m)\u001b[0m\u001b[1;33m:\u001b[0m\u001b[1;33m\u001b[0m\u001b[1;33m\u001b[0m\u001b[0m\n\u001b[0;32m   5138\u001b[0m                 \u001b[1;32mreturn\u001b[0m \u001b[0mself\u001b[0m\u001b[1;33m[\u001b[0m\u001b[0mname\u001b[0m\u001b[1;33m]\u001b[0m\u001b[1;33m\u001b[0m\u001b[1;33m\u001b[0m\u001b[0m\n\u001b[1;32m-> 5139\u001b[1;33m             \u001b[1;32mreturn\u001b[0m \u001b[0mobject\u001b[0m\u001b[1;33m.\u001b[0m\u001b[0m__getattribute__\u001b[0m\u001b[1;33m(\u001b[0m\u001b[0mself\u001b[0m\u001b[1;33m,\u001b[0m \u001b[0mname\u001b[0m\u001b[1;33m)\u001b[0m\u001b[1;33m\u001b[0m\u001b[1;33m\u001b[0m\u001b[0m\n\u001b[0m\u001b[0;32m   5140\u001b[0m \u001b[1;33m\u001b[0m\u001b[0m\n\u001b[0;32m   5141\u001b[0m     \u001b[1;32mdef\u001b[0m \u001b[0m__setattr__\u001b[0m\u001b[1;33m(\u001b[0m\u001b[0mself\u001b[0m\u001b[1;33m,\u001b[0m \u001b[0mname\u001b[0m\u001b[1;33m:\u001b[0m \u001b[0mstr\u001b[0m\u001b[1;33m,\u001b[0m \u001b[0mvalue\u001b[0m\u001b[1;33m)\u001b[0m \u001b[1;33m->\u001b[0m \u001b[1;32mNone\u001b[0m\u001b[1;33m:\u001b[0m\u001b[1;33m\u001b[0m\u001b[1;33m\u001b[0m\u001b[0m\n",
      "\u001b[1;31mAttributeError\u001b[0m: 'Series' object has no attribute 'year'"
     ]
    }
   ],
   "source": [
    "df_forms['formdate'].year()"
   ]
  },
  {
   "cell_type": "code",
   "execution_count": null,
   "metadata": {},
   "outputs": [],
   "source": [
    "df_forms['Year'] = df_forms['formdate'].dt.year "
   ]
  },
  {
   "cell_type": "code",
   "execution_count": null,
   "metadata": {},
   "outputs": [],
   "source": [
    "df_forms['Year'].value_counts()"
   ]
  },
  {
   "cell_type": "code",
   "execution_count": null,
   "metadata": {},
   "outputs": [],
   "source": [
    "df_forms.head() "
   ]
  },
  {
   "cell_type": "code",
   "execution_count": null,
   "metadata": {},
   "outputs": [],
   "source": [
    "filt = (df_forms['Year'] >= '2020')\n",
    "df_forms.loc(filt)"
   ]
  },
  {
   "cell_type": "code",
   "execution_count": 1,
   "metadata": {},
   "outputs": [
    {
     "ename": "NameError",
     "evalue": "name 'os' is not defined",
     "output_type": "error",
     "traceback": [
      "\u001b[1;31m---------------------------------------------------------------------------\u001b[0m",
      "\u001b[1;31mNameError\u001b[0m                                 Traceback (most recent call last)",
      "\u001b[1;32m<ipython-input-1-590934b65492>\u001b[0m in \u001b[0;36m<module>\u001b[1;34m\u001b[0m\n\u001b[0;32m      1\u001b[0m \u001b[0mpath\u001b[0m \u001b[1;33m=\u001b[0m \u001b[1;34m'C:/Users/josep/documents/datasets/'\u001b[0m\u001b[1;33m\u001b[0m\u001b[1;33m\u001b[0m\u001b[0m\n\u001b[0;32m      2\u001b[0m \u001b[0mextension\u001b[0m \u001b[1;33m=\u001b[0m \u001b[1;34m'csv'\u001b[0m\u001b[1;33m\u001b[0m\u001b[1;33m\u001b[0m\u001b[0m\n\u001b[1;32m----> 3\u001b[1;33m \u001b[0mos\u001b[0m\u001b[1;33m.\u001b[0m\u001b[0mchdir\u001b[0m\u001b[1;33m(\u001b[0m\u001b[0mpath\u001b[0m\u001b[1;33m)\u001b[0m\u001b[1;33m\u001b[0m\u001b[1;33m\u001b[0m\u001b[0m\n\u001b[0m\u001b[0;32m      4\u001b[0m \u001b[0mfiles\u001b[0m \u001b[1;33m=\u001b[0m \u001b[0mglob\u001b[0m\u001b[1;33m.\u001b[0m\u001b[0mglob\u001b[0m\u001b[1;33m(\u001b[0m\u001b[1;34m'*.{}'\u001b[0m\u001b[1;33m.\u001b[0m\u001b[0mformat\u001b[0m\u001b[1;33m(\u001b[0m\u001b[0mextension\u001b[0m\u001b[1;33m)\u001b[0m\u001b[1;33m)\u001b[0m\u001b[1;33m\u001b[0m\u001b[1;33m\u001b[0m\u001b[0m\n\u001b[0;32m      5\u001b[0m \u001b[0mprint\u001b[0m\u001b[1;33m(\u001b[0m\u001b[0mfiles\u001b[0m\u001b[1;33m)\u001b[0m\u001b[1;33m\u001b[0m\u001b[1;33m\u001b[0m\u001b[0m\n",
      "\u001b[1;31mNameError\u001b[0m: name 'os' is not defined"
     ]
    }
   ],
   "source": [
    "path = 'C:/Users/josep/documents/datasets/'\n",
    "extension = 'csv'\n",
    "os.chdir(path)\n",
    "files = glob.glob('*.{}'.format(extension))\n",
    "print(files) "
   ]
  },
  {
   "cell_type": "code",
   "execution_count": null,
   "metadata": {},
   "outputs": [],
   "source": []
  },
  {
   "cell_type": "code",
   "execution_count": 3,
   "metadata": {},
   "outputs": [
    {
     "data": {
      "text/html": [
       "<div>\n",
       "<style scoped>\n",
       "    .dataframe tbody tr th:only-of-type {\n",
       "        vertical-align: middle;\n",
       "    }\n",
       "\n",
       "    .dataframe tbody tr th {\n",
       "        vertical-align: top;\n",
       "    }\n",
       "\n",
       "    .dataframe thead th {\n",
       "        text-align: right;\n",
       "    }\n",
       "</style>\n",
       "<table border=\"1\" class=\"dataframe\">\n",
       "  <thead>\n",
       "    <tr style=\"text-align: right;\">\n",
       "      <th></th>\n",
       "      <th>0</th>\n",
       "    </tr>\n",
       "  </thead>\n",
       "  <tbody>\n",
       "    <tr>\n",
       "      <th>0</th>\n",
       "      <td>C:/Users/josep/documents/datasets\\AIHS 100 Pat...</td>\n",
       "    </tr>\n",
       "    <tr>\n",
       "      <th>1</th>\n",
       "      <td>C:/Users/josep/documents/datasets\\AIHS ext.xlsx</td>\n",
       "    </tr>\n",
       "    <tr>\n",
       "      <th>2</th>\n",
       "      <td>C:/Users/josep/documents/datasets\\AIHS kidney-...</td>\n",
       "    </tr>\n",
       "    <tr>\n",
       "      <th>3</th>\n",
       "      <td>C:/Users/josep/documents/datasets\\AIHS.xlsx</td>\n",
       "    </tr>\n",
       "    <tr>\n",
       "      <th>4</th>\n",
       "      <td>C:/Users/josep/documents/datasets\\AIHS.zip</td>\n",
       "    </tr>\n",
       "  </tbody>\n",
       "</table>\n",
       "</div>"
      ],
      "text/plain": [
       "                                                   0\n",
       "0  C:/Users/josep/documents/datasets\\AIHS 100 Pat...\n",
       "1    C:/Users/josep/documents/datasets\\AIHS ext.xlsx\n",
       "2  C:/Users/josep/documents/datasets\\AIHS kidney-...\n",
       "3        C:/Users/josep/documents/datasets\\AIHS.xlsx\n",
       "4         C:/Users/josep/documents/datasets\\AIHS.zip"
      ]
     },
     "execution_count": 3,
     "metadata": {},
     "output_type": "execute_result"
    }
   ],
   "source": [
    "import glob\n",
    "import os\n",
    "dir_name = 'C:/Users/josep/documents/datasets/'\n",
    "# Get list of all files in a given directory sorted by name\n",
    "list_of_files = sorted( filter( os.path.isfile,\n",
    "                        glob.glob(dir_name + '*') ) )\n",
    "# Creating a dataframe object from listoftuples\n",
    "data_files = pd.DataFrame(list_of_files)     \n",
    "\n",
    "   \n",
    "data_files.head()  \n"
   ]
  },
  {
   "cell_type": "code",
   "execution_count": 5,
   "metadata": {},
   "outputs": [],
   "source": [
    "dir_name = 'C:/Users/josep/documents/datasets/'\n",
    "# Get a list of files (file paths) in the given directory \n",
    "list_of_files = filter( os.path.isfile,\n",
    "                        glob.glob(dir_name + '*') )\n",
    "# get list of files with size\n",
    "files_with_size = [ (file_path, os.stat(file_path).st_size) \n",
    "                    for file_path in list_of_files ]\n",
    "\n",
    "data_files = pd.DataFrame(files_with_size)     \n",
    "data_files.columns = ['File_Name', 'File_Size']\n",
    "data_files.to_excel('C:/Users/josep/documents/datasets/Data_File_Sizes.xlsx')\n"
   ]
  },
  {
   "cell_type": "code",
   "execution_count": null,
   "metadata": {},
   "outputs": [],
   "source": [
    "# Read in the integrated Data Files \n",
    "df_data = pd.read_excel(\"C:/Users/josep/documents/datasets/Data_File_Sizes.xlsx\",nrows=5000)\n",
    "df_data.head()"
   ]
  },
  {
   "cell_type": "code",
   "execution_count": null,
   "metadata": {},
   "outputs": [],
   "source": [
    "df_data['file size2'] = df_data['File Size']\n",
    "df_data.head()"
   ]
  },
  {
   "cell_type": "code",
   "execution_count": null,
   "metadata": {},
   "outputs": [],
   "source": [
    "df_data.head()"
   ]
  },
  {
   "cell_type": "code",
   "execution_count": null,
   "metadata": {},
   "outputs": [],
   "source": [
    "df_data['file delta'] = df_data['File Size'] - df_data['file size2']"
   ]
  },
  {
   "cell_type": "code",
   "execution_count": null,
   "metadata": {},
   "outputs": [],
   "source": [
    "# Read in the integrated Data Files \n",
    "df_data = pd.read_excel(\"C:/Users/josep/documents/datasets/AIHS_SIM_BRFSS_Enhanced_Reduced_formulated_2020.xlsx\",nrows=100)\n",
    "df_data.head()\n"
   ]
  },
  {
   "cell_type": "code",
   "execution_count": null,
   "metadata": {},
   "outputs": [],
   "source": [
    "df_data.shape "
   ]
  },
  {
   "cell_type": "code",
   "execution_count": null,
   "metadata": {},
   "outputs": [],
   "source": [
    "# Grouper to select Date_of_Purchase column within groupby function\n",
    "print(\"\\nGroup Dataframe by 3 years...\\n\",df_data.groupby(pd.Grouper(key=\"Birth Date\", axis=0, freq='3Y')).sum())"
   ]
  },
  {
   "cell_type": "code",
   "execution_count": null,
   "metadata": {},
   "outputs": [],
   "source": [
    "df_data.describe() "
   ]
  },
  {
   "cell_type": "code",
   "execution_count": null,
   "metadata": {},
   "outputs": [],
   "source": [
    "df_patient.hist(column='Race', color='teal',ec='white')            "
   ]
  },
  {
   "cell_type": "code",
   "execution_count": null,
   "metadata": {},
   "outputs": [],
   "source": [
    "df_patient.hist(column='Age', color='Orange', ec='blue')   "
   ]
  },
  {
   "cell_type": "code",
   "execution_count": null,
   "metadata": {},
   "outputs": [],
   "source": [
    "cols = df_data.columns"
   ]
  },
  {
   "cell_type": "code",
   "execution_count": null,
   "metadata": {},
   "outputs": [],
   "source": [
    "cols"
   ]
  },
  {
   "cell_type": "code",
   "execution_count": null,
   "metadata": {},
   "outputs": [],
   "source": [
    "df_patient.hist(column='Simulated Imputed ADA Risk (OUTCOME)', color='Orange',  ec='blue')"
   ]
  },
  {
   "cell_type": "code",
   "execution_count": null,
   "metadata": {},
   "outputs": [],
   "source": [
    "df_patient.hist(column='Total Calculated AIHS Risk Stratifcation', color='skyblue' , ec='blue', bins = 50)\n",
    "df_patient.hist(column='Total Calculated ADA pre-Diabetes Risk', color='skyblue' , ec='blue', bins = 50)"
   ]
  },
  {
   "cell_type": "code",
   "execution_count": null,
   "metadata": {},
   "outputs": [],
   "source": [
    "print(cols)"
   ]
  },
  {
   "cell_type": "code",
   "execution_count": null,
   "metadata": {},
   "outputs": [],
   "source": [
    "df_patient.hist(column='Simulated Imputed ADA Risk (OUTCOME)', color='Orange')"
   ]
  },
  {
   "cell_type": "code",
   "execution_count": null,
   "metadata": {},
   "outputs": [],
   "source": [
    "df_patient.hist(column='Age',by = 'Gender')"
   ]
  },
  {
   "cell_type": "code",
   "execution_count": null,
   "metadata": {},
   "outputs": [],
   "source": [
    "df_patient.hist(column='Race',by = 'Gender')\n"
   ]
  },
  {
   "cell_type": "code",
   "execution_count": null,
   "metadata": {},
   "outputs": [],
   "source": [
    "df_data['Gender'].value_counts() "
   ]
  },
  {
   "cell_type": "code",
   "execution_count": null,
   "metadata": {},
   "outputs": [],
   "source": [
    "df_data['Race Category'].value_counts() "
   ]
  },
  {
   "cell_type": "markdown",
   "metadata": {},
   "source": [
    "## Micro Profiling Patients into cohorts"
   ]
  },
  {
   "cell_type": "code",
   "execution_count": null,
   "metadata": {},
   "outputs": [],
   "source": [
    "df_patient['Patient Cohort'].value_counts() "
   ]
  },
  {
   "cell_type": "code",
   "execution_count": null,
   "metadata": {},
   "outputs": [],
   "source": [
    "# Read in the BRFSS data set \n",
    "df_BRFSS = pd.read_csv(\"C:/Data/brfss cdc/BRFSS_2015.csv\",nrows=10000)\n",
    "df_BRFSS.shape"
   ]
  },
  {
   "cell_type": "code",
   "execution_count": null,
   "metadata": {},
   "outputs": [],
   "source": [
    "# Save the transformed file \n",
    "df_BRFSS.to_csv(\"C:/Users/josep/documents/datasets/BRFSS_Redux.csv\") "
   ]
  },
  {
   "cell_type": "code",
   "execution_count": null,
   "metadata": {},
   "outputs": [],
   "source": [
    "# Read in the integrated Data Files \n",
    "df_BRFSS_RAW = pd.read_csv(\"C:/Users/josep/documents/datasets/AIHS_SIM_V4_BRFSS_RAW.csv\") \n",
    "df_BRFSS_RAW.head()"
   ]
  },
  {
   "cell_type": "code",
   "execution_count": null,
   "metadata": {},
   "outputs": [],
   "source": [
    "# Save the transformed file \n",
    "df_BRFSS.to_csv(\"C:/Users/josep/documents/datasets/AIHS_BRFSS_RAW.csv\") "
   ]
  },
  {
   "cell_type": "code",
   "execution_count": null,
   "metadata": {},
   "outputs": [],
   "source": [
    "df_BRFSS.head()"
   ]
  },
  {
   "cell_type": "code",
   "execution_count": null,
   "metadata": {},
   "outputs": [],
   "source": [
    "# Calculate the AIHS health risk stratification \n",
    "def calc_age_risk(age):\n",
    "    if age < 40: \n",
    "        age_risk =  0.0\n",
    "    elif age < 50: \n",
    "        age_risk =  1 + ((age-40) * .1)\n",
    "    elif age  < 60: \n",
    "        age_risk =  2 + ((age-50) * .1)\n",
    "    elif age  < 90: \n",
    "        age_risk =  3 + ((age-60) * .1)\n",
    "    elif age  < 110:    # Age over 90 non actionable ????\n",
    "        age_risk =  0      \n",
    "    \n",
    "    return age_risk   "
   ]
  },
  {
   "cell_type": "code",
   "execution_count": null,
   "metadata": {},
   "outputs": [],
   "source": [
    "kilo_grams = float(input('Enter weight in Kg to Convert into pounds:'))\n",
    "pounds = kilo_grams * 2.2046\n",
    "print(kilo_grams,' Kilograms =', pounds,' Pounds')"
   ]
  },
  {
   "cell_type": "code",
   "execution_count": null,
   "metadata": {},
   "outputs": [],
   "source": [
    "def calc_AIHS_age_risk(row):\n",
    "    # The row is a single Series object which is a single row indexed by column values\n",
    "    # Let's extract the firstname and create a new entry in the series\n",
    "    if row['Age'] < 40: \n",
    "        row['AIHS Age Risk']=  0.0\n",
    "    elif row['Age'] < 50: \n",
    "        row['AIHS Age Risk']=  1 + ((row['Age']-40) * .1)\n",
    "    elif row['Age']  < 60: \n",
    "        row['AIHS Age Risk']=  2 + ((row['Age']-50) * .1)\n",
    "    elif row['Age']  < 90: \n",
    "        row['AIHS Age Risk']=  3 + ((row['Age']-60) * .1)\n",
    "    elif row['Age']  < 110:    # Age over 90 non actionable ????\n",
    "        row['AIHS Age Risk']=  0      \n",
    "   \n",
    "    return row"
   ]
  },
  {
   "cell_type": "code",
   "execution_count": null,
   "metadata": {},
   "outputs": [],
   "source": [
    "def calc_height_in_feet(row):\n",
    "    # Converts from centimeters to feet and inches \n",
    "    row['Simulated Height IN']=  round(row['Simulated Height CM']  * 0.0328,1) \n",
    "    return row"
   ]
  },
  {
   "cell_type": "code",
   "execution_count": null,
   "metadata": {},
   "outputs": [],
   "source": [
    "def calc_weight_in_pounds(row):\n",
    "    # Converts from centimeters to feet and inches \n",
    "    row['Simulated Weight LBS']=   round(row['Simulated Weight KG']  * 2.2046,1)\n",
    "    return row"
   ]
  },
  {
   "cell_type": "code",
   "execution_count": null,
   "metadata": {},
   "outputs": [],
   "source": [
    "def calc_body_mass_index(row):\n",
    "    # Converts from centimeters to feet and inches \n",
    "    row['Simulated BMI']=  row['Simulated Weight KG']/(row['Simulated Height CM']**2)  \n",
    "    return row"
   ]
  },
  {
   "cell_type": "code",
   "execution_count": null,
   "metadata": {},
   "outputs": [],
   "source": [
    "def calc_ADA_age_risk(row):\n",
    "    # The row is a single Series object which is a single row indexed by column values\n",
    "    # Let's extract the firstname and create a new entry in the series\n",
    "    if row['Age'] < 40: \n",
    "        row['ADA Age Risk']= 0\n",
    "    elif row['Age'] < 50: \n",
    "        row['ADA Age Risk']=  1  \n",
    "    elif row['Age']  < 60: \n",
    "        row['ADA Age Risk']=  2  \n",
    "    elif row['Age']  < 90: \n",
    "        row['ADA Age Risk']=  3  \n",
    "    elif row['Age']  < 110:    # Age over 90 non actionable ????\n",
    "        row['ADA Age Risk']=  0      \n",
    "    return row"
   ]
  },
  {
   "cell_type": "code",
   "execution_count": null,
   "metadata": {},
   "outputs": [],
   "source": [
    "def calc_ADA_BMI_risk(row):\n",
    "    # The row is a single Series object which is a single row indexed by column values\n",
    "    # Let's extract the firstname and create a new entry in the series\n",
    "    if row['Simulated BMI'] < 18.5: \n",
    "        row['ADA BMI Risk']= 0\n",
    "    elif row['Simulated BMI'] < 25: \n",
    "        row['ADA BMI Risk']=  0  \n",
    "    elif row['Simulated BMI']  < 30: \n",
    "        row['ADA BMI Risk']=  1  \n",
    "    elif row['Simulated BMI']  < 40: \n",
    "        row['ADA BMI Risk']=  2  \n",
    "    elif row['Simulated BMI']  < 60:    # Age over 90 non actionable ????\n",
    "        row['ADA BMI Risk']=  3      \n",
    "    return row"
   ]
  },
  {
   "cell_type": "code",
   "execution_count": null,
   "metadata": {},
   "outputs": [],
   "source": [
    "def calc_AIHS_BMI_risk(row):\n",
    "    # The row is a single Series object which is a single row indexed by column values\n",
    "    # Let's extract the firstname and create a new entry in the series\n",
    "    if row['Simulated BMI'] < 18.5: \n",
    "        row['AIHS BMI Risk']= 0\n",
    "    elif row['Simulated BMI'] < 25: \n",
    "        row['AIHS BMI Risk']=  0  \n",
    "    elif row['Simulated BMI']  < 30: \n",
    "        row['AIHS BMI Risk']=  1 +  ((row['Simulated BMI']-26) * .1)\n",
    "    elif row['Simulated BMI']  < 40: \n",
    "        row['AIHS BMI Risk']=  2 +  ((row['Simulated BMI']-31) * .1) \n",
    "    elif row['Simulated BMI']  < 60:    # Age over 90 non actionable ????\n",
    "        row['AIHS BMI Risk']=  3 +  ((row['Simulated BMI']-41) * .1)      \n",
    "    return row"
   ]
  },
  {
   "cell_type": "markdown",
   "metadata": {},
   "source": [
    "## Read In the core demographic data set "
   ]
  },
  {
   "cell_type": "code",
   "execution_count": null,
   "metadata": {},
   "outputs": [],
   "source": [
    "#df = pd.read_csv(\"C:/Users/josep/documents/datasets/dg.csv\", nrows=5000)\n",
    "df = pd.read_csv(\"C:/Users/josep/documents/datasets/dg_BMI_risk.csv\")\n",
    "df.head(5)"
   ]
  },
  {
   "cell_type": "code",
   "execution_count": null,
   "metadata": {},
   "outputs": [],
   "source": [
    "df.head()"
   ]
  },
  {
   "cell_type": "code",
   "execution_count": null,
   "metadata": {},
   "outputs": [],
   "source": [
    "cols = df.columns\n",
    "print(cols)"
   ]
  },
  {
   "cell_type": "code",
   "execution_count": null,
   "metadata": {},
   "outputs": [],
   "source": [
    "df['Simulated Height CM'] = np.random.randint(155, 187, df.shape[0])\n",
    "df['Simulated Weight KG'] = np.random.randint(60, 130, df.shape[0])\n",
    "df['Simulated BMI']=  round(df['Simulated Weight KG']/((df['Simulated Height CM']/100)**2),1)  \n",
    "df.head() "
   ]
  },
  {
   "cell_type": "code",
   "execution_count": null,
   "metadata": {},
   "outputs": [],
   "source": [
    "height = float(input(\"Enter height in meters: \"))\n",
    "\n",
    "weight = float(input(\"Enter weight in kg: \"))\n",
    "\n",
    "bmi = weight/(height**2)\n",
    "\n",
    "print(\"Your BMI is: {0} and you are: \".format(bmi), end='')\n",
    "\n",
    "if ( bmi < 16):\n",
    "    print(\"severely underweight\")\n",
    "\n",
    "elif ( bmi >= 16 and bmi < 18.5):\n",
    "    print(\"underweight\")\n",
    "\n",
    "elif ( bmi >= 18.5 and bmi < 25):\n",
    "    print(\"Healthy\")\n",
    "\n",
    "elif ( bmi >= 25 and bmi < 30):\n",
    "    print(\"overweight\")\n",
    "\n",
    "elif ( bmi >=30):\n",
    "    print(\"severely overweight\")"
   ]
  },
  {
   "cell_type": "code",
   "execution_count": null,
   "metadata": {},
   "outputs": [],
   "source": [
    "df.to_csv(\"C:/Users/josep/documents/datasets/dg_BMI_risk_III.csv\")"
   ]
  },
  {
   "cell_type": "code",
   "execution_count": null,
   "metadata": {},
   "outputs": [],
   "source": [
    "df_BRFSS = pd.read_csv(\"C:/Data/brfss cdc/BRFSS_2015.csv\",nrows=5000)\n",
    "df_BRFSS.shape"
   ]
  },
  {
   "cell_type": "code",
   "execution_count": null,
   "metadata": {},
   "outputs": [],
   "source": [
    "df_BRFSS[\"Patient Number\"]= np.arange(len(df_BRFSS)) + 1"
   ]
  },
  {
   "cell_type": "code",
   "execution_count": null,
   "metadata": {},
   "outputs": [],
   "source": [
    "df_BRFSS[\"Patient ID\"]= \"Patient_Number_\" + df_BRFSS[\"Patient Number\"].astype(str)"
   ]
  },
  {
   "cell_type": "code",
   "execution_count": null,
   "metadata": {},
   "outputs": [],
   "source": [
    "df_BRFSS.head()"
   ]
  },
  {
   "cell_type": "code",
   "execution_count": null,
   "metadata": {},
   "outputs": [],
   "source": [
    "df[\"Age Decade\"]=df['Age'] / 10 \n",
    "df[\"Patient Number\"]= np.arange(len(df)) + 1 \n",
    "cols = df.columns\n",
    "df.head()"
   ]
  },
  {
   "cell_type": "code",
   "execution_count": null,
   "metadata": {},
   "outputs": [],
   "source": [
    "df[\"Age Dec\"]=df['Age Decade'].astype(int) \n",
    "df[\"Patient ID\"]= \"Patient_Number_\" + df[\"Patient Number\"].astype(str)\n",
    "cols = df.columns\n",
    "df.head()"
   ]
  },
  {
   "cell_type": "code",
   "execution_count": null,
   "metadata": {},
   "outputs": [],
   "source": [
    "dfm = df.merge(df_BRFSS, how='left', on='Patient ID')"
   ]
  },
  {
   "cell_type": "code",
   "execution_count": null,
   "metadata": {},
   "outputs": [],
   "source": [
    "dfm.shape"
   ]
  },
  {
   "cell_type": "code",
   "execution_count": null,
   "metadata": {},
   "outputs": [],
   "source": [
    "#take input from user\n",
    "cm=int(input(\"Enter the height in centimeters:\"))\n",
    " \n",
    "#convert centimeter to feet\n",
    "feet=0.0328*cm\n",
    " \n",
    "#print result\n",
    "print(\"The length in feet\",round(feet,2))\n"
   ]
  },
  {
   "cell_type": "code",
   "execution_count": null,
   "metadata": {},
   "outputs": [],
   "source": [
    "dfm.head()"
   ]
  },
  {
   "cell_type": "code",
   "execution_count": null,
   "metadata": {},
   "outputs": [],
   "source": [
    "df.head()"
   ]
  },
  {
   "cell_type": "code",
   "execution_count": null,
   "metadata": {},
   "outputs": [],
   "source": [
    "dfm.to_csv(\"C:/Users/josep/documents/datasets/patient_demo_behavior.csv\")"
   ]
  },
  {
   "cell_type": "code",
   "execution_count": null,
   "metadata": {},
   "outputs": [],
   "source": [
    "df[\"Age Dec\"]=df['Age Decade'].astype(int) \n",
    "df[\"Patient ID\"]= \"Patient_Number_\" + df[\"Patient Number\"].astype(str)\n",
    "cols = df.columns\n",
    "df.head()"
   ]
  },
  {
   "cell_type": "code",
   "execution_count": null,
   "metadata": {},
   "outputs": [],
   "source": [
    "df=df.apply(calc_height_in_feet, axis='columns')\n",
    "df.head()"
   ]
  },
  {
   "cell_type": "code",
   "execution_count": null,
   "metadata": {},
   "outputs": [],
   "source": [
    "#df=df.apply(calc_ADS_age_risk, axis='columns')\n",
    "df=df.apply(calc_weight_in_pounds, axis='columns')\n",
    "df.head()"
   ]
  },
  {
   "cell_type": "code",
   "execution_count": null,
   "metadata": {},
   "outputs": [],
   "source": [
    "#cols = cols + 'Computed AIHS Age Risk'\n",
    "df = df[cols]\n",
    "df.head(10)\n",
    "\n"
   ]
  },
  {
   "cell_type": "code",
   "execution_count": null,
   "metadata": {},
   "outputs": [],
   "source": [
    "#df=df.apply(calc_ADS_age_risk, axis='columns')\n",
    "df=df.apply(calc_AIHS_age_risk, axis='columns')\n",
    "df.head()\n"
   ]
  },
  {
   "cell_type": "code",
   "execution_count": null,
   "metadata": {},
   "outputs": [],
   "source": [
    "#df=df.apply(calc_ADS_age_risk, axis='columns')\n",
    "df=df.apply(calc_ADA_BMI_risk, axis='columns')\n",
    "df.head()"
   ]
  },
  {
   "cell_type": "code",
   "execution_count": null,
   "metadata": {},
   "outputs": [],
   "source": [
    "#df=df.apply(calc_ADS_age_risk, axis='columns')\n",
    "df=df.apply(calc_AIHS_BMI_risk, axis='columns')\n",
    "pd.options.display.max_columns = None\n",
    "df.head(5)"
   ]
  }
 ],
 "metadata": {
  "kernelspec": {
   "display_name": "Python 3",
   "language": "python",
   "name": "python3"
  },
  "language_info": {
   "codemirror_mode": {
    "name": "ipython",
    "version": 3
   },
   "file_extension": ".py",
   "mimetype": "text/x-python",
   "name": "python",
   "nbconvert_exporter": "python",
   "pygments_lexer": "ipython3",
   "version": "3.8.5"
  }
 },
 "nbformat": 4,
 "nbformat_minor": 4
}
