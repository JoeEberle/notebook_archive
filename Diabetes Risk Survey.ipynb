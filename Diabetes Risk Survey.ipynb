{
 "cells": [
  {
   "cell_type": "markdown",
   "metadata": {},
   "source": [
    "## AIHS Diabetes Risk Survey - It just takes less than 2 Minutes!!!"
   ]
  },
  {
   "cell_type": "code",
   "execution_count": 1,
   "metadata": {},
   "outputs": [],
   "source": [
    "class Question:\n",
    "    def __init__(self, prompt, answer):\n",
    "        self.prompt = prompt\n",
    "        self.answer = answer  "
   ]
  },
  {
   "cell_type": "code",
   "execution_count": 2,
   "metadata": {},
   "outputs": [],
   "source": [
    "def calc_age_category_risk(Age_Category):\n",
    "    if age_range == \"a\": \n",
    "        age_category_risk =  0\n",
    "    elif age_range == \"b\":\n",
    "        age_category_risk =  1\n",
    "    elif age_range ==\"c\": \n",
    "        age_category_risk = 2\n",
    "    elif age_range == \"d\":\n",
    "        age_category_risk = 3\n",
    "    \n",
    "    return age_category_risk    "
   ]
  },
  {
   "cell_type": "code",
   "execution_count": 3,
   "metadata": {},
   "outputs": [],
   "source": [
    "def calc_age_risk(age):\n",
    "    if age < 40: \n",
    "        age_risk =  0.0\n",
    "    elif age < 50: \n",
    "        age_risk =  1 + ((age-40) * .1)\n",
    "    elif age  < 60: \n",
    "        age_risk =  2 + ((age-50) * .1)\n",
    "    elif age  < 90: \n",
    "        age_risk =  3 + ((age-60) * .1)\n",
    "    elif age  < 110:    # Age over 90 non actionable ????\n",
    "        age_risk =  0      \n",
    "    \n",
    "    return age_risk   "
   ]
  },
  {
   "cell_type": "code",
   "execution_count": 4,
   "metadata": {},
   "outputs": [
    {
     "name": "stdout",
     "output_type": "stream",
     "text": [
      "Age?51\n",
      "Age Risk = 2.1\n"
     ]
    }
   ],
   "source": [
    "age = input('Age?')\n",
    "age_risk = calc_age_risk(int(age))\n",
    "print('Age Risk = '+str(age_risk)) \n"
   ]
  },
  {
   "cell_type": "code",
   "execution_count": 5,
   "metadata": {},
   "outputs": [],
   "source": [
    "question_prompts = [\n",
    "    \"What is your Age \\n (a) Under 40 \\n (b) 40 to 49 \\n (c) 50 to 59 (d) \\n Over 60 \\n\\n\",\n",
    "    \"What is your Gender \\n (a) Male \\n (b) Female  \\n\\n\",\n",
    "    \"Do any of your close Family Members have Diabetes \\n (a) Yes \\n (b) No \\n\\n\",  \n",
    "    \"What is your Height Range \\n (a) Tall \\n (b) Small\"]"
   ]
  },
  {
   "cell_type": "code",
   "execution_count": 6,
   "metadata": {},
   "outputs": [
    {
     "name": "stdout",
     "output_type": "stream",
     "text": [
      "What is your Age \n",
      " (a) Under 40 \n",
      " (b) 40 to 49 \n",
      " (c) 50 to 59 \n",
      " (d) Over 60 \n",
      "\n",
      "c\n",
      "Age Category Risk = 2\n"
     ]
    }
   ],
   "source": [
    "age_range = input(\"What is your Age \\n (a) Under 40 \\n (b) 40 to 49 \\n (c) 50 to 59 \\n (d) Over 60 \\n\\n\").lower()\n",
    "age_category_risk = calc_age_category_risk(age_range)\n",
    "    \n",
    "print ('Age Category Risk = ' + str(age_category_risk))"
   ]
  },
  {
   "cell_type": "code",
   "execution_count": 7,
   "metadata": {},
   "outputs": [],
   "source": [
    "def run_test(questions):\n",
    "    score = 0\n",
    "    for question in questions:\n",
    "        answer = input(question.prompt)\n",
    "        if answer == question.answer:\n",
    "            score += 1\n",
    "    print(\"You got \" + str(score) + \" answers right out of \" + str(len(questions)))\n",
    "    \n",
    "    \n",
    "            "
   ]
  },
  {
   "cell_type": "code",
   "execution_count": 8,
   "metadata": {},
   "outputs": [],
   "source": [
    "def calc_age_category_risk(Age_Category):\n",
    "    if age_range == \"a\": \n",
    "        age_category_risk =  0\n",
    "    elif age_range == \"b\":\n",
    "        age_category_risk =  1\n",
    "    elif age_range ==\"c\": \n",
    "        age_category_risk = 2\n",
    "    elif age_range == \"d\":\n",
    "        age_category_risk = 3\n",
    "    \n",
    "    return age_category_risk    \n",
    " "
   ]
  },
  {
   "cell_type": "code",
   "execution_count": 9,
   "metadata": {},
   "outputs": [
    {
     "ename": "NameError",
     "evalue": "name 'questions' is not defined",
     "output_type": "error",
     "traceback": [
      "\u001b[1;31m---------------------------------------------------------------------------\u001b[0m",
      "\u001b[1;31mNameError\u001b[0m                                 Traceback (most recent call last)",
      "Cell \u001b[1;32mIn[9], line 1\u001b[0m\n\u001b[1;32m----> 1\u001b[0m run_test(\u001b[43mquestions\u001b[49m)\n",
      "\u001b[1;31mNameError\u001b[0m: name 'questions' is not defined"
     ]
    }
   ],
   "source": [
    "run_test(questions)"
   ]
  }
 ],
 "metadata": {
  "kernelspec": {
   "display_name": "Python 3 (ipykernel)",
   "language": "python",
   "name": "python3"
  },
  "language_info": {
   "codemirror_mode": {
    "name": "ipython",
    "version": 3
   },
   "file_extension": ".py",
   "mimetype": "text/x-python",
   "name": "python",
   "nbconvert_exporter": "python",
   "pygments_lexer": "ipython3",
   "version": "3.8.5"
  }
 },
 "nbformat": 4,
 "nbformat_minor": 4
}
