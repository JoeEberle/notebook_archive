{
 "cells": [
  {
   "cell_type": "code",
   "execution_count": 10,
   "metadata": {},
   "outputs": [
    {
     "name": "stdout",
     "output_type": "stream",
     "text": [
      "glossary_term\n",
      "solution(name='library_installer', description='this solution installs or updates libraries.')\n"
     ]
    },
    {
     "data": {
      "text/plain": [
       "' <li><b> library_installer </b> this solution installs or updates libraries.  </li>'"
      ]
     },
     "execution_count": 10,
     "metadata": {},
     "output_type": "execute_result"
    }
   ],
   "source": [
    "from dataclasses import dataclass\n",
    "\n",
    "@dataclass\n",
    "class solution:\n",
    "    name : str\n",
    "    description : str        \n",
    "\n",
    "    def output_html(self):\n",
    "        return ' <li><b> {} </b> {}  </li>'.format(self.name, self.description)  \n",
    "    \n",
    "class design_goal_list(object):   \n",
    "                                \n",
    "    def __init__(self):\n",
    "        self.design_goal_list = [] \n",
    "        self.compose_list()\n",
    "        self.document = self.output() \n",
    "\n",
    "    def compose_list(self):\n",
    "        self.design_goal_list.append(design_goal('glossary_term','this solution manages a glossary of terms.')) \n",
    "        self.design_goal_list.append(design_goal('configuration_settings','The ability for authorized users to easily access and use the solution from anywhere.'))  \n",
    "        self.design_goal_list.append(design_goal('library_installer','this solution installs or updates libraries.'))  \n",
    "        \n",
    "    def get_list_intro(self):  \n",
    "        return('The design goals are :') \n",
    "    \n",
    "    def get_header(self):  \n",
    "        return('Design Goals')     \n",
    "    \n",
    "    def append_item(self, design_goal, design_goal_description):  \n",
    "        self.design_goal_list.append(design_goal(design_goal, design_goal_description))         \n",
    "    \n",
    "    def output(self):  \n",
    "        newline = '\\n'\n",
    "        self.document = self.get_list_intro() + newline \n",
    "        for dg in self.design_goal_list:\n",
    "            self.document = self.document + dg.output() + newline \n",
    "        return   self.document  \n",
    "    \n",
    "    def output_html(self):  \n",
    "        newline = '\\n'\n",
    "        self.document_html = ''\n",
    "        self.document_html =  self.document_html + newline + '<h1>'  + self.get_header() + '</h1>' +  newline \n",
    "        self.document_html =  self.document_html + newline + '<h2>' + self.get_list_intro()  + '</h2>' + newline  + newline        \n",
    "        for dg in self.design_goal_list:\n",
    "            self.document_html = self.document_html + dg.output_html() + newline \n",
    "        self.document_html =  '<html>'  + self.document_html   + newline  + '</html>'          \n",
    "        return self.document_html\n",
    "    \n",
    "    def get_dataframe(self):  \n",
    "        import pandas as pd \n",
    "        row_number = -1\n",
    "        df = pd.DataFrame(columns = ('design_goal', 'design_goal_description'), index=False)\n",
    "        for dg in self.design_goal_list:\n",
    "            row_number += 1  \n",
    "            df.loc[row_number] = [dg.get_item(),dg.get_description()]\n",
    "        return df \n",
    "    \n",
    "    def write_html_file(self, output_html_file_name):\n",
    "        self.html_file_name = 'solution.html'   # the default HTML file name to write too \n",
    "        if len(output_html_file_name) > 2: \n",
    "            self.html_file_name = output_html_file_name\n",
    "        with open(self.html_file_name, 'w') as html_file:\n",
    "            html_file.write(self.output_html())\n",
    "                  \n",
    "    def write_document_file(self, output_document_file_name):\n",
    "        self.document_file_name = 'solution_document.doc'   # the default document_file_name file name to write too \n",
    "        if len(self.document_file_name) > 2: \n",
    "            self.document_file_name = output_document_file_name\n",
    "        with open(self.document_file_name, 'w') as document_file:\n",
    "            document_file.write(self.output())       \n",
    "    \n",
    "\n",
    "\n",
    "print(glossary_term.name)\n",
    "print(library_installer)\n",
    "\n",
    "library_installer.output_html()\n"
   ]
  }
 ],
 "metadata": {
  "kernelspec": {
   "display_name": "Python 3",
   "language": "python",
   "name": "python3"
  },
  "language_info": {
   "codemirror_mode": {
    "name": "ipython",
    "version": 3
   },
   "file_extension": ".py",
   "mimetype": "text/x-python",
   "name": "python",
   "nbconvert_exporter": "python",
   "pygments_lexer": "ipython3",
   "version": "3.8.5"
  }
 },
 "nbformat": 4,
 "nbformat_minor": 4
}
