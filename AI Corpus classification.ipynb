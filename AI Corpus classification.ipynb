{
 "cells": [
  {
   "cell_type": "code",
   "execution_count": 4,
   "metadata": {},
   "outputs": [],
   "source": [
    "#! pip install gravityai"
   ]
  },
  {
   "cell_type": "code",
   "execution_count": 9,
   "metadata": {},
   "outputs": [],
   "source": [
    "import pandas as pd \n",
    "import sklearn\n",
    "import numpy as np \n",
    "import gravityai\n",
    "import pickle\n",
    "import json\n",
    "import sklearn\n",
    "from sklearn.feature_extraction.text import TfidfVectorizer\n",
    "from sklearn.ensemble import RandomForestClassifier\n",
    "from sklearn import preprocessing "
   ]
  },
  {
   "cell_type": "code",
   "execution_count": 66,
   "metadata": {},
   "outputs": [],
   "source": [
    "model = pickle.load(open('financial_text_classifer.pkl','rb'))\n",
    "TfidfVectorizer = pickle.load(open('financial_text_vectorizer.pkl', 'rb'))\n",
    "label_encoder = pickle.load(open('financial_text_encoder.pkl', 'rb'))\n",
    "#\"C:\\Users\\josep\\Documents\\CSV files\\CSV files\\training_data.csv\"\n",
    "#\"C:\\Users\\josep\\Documents\\AIHS\\Dieseases_or_Conditions_Corpus.xlsx\""
   ]
  },
  {
   "cell_type": "code",
   "execution_count": 83,
   "metadata": {},
   "outputs": [],
   "source": [
    "model = pickle.load(open('disease_classifer.pkl','rb'))\n",
    "TfidfVectorizer = pickle.load(open('disease_vectorizer.pkl', 'rb'))\n",
    "label_encoder = pickle.load(open('disease_encoder.pkl', 'rb'))\n",
    "#\"C:\\Users\\josep\\Documents\\CSV files\\CSV files\\training_data.csv\"\n",
    "#\"C:\\Users\\josep\\Documents\\AIHS\\Dieseases_or_Conditions_Corpus.xlsx\""
   ]
  },
  {
   "attachments": {},
   "cell_type": "markdown",
   "metadata": {},
   "source": [
    "In information retrieval, tf–idf (also TF*IDF, TFIDF, TF–IDF, or Tf–idf), short for term frequency–inverse document frequency, is a numerical statistic that is intended to reflect how important a word is to a document in a collection or corpus. It is often used as a weighting factor in searches of information retrieval, text mining, and user modeling. The tf–idf value increases proportionally to the number of times a word appears in the document and is offset by the number of documents in the corpus that contain the word, which helps to adjust for the fact that some words appear more frequently in general. tf–idf is one of the most popular term-weighting schemes today. A survey conducted in 2015 showed that 83% of text-based recommender systems in digital libraries use tf–idf.\n",
    " "
   ]
  },
  {
   "cell_type": "code",
   "execution_count": 76,
   "metadata": {},
   "outputs": [],
   "source": [
    "def process(inPath, outPath):\n",
    "    # read the input file\n",
    "    input_df = pd.read_csv(inPath)\n",
    "    # vectorize the data \n",
    "    features = TfidfVectorizer.transform(input_df['Definition'])\n",
    "    # predict the classes \n",
    "    predictions = model.predict(features)\n",
    "    #convert output labels to catgories \n",
    "    input_df['Topic'] = label_encoder.inverse_transform(predictions)\n",
    "    #save results to csv\n",
    "    output_df = input_df[['id', 'Topic']]\n",
    "    output_df = to_csv(outpath, index=False) \n",
    "    \n"
   ]
  },
  {
   "cell_type": "code",
   "execution_count": 85,
   "metadata": {},
   "outputs": [],
   "source": [
    "input_df = df_corpus_test"
   ]
  },
  {
   "cell_type": "code",
   "execution_count": 91,
   "metadata": {},
   "outputs": [
    {
     "data": {
      "text/plain": [
       "<19x3 sparse matrix of type '<class 'numpy.float64'>'\n",
       "\twith 4 stored elements in Compressed Sparse Row format>"
      ]
     },
     "execution_count": 91,
     "metadata": {},
     "output_type": "execute_result"
    }
   ],
   "source": [
    "features"
   ]
  },
  {
   "cell_type": "code",
   "execution_count": 86,
   "metadata": {},
   "outputs": [],
   "source": [
    "features = TfidfVectorizer.transform(input_df['Definition'])"
   ]
  },
  {
   "cell_type": "code",
   "execution_count": 87,
   "metadata": {},
   "outputs": [],
   "source": [
    "predictions = model.predict(features)"
   ]
  },
  {
   "cell_type": "code",
   "execution_count": 89,
   "metadata": {},
   "outputs": [],
   "source": [
    "#convert output labels to catgories \n",
    "input_df['Topic'] = label_encoder.inverse_transform(predictions)"
   ]
  },
  {
   "cell_type": "code",
   "execution_count": 90,
   "metadata": {},
   "outputs": [
    {
     "data": {
      "text/html": [
       "<div>\n",
       "<style scoped>\n",
       "    .dataframe tbody tr th:only-of-type {\n",
       "        vertical-align: middle;\n",
       "    }\n",
       "\n",
       "    .dataframe tbody tr th {\n",
       "        vertical-align: top;\n",
       "    }\n",
       "\n",
       "    .dataframe thead th {\n",
       "        text-align: right;\n",
       "    }\n",
       "</style>\n",
       "<table border=\"1\" class=\"dataframe\">\n",
       "  <thead>\n",
       "    <tr style=\"text-align: right;\">\n",
       "      <th></th>\n",
       "      <th>Topic</th>\n",
       "      <th>Terminology</th>\n",
       "      <th>Definition</th>\n",
       "    </tr>\n",
       "  </thead>\n",
       "  <tbody>\n",
       "    <tr>\n",
       "      <th>0</th>\n",
       "      <td>Disease or Condition</td>\n",
       "      <td>Diabetes</td>\n",
       "      <td>Diabetes is a disease in which the body’s abil...</td>\n",
       "    </tr>\n",
       "    <tr>\n",
       "      <th>1</th>\n",
       "      <td>Inspiration</td>\n",
       "      <td>Depression</td>\n",
       "      <td>Depression is a common mental disorder affecti...</td>\n",
       "    </tr>\n",
       "    <tr>\n",
       "      <th>2</th>\n",
       "      <td>Inspiration</td>\n",
       "      <td>Anxiety</td>\n",
       "      <td>Anxiety is the mind and body's reaction to str...</td>\n",
       "    </tr>\n",
       "    <tr>\n",
       "      <th>3</th>\n",
       "      <td>Disease or Condition</td>\n",
       "      <td>Influenza</td>\n",
       "      <td>Influenza, commonly known as \"the flu\", is an ...</td>\n",
       "    </tr>\n",
       "    <tr>\n",
       "      <th>4</th>\n",
       "      <td>Inspiration</td>\n",
       "      <td>Life</td>\n",
       "      <td>life happnes</td>\n",
       "    </tr>\n",
       "    <tr>\n",
       "      <th>5</th>\n",
       "      <td>Inspiration</td>\n",
       "      <td>Think</td>\n",
       "      <td>“We become what we think about” – Earl Nightin...</td>\n",
       "    </tr>\n",
       "    <tr>\n",
       "      <th>6</th>\n",
       "      <td>Inspiration</td>\n",
       "      <td>change the world</td>\n",
       "      <td>“People who are crazy enough to think they ca...</td>\n",
       "    </tr>\n",
       "    <tr>\n",
       "      <th>7</th>\n",
       "      <td>Inspiration</td>\n",
       "      <td>Optimism</td>\n",
       "      <td>“Optimism is the one quality more associated w...</td>\n",
       "    </tr>\n",
       "    <tr>\n",
       "      <th>8</th>\n",
       "      <td>Inspiration</td>\n",
       "      <td>Happiness</td>\n",
       "      <td>“Happiness is not something readymade. It come...</td>\n",
       "    </tr>\n",
       "    <tr>\n",
       "      <th>9</th>\n",
       "      <td>Inspiration</td>\n",
       "      <td>Dreams</td>\n",
       "      <td>“All our dreams can come true if we have the ...</td>\n",
       "    </tr>\n",
       "  </tbody>\n",
       "</table>\n",
       "</div>"
      ],
      "text/plain": [
       "                  Topic       Terminology  \\\n",
       "0  Disease or Condition          Diabetes   \n",
       "1           Inspiration        Depression   \n",
       "2           Inspiration           Anxiety   \n",
       "3  Disease or Condition         Influenza   \n",
       "4           Inspiration              Life   \n",
       "5           Inspiration             Think   \n",
       "6           Inspiration  change the world   \n",
       "7           Inspiration          Optimism   \n",
       "8           Inspiration         Happiness   \n",
       "9           Inspiration            Dreams   \n",
       "\n",
       "                                          Definition  \n",
       "0  Diabetes is a disease in which the body’s abil...  \n",
       "1  Depression is a common mental disorder affecti...  \n",
       "2  Anxiety is the mind and body's reaction to str...  \n",
       "3  Influenza, commonly known as \"the flu\", is an ...  \n",
       "4                                      life happnes   \n",
       "5  “We become what we think about” – Earl Nightin...  \n",
       "6   “People who are crazy enough to think they ca...  \n",
       "7  “Optimism is the one quality more associated w...  \n",
       "8  “Happiness is not something readymade. It come...  \n",
       "9   “All our dreams can come true if we have the ...  "
      ]
     },
     "execution_count": 90,
     "metadata": {},
     "output_type": "execute_result"
    }
   ],
   "source": [
    "input_df.head(10)"
   ]
  },
  {
   "cell_type": "code",
   "execution_count": 75,
   "metadata": {},
   "outputs": [],
   "source": [
    "features = TfidfVectorizer.transform(df_disease['Definition'])"
   ]
  },
  {
   "cell_type": "code",
   "execution_count": 62,
   "metadata": {},
   "outputs": [
    {
     "data": {
      "text/plain": [
       "Index(['Topic', 'Terminology', 'Definition', 'label'], dtype='object')"
      ]
     },
     "execution_count": 62,
     "metadata": {},
     "output_type": "execute_result"
    }
   ],
   "source": [
    "df_disease.columns\n"
   ]
  },
  {
   "cell_type": "code",
   "execution_count": 18,
   "metadata": {},
   "outputs": [
    {
     "data": {
      "text/plain": [
       "array(['International_Finance', 'Earning_Reports', 'Commodities',\n",
       "       'Economy', 'Fraud', 'Mergers_Acquisitions', 'Policy', 'Oil',\n",
       "       'Capital', 'Litigation', 'Real_Estate'], dtype=object)"
      ]
     },
     "execution_count": 18,
     "metadata": {},
     "output_type": "execute_result"
    }
   ],
   "source": [
    "df_finance['category'].unique()"
   ]
  },
  {
   "cell_type": "code",
   "execution_count": 24,
   "metadata": {},
   "outputs": [],
   "source": [
    "df_finance = pd.read_csv(\"C:/Users/josep/Documents/CSV files/CSV files/Training_data.csv\")"
   ]
  },
  {
   "cell_type": "code",
   "execution_count": 30,
   "metadata": {},
   "outputs": [],
   "source": [
    "df_disease = pd.read_excel(\"C:/Users/josep/Documents/AIHS/Dieseases_or_Conditions_Corpus.xlsx\")"
   ]
  },
  {
   "cell_type": "code",
   "execution_count": 84,
   "metadata": {},
   "outputs": [],
   "source": [
    "df_corpus_test = pd.read_excel(\"C:/Users/josep/Documents/AIHS/Dieseases_or_Conditions_Corpus_Test.xlsx\")"
   ]
  },
  {
   "cell_type": "code",
   "execution_count": 26,
   "metadata": {},
   "outputs": [
    {
     "data": {
      "text/plain": [
       "array(['Disease or Condition', 'Inspiration'], dtype=object)"
      ]
     },
     "execution_count": 26,
     "metadata": {},
     "output_type": "execute_result"
    }
   ],
   "source": [
    "df_disease['Topic'].unique()"
   ]
  },
  {
   "cell_type": "code",
   "execution_count": 45,
   "metadata": {},
   "outputs": [
    {
     "data": {
      "text/plain": [
       "array([0, 1])"
      ]
     },
     "execution_count": 45,
     "metadata": {},
     "output_type": "execute_result"
    }
   ],
   "source": [
    "df_disease['label'].unique()"
   ]
  },
  {
   "cell_type": "code",
   "execution_count": 38,
   "metadata": {},
   "outputs": [],
   "source": [
    "# Instanstiate an Encoder and convert a categorie into numbers\n",
    "label_encoder = preprocessing.LabelEncoder()\n",
    "label_encoder.fit(df_finance['category'])\n",
    "df_finance['label']  = label_encoder.transform(df_finance['category']) "
   ]
  },
  {
   "cell_type": "code",
   "execution_count": 40,
   "metadata": {},
   "outputs": [
    {
     "data": {
      "text/html": [
       "<div>\n",
       "<style scoped>\n",
       "    .dataframe tbody tr th:only-of-type {\n",
       "        vertical-align: middle;\n",
       "    }\n",
       "\n",
       "    .dataframe tbody tr th {\n",
       "        vertical-align: top;\n",
       "    }\n",
       "\n",
       "    .dataframe thead th {\n",
       "        text-align: right;\n",
       "    }\n",
       "</style>\n",
       "<table border=\"1\" class=\"dataframe\">\n",
       "  <thead>\n",
       "    <tr style=\"text-align: right;\">\n",
       "      <th></th>\n",
       "      <th>id</th>\n",
       "      <th>category</th>\n",
       "      <th>title</th>\n",
       "      <th>body</th>\n",
       "      <th>label</th>\n",
       "    </tr>\n",
       "  </thead>\n",
       "  <tbody>\n",
       "    <tr>\n",
       "      <th>0</th>\n",
       "      <td>5639</td>\n",
       "      <td>International_Finance</td>\n",
       "      <td>How Has Devaluation of the Yuan Impacted Globa...</td>\n",
       "      <td>How Has the Devaluation of the Yuan Impacted G...</td>\n",
       "      <td>5</td>\n",
       "    </tr>\n",
       "    <tr>\n",
       "      <th>1</th>\n",
       "      <td>2673</td>\n",
       "      <td>Earning_Reports</td>\n",
       "      <td>Qorvo® Announces Fiscal 2022 Third Quarter Fin...</td>\n",
       "      <td>GREENSBORO, N.C., Feb. 02, 2022 (GLOBE NEWSWIR...</td>\n",
       "      <td>2</td>\n",
       "    </tr>\n",
       "  </tbody>\n",
       "</table>\n",
       "</div>"
      ],
      "text/plain": [
       "     id               category  \\\n",
       "0  5639  International_Finance   \n",
       "1  2673        Earning_Reports   \n",
       "\n",
       "                                               title  \\\n",
       "0  How Has Devaluation of the Yuan Impacted Globa...   \n",
       "1  Qorvo® Announces Fiscal 2022 Third Quarter Fin...   \n",
       "\n",
       "                                                body  label  \n",
       "0  How Has the Devaluation of the Yuan Impacted G...      5  \n",
       "1  GREENSBORO, N.C., Feb. 02, 2022 (GLOBE NEWSWIR...      2  "
      ]
     },
     "execution_count": 40,
     "metadata": {},
     "output_type": "execute_result"
    }
   ],
   "source": [
    "df_finance.head(2)"
   ]
  },
  {
   "cell_type": "code",
   "execution_count": 41,
   "metadata": {},
   "outputs": [],
   "source": [
    "# Instanstiate an Encoder and convert a categorie into numbers\n",
    "label_encoder = preprocessing.LabelEncoder()\n",
    "label_encoder.fit(df_disease['Topic'])\n",
    "df_disease['label']  = label_encoder.transform(df_disease['Topic']) "
   ]
  },
  {
   "cell_type": "code",
   "execution_count": 49,
   "metadata": {},
   "outputs": [],
   "source": [
    "vectorizor = TfidfVectorizer(stop_words = 'english', max_features = 10000)"
   ]
  },
  {
   "cell_type": "code",
   "execution_count": 50,
   "metadata": {},
   "outputs": [],
   "source": [
    "x = df_finance['body']\n",
    "y = df_finance['label']"
   ]
  },
  {
   "cell_type": "code",
   "execution_count": 67,
   "metadata": {},
   "outputs": [],
   "source": [
    "dx = df_disease['Topic']\n",
    "dy = df_disease['label']"
   ]
  },
  {
   "cell_type": "code",
   "execution_count": 54,
   "metadata": {},
   "outputs": [],
   "source": [
    "vectorized_x  = vectorizor.fit_transform(x) "
   ]
  },
  {
   "cell_type": "code",
   "execution_count": 68,
   "metadata": {},
   "outputs": [],
   "source": [
    "vectorized_dx  = vectorizor.fit_transform(dx) "
   ]
  },
  {
   "cell_type": "code",
   "execution_count": 55,
   "metadata": {},
   "outputs": [
    {
     "data": {
      "text/plain": [
       "<8042x10000 sparse matrix of type '<class 'numpy.float64'>'\n",
       "\twith 1493147 stored elements in Compressed Sparse Row format>"
      ]
     },
     "execution_count": 55,
     "metadata": {},
     "output_type": "execute_result"
    }
   ],
   "source": [
    "vectorized_x"
   ]
  },
  {
   "cell_type": "code",
   "execution_count": 69,
   "metadata": {},
   "outputs": [],
   "source": [
    "rf_clf = RandomForestClassifier() "
   ]
  },
  {
   "cell_type": "code",
   "execution_count": 57,
   "metadata": {},
   "outputs": [
    {
     "data": {
      "text/plain": [
       "RandomForestClassifier()"
      ]
     },
     "execution_count": 57,
     "metadata": {},
     "output_type": "execute_result"
    }
   ],
   "source": [
    "rf_clf.fit(vectorized_x,y)"
   ]
  },
  {
   "cell_type": "code",
   "execution_count": 70,
   "metadata": {},
   "outputs": [
    {
     "data": {
      "text/plain": [
       "RandomForestClassifier()"
      ]
     },
     "execution_count": 70,
     "metadata": {},
     "output_type": "execute_result"
    }
   ],
   "source": [
    "rf_clf.fit(vectorized_dx,dy)"
   ]
  },
  {
   "cell_type": "code",
   "execution_count": 60,
   "metadata": {},
   "outputs": [],
   "source": [
    "pickle.dump(rf_clf, open('financial_text_classifer.pkl','wb'))\n",
    "pickle.dump(vectorizor, open('financial_text_vectorizer.pkl','wb'))\n",
    "pickle.dump(label_encoder, open('financial_text_encoder.pkl', 'wb'))\n"
   ]
  },
  {
   "cell_type": "code",
   "execution_count": 73,
   "metadata": {},
   "outputs": [],
   "source": [
    "pickle.dump(rf_clf, open('disease_classifer.pkl','wb'))\n",
    "pickle.dump(vectorizor, open('disease_vectorizer.pkl','wb'))\n",
    "pickle.dump(label_encoder, open('disease_encoder.pkl', 'wb'))"
   ]
  }
 ],
 "metadata": {
  "kernelspec": {
   "display_name": "Python 3",
   "language": "python",
   "name": "python3"
  },
  "language_info": {
   "codemirror_mode": {
    "name": "ipython",
    "version": 3
   },
   "file_extension": ".py",
   "mimetype": "text/x-python",
   "name": "python",
   "nbconvert_exporter": "python",
   "pygments_lexer": "ipython3",
   "version": "3.8.5"
  }
 },
 "nbformat": 4,
 "nbformat_minor": 4
}
