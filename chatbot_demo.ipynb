{
 "cells": [
  {
   "cell_type": "markdown",
   "metadata": {},
   "source": [
    "## Chatbot Demo"
   ]
  },
  {
   "cell_type": "markdown",
   "metadata": {},
   "source": [
    "## Tkinter Chabot GUI ONLY "
   ]
  },
  {
   "cell_type": "code",
   "execution_count": 1,
   "metadata": {},
   "outputs": [],
   "source": [
    "from tkinter import * \n",
    "\n",
    "# Initiate Tkinter \n",
    "root = Tk() \n",
    "\n",
    "# Create the title window\n",
    "root.title('AI Chatbot')\n",
    "\n",
    "# Give the window some dimensions\n",
    "root.geometry('500x600')\n",
    "\n",
    "# Add a main menu bar to the wndow\n",
    "main_menu = Menu(root)\n",
    "\n",
    "#create a sub menu\n",
    "file_menu = Menu(root)\n",
    "file_menu.add_command(label='New...')\n",
    "file_menu.add_command(label='Save As ...')\n",
    "file_menu.add_command(label='Exit')\n",
    "\n",
    "# Add Menu options\n",
    "main_menu.add_cascade(label='File', menu = file_menu)\n",
    "main_menu.add_command(label='Edit')\n",
    "main_menu.add_command(label='Quit')\n",
    "root.config(menu=main_menu)\n",
    "\n",
    "# Create a Chat Window\n",
    "chatWindow = Text(root, bd=1, bg='light blue', width = 50, height=8)\n",
    "chatWindow.place(x=6, y=6, height=500, width = 490)\n",
    "\n",
    "# Add a message window for user interactions\n",
    "MessageWindow = Text(root, bg='gray', width = 30, height=4)\n",
    "MessageWindow.place(x=128, y=510, height=88, width = 360)\n",
    "\n",
    "#Add a button to send the message\n",
    "button = Button(root, text='Send Chat', bg='light gray', activebackground='light blue', width = 12, height = 5, font=('Arial', 12) )\n",
    "button.place(x=6, y=510, height = 88, width = 120)\n",
    "\n",
    "#Add a scroll bar \n",
    "scrollbar = Scrollbar(root, command=chatWindow.yview())\n",
    "scrollbar.place(x=480, y=5, height =500)\n",
    "\n",
    "# Launch the window\n",
    "root.mainloop() \n"
   ]
  },
  {
   "cell_type": "code",
   "execution_count": null,
   "metadata": {},
   "outputs": [],
   "source": []
  }
 ],
 "metadata": {
  "kernelspec": {
   "display_name": "Python 3",
   "language": "python",
   "name": "python3"
  },
  "language_info": {
   "codemirror_mode": {
    "name": "ipython",
    "version": 3
   },
   "file_extension": ".py",
   "mimetype": "text/x-python",
   "name": "python",
   "nbconvert_exporter": "python",
   "pygments_lexer": "ipython3",
   "version": "3.8.5"
  }
 },
 "nbformat": 4,
 "nbformat_minor": 4
}
