{
 "cells": [
  {
   "cell_type": "code",
   "execution_count": 1,
   "metadata": {},
   "outputs": [],
   "source": [
    "import speech_recognition as sr\n",
    "import pyttsx3\n",
    "import pywhatkit\n",
    "import datetime\n",
    "import wikipedia\n",
    "import pyjokes\n",
    "\n",
    "#! pip install pywhatkit\n",
    "#! pip install wikipedia\n",
    "#! pip install pyttsx3\n",
    "#Conda install pyaudio \n",
    "#! pip install pyjokes"
   ]
  },
  {
   "cell_type": "code",
   "execution_count": 2,
   "metadata": {},
   "outputs": [],
   "source": [
    "engine = pyttsx3.init()\n",
    "voices = engine.getProperty('voices')\n",
    "#engine.setProperty('voice',voices[0].id)  # Male Voice\n",
    "engine.setProperty('voice',voices[1].id)  # Female Voice"
   ]
  },
  {
   "cell_type": "code",
   "execution_count": 16,
   "metadata": {},
   "outputs": [],
   "source": [
    "listener = sr.Recognizer()\n",
    "\n",
    "def talk(text):\n",
    "    engine.say(text)\n",
    "    engine.runAndWait()\n",
    "\n",
    "def get_command():\n",
    "    try:\n",
    "         with sr.Microphone() as source:\n",
    "                print('listening...')\n",
    "                voice = listener.listen(source)\n",
    "                command = listener.recognize_google(voice)\n",
    "                command = command.lower()\n",
    "                print(f'This is what I heard: {command}')\n",
    "          \n",
    "                if 'doctor' in command:\n",
    "                    command = command.replace('docbot','')\n",
    "                    command = command.replace('dr.','')     \n",
    "                    command = command.replace('doctor','')   \n",
    "                    command = command.replace('bot','')                        \n",
    "                    print(command)\n",
    "    except:\n",
    "        pass\n",
    "    return command\n",
    "\n",
    "def run_doctor():\n",
    "    command = get_command()\n",
    "    if 'play' in command:\n",
    "        song = command.replace('play','')\n",
    "        talk('Playing' +  song)\n",
    "        pywhatkit.playonyt(song)\n",
    "    elif 'time' in command: \n",
    "        time = datetime.datetime.now().strftime('%H:%M %p')\n",
    "        print(time) \n",
    "        talk('The current time is ' + time)\n",
    "    elif 'what is' in command: \n",
    "        research = command.replace('what is','')\n",
    "        info = wikipedia.summary(research, 3)\n",
    "        print(info) \n",
    "        talk(info) \n",
    "    elif 'who the heck is' in command: \n",
    "        research = command.replace('who the heck is','')\n",
    "        info = wikipedia.summary(research, 3)\n",
    "        print(info) \n",
    "        talk(info)  \n",
    "    elif 'wikipedia' in command: \n",
    "        research = command.replace('wikipedia','')\n",
    "        info = wikipedia.summary(research, 3)\n",
    "        print(info) \n",
    "        talk(info)  \n",
    "    elif 'do you love me' in command: \n",
    "        talk('sorry I am in love with your cell phone') \n",
    "        print('sorry I am in love with your cell phone') \n",
    "    elif 'date' in command: \n",
    "        talk('sorry I have a headache, its not me its you') \n",
    "        print('sorry I have a headache, its not me its you') \n",
    "    elif 'joke' in command: \n",
    "        talk(pyjokes.get_joke()) \n",
    "    else:\n",
    "        Talk('Im sorry I dont understand')\n",
    "        \n",
    "        \n",
    "    \n",
    "    \n",
    "    "
   ]
  },
  {
   "cell_type": "code",
   "execution_count": 17,
   "metadata": {},
   "outputs": [
    {
     "name": "stdout",
     "output_type": "stream",
     "text": [
      "listening...\n",
      "This is what I heard: doctor\n",
      "\n"
     ]
    },
    {
     "ename": "NameError",
     "evalue": "name 'Talk' is not defined",
     "output_type": "error",
     "traceback": [
      "\u001b[1;31m---------------------------------------------------------------------------\u001b[0m",
      "\u001b[1;31mNameError\u001b[0m                                 Traceback (most recent call last)",
      "\u001b[1;32m<ipython-input-17-5ac5188f966c>\u001b[0m in \u001b[0;36m<module>\u001b[1;34m\u001b[0m\n\u001b[0;32m      1\u001b[0m \u001b[0mcommand\u001b[0m \u001b[1;33m=\u001b[0m \u001b[1;34m''\u001b[0m\u001b[1;33m\u001b[0m\u001b[1;33m\u001b[0m\u001b[0m\n\u001b[0;32m      2\u001b[0m \u001b[1;32mwhile\u001b[0m \u001b[0mcommand\u001b[0m \u001b[1;33m!=\u001b[0m \u001b[1;34m'quit'\u001b[0m\u001b[1;33m:\u001b[0m\u001b[1;33m\u001b[0m\u001b[1;33m\u001b[0m\u001b[0m\n\u001b[1;32m----> 3\u001b[1;33m     \u001b[0mrun_docbot\u001b[0m\u001b[1;33m(\u001b[0m\u001b[1;33m)\u001b[0m\u001b[1;33m\u001b[0m\u001b[1;33m\u001b[0m\u001b[0m\n\u001b[0m",
      "\u001b[1;32m<ipython-input-4-b95815ac1727>\u001b[0m in \u001b[0;36mrun_docbot\u001b[1;34m()\u001b[0m\n\u001b[0;32m     57\u001b[0m         \u001b[0mtalk\u001b[0m\u001b[1;33m(\u001b[0m\u001b[0mpyjokes\u001b[0m\u001b[1;33m.\u001b[0m\u001b[0mget_joke\u001b[0m\u001b[1;33m(\u001b[0m\u001b[1;33m)\u001b[0m\u001b[1;33m)\u001b[0m\u001b[1;33m\u001b[0m\u001b[1;33m\u001b[0m\u001b[0m\n\u001b[0;32m     58\u001b[0m     \u001b[1;32melse\u001b[0m\u001b[1;33m:\u001b[0m\u001b[1;33m\u001b[0m\u001b[1;33m\u001b[0m\u001b[0m\n\u001b[1;32m---> 59\u001b[1;33m         \u001b[0mTalk\u001b[0m\u001b[1;33m(\u001b[0m\u001b[1;34m'Im sorry I dont understand'\u001b[0m\u001b[1;33m)\u001b[0m\u001b[1;33m\u001b[0m\u001b[1;33m\u001b[0m\u001b[0m\n\u001b[0m\u001b[0;32m     60\u001b[0m \u001b[1;33m\u001b[0m\u001b[0m\n\u001b[0;32m     61\u001b[0m \u001b[1;33m\u001b[0m\u001b[0m\n",
      "\u001b[1;31mNameError\u001b[0m: name 'Talk' is not defined"
     ]
    }
   ],
   "source": [
    "command = ''\n",
    "while command != 'quit':\n",
    "    run_doctor()"
   ]
  },
  {
   "cell_type": "code",
   "execution_count": null,
   "metadata": {},
   "outputs": [],
   "source": [
    "# Test the Text to speech Engine\n",
    "engine.say('I am Dr. Joe what can I do for you ?')\n",
    "engine.runAndWait()"
   ]
  },
  {
   "cell_type": "code",
   "execution_count": null,
   "metadata": {},
   "outputs": [],
   "source": [
    "# Test the Dr. Kendra voice\n",
    "engine.say('I am Dr. Kendra what can I do for you ?')\n",
    "engine.runAndWait()"
   ]
  }
 ],
 "metadata": {
  "kernelspec": {
   "display_name": "Python 3",
   "language": "python",
   "name": "python3"
  },
  "language_info": {
   "codemirror_mode": {
    "name": "ipython",
    "version": 3
   },
   "file_extension": ".py",
   "mimetype": "text/x-python",
   "name": "python",
   "nbconvert_exporter": "python",
   "pygments_lexer": "ipython3",
   "version": "3.8.5"
  }
 },
 "nbformat": 4,
 "nbformat_minor": 4
}
