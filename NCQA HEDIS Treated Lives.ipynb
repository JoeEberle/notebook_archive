{
 "cells": [
  {
   "cell_type": "markdown",
   "metadata": {},
   "source": [
    "###### This notebook parses the HEDIS NCQA into patient panels by Organization \n",
    "##### Added Excel Automation including Filtering, Styling, Security, Pre-filtering \n",
    "#### Joe Eberle - 4/26/2022  \n"
   ]
  },
  {
   "cell_type": "code",
   "execution_count": null,
   "metadata": {},
   "outputs": [],
   "source": [
    "## -- Current Treated Lives \n",
    "## select * from DS_ATTRIB_AFFILIA_PATIENT_DETAIL -- For attribution \n",
    "## select * from DS_TREATED_LIVES   -- For Treated Lives \n",
    "## select  TL.ORGANIZATION_CLASS, TL.ORGANIZATION_NAME, TL.PROVIDER_NAME, TL.PATIENT_ID from DS_TREATED_PATIENT_DETAIL TL"
   ]
  },
  {
   "cell_type": "code",
   "execution_count": 1,
   "metadata": {},
   "outputs": [],
   "source": [
    "# Import Libraries for Spreadsheet Automation \n",
    "import pandas as pd\n",
    "import numpy as np\n",
    "import datetime as dt\n",
    "from datetime import date\n",
    "import random\n",
    "import math\n",
    "import os\n",
    "import glob\n",
    "from openpyxl import load_workbook\n",
    "from openpyxl.styles import colors\n",
    "from openpyxl.utils import get_column_letter\n",
    "from openpyxl.styles import NamedStyle, Font, Border, Side, PatternFill, GradientFill, Alignment, Color, Fill\n",
    "from openpyxl import Workbook\n",
    "import openpyxl\n",
    "import time\n",
    "from openpyxl.utils.dataframe import dataframe_to_rows \n",
    "from openpyxl.formatting.rule import DataBarRule\n",
    "from openpyxl.formatting.rule import ColorScaleRule\n",
    "\n"
   ]
  },
  {
   "cell_type": "code",
   "execution_count": 2,
   "metadata": {},
   "outputs": [],
   "source": [
    "# Configure the code and visual settings to have consistency \n",
    "LIGHT_BLUE = \"C5D9F1\"\n",
    "YELLOW = \"FFFF00\"\n",
    "GRAY = \"E4DFEC\"\n",
    "DEEP_BLUE = \"1072BA\"\n",
    "WHITE = \"FFFFFF\"\n",
    "\n",
    "CONTENT_TAB_COLOR = DEEP_BLUE\n",
    "USER_TAB_COLOR = YELLOW\n",
    "BLANK_WHITE = WHITE \n",
    "HEADER_COLOR = LIGHT_BLUE  # Light Blue - Light Blue indicates relevant content for validation \n",
    "HEADER_COLOR_USER_ENTRY = YELLOW # Yellow - Yellow indicates a field for User Entry \n",
    "HEADER_COLOR_INFORMATIONAL_ONLY = GRAY # Gray - Indicates a field that maybe helpful but for information purposes only \n",
    "\n",
    "Color_Scale_Rule = ColorScaleRule(start_type=\"min\",start_color=\"FF0000\",end_type=\"max\",end_color=\"99FF33\")\n",
    "Data_Bar_Rule = DataBarRule(start_type=\"min\", end_type=\"max\", color=\"00CC00\")"
   ]
  },
  {
   "cell_type": "code",
   "execution_count": 3,
   "metadata": {},
   "outputs": [
    {
     "name": "stdout",
     "output_type": "stream",
     "text": [
      "c:/Users/josep/Documents/Kaleida/NCQA HEDIS Quality Measures by Patient Treated Lives.xlsx\n",
      "c:/Users/josep/Documents/Kaleida/NCQA HEDIS Quality Measures by Provider Treated Lives.xlsx\n",
      "c:/Users/josep/Documents/Kaleida/NCQA HEDIS Quality Measures by Organization Treated Lives.xlsx\n",
      "c:/Users/josep/Documents/Kaleida/NCQA HEDIS Quality Measures by Organization Class Treated Lives.xlsx\n"
     ]
    }
   ],
   "source": [
    "# Read in the CSV SQL output for Patient Panel\n",
    "path = 'c:/Users/josep/Documents/Kaleida/Quality/'\n",
    "Path_to_Excel = 'c:/Users/josep/Documents/Kaleida/Quality/'\n",
    "Path_to_Save_Excel = 'c:/Users/josep/Documents/Kaleida/Quality_ft/'\n",
    "# Path_to_Share_Excel =  'https://kaleidahealth.sharefile.com/fo54e2c6-ffc7-4025-8649-443d1d382dff//'\n",
    "Path_to_Raw_Data = 'c:/Users/josep/Documents/Kaleida/'\n",
    "\n",
    "Path_to_Raw_Patient_CSV = \"C:/Users/josep/Documents/Kaleida/NCQA HEDIS Patient.csv\"\n",
    "\n",
    "Raw_Data_File_Name_1 = 'NCQA HEDIS Quality Measures by Patient Treated Lives.xlsx'\n",
    "Raw_Data_File_Name_2 = 'NCQA HEDIS Quality Measures by Provider Treated Lives.xlsx'\n",
    "Raw_Data_File_Name_3 = 'NCQA HEDIS Quality Measures by Organization Treated Lives.xlsx'\n",
    "Raw_Data_File_Name_4 = 'NCQA HEDIS Quality Measures by Organization Class Treated Lives.xlsx' \n",
    "\n",
    "\n",
    "#\"C:\\Users\\josep\\Documents\\Kaleida\\NCQA HEDIS Quality Measures by Provider Treated Lives.xlsx\"\n",
    "#\"C:\\Users\\josep\\Documents\\Kaleida\\NCQA HEDIS Quality Measures by Organization Treated Lives.xlsx\"\n",
    "#\"C:\\Users\\josep\\Documents\\Kaleida\\NCQA HEDIS Quality Measures by Patient Treated Lives.xlsx\"\n",
    "#\"C:\\Users\\josep\\Documents\\Kaleida\\NCQA HEDIS Quality Measures by Organization Class Treated Lives.xlsx\"\n",
    "\n",
    "\n"
   ]
  },
  {
   "cell_type": "code",
   "execution_count": 20,
   "metadata": {},
   "outputs": [
    {
     "name": "stdout",
     "output_type": "stream",
     "text": [
      "C:/Users/josep/Documents/Kaleida/NCQA HEDIS Quality by Patient Treated Lives.csv\n",
      "c:/Users/josep/Documents/Kaleida/NCQA HEDIS Quality Measures by Provider Treated Lives.xlsx\n",
      "c:/Users/josep/Documents/Kaleida/NCQA HEDIS Quality Measures by Organization Treated Lives.xlsx\n",
      "c:/Users/josep/Documents/Kaleida/NCQA HEDIS Quality Measures by Organization Class Treated Lives.xlsx\n"
     ]
    }
   ],
   "source": [
    "# Read in the CSV SQL output for Patient Panel\n",
    "# patient_panel  = pd.read_excel(Path_to_Raw_Data + Raw_Data_File_Name_1)\n",
    "patient_panel  = pd.read_csv(\"C:/Users/josep/Documents/Kaleida/NCQA HEDIS Quality by Patient Treated Lives.csv\")\n",
    "provider_panel = pd.read_excel(Path_to_Raw_Data + Raw_Data_File_Name_2)\n",
    "organization_panel = pd.read_excel(Path_to_Raw_Data + Raw_Data_File_Name_3)\n",
    "organization_class_panel = pd.read_excel(Path_to_Raw_Data + Raw_Data_File_Name_4)\n",
    "\n",
    "#print(Path_to_Raw_Data + Raw_Data_File_Name_1)\n",
    "print(\"C:/Users/josep/Documents/Kaleida/NCQA HEDIS Quality by Patient Treated Lives.csv\") # raw CSV limit 100000 ???? \n",
    "print(Path_to_Raw_Data + Raw_Data_File_Name_2)\n",
    "print(Path_to_Raw_Data + Raw_Data_File_Name_3)\n",
    "print(Path_to_Raw_Data + Raw_Data_File_Name_4)"
   ]
  },
  {
   "cell_type": "code",
   "execution_count": 17,
   "metadata": {},
   "outputs": [],
   "source": [
    "patient_panel  = pd.read_csv(\"C:/Users/josep/Documents/Kaleida/NCQA HEDIS Quality by Patient Treated Lives.csv\")\n"
   ]
  },
  {
   "cell_type": "code",
   "execution_count": 18,
   "metadata": {},
   "outputs": [
    {
     "name": "stdout",
     "output_type": "stream",
     "text": [
      "<class 'pandas.core.frame.DataFrame'>\n",
      "RangeIndex: 1000000 entries, 0 to 999999\n",
      "Data columns (total 13 columns):\n",
      " #   Column                   Non-Null Count    Dtype \n",
      "---  ------                   --------------    ----- \n",
      " 0   Organization_Class       1000000 non-null  object\n",
      " 1   Organization_Name        1000000 non-null  object\n",
      " 2   Provider_Name            1000000 non-null  object\n",
      " 3   Patient_Name             1000000 non-null  object\n",
      " 4   Measure_Qualified_Name   1000000 non-null  object\n",
      " 5   Measure_Name_Simplified  1000000 non-null  object\n",
      " 6   Total_Measure_Count      1000000 non-null  int64 \n",
      " 7   Total_Not_Met_Count      1000000 non-null  int64 \n",
      " 8   Total_Met_Count          1000000 non-null  int64 \n",
      " 9   Birth_Date               1000000 non-null  object\n",
      " 10  Gender                   531049 non-null   object\n",
      " 11  Phone_Number             998651 non-null   object\n",
      " 12  Patient_EMPI_ID          1000000 non-null  object\n",
      "dtypes: int64(3), object(10)\n",
      "memory usage: 99.2+ MB\n"
     ]
    }
   ],
   "source": [
    "patient_panel.info()"
   ]
  },
  {
   "cell_type": "code",
   "execution_count": 21,
   "metadata": {},
   "outputs": [
    {
     "data": {
      "text/plain": [
       "Index(['Organization_Class', 'Measure_Qualified_Name',\n",
       "       'Measure_Name_Simplified', 'Total_Measure_Count', 'Total_Not_Met_Count',\n",
       "       'Total_Met_Count'],\n",
       "      dtype='object')"
      ]
     },
     "execution_count": 21,
     "metadata": {},
     "output_type": "execute_result"
    }
   ],
   "source": [
    "# Optional Verify the input file structures \n",
    "#patient_panel.info()\n",
    "#Organization_Provider_Summary.head()\n",
    "organization_class_panel.columns"
   ]
  },
  {
   "cell_type": "code",
   "execution_count": 5,
   "metadata": {},
   "outputs": [],
   "source": [
    "# Filter to Measures that are analytics only , calculate Percent complete and round \n",
    "#organization_class_panel = organization_class_panel[(organization_class_panel.Is_Registries_Measure == 'Analytics Only')]   \n",
    "#organization_panel = organization_panel[(organization_panel.Is_Registries_Measure == 'Analytics Only')]   \n",
    "#provider_panel = provider_panel[(provider_panel.Is_Registries_Measure == 'Analytics Only')]   \n",
    "#patient_panel = patient_panel[(patient_panel.Is_Registries_Measure == 'Analytics Only')]  \n"
   ]
  },
  {
   "cell_type": "code",
   "execution_count": 22,
   "metadata": {},
   "outputs": [],
   "source": [
    "# Filter to Measures that are analytics only , calculate Percent complete and round \n",
    "organization_class_panel['Measure_Completion_Percentage'] = ((organization_class_panel['Total_Met_Count'] / organization_class_panel['Total_Measure_Count']) * 100.0) \n",
    "organization_class_panel['Measure_Completion_Percentage'] = organization_class_panel['Measure_Completion_Percentage'].round(2)\n",
    "\n",
    "organization_panel['Measure_Completion_Percentage'] = ((organization_panel['Total_Met_Count'] / organization_panel['Total_Measure_Count']) * 100.0) \n",
    "organization_panel['Measure_Completion_Percentage'] = organization_panel['Measure_Completion_Percentage'].round(2)\n",
    "\n",
    "provider_panel['Measure_Completion_Percentage'] = ((provider_panel['Total_Met_Count'] / provider_panel['Total_Measure_Count']) * 100.0) \n",
    "provider_panel['Measure_Completion_Percentage'] = provider_panel['Measure_Completion_Percentage'].round(2)\n",
    "\n",
    "patient_panel['Measure_Completion_Percentage'] = ((patient_panel['Total_Met_Count'] / patient_panel['Total_Measure_Count']) * 100.0) \n",
    "patient_panel['Measure_Completion_Percentage'] = patient_panel['Measure_Completion_Percentage'].round(2)\n"
   ]
  },
  {
   "cell_type": "code",
   "execution_count": 26,
   "metadata": {},
   "outputs": [],
   "source": [
    "# simplify and Organize the organization quality Panels \n",
    "organization_panel = organization_panel[['Measure_Name_Simplified', 'Total_Measure_Count',\n",
    "       'Total_Not_Met_Count', 'Total_Met_Count', 'Measure_Completion_Percentage',   'Organization_Class', 'Organization_Name']]\n",
    "organization_class_panel = organization_class_panel[['Measure_Name_Simplified', 'Total_Measure_Count',\n",
    "       'Total_Not_Met_Count', 'Total_Met_Count', 'Measure_Completion_Percentage',   'Organization_Class']]\n",
    "provider_panel = provider_panel[['Provider_Name','Measure_Name_Simplified', 'Total_Measure_Count',\n",
    "       'Total_Not_Met_Count', 'Total_Met_Count', 'Measure_Completion_Percentage',   'Organization_Class', 'Organization_Name']]\n",
    "patient_panel = patient_panel[['Patient_Name','Provider_Name','Measure_Name_Simplified', 'Total_Measure_Count',\n",
    "       'Total_Not_Met_Count', 'Total_Met_Count', 'Measure_Completion_Percentage',  'Organization_Class', 'Organization_Name', 'Birth_Date',\n",
    "       'Gender','Phone_Number','Patient_EMPI_ID']]\n",
    "\n"
   ]
  },
  {
   "cell_type": "code",
   "execution_count": 27,
   "metadata": {},
   "outputs": [
    {
     "data": {
      "text/plain": [
       "Index(['Patient_Name', 'Provider_Name', 'Measure_Name_Simplified',\n",
       "       'Total_Measure_Count', 'Total_Not_Met_Count', 'Total_Met_Count',\n",
       "       'Measure_Completion_Percentage', 'Organization_Class',\n",
       "       'Organization_Name', 'Birth_Date', 'Gender', 'Phone_Number',\n",
       "       'Patient_EMPI_ID'],\n",
       "      dtype='object')"
      ]
     },
     "execution_count": 27,
     "metadata": {},
     "output_type": "execute_result"
    }
   ],
   "source": [
    "patient_panel.columns"
   ]
  },
  {
   "cell_type": "code",
   "execution_count": 30,
   "metadata": {},
   "outputs": [],
   "source": [
    "# The following function creates patient panels based upon organization name \n",
    "def create_organization_patient_panel(org_name):\n",
    "    Organization_panel = patient_panel[(patient_panel.Organization_Name == org_name)]    \n",
    "    patient_rows = len(Organization_panel) - 1 \n",
    "    if patient_rows > 2:\n",
    "        spread_name = Organization_panel['Organization_Name'].iloc[0]\n",
    "        if spread_name == '':\n",
    "            spread_name = 'No_ORG_NAME_'  \n",
    "        spread_name = spread_name.replace('/','')  \n",
    "      #  lesser = min(patient_rows,25)\n",
    "      #  for x in range(lesser):\n",
    "      #      Organization_panel.iat[random.randint(0,patient_rows),11] = 'Y'\n",
    "       # spath = 'c:/Users/josep/Documents/Kaleida/Validation/'\n",
    "        spath = Path_to_Excel\n",
    "        spread_name = spath + spread_name.replace(' ','_') + '.xlsx'\n",
    "        spread_name = spread_name.replace(' ','')\n",
    "        Organization_panel.to_excel(spread_name,sheet_name='Patient Panel', index = False)  \n",
    "        print(spread_name)\n",
    "        return org_name"
   ]
  },
  {
   "cell_type": "code",
   "execution_count": 31,
   "metadata": {},
   "outputs": [
    {
     "name": "stdout",
     "output_type": "stream",
     "text": [
      "c:/Users/josep/Documents/Kaleida/Quality/GPPC_PCP_Amherst_Sheridan.xlsx\n",
      "c:/Users/josep/Documents/Kaleida/Quality/GPPC_PCP_Buffalo_Main.xlsx\n",
      "c:/Users/josep/Documents/Kaleida/Quality/GPPC_PCP_Dunkirk_Vineyard_Ste_1.xlsx\n",
      "c:/Users/josep/Documents/Kaleida/Quality/GPPC_PCP_East_Aurora_Main.xlsx\n",
      "c:/Users/josep/Documents/Kaleida/Quality/GPPC_PCP_Elma_Transit.xlsx\n",
      "c:/Users/josep/Documents/Kaleida/Quality/GPPC_PCP_Hamburg_Camp.xlsx\n",
      "c:/Users/josep/Documents/Kaleida/Quality/GPPC_PCP_Hamburg_Southwestern.xlsx\n",
      "c:/Users/josep/Documents/Kaleida/Quality/GPPC_PCP_Lancaster_Transit.xlsx\n",
      "c:/Users/josep/Documents/Kaleida/Quality/GPPC_PCP_Lockport_Olcott.xlsx\n",
      "c:/Users/josep/Documents/Kaleida/Quality/GPPC_PCP_Lockport_Snyder.xlsx\n",
      "c:/Users/josep/Documents/Kaleida/Quality/GPPC_PCP_Medina_Ohio.xlsx\n",
      "c:/Users/josep/Documents/Kaleida/Quality/GPPC_PCP_Orchard_Park_Big_Tree_Ste_107.xlsx\n"
     ]
    }
   ],
   "source": [
    "Org_names = patient_panel.Organization_Name.unique()\n",
    "for org in Org_names:\n",
    "    create_organization_patient_panel(org)"
   ]
  },
  {
   "cell_type": "code",
   "execution_count": 32,
   "metadata": {},
   "outputs": [
    {
     "name": "stdout",
     "output_type": "stream",
     "text": [
      "GPPC PCP Amherst Sheridan\n",
      "GPPC PCP Buffalo Main\n",
      "GPPC PCP Dunkirk Vineyard Ste 1\n",
      "GPPC PCP East Aurora Main\n",
      "GPPC PCP Elma Transit\n",
      "GPPC PCP Hamburg Camp\n",
      "GPPC PCP Hamburg Southwestern\n",
      "GPPC PCP Lancaster Transit\n",
      "GPPC PCP Lockport Olcott\n",
      "GPPC PCP Lockport Snyder\n",
      "GPPC PCP Medina Ohio\n",
      "GPPC PCP Orchard Park Big Tree Ste 107\n"
     ]
    }
   ],
   "source": [
    "# Add the Provider Summary Excel Tab  \n",
    "extension = 'xlsx'\n",
    "os.chdir(path)\n",
    "files = glob.glob('*.{}'.format(extension))\n",
    " \n",
    "\n",
    "for x in range(len(files)): \n",
    "#    print(files[x]) \n",
    "    file_path = Path_to_Excel + files[x]\n",
    "    org_name =  files[x].replace('.xlsx','')\n",
    "    org_name =  org_name.replace('_',' ')    \n",
    "    print (org_name)\n",
    "    Provider_Summary = provider_panel[(provider_panel.Organization_Name == org_name)]  \n",
    "    Provider_Summary = Provider_Summary.reset_index(drop=True)\n",
    "  \n",
    "    writer = pd.ExcelWriter(file_path, engine='openpyxl', mode='a')\n",
    "    writer.book = load_workbook(file_path)\n",
    "    Provider_Summary.to_excel(writer,sheet_name='Provider Summary', index = False)\n",
    "    writer.save()\n",
    "    writer.close()"
   ]
  },
  {
   "cell_type": "code",
   "execution_count": 44,
   "metadata": {},
   "outputs": [
    {
     "name": "stdout",
     "output_type": "stream",
     "text": [
      "GPPC PCP Amherst Sheridan\n",
      "GPPC PCP Buffalo Main\n",
      "GPPC PCP Dunkirk Vineyard Ste 1\n",
      "GPPC PCP East Aurora Main\n",
      "GPPC PCP Elma Transit\n",
      "GPPC PCP Hamburg Camp\n",
      "GPPC PCP Hamburg Southwestern\n",
      "GPPC PCP Lancaster Transit\n",
      "GPPC PCP Lockport Olcott\n",
      "GPPC PCP Lockport Snyder\n",
      "GPPC PCP Medina Ohio\n",
      "GPPC PCP Orchard Park Big Tree Ste 107\n"
     ]
    }
   ],
   "source": [
    "# Add the Organization Summary Excel Tab  \n",
    "extension = 'xlsx'\n",
    "os.chdir(path)\n",
    "files = glob.glob('*.{}'.format(extension))\n",
    " \n",
    "\n",
    "for x in range(len(files)): \n",
    "#    print(files[x]) \n",
    "    file_path = Path_to_Excel + files[x]\n",
    "    org_name =  files[x].replace('.xlsx','')\n",
    "    org_name =  org_name.replace('_',' ')    \n",
    "    print (org_name)\n",
    "    Organization_Summary = organization_panel[(organization_panel.Organization_Name == org_name)]  \n",
    "    Organization_Summary = Organization_Summary.reset_index(drop=True)\n",
    "  \n",
    "    writer = pd.ExcelWriter(file_path, engine='openpyxl', mode='a')\n",
    "    writer.book = load_workbook(file_path)\n",
    "    Organization_Summary.to_excel(writer,sheet_name='Organization Summary', index = False)\n",
    "    writer.save()\n",
    "    writer.close()"
   ]
  },
  {
   "cell_type": "code",
   "execution_count": 33,
   "metadata": {},
   "outputs": [
    {
     "name": "stdout",
     "output_type": "stream",
     "text": [
      "GPPC PCP Amherst Sheridan\n",
      "GPPC PCP Buffalo Main\n",
      "GPPC PCP Dunkirk Vineyard Ste 1\n",
      "GPPC PCP East Aurora Main\n",
      "GPPC PCP Elma Transit\n",
      "GPPC PCP Hamburg Camp\n",
      "GPPC PCP Hamburg Southwestern\n",
      "GPPC PCP Lancaster Transit\n",
      "GPPC PCP Lockport Olcott\n",
      "GPPC PCP Lockport Snyder\n",
      "GPPC PCP Medina Ohio\n",
      "GPPC PCP Orchard Park Big Tree Ste 107\n"
     ]
    }
   ],
   "source": [
    "# Add the Organization Summary Excel Tab  \n",
    "extension = 'xlsx'\n",
    "os.chdir(path)\n",
    "files = glob.glob('*.{}'.format(extension))\n",
    " \n",
    "\n",
    "for x in range(len(files)): \n",
    "#    print(files[x]) \n",
    "    file_path = Path_to_Excel + files[x]\n",
    "    org_name =  files[x].replace('.xlsx','')\n",
    "    org_name =  org_name.replace('_',' ')    \n",
    "    print (org_name)\n",
    "    Organization_Class_Summary = organization_class_panel\n",
    "    Organization_Class_Summary = Organization_Class_Summary.reset_index(drop=True)\n",
    "  \n",
    "    writer = pd.ExcelWriter(file_path, engine='openpyxl', mode='a')\n",
    "    writer.book = load_workbook(file_path)\n",
    "    Organization_Class_Summary.to_excel(writer,sheet_name='Organization Class Summary', index = False)\n",
    "    writer.save()\n",
    "    writer.close()"
   ]
  },
  {
   "cell_type": "code",
   "execution_count": 34,
   "metadata": {},
   "outputs": [],
   "source": [
    "# The following function creates patient panels based upon organization name \n",
    "def create_sheet_one(work_book):\n",
    "    from openpyxl.utils import get_column_letter\n",
    "    from openpyxl.styles import Border, Side, PatternFill, Font, GradientFill, Alignment    \n",
    "    import openpyxl    \n",
    "    \n",
    "# Format the Tab      \n",
    "    ws1 = work_book.active\n",
    "    ws1.title = \"Patient HEDIS Quality\"\n",
    "    ws1.sheet_properties.tabColor = CONTENT_TAB_COLOR \n",
    "     \n",
    "# Format the Header as bold blue centered wordwrap    \n",
    "    ws1.row_dimensions[1].height = 75   \n",
    "    max_cols = ws1.max_column + 1 \n",
    "    for col in range(1,max_cols):\n",
    "        ws1[get_column_letter(col) + '1'].font = Font(bold=True ) \n",
    "        ws1[get_column_letter(col) + '1'].fill = PatternFill(\"solid\", start_color=HEADER_COLOR) \n",
    "        ws1[get_column_letter(col) + '1'].alignment = Alignment(horizontal='center', wrap_text=True)\n",
    "    \n",
    "# Work Sheet 1 - Set Column Widths and Header Hieght\n",
    "    ws1.column_dimensions['A'].width = 15\n",
    "    ws1.column_dimensions['B'].width = 15\n",
    "    ws1.column_dimensions['C'].width = 120\n",
    "    ws1.column_dimensions['D'].width = 10\n",
    "    ws1.column_dimensions['E'].width = 10\n",
    "    ws1.column_dimensions['F'].width = 10\n",
    "    ws1.column_dimensions['G'].width = 12\n",
    "    ws1.column_dimensions['H'].width = 30\n",
    "    ws1.column_dimensions['I'].width = 30    \n",
    "    ws1.column_dimensions['J'].width = 30       \n",
    "    \n",
    "# Replaces all underscores in header with two spaces \n",
    "    for col in range(1,max_cols):\n",
    "        ws1[get_column_letter(col) + '1'].value = ws1[get_column_letter(col) + '1'].value.replace('_','  ')\n",
    "    \n",
    "# Set Filtering on \n",
    "    FullRange = \"A1:\" + get_column_letter(ws1.max_column) + str(ws1.max_row)\n",
    "    ws1.auto_filter.ref = FullRange    \n",
    "\n",
    "# Set Conditional Formatting On  \n",
    "    ws1.freeze_panes = 'A2'\n",
    "    ws1.conditional_formatting.add(\"G1:G\" + str(ws1.max_row), Color_Scale_Rule )\n",
    "    \n",
    "    return work_book  "
   ]
  },
  {
   "cell_type": "code",
   "execution_count": 35,
   "metadata": {},
   "outputs": [],
   "source": [
    "# The following function formats provider summary \n",
    "def create_sheet_two(work_book):\n",
    "    from openpyxl.utils import get_column_letter\n",
    "    from openpyxl.styles import Border, Side, PatternFill, Font, GradientFill, Alignment    \n",
    "    import openpyxl\n",
    "    \n",
    "    sheets = work_book.sheetnames\n",
    "    ws2 = work_book[sheets[1]]\n",
    "# Format the Tab      \n",
    "    ws2.title = \"Provider HEDIS Quality\"\n",
    "    ws2.sheet_properties.tabColor = CONTENT_TAB_COLOR \n",
    "    \n",
    "# Format the Header as bold blue centered wordwrap    \n",
    "    ws2.row_dimensions[1].height = 75   \n",
    "    max_cols = ws2.max_column + 1 \n",
    "    for col in range(1,max_cols):\n",
    "        ws2[get_column_letter(col) + '1'].font = Font(bold=True ) \n",
    "        ws2[get_column_letter(col) + '1'].fill = PatternFill(\"solid\", start_color=HEADER_COLOR) \n",
    "        ws2[get_column_letter(col) + '1'].alignment = Alignment(horizontal='center', wrap_text=True)\n",
    "    \n",
    "# Work Sheet 1 - Set Column Widths and Header Hieght\n",
    "    ws2.column_dimensions['A'].width = 15\n",
    "    ws2.column_dimensions['B'].width = 120\n",
    "    ws2.column_dimensions['C'].width = 10    \n",
    "    ws2.column_dimensions['D'].width = 10\n",
    "    ws2.column_dimensions['E'].width = 10\n",
    "    ws2.column_dimensions['F'].width = 10\n",
    "    ws2.column_dimensions['G'].width = 30\n",
    "    ws2.column_dimensions['H'].width = 30\n",
    "    ws2.column_dimensions['I'].width = 30    \n",
    "    \n",
    "# Replaces all underscores in header with two spaces \n",
    "    for col in range(1,max_cols):\n",
    "        ws2[get_column_letter(col) + '1'].value = ws2[get_column_letter(col) + '1'].value.replace('_','  ')\n",
    "    \n",
    "# Set Filtering on \n",
    "    FullRange = \"A1:\" + get_column_letter(ws2.max_column) + str(ws2.max_row)\n",
    "    ws2.auto_filter.ref = FullRange    \n",
    "\n",
    "# Set Conditional Formatting On  \n",
    "    ws2.freeze_panes = 'A2'\n",
    "    ws2.conditional_formatting.add(\"F1:F\" + str(ws2.max_row), Color_Scale_Rule )\n",
    "\n",
    "    return work_book  "
   ]
  },
  {
   "cell_type": "code",
   "execution_count": 36,
   "metadata": {},
   "outputs": [],
   "source": [
    "def create_sheet_three(work_book):\n",
    "    \n",
    "    sheets = work_book.sheetnames\n",
    "    ws3 = work_book[sheets[2]]\n",
    "# Format the Tab      \n",
    "    ws3.title = \"Organization HEDIS Quality\"\n",
    "    ws3.sheet_properties.tabColor = CONTENT_TAB_COLOR \n",
    "  \n",
    "    \n",
    "# Format the Header as bold blue centered wordwrap    \n",
    "    ws3.row_dimensions[1].height = 75   \n",
    "    max_cols = ws3.max_column + 1 \n",
    "    for col in range(1,max_cols):\n",
    "        ws3[get_column_letter(col) + '1'].font = Font(bold=True ) \n",
    "        ws3[get_column_letter(col) + '1'].fill = PatternFill(\"solid\", start_color=HEADER_COLOR) \n",
    "        ws3[get_column_letter(col) + '1'].alignment = Alignment(horizontal='center', wrap_text=True)\n",
    "    \n",
    "# Work Sheet 1 - Set Column Widths and Header Hieght\n",
    "    ws3.column_dimensions['A'].width = 120\n",
    "    ws3.column_dimensions['B'].width = 10\n",
    "    ws3.column_dimensions['C'].width = 10    \n",
    "    ws3.column_dimensions['D'].width = 10\n",
    "    ws3.column_dimensions['E'].width = 10\n",
    "    ws3.column_dimensions['F'].width = 10\n",
    "    ws3.column_dimensions['G'].width = 30\n",
    "    ws3.column_dimensions['H'].width = 30\n",
    "    ws3.column_dimensions['I'].width = 30    \n",
    "    \n",
    "# Replaces all underscores in header with two spaces \n",
    "    for col in range(1,max_cols):\n",
    "        ws3[get_column_letter(col) + '1'].value = ws3[get_column_letter(col) + '1'].value.replace('_','  ')\n",
    "    \n",
    "# Set Filtering on \n",
    "    FullRange = \"A1:\" + get_column_letter(ws3.max_column) + str(ws3.max_row)\n",
    "    ws3.auto_filter.ref = FullRange    \n",
    "\n",
    "# Set Conditional Formatting On  \n",
    "    ws3.freeze_panes = 'A2'\n",
    "    ws3.conditional_formatting.add(\"E1:E\" + str(ws3.max_row), Color_Scale_Rule )\n",
    "\n",
    "    return work_book "
   ]
  },
  {
   "cell_type": "code",
   "execution_count": 43,
   "metadata": {},
   "outputs": [],
   "source": [
    "def create_sheet_four(work_book):\n",
    "    \n",
    "    sheets = work_book.sheetnames\n",
    "    ws4 = work_book[sheets[3]]\n",
    "    \n",
    "    print('Sheets #4 ',sheets[3])\n",
    "# Format the Tab      \n",
    "    ws4.title = \"Org Class HEDIS Quality\"\n",
    "    ws4.sheet_properties.tabColor = CONTENT_TAB_COLOR \n",
    "  \n",
    "    \n",
    "# Format the Header as bold blue centered wordwrap    \n",
    "    ws4.row_dimensions[1].height = 75   \n",
    "    max_cols = ws4.max_column + 1 \n",
    "    for col in range(1,max_cols):\n",
    "        ws4[get_column_letter(col) + '1'].font = Font(bold=True ) \n",
    "        ws4[get_column_letter(col) + '1'].fill = PatternFill(\"solid\", start_color=HEADER_COLOR) \n",
    "        ws4[get_column_letter(col) + '1'].alignment = Alignment(horizontal='center', wrap_text=True)\n",
    "    \n",
    "# Work Sheet 1 - Set Column Widths and Header Hieght\n",
    "    ws4.column_dimensions['A'].width = 120\n",
    "    ws4.column_dimensions['B'].width = 10\n",
    "    ws4.column_dimensions['C'].width = 10    \n",
    "    ws4.column_dimensions['D'].width = 10\n",
    "    ws4.column_dimensions['E'].width = 10\n",
    "    ws4.column_dimensions['F'].width = 40\n",
    "\n",
    "    \n",
    "# Replaces all underscores in header with two spaces \n",
    "    for col in range(1,max_cols):\n",
    "        ws4[get_column_letter(col) + '1'].value = ws4[get_column_letter(col) + '1'].value.replace('_','  ')\n",
    "    \n",
    "# Set Filtering on \n",
    "    FullRange = \"A1:\" + get_column_letter(ws4.max_column) + str(ws4.max_row)\n",
    "    ws4.auto_filter.ref = FullRange    \n",
    "\n",
    "# Set Conditional Formatting On  \n",
    "    ws4.freeze_panes = 'A2'\n",
    "    ws4.conditional_formatting.add(\"E1:E\" + str(ws4.max_row), Color_Scale_Rule )\n",
    "\n",
    "    return work_book \n"
   ]
  },
  {
   "cell_type": "code",
   "execution_count": 38,
   "metadata": {},
   "outputs": [],
   "source": [
    "def create_instruction_sheet(work_book):\n",
    "    \n",
    "    ws_instruction  = work_book.create_sheet(\"Instructions\")\n",
    "    ws_instruction.title = \"Instructions\" \n",
    "    ws_instruction.sheet_properties.tabColor = USER_TAB_COLOR\n",
    "    \n",
    "    # Blank the Canvas \n",
    "    fontStyle = Font(size = \"12\", bold = True)\n",
    "    for col in range(1,25):\n",
    "        for row in range(1,25):\n",
    "            ws_instruction[get_column_letter(col) + str(row)].alignment = Alignment(horizontal='left', vertical='top', wrap_text=True)          \n",
    "            ws_instruction[get_column_letter(col) + str(row)].font = fontStyle\n",
    "            ws_instruction[get_column_letter(col) + str(row)].fill = PatternFill(\"solid\", fgColor=BLANK_WHITE)\n",
    "            \n",
    "    for row in range(1,25):\n",
    "            ws_instruction.row_dimensions[row].height = 20         \n",
    "            \n",
    "    ws_instruction.column_dimensions['A'].width = 3\n",
    "    ws_instruction.column_dimensions['B'].width = 3\n",
    "    ws_instruction.column_dimensions['C'].width = 80            \n",
    "    \n",
    "    \n",
    "    ws_instruction.merge_cells('A1:F1')\n",
    "    top_left_cell = ws_instruction['A1']\n",
    "    top_left_cell.value = \"Instructions for Validation\"\n",
    "\n",
    "    top_left_cell.fill = PatternFill(\"solid\", fgColor=USER_TAB_COLOR)\n",
    "    top_left_cell.fill = fill = GradientFill(stop=(USER_TAB_COLOR, BLANK_WHITE))\n",
    "    top_left_cell.font  = Font(b=True, color=\"000000\")\n",
    "    top_left_cell.alignment = Alignment(horizontal=\"center\", vertical=\"center\")\n",
    "    fontStyle = Font(size = \"18\", bold = \"True\")\n",
    "    top_left_cell.font = fontStyle\n",
    "\n",
    "    fontStyle = Font(size = \"14\", bold = \"True\")\n",
    "    ws_instruction.merge_cells('A3:F3')\n",
    "    ws_instruction['A3'].font = fontStyle\n",
    "    ws_instruction['A3'] = 'Spreadsheet instructions:'\n",
    "\n",
    "    ws_instruction['B4'] = 1\n",
    "    ws_instruction['B5'] = 2 \n",
    "    ws_instruction['B6'] = 3\n",
    "    ws_instruction['B7'] = 4\n",
    "    ws_instruction['B8'] = 5\n",
    "    ws_instruction['B9'] = 6\n",
    "    ws_instruction['B10'] = 7    \n",
    "    ws_instruction['B11'] = 8      \n",
    "    \n",
    "    ws_instruction['C4'] = 'Validate Step #1 Patient Tab - Please Filter column \\'Flagged for Test\\' to yes... it will randomly select 25 patients'\n",
    "    ws_instruction['C5'] = 'Validate Step #2 Patient Tab - Clinical Validate selected 25 patients and returned to the sender.'\n",
    "    ws_instruction['C6'] = 'Validate Step #3 Patient Tab - Turn selected filter off'\n",
    "    ws_instruction['C7'] = 'Validate Step #4 Patient Tab - Filter a single measure at patient panel (example Breast cancer screenihg) \\' '  \n",
    "    ws_instruction['C8'] = 'Validate Step #5 Patient Tab - Count qualified and completed in Excel \\' ' \n",
    "    ws_instruction['C9'] = 'Validate Step #6 Provider Tab - Filter a single measure - Compare qualified and completed on selected measure to Patient counts\\' '\n",
    "    ws_instruction['C10'] = 'Validate Step #7 Organization Tab - Filter a single measure - Compare qualified and completed on selected measure to Provider counts\\' '\n",
    "    ws_instruction['C11'] = 'Validate Step #8 Organization Tab - Filter a single measure - Compare qualified and completed on selected measure to Organzation\\' '     \n",
    "    ws_instruction['C12'] = 'After validation is complete add or modify missing providers on the \\'new provider\\' tab. '   \n",
    "    ws_instruction['C13'] = 'If any issues or problems occured please enter them on the \\'Feedback\\' tab. '       \n",
    "\n",
    "    return work_book  \n"
   ]
  },
  {
   "cell_type": "code",
   "execution_count": 39,
   "metadata": {},
   "outputs": [],
   "source": [
    "def create_sheet_add_physician(work_book):\n",
    "    \n",
    "    ws5 = work_book.create_sheet(\"Adding new Physicians\")\n",
    "    ws5.title = \"Adding new Physicians\" \n",
    "    ws5.sheet_properties.tabColor = USER_TAB_COLOR\n",
    "    \n",
    "    ws5.merge_cells('A1:G1')\n",
    "    ws5.row_dimensions[1].height = 20\n",
    "    top_left_cell = ws5['A1']\n",
    "    top_left_cell.value = \"Adding, Updating, or Removing Physicians\"\n",
    "\n",
    "    top_left_cell.fill = PatternFill(\"solid\", fgColor=USER_TAB_COLOR)\n",
    "    top_left_cell.fill = fill = GradientFill(stop=(USER_TAB_COLOR, BLANK_WHITE))\n",
    "    top_left_cell.font  = Font(b=True, color=\"000000\")\n",
    "    top_left_cell.alignment = Alignment(horizontal=\"center\", vertical=\"center\")\n",
    "    fontStyle = Font(size = \"18\", bold = \"True\")\n",
    "    top_left_cell.font = fontStyle\n",
    "\n",
    "    ws5['A2'] = 'Provider Name'\n",
    "    ws5['B2'] = 'Provider NPI'\n",
    "    ws5['C2'] = 'Provider Credentials'\n",
    "    ws5['D2'] = 'Is Provider a Primary Care Physician PCP (Y/N) ?'\n",
    "    ws5['E2'] = 'Is Provider a Specialist (Y/N) ? '\n",
    "    ws5['F2'] = 'If Specialist enter Provider Specialty'\n",
    "    ws5['G2'] = 'Does the Provider need to be Added or Removed or Updated (A/R/U) ? '    \n",
    "    ws5['A2'].alignment = Alignment(horizontal='left', vertical='top', wrap_text=True)\n",
    "    ws5['B2'].alignment = Alignment(horizontal='left', vertical='top', wrap_text=True)\n",
    "    ws5['C2'].alignment = Alignment(horizontal='left', vertical='top', wrap_text=True)\n",
    "    ws5['D2'].alignment = Alignment(horizontal='left', vertical='top', wrap_text=True)\n",
    "    ws5['E2'].alignment = Alignment(horizontal='left', vertical='top', wrap_text=True)\n",
    "    ws5['F2'].alignment = Alignment(horizontal='left', vertical='top', wrap_text=True)\n",
    "    ws5['G2'].alignment = Alignment(horizontal='left', vertical='top', wrap_text=True)\n",
    "    \n",
    "    for col in range(1,8):\n",
    "        ws5[get_column_letter(col) + '2'].font = Font(bold=True ) \n",
    "        ws5[get_column_letter(col) + '2'].alignment = Alignment(horizontal='center', vertical='bottom', wrap_text=True)\n",
    "        ws5[get_column_letter(col) + '2'].fill = PatternFill(\"solid\", fgColor=HEADER_COLOR)\n",
    "    \n",
    "    ws5.column_dimensions['A'].width = 30\n",
    "    ws5.column_dimensions['B'].width = 20\n",
    "    ws5.column_dimensions['C'].width = 10\n",
    "    ws5.column_dimensions['D'].width = 20\n",
    "    ws5.column_dimensions['E'].width = 20\n",
    "    ws5.column_dimensions['F'].width = 20   \n",
    "    ws5.column_dimensions['G'].width = 20       \n",
    "    \n",
    "    ws5.row_dimensions[2].height = 60\n",
    " \n",
    "   \n",
    "    return work_book  \n"
   ]
  },
  {
   "cell_type": "code",
   "execution_count": 40,
   "metadata": {},
   "outputs": [],
   "source": [
    "def create_sheet_feedback(work_book):\n",
    "    \n",
    "    # Create The Tab \n",
    "    ws_feedback = work_book.create_sheet(\"Feedback\")\n",
    "    ws_feedback.title = \"Feedback or Issues\" \n",
    "    ws_feedback.sheet_properties.tabColor = USER_TAB_COLOR\n",
    "    \n",
    "    # Blank the Canvas \n",
    "    fontStyle = Font(size = \"12\", bold = True)\n",
    "    for col in range(1,25):\n",
    "        for row in range(1,25):\n",
    "            ws_feedback[get_column_letter(col) + str(row)].alignment = Alignment(horizontal='left', vertical='top', wrap_text=True)          \n",
    "            ws_feedback[get_column_letter(col) + str(row)].font = fontStyle\n",
    "            ws_feedback[get_column_letter(col) + str(row)].fill = PatternFill(\"solid\", fgColor=BLANK_WHITE)\n",
    "    \n",
    "    \n",
    "    # Create The Title \n",
    "    ws_feedback.merge_cells('A1:B1')\n",
    "    ws_feedback.row_dimensions[1].height = 20\n",
    "    top_left_cell = ws_feedback['A1']\n",
    "    top_left_cell.value = \"Feedback or Issues\"\n",
    "\n",
    "    top_left_cell.fill = PatternFill(\"solid\", fgColor=USER_TAB_COLOR)\n",
    "    top_left_cell.fill = fill = GradientFill(stop=(USER_TAB_COLOR, BLANK_WHITE))\n",
    "    top_left_cell.font  = Font(b=True, color=\"000000\")\n",
    "    top_left_cell.alignment = Alignment(horizontal=\"center\", vertical=\"center\")\n",
    "    fontStyle = Font(size = \"18\", bold = \"True\")\n",
    "    top_left_cell.font = fontStyle\n",
    "\n",
    "    ws_feedback['A2'] = 'User Name'\n",
    "    ws_feedback['B2'] = 'Issue or Feedback'\n",
    "  \n",
    "    for col in range(1,3):\n",
    "        ws_feedback[get_column_letter(col) + '2'].font = Font(size = \"12\", bold=True ) \n",
    "        ws_feedback[get_column_letter(col) + '2'].alignment = Alignment(horizontal='center', vertical='bottom', wrap_text=True)\n",
    "        ws_feedback[get_column_letter(col) + '2'].fill = PatternFill(\"solid\", fgColor=HEADER_COLOR)\n",
    "    \n",
    "    ws_feedback.column_dimensions['A'].width = 30\n",
    "    ws_feedback.column_dimensions['B'].width = 120 \n",
    "\n",
    "    ws_feedback.row_dimensions[2].height = 30\n",
    " \n",
    "   \n",
    "    return work_book  \n",
    " \n",
    "\n"
   ]
  },
  {
   "cell_type": "code",
   "execution_count": 41,
   "metadata": {},
   "outputs": [],
   "source": [
    "# Automate the worksheet \n",
    "def create_work_book(work_book):\n",
    "    create_sheet_one(wb)\n",
    "    create_sheet_two(wb)\n",
    "    create_sheet_three(wb)\n",
    "    create_sheet_four(wb)    \n",
    "    create_instruction_sheet(wb)\n",
    "    create_sheet_add_physician(wb)  \n",
    "    create_sheet_feedback(wb)      \n",
    "    return work_book      "
   ]
  },
  {
   "cell_type": "code",
   "execution_count": 46,
   "metadata": {
    "scrolled": true
   },
   "outputs": [
    {
     "name": "stdout",
     "output_type": "stream",
     "text": [
      "Pretty .. Pretty.. Prettification\n",
      "c:/Users/josep/Documents/Kaleida/Quality_ft/GPPC_PCP_Amherst_Sheridan.xlsx\n",
      "Sheets #4  Organization Summary\n",
      "c:/Users/josep/Documents/Kaleida/Quality_ft/GPPC_PCP_Buffalo_Main.xlsx\n",
      "Sheets #4  Organization Summary\n",
      "c:/Users/josep/Documents/Kaleida/Quality_ft/GPPC_PCP_Dunkirk_Vineyard_Ste_1.xlsx\n",
      "Sheets #4  Organization Summary\n",
      "c:/Users/josep/Documents/Kaleida/Quality_ft/GPPC_PCP_East_Aurora_Main.xlsx\n",
      "Sheets #4  Organization Summary\n",
      "c:/Users/josep/Documents/Kaleida/Quality_ft/GPPC_PCP_Elma_Transit.xlsx\n",
      "Sheets #4  Organization Summary\n",
      "c:/Users/josep/Documents/Kaleida/Quality_ft/GPPC_PCP_Hamburg_Camp.xlsx\n",
      "Sheets #4  Organization Summary\n",
      "c:/Users/josep/Documents/Kaleida/Quality_ft/GPPC_PCP_Hamburg_Southwestern.xlsx\n",
      "Sheets #4  Organization Summary\n",
      "c:/Users/josep/Documents/Kaleida/Quality_ft/GPPC_PCP_Lancaster_Transit.xlsx\n",
      "Sheets #4  Organization Summary\n",
      "c:/Users/josep/Documents/Kaleida/Quality_ft/GPPC_PCP_Lockport_Olcott.xlsx\n",
      "Sheets #4  Organization Summary\n",
      "c:/Users/josep/Documents/Kaleida/Quality_ft/GPPC_PCP_Lockport_Snyder.xlsx\n",
      "Sheets #4  Organization Summary\n",
      "c:/Users/josep/Documents/Kaleida/Quality_ft/GPPC_PCP_Medina_Ohio.xlsx\n",
      "Sheets #4  Organization Summary\n",
      "c:/Users/josep/Documents/Kaleida/Quality_ft/GPPC_PCP_Orchard_Park_Big_Tree_Ste_107.xlsx\n",
      "Sheets #4  Organization Summary\n"
     ]
    }
   ],
   "source": [
    "extension = 'xlsx'\n",
    "os.chdir(path)\n",
    "files = glob.glob('*.{}'.format(extension))\n",
    "\n",
    "print('Pretty .. Pretty.. Prettification') \n",
    "for x in range(len(files)): \n",
    "    print(Path_to_Save_Excel + files[x])     \n",
    "    wb = load_workbook(Path_to_Excel + files[x])\n",
    "    create_work_book(wb)\n",
    "    wb.save(Path_to_Save_Excel + files[x]) \n"
   ]
  },
  {
   "cell_type": "code",
   "execution_count": null,
   "metadata": {},
   "outputs": [],
   "source": [
    "# Optional - Print out the compressive List of Patient Panels \n",
    "#Org_names = patient_panel.Organization_Name.unique()\n",
    "#for org in Org_names:\n",
    "#        print(org)"
   ]
  },
  {
   "cell_type": "code",
   "execution_count": null,
   "metadata": {},
   "outputs": [],
   "source": [
    "# patient_panel.describe()"
   ]
  },
  {
   "cell_type": "code",
   "execution_count": null,
   "metadata": {},
   "outputs": [],
   "source": [
    "# test examples \n",
    "#create_organization_patient_panel(\"GPPC PCP Springville South Cascade\")\n",
    "#create_organization_patient_panel(\"EC PCP Erie County Medical Center FM Clinic\")\n"
   ]
  },
  {
   "cell_type": "code",
   "execution_count": null,
   "metadata": {},
   "outputs": [],
   "source": [
    "#Provider_panel = patient_panel[(patient_panel.Provider_Name == \"ADAMS, TIMOTHY\")] "
   ]
  },
  {
   "cell_type": "code",
   "execution_count": null,
   "metadata": {},
   "outputs": [],
   "source": [
    "#   create_work_book(wb)    "
   ]
  },
  {
   "cell_type": "code",
   "execution_count": null,
   "metadata": {},
   "outputs": [],
   "source": [
    "# patient_panel['Gender'].value_counts()"
   ]
  },
  {
   "cell_type": "code",
   "execution_count": null,
   "metadata": {},
   "outputs": [],
   "source": [
    "# patient_panel['Organization_Name'].value_counts()"
   ]
  },
  {
   "cell_type": "code",
   "execution_count": null,
   "metadata": {},
   "outputs": [],
   "source": [
    "# Organization_panel.head()"
   ]
  },
  {
   "cell_type": "code",
   "execution_count": null,
   "metadata": {},
   "outputs": [],
   "source": [
    "#wb.security.workbookPassword = 'population health'\n",
    "#wb.security.lockStructure = True"
   ]
  },
  {
   "cell_type": "code",
   "execution_count": null,
   "metadata": {},
   "outputs": [],
   "source": [
    "#spread_name = '\\\\Users\\josep\\Documents\\Kaleida\\'+ Organization_panel\n",
    "#Organization_panel.to_excel('\\\\Users\\josep\\Documents\\Kaleida\\GPPC PCP Springville South Cascade.xlsx')\n",
    "#\"C:\\Users\\josep\\Documents\\Kaleida\\Validation\\AA_PCP_Alan_M_Antfleck_Physician_PLLC_Delaware_Ave.xlsx\""
   ]
  },
  {
   "cell_type": "code",
   "execution_count": null,
   "metadata": {},
   "outputs": [],
   "source": [
    "#patient_panel.rename(columns = {'patient_age_in_years':'Patient Age'}, inplace = True)\n",
    "#patient_panel.rename(columns = {'days_test':'Patient Precise Age'}, inplace = True)\n",
    "#patient_panel.rename(columns = {'organization_class':'Organization_Class'}, inplace = True)\n",
    "#patient_panel.rename(columns = {'organization_name':'Organization_Name'}, inplace = True)\n",
    "#patient_panel.rename(columns = {'provider_name':'Provider_Name'}, inplace = True)\n",
    "#patient_panel.rename(columns = {'patient_name':'Patient_Name'}, inplace = True)\n",
    "#patient_panel.rename(columns = {'birth_date':'Birth_Date'}, inplace = True)\n",
    "#patient_panel.rename(columns = {'patient_age_in_years':'Age'}, inplace = True)\n",
    "#patient_panel.rename(columns = {'days_test':'Precise_Age'}, inplace = True)\n",
    "#patient_panel.rename(columns = {'gender':'Gender'}, inplace = True)\n",
    "#patient_panel.rename(columns = {'days_test':'Precise Age'}, inplace = True)\n"
   ]
  },
  {
   "cell_type": "code",
   "execution_count": null,
   "metadata": {},
   "outputs": [],
   "source": [
    "# Adjust Birth Date and Calculate Age  \n",
    "#now = pd.Timestamp('now')\n",
    "#patient_panel['Age_in_Years'] = now - patient_panel['Birth_Date']\n",
    "#patient_panel['Age_in_Years'] = patient_panel['Age_in_Years']/np.timedelta64(1,'Y')\n",
    "#patient_panel['Birth_Date'] = patient_panel['Birth_Date'].dt.date\n",
    "#patient_panel.round({'Age_in_Years':1})"
   ]
  },
  {
   "cell_type": "code",
   "execution_count": null,
   "metadata": {},
   "outputs": [],
   "source": [
    "# Trim Time from Birth Date and Add Additional fields to support User Validation \n",
    "patient_panel['Birth_Date'] = patient_panel['Birth_Date'].dt.date \n",
    "patient_panel['Is Patient cared for by Organization (Y/N) ?'] = ' '\n",
    "patient_panel['Is Patient associated to correct PCP (Y/N) ?'] = ' '\n",
    "patient_panel['Optional Comments'] = ' '\n",
    "patient_panel['Flagged for Test (Y/N)'] = 'N'\n",
    "patient_panel['Is Patient info Correct? (Y/N)'] = ' '"
   ]
  },
  {
   "cell_type": "code",
   "execution_count": null,
   "metadata": {},
   "outputs": [],
   "source": [
    "# simplify and Organize the patient Panels\n",
    "patient_panel = patient_panel[['Provider_Name','Patient_Name', 'Birth_Date', 'Age',\n",
    "                               'Gender', 'Phone','Is Patient cared for by Organization (Y/N) ?', \n",
    "                               'Is Patient associated to correct PCP (Y/N) ?',\n",
    "                               'Optional Comments','Deceased', 'Deceased_Date','Flagged for Test (Y/N)',\n",
    "                               'Organization_Class', 'Organization_Name',\n",
    "                               'Plan_Name', 'Payer_Name', 'Age_Years',\n",
    "                               'Number_of_Conditions', 'MARA_Risk_Score',\n",
    "                               'Number_of_HCC', 'Actual_CMS_RAF_Score', 'Potential_CMS_RAF_Score'\n",
    "                               ,'Is Patient info Correct? (Y/N)']]"
   ]
  }
 ],
 "metadata": {
  "kernelspec": {
   "display_name": "Python 3",
   "language": "python",
   "name": "python3"
  },
  "language_info": {
   "codemirror_mode": {
    "name": "ipython",
    "version": 3
   },
   "file_extension": ".py",
   "mimetype": "text/x-python",
   "name": "python",
   "nbconvert_exporter": "python",
   "pygments_lexer": "ipython3",
   "version": "3.8.5"
  }
 },
 "nbformat": 4,
 "nbformat_minor": 4
}
