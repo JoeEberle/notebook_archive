{
 "cells": [
  {
   "cell_type": "markdown",
   "metadata": {},
   "source": [
    "# Database Import Tool "
   ]
  },
  {
   "cell_type": "code",
   "execution_count": 1,
   "metadata": {},
   "outputs": [
    {
     "name": "stdout",
     "output_type": "stream",
     "text": [
      "Requirement already satisfied: psycopg2-binary in c:\\users\\josep\\anaconda3\\lib\\site-packages (2.9.2)\n",
      "Requirement already satisfied: sqlalchemy in c:\\users\\josep\\anaconda3\\lib\\site-packages (1.3.20)\n"
     ]
    }
   ],
   "source": [
    "!pip install psycopg2-binary sqlalchemy  "
   ]
  },
  {
   "cell_type": "code",
   "execution_count": 2,
   "metadata": {},
   "outputs": [],
   "source": [
    "import pandas as pd\n",
    "from sqlalchemy import create_engine\n",
    "import pandas as pd\n",
    "import numpy as np\n",
    "import random as rd\n",
    "import os\n",
    "import glob\n",
    "import matplotlib as plt\n",
    "pd.set_option('max_columns', None)"
   ]
  },
  {
   "cell_type": "code",
   "execution_count": 3,
   "metadata": {},
   "outputs": [],
   "source": [
    "dialect = 'postgresql'\n",
    "host ='localhost'\n",
    "port = '5432'\n",
    "password = 'admin'\n",
    "user = 'postgres'\n",
    "database = 'postgres'\n",
    "\n",
    "engine = create_engine(f'{dialect}://{user}:{password}@{host}:{port}/{database}')"
   ]
  },
  {
   "cell_type": "code",
   "execution_count": 4,
   "metadata": {},
   "outputs": [
    {
     "data": {
      "text/html": [
       "<div>\n",
       "<style scoped>\n",
       "    .dataframe tbody tr th:only-of-type {\n",
       "        vertical-align: middle;\n",
       "    }\n",
       "\n",
       "    .dataframe tbody tr th {\n",
       "        vertical-align: top;\n",
       "    }\n",
       "\n",
       "    .dataframe thead th {\n",
       "        text-align: right;\n",
       "    }\n",
       "</style>\n",
       "<table border=\"1\" class=\"dataframe\">\n",
       "  <thead>\n",
       "    <tr style=\"text-align: right;\">\n",
       "      <th></th>\n",
       "      <th>patient_first_name</th>\n",
       "      <th>patient_last_name</th>\n",
       "    </tr>\n",
       "    <tr>\n",
       "      <th>patient_id</th>\n",
       "      <th></th>\n",
       "      <th></th>\n",
       "    </tr>\n",
       "  </thead>\n",
       "  <tbody>\n",
       "    <tr>\n",
       "      <th>2</th>\n",
       "      <td>Joe</td>\n",
       "      <td>Eberle</td>\n",
       "    </tr>\n",
       "  </tbody>\n",
       "</table>\n",
       "</div>"
      ],
      "text/plain": [
       "           patient_first_name patient_last_name\n",
       "patient_id                                     \n",
       "2                         Joe            Eberle"
      ]
     },
     "execution_count": 4,
     "metadata": {},
     "output_type": "execute_result"
    }
   ],
   "source": [
    "sql_query = 'SELECT * FROM pop_health.patient_test'\n",
    "df = pd.read_sql(sql_query, engine, index_col='patient_id')\n",
    "df"
   ]
  },
  {
   "cell_type": "code",
   "execution_count": 6,
   "metadata": {},
   "outputs": [],
   "source": [
    "df.to_sql('new_patient', engine)"
   ]
  },
  {
   "cell_type": "code",
   "execution_count": null,
   "metadata": {},
   "outputs": [],
   "source": [
    "# Add the Provider Summary Excel Tab  \n",
    "extension = 'csv'\n",
    "os.chdir(path)\n",
    "files = glob.glob('*.{}'.format(extension))\n",
    " \n",
    "\n",
    "for x in range(len(files)): \n",
    "#    print(files[x]) \n",
    "    file_path = Path_to_Excel + files[x]\n",
    "    org_name =  files[x].replace('.xlsx','')\n",
    "    org_name =  org_name.replace('_',' ')    \n",
    "    print (org_name)\n",
    "    Provider_Summary = Organization_Provider_Summary[(Organization_Provider_Summary.Organization_Name == org_name)]  \n",
    "    Provider_Summary = Provider_Summary.reset_index(drop=True)\n",
    "  \n",
    "    writer = pd.ExcelWriter(file_path, engine='openpyxl', mode='a')\n",
    "    writer.book = load_workbook(file_path)\n",
    "    Provider_Summary.to_excel(writer,sheet_name='Provider Summary', index = False)\n",
    "    writer.save()\n",
    "    writer.close()"
   ]
  },
  {
   "cell_type": "code",
   "execution_count": null,
   "metadata": {},
   "outputs": [],
   "source": [
    "# select all of the csv files and get there names \n",
    "path = 'C:/Users/josep/documents/datasets/'\n",
    "extension = 'csv'\n",
    "os.chdir(path)\n",
    "files = glob.glob('*.{}'.format(extension))\n",
    "\n",
    "# Get a list of files (file paths) in the given directory \n",
    "list_of_files = filter( os.path.isfile,\n",
    "                        glob.glob(path + '*') )\n",
    "# get list of files with size\n",
    "files_with_size = [ (file_path, os.stat(file_path).st_size) \n",
    "                    for file_path in list_of_files ]\n",
    "\n",
    "data_files = pd.DataFrame(files_with_size)     \n",
    "data_files.columns = ['File_Name', 'File_Size']\n",
    "data_files['Table_Name'] = data_files['File_Name'].replace(path,\"\") \n",
    "data_files.to_excel(path + 'Data_File_Sizes.xlsx')\n",
    "data_files.head(5)"
   ]
  },
  {
   "cell_type": "code",
   "execution_count": null,
   "metadata": {},
   "outputs": [],
   "source": [
    "# Read in the EXCEL  SQL output for Organization Provider Summary \n",
    "Path_to_Raw_Data = 'c:/Users/josep/Documents/Kaleida/'\n",
    "Raw_Data_File_Name_2 = 'Organization_Provider_Summary.xlsx'\n",
    "Organization_Provider_Summary = pd.read_excel(Path_to_Raw_Data + Raw_Data_File_Name_2, nrows=20)"
   ]
  },
  {
   "cell_type": "code",
   "execution_count": null,
   "metadata": {},
   "outputs": [],
   "source": [
    "Organization_Provider_Summary.info()"
   ]
  },
  {
   "cell_type": "code",
   "execution_count": null,
   "metadata": {},
   "outputs": [],
   "source": [
    "Organization_Provider_Summary.to_sql('pop_health.alan_table', engine )"
   ]
  }
 ],
 "metadata": {
  "kernelspec": {
   "display_name": "Python 3",
   "language": "python",
   "name": "python3"
  },
  "language_info": {
   "codemirror_mode": {
    "name": "ipython",
    "version": 3
   },
   "file_extension": ".py",
   "mimetype": "text/x-python",
   "name": "python",
   "nbconvert_exporter": "python",
   "pygments_lexer": "ipython3",
   "version": "3.8.5"
  }
 },
 "nbformat": 4,
 "nbformat_minor": 4
}
