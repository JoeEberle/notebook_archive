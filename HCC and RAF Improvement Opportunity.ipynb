{
 "cells": [
  {
   "cell_type": "markdown",
   "metadata": {},
   "source": [
    "## This notebook parses the HCC and RAF Improvement Opportunity  by Organization - Provider  \n",
    "\n",
    "###  Added Excel Automation including Filtering, Styling, Security, Pre-filtering \n",
    "\n",
    "### Joe Eberle - 3/27/2022\n"
   ]
  },
  {
   "cell_type": "code",
   "execution_count": 1,
   "metadata": {},
   "outputs": [],
   "source": [
    "# Import Libraries for Spreadsheet Automation \n",
    "import pandas as pd\n",
    "import numpy as np\n",
    "import datetime as dt\n",
    "from datetime import date\n",
    "import random\n",
    "import math\n",
    "import os\n",
    "import glob\n",
    "from openpyxl import load_workbook\n",
    "from openpyxl.styles import colors\n",
    "from openpyxl.utils import get_column_letter\n",
    "from openpyxl.styles import NamedStyle, Font, Border, Side, PatternFill, GradientFill, Alignment, Color, Fill\n",
    "from openpyxl import Workbook\n",
    "from openpyxl.utils.dataframe import dataframe_to_rows \n",
    "from openpyxl.formatting.rule import DataBarRule\n",
    "from openpyxl.formatting.rule import ColorScaleRule\n",
    "import time"
   ]
  },
  {
   "cell_type": "code",
   "execution_count": 2,
   "metadata": {},
   "outputs": [
    {
     "name": "stdout",
     "output_type": "stream",
     "text": [
      "c:/Users/josep/Documents/Kaleida/HCC and RAF Score Improvement Opportunity.xlsx\n",
      "c:/Users/josep/Documents/Kaleida/Organization_Provider_Summary.xlsx\n"
     ]
    }
   ],
   "source": [
    "# Configure the code and visual settings to have consistency \n",
    "path = 'c:/Users/josep/Documents/Kaleida/HCC/'\n",
    "Path_to_Excel = 'c:/Users/josep/Documents/Kaleida/HCC/'\n",
    "Path_to_Save_Excel = 'c:/Users/josep/Documents/Kaleida/HCC_ft/'\n",
    "\n",
    "# Path_to_Share_Excel =  'https://kaleidahealth.sharefile.com/fo54e2c6-ffc7-4025-8649-443d1d382dff//'\n",
    "Path_to_Raw_Data = 'c:/Users/josep/Documents/Kaleida/'\n",
    "Raw_Data_File_Name_1 = 'HCC and RAF Score Improvement Opportunity.xlsx'\n",
    "Raw_Data_File_Name_2 = 'Organization_Provider_Summary.xlsx'\n",
    "Report_Name_Extension ='_HCC_RAF'\n",
    "\n",
    "print(Path_to_Raw_Data + Raw_Data_File_Name_1)\n",
    "print(Path_to_Raw_Data + Raw_Data_File_Name_2)\n",
    "\n",
    "LIGHT_BLUE = \"C5D9F1\"\n",
    "YELLOW = \"FFFF00\"\n",
    "GRAY = \"E4DFEC\"\n",
    "DEEP_BLUE = \"1072BA\"\n",
    "WHITE = \"FFFFFF\"\n",
    "\n",
    "CONTENT_TAB_COLOR = DEEP_BLUE\n",
    "USER_TAB_COLOR = YELLOW\n",
    "BLANK_WHITE = WHITE \n",
    "HEADER_COLOR = LIGHT_BLUE  # Light Blue - Light Blue indicates relevant content for validation \n",
    "HEADER_COLOR_USER_ENTRY = YELLOW # Yellow - Yellow indicates a field for User Entry \n",
    "HEADER_COLOR_INFORMATIONAL_ONLY = GRAY # Gray - Indicates a field that maybe helpful but for information purposes only "
   ]
  },
  {
   "cell_type": "code",
   "execution_count": 3,
   "metadata": {},
   "outputs": [],
   "source": [
    "# Read in the CSV SQL output for NCQA HEDIS Quality Measures \n",
    "Organizational_Data = pd.read_excel(Path_to_Raw_Data + Raw_Data_File_Name_1)"
   ]
  },
  {
   "cell_type": "code",
   "execution_count": 4,
   "metadata": {},
   "outputs": [],
   "source": [
    "# Read in the EXCEL  SQL output for Organization Provider Summary \n",
    "Organization_Provider_Summary = pd.read_excel(Path_to_Raw_Data + Raw_Data_File_Name_2)"
   ]
  },
  {
   "cell_type": "code",
   "execution_count": null,
   "metadata": {},
   "outputs": [],
   "source": [
    "# Filter to Measures that are analytics only , calculate Percent complete and round \n",
    "#Organizational_Quality['Measure_Completion_Percentage'] = ((Organizational_Quality['Total_Met_Count'] / Organizational_Quality['Total_Measure_Count']) * 100.0) \n",
    "#Organizational_Quality['Measure_Completion_Percentage'] = Organizational_Quality['Measure_Completion_Percentage'].round(2)\n"
   ]
  },
  {
   "cell_type": "code",
   "execution_count": 6,
   "metadata": {},
   "outputs": [
    {
     "data": {
      "text/plain": [
       "Index(['Empi_ID', 'Condition_Display', 'Condition_Type', 'Is_Trumped',\n",
       "       'Persistence_Suspected_Status', 'Suspected_Stratification',\n",
       "       'Coefficient_Value', 'ICD_10_Code', 'ICD_10_Description',\n",
       "       'Organization_Class', 'Organization_Name', 'Provider_Name',\n",
       "       'Patient_Name', 'Age', 'Number_of_Conditions', 'Mara_Risk_Score',\n",
       "       'Number_of_HCC', 'Actual_CMS_RAF_Score', 'Potential_CMS_RAF_Score',\n",
       "       'Patient_ID'],\n",
       "      dtype='object')"
      ]
     },
     "execution_count": 6,
     "metadata": {},
     "output_type": "execute_result"
    }
   ],
   "source": [
    "Organizational_Data.columns"
   ]
  },
  {
   "cell_type": "code",
   "execution_count": null,
   "metadata": {},
   "outputs": [],
   "source": [
    "# Filter to Measures that are analytics only , calculate Percent complete and round \n",
    "#Organizational_Quality = Organizational_Quality[(Organizational_Quality.Is_Registries_Measure == 'Analytics Only')]   \n",
    "# Filter to Measures that are analytics only \n",
    "#Organizational_Quality['Is_Registries_Measure'].value_counts()\n"
   ]
  },
  {
   "cell_type": "code",
   "execution_count": 7,
   "metadata": {},
   "outputs": [],
   "source": [
    "# simplify and Organize the organization quality Panels \n",
    "Organizational_Data = Organizational_Data[['Provider_Name','Patient_Name', 'Age',\n",
    "       'Condition_Display', 'Condition_Type', 'Is_Trumped',\n",
    "       'Persistence_Suspected_Status', 'Suspected_Stratification',\n",
    "       'Coefficient_Value', 'ICD_10_Code', 'ICD_10_Description',\n",
    "       'Organization_Class', 'Organization_Name',  \n",
    "       'Number_of_Conditions', 'Mara_Risk_Score',\n",
    "       'Number_of_HCC', 'Actual_CMS_RAF_Score', 'Potential_CMS_RAF_Score', \n",
    "       'Patient_ID',]]\n",
    "\n",
    "#Organizational_Quality = Organizational_Quality[['Organization_Class', 'Organization_Name', 'Provider_Name',\n",
    "#       'Patient_Name', 'Birth_Date', 'Age_Years', 'Age', 'Gender', 'Phone',\n",
    "#       'Deceased', 'Deceased_Date', 'Number_of_Conditions', 'Mara_Risk_Score',\n",
    "#      'Number_of_HCC', 'Actual_CMS_RAF_Score', 'Potential_CMS_RAF_Score',\n",
    "#       'Age_at_Death', 'Attribution_Source_Type', 'Attribution_Record_Type',\n",
    "#       'Attribution_Source', 'Patient_ID', 'Provider_ID', 'Plan_Name',\n",
    "#       'Payer_Name', 'population_id', 'empi_id', 'hcc_year_id', 'hcc_alias',\n",
    "#       'hcc_model_number', 'hcc_Description', 'hcc_coeff', 'ICD_10_code',\n",
    "#       'ICD_10_Description', 'Chronic_Dx_Indicator', 'HCC_Key', 'redoc_ind',\n",
    "#       'redoc_clinical_ind', 'redoc_hcc_severity', 'redoc_hcc_change',\n",
    "#       'current_year_suppression_ind', 'attending_provider_last_name_first',\n",
    "#       'validation_type', 'effective_date', 'effective_date_id']]\n"
   ]
  },
  {
   "cell_type": "code",
   "execution_count": 8,
   "metadata": {},
   "outputs": [
    {
     "data": {
      "text/plain": [
       "Index(['Provider_Name', 'Patient_Name', 'Age', 'Condition_Display',\n",
       "       'Condition_Type', 'Is_Trumped', 'Persistence_Suspected_Status',\n",
       "       'Suspected_Stratification', 'Coefficient_Value', 'ICD_10_Code',\n",
       "       'ICD_10_Description', 'Organization_Class', 'Organization_Name',\n",
       "       'Number_of_Conditions', 'Mara_Risk_Score', 'Number_of_HCC',\n",
       "       'Actual_CMS_RAF_Score', 'Potential_CMS_RAF_Score', 'Patient_ID'],\n",
       "      dtype='object')"
      ]
     },
     "execution_count": 8,
     "metadata": {},
     "output_type": "execute_result"
    }
   ],
   "source": [
    "# Optional Verify the input file structures \n",
    "#Organizational_Quality.info()\n",
    "#Organization_Provider_Summary.head()\n",
    "Organizational_Data.columns "
   ]
  },
  {
   "cell_type": "code",
   "execution_count": 9,
   "metadata": {},
   "outputs": [],
   "source": [
    "Color_Scale_Rule = ColorScaleRule(start_type=\"min\",start_color=\"FF0000\",end_type=\"max\",end_color=\"99FF33\")\n",
    "Data_Bar_Rule = DataBarRule(start_type=\"min\", end_type=\"max\", color=\"00CC00\")"
   ]
  },
  {
   "cell_type": "code",
   "execution_count": 10,
   "metadata": {},
   "outputs": [],
   "source": [
    "# The following function creates patient panels based upon organization name \n",
    "def create_organization_panel(org_name):\n",
    "    Organization_panel = Organizational_Data[(Organizational_Data.Organization_Name == org_name)]    \n",
    "    patient_rows = len(Organization_panel) - 1 \n",
    "    if patient_rows > 2:\n",
    "        spread_name = Organization_panel['Organization_Name'].iloc[0]\n",
    "        if spread_name == '':\n",
    "            spread_name = 'No_ORG_NAME_'  \n",
    "        spread_name = spread_name.replace('/','')  \n",
    "       \n",
    "        spath =  Path_to_Excel\n",
    "\n",
    "        csv_name = spath + spread_name.replace(' ','_') + Report_Name_Extension + '.csv'        \n",
    "        spread_name = spath + spread_name.replace(' ','_') + Report_Name_Extension + '.xlsx'\n",
    "        spread_name = spread_name.replace(' ','')\n",
    "        csv_name = csv_name.replace(' ','')        \n",
    "        Organization_panel.to_excel(spread_name,sheet_name='HCC Opportunity', index = False)  \n",
    "        Organization_panel.to_csv(csv_name, index = False)  \n",
    "        print(spread_name)\n",
    "        return org_name"
   ]
  },
  {
   "cell_type": "code",
   "execution_count": 11,
   "metadata": {},
   "outputs": [
    {
     "name": "stdout",
     "output_type": "stream",
     "text": [
      "c:/Users/josep/Documents/Kaleida/HCC/GPPC_PCP_Lancaster_Transit_HCC_RAF.xlsx\n"
     ]
    }
   ],
   "source": [
    "Org_names = Organizational_Data.Organization_Name.unique()\n",
    "for org in Org_names:\n",
    "    create_organization_panel(org)"
   ]
  },
  {
   "cell_type": "code",
   "execution_count": 12,
   "metadata": {},
   "outputs": [
    {
     "name": "stdout",
     "output_type": "stream",
     "text": [
      "GPPC PCP Lancaster Transit\n",
      "c:/Users/josep/Documents/Kaleida/HCC/GPPC_PCP_Lancaster_Transit_HCC_RAF.xlsx\n"
     ]
    }
   ],
   "source": [
    "# Add the Provider Summary Excel Tab  \n",
    "path = 'c:/Users/josep/Documents/Kaleida/HCC/'\n",
    "extension = 'xlsx'\n",
    "os.chdir(path)\n",
    "files = glob.glob('*.{}'.format(extension))\n",
    "\n",
    "for x in range(len(files)): \n",
    "#    print(files[x]) \n",
    "    file_path = Path_to_Excel + files[x]\n",
    "  \n",
    "    org_name =  files[x].replace(' HCC RAF','')      \n",
    "    org_name =  org_name.replace('_HCC_RAF','')   \n",
    "     \n",
    "    org_name =  org_name.replace('.xlsx','')\n",
    "    org_name =  org_name.replace('_',' ')    \n",
    "    print (org_name)\n",
    "    print (file_path)\n",
    "    Organization_panel = Organization_Provider_Summary[(Organization_Provider_Summary.Organization_Name == org_name)]  \n",
    "    Organization_panel = Organization_panel.reset_index(drop=True)\n",
    "  \n",
    "    writer = pd.ExcelWriter(file_path, engine='openpyxl', mode='a')\n",
    "    writer.book = load_workbook(file_path)\n",
    "    Organization_panel.to_excel(writer,sheet_name='Provider Summary', index = False)\n",
    "    writer.save()\n",
    "    writer.close()"
   ]
  },
  {
   "cell_type": "code",
   "execution_count": 13,
   "metadata": {},
   "outputs": [],
   "source": [
    "# The following function creates patient panels based upon organization name \n",
    "def create_sheet_one(work_book):\n",
    "   \n",
    "    ws1 = work_book.active\n",
    "    ws1.title = \"HCC and RAF Opprtunity\"  \n",
    "    ws1.sheet_properties.tabColor = CONTENT_TAB_COLOR\n",
    "    \n",
    "# Format the Header as bold blue centered wordwrap     \n",
    "    max_cols = ws1.max_column + 1 \n",
    "    for col in range(1,max_cols):\n",
    "        ws1[get_column_letter(col) + '1'].font = Font(bold=True ) \n",
    "        ws1[get_column_letter(col) + '1'].fill = PatternFill(\"solid\", start_color=HEADER_COLOR) \n",
    "        ws1[get_column_letter(col) + '1'].alignment = Alignment(horizontal='center', wrap_text=True)  \n",
    "    \n",
    "# Work Sheet 1 - Set the default column width to a min width 15 \n",
    "    for col in range(1,max_cols):\n",
    "        ws1.column_dimensions[get_column_letter(col)].width = 10\n",
    "    ws1.column_dimensions['A'].width = 20\n",
    "    ws1.column_dimensions['F'].width = 40        \n",
    "    ws1.column_dimensions['H'].width = 40\n",
    "    ws1.column_dimensions['K'].width = 40\n",
    "    \n",
    "    ws1.row_dimensions[1].height = 75   \n",
    "\n",
    "# Replaces all underscores in header with two spaces \n",
    "    for col in range(1,max_cols):\n",
    "        ws1[get_column_letter(col) + '1'].value = ws1[get_column_letter(col) + '1'].value.replace('_','  ')\n",
    "    \n",
    "# Set Filtering on \n",
    "    FullRange = \"A1:\" + get_column_letter(ws1.max_column) \\\n",
    "    + str(ws1.max_row)\n",
    "    ws1.auto_filter.ref = FullRange    \n",
    "\n",
    "  \n",
    "    ws1.freeze_panes = 'A2'\n",
    "#    ws1.conditional_formatting.add(\"F1:F\" + str(ws1.max_row), Color_Scale_Rule )\n",
    "        \n",
    "    return work_book  "
   ]
  },
  {
   "cell_type": "code",
   "execution_count": null,
   "metadata": {},
   "outputs": [],
   "source": [
    "# The following function formats provider summary \n",
    "def create_sheet_two(work_book):\n",
    "\n",
    "    sheets = work_book.sheetnames\n",
    "   \n",
    "    ws2 = work_book[sheets[1]]\n",
    "   # ws = wb[sheets[n]]\n",
    "    ws2.title = \"Provider Summary\"\n",
    "    ws2.sheet_properties.tabColor = CONTENT_TAB_COLOR\n",
    "     \n",
    "# Format the Header as bold blue centered wordwrap \n",
    "    ws2.row_dimensions[1].height = 60 \n",
    "    max_cols = ws2.max_column + 1 \n",
    "    for col in range(1,max_cols):\n",
    "        ws2[get_column_letter(col) + '1'].font = Font(bold=True ) \n",
    "        ws2[get_column_letter(col) + '1'].fill = PatternFill(\"solid\", start_color=HEADER_COLOR) \n",
    "        ws2[get_column_letter(col) + '1'].alignment = Alignment(horizontal='center', wrap_text=True) \n",
    "# Replaces all underscores in header with two spaces         \n",
    "        ws2[get_column_letter(col) + '1'].value = ws2[get_column_letter(col) + '1'].value.replace('_','  ')        \n",
    "    \n",
    "# Work Sheet 2 - Set Column Widths and Header Hieght\n",
    "    ws2.column_dimensions['A'].width = 30\n",
    "    ws2.column_dimensions['B'].width = 30\n",
    "    ws2.column_dimensions['C'].width = 30\n",
    "    ws2.column_dimensions['D'].width = 30\n",
    "    ws2.column_dimensions['E'].width = 30\n",
    "    ws2.column_dimensions['F'].width = 30\n",
    "    \n",
    "    \n",
    "\n",
    "# Set Filtering on \n",
    "    FullRange = \"A1:\" + get_column_letter(ws2.max_column) \\\n",
    "    + str(ws2.max_row)\n",
    "    ws2.auto_filter.ref = FullRange    \n",
    "\n",
    "    return work_book  "
   ]
  },
  {
   "cell_type": "code",
   "execution_count": null,
   "metadata": {},
   "outputs": [],
   "source": [
    "def create_sheet_feedback(work_book):\n",
    "    \n",
    "    # Create The Tab \n",
    "    ws_feedback = work_book.create_sheet(\"Feedback\")\n",
    "    ws_feedback.title = \"Feedback or Issues\" \n",
    "    ws_feedback.sheet_properties.tabColor = USER_TAB_COLOR\n",
    "    \n",
    "    # Blank the Canvas \n",
    "    fontStyle = Font(size = \"12\", bold = True)\n",
    "    for col in range(1,25):\n",
    "        for row in range(1,25):\n",
    "            ws_feedback[get_column_letter(col) + str(row)].alignment = Alignment(horizontal='left', vertical='top', wrap_text=True)          \n",
    "            ws_feedback[get_column_letter(col) + str(row)].font = fontStyle\n",
    "            ws_feedback[get_column_letter(col) + str(row)].fill = PatternFill(\"solid\", fgColor=BLANK_WHITE)\n",
    "    \n",
    "    \n",
    "    # Create The Title \n",
    "    ws_feedback.merge_cells('A1:B1')\n",
    "    ws_feedback.row_dimensions[1].height = 20\n",
    "    top_left_cell = ws_feedback['A1']\n",
    "    top_left_cell.value = \"Feedback or Issues\"\n",
    "\n",
    "    top_left_cell.fill = PatternFill(\"solid\", fgColor=USER_TAB_COLOR)\n",
    "    top_left_cell.fill = fill = GradientFill(stop=(USER_TAB_COLOR, BLANK_WHITE))\n",
    "    top_left_cell.font  = Font(b=True, color=\"000000\")\n",
    "    top_left_cell.alignment = Alignment(horizontal=\"center\", vertical=\"center\")\n",
    "    fontStyle = Font(size = \"18\", bold = \"True\")\n",
    "    top_left_cell.font = fontStyle\n",
    "\n",
    "    ws_feedback['A2'] = 'User Name'\n",
    "    ws_feedback['B2'] = 'Issue or Feedback'\n",
    "  \n",
    "    for col in range(1,3):\n",
    "        ws_feedback[get_column_letter(col) + '2'].font = Font(size = \"12\", bold=True ) \n",
    "        ws_feedback[get_column_letter(col) + '2'].alignment = Alignment(horizontal='center', vertical='bottom', wrap_text=True)\n",
    "        ws_feedback[get_column_letter(col) + '2'].fill = PatternFill(\"solid\", fgColor=HEADER_COLOR)\n",
    "    \n",
    "    ws_feedback.column_dimensions['A'].width = 30\n",
    "    ws_feedback.column_dimensions['B'].width = 120 \n",
    "\n",
    "    ws_feedback.row_dimensions[2].height = 30\n",
    " \n",
    "   \n",
    "    return work_book  \n",
    " \n",
    "\n"
   ]
  },
  {
   "cell_type": "code",
   "execution_count": null,
   "metadata": {},
   "outputs": [],
   "source": [
    "def create_instruction_sheet(work_book):\n",
    "    \n",
    "    ws_instruction  = work_book.create_sheet(\"Instructions\")\n",
    "    ws_instruction.title = \"Instructions\" \n",
    "    ws_instruction.sheet_properties.tabColor = USER_TAB_COLOR\n",
    "    \n",
    "    # Blank the Canvas \n",
    "    fontStyle = Font(size = \"12\", bold = True)\n",
    "    for col in range(1,25):\n",
    "        for row in range(1,25):\n",
    "            ws_instruction[get_column_letter(col) + str(row)].alignment = Alignment(horizontal='left', vertical='top', wrap_text=True)          \n",
    "            ws_instruction[get_column_letter(col) + str(row)].font = fontStyle\n",
    "            ws_instruction[get_column_letter(col) + str(row)].fill = PatternFill(\"solid\", fgColor=BLANK_WHITE)\n",
    "            \n",
    "    for row in range(1,25):\n",
    "            ws_instruction.row_dimensions[row].height = 20         \n",
    "            \n",
    "    ws_instruction.column_dimensions['A'].width = 3\n",
    "    ws_instruction.column_dimensions['B'].width = 3\n",
    "    ws_instruction.column_dimensions['C'].width = 80            \n",
    "    \n",
    "    \n",
    "    ws_instruction.merge_cells('A1:F1')\n",
    "    top_left_cell = ws_instruction['A1']\n",
    "    top_left_cell.value = \"Instructions for Validation\"\n",
    "\n",
    "    top_left_cell.fill = PatternFill(\"solid\", fgColor=USER_TAB_COLOR)\n",
    "    top_left_cell.fill = fill = GradientFill(stop=(USER_TAB_COLOR, BLANK_WHITE))\n",
    "    top_left_cell.font  = Font(b=True, color=\"000000\")\n",
    "    top_left_cell.alignment = Alignment(horizontal=\"center\", vertical=\"center\")\n",
    "    fontStyle = Font(size = \"18\", bold = \"True\")\n",
    "    top_left_cell.font = fontStyle\n",
    "\n",
    "    fontStyle = Font(size = \"14\", bold = \"True\")\n",
    "    ws_instruction.merge_cells('A3:F3')\n",
    "    ws_instruction['A3'].font = fontStyle\n",
    "    ws_instruction['A3'] = 'Spreadsheet instructions:'\n",
    "\n",
    "\n",
    "    ws_instruction['B4'] = 1\n",
    "    ws_instruction['B5'] = 2 \n",
    "    \n",
    "    ws_instruction['C4'] = 'Use Filter column A  \\'Provider Name \\' to select the provider you want'\n",
    "    ws_instruction['C5'] = 'If any issues or problems are identified, please enter them on the \\'Feedback\\' tab. '       \n",
    "    \n",
    "    return work_book  "
   ]
  },
  {
   "cell_type": "code",
   "execution_count": null,
   "metadata": {},
   "outputs": [],
   "source": [
    "# Automate the worksheet \n",
    "def create_work_book(work_book):\n",
    "    create_sheet_one(wb)\n",
    "    create_sheet_two(wb)\n",
    "    create_instruction_sheet(wb) \n",
    "    create_sheet_feedback(wb)    \n",
    "    return work_book      "
   ]
  },
  {
   "cell_type": "code",
   "execution_count": null,
   "metadata": {
    "scrolled": true
   },
   "outputs": [],
   "source": [
    "Path_to_Excel = 'c:/Users/josep/Documents/Kaleida/HCC/'\n",
    "Path_to_Save_Excel = 'c:/Users/josep/Documents/Kaleida/HCC_ft/'\n",
    "extension = 'xlsx'\n",
    "os.chdir(Path_to_Excel)\n",
    "files = glob.glob('*.{}'.format(extension))\n",
    "\n",
    "for x in range(len(files)): \n",
    "#    print(files[x]) \n",
    "#    print(Path_to_Excel + files[x])     \n",
    "    wb = load_workbook(Path_to_Excel + files[x])\n",
    "    org_name =  files[x].replace('.xlsx','')\n",
    "    create_work_book(wb)\n",
    "    wb.save(Path_to_Save_Excel + files[x])\n",
    "    print(Path_to_Save_Excel + files[x])   \n"
   ]
  },
  {
   "cell_type": "code",
   "execution_count": null,
   "metadata": {},
   "outputs": [],
   "source": []
  }
 ],
 "metadata": {
  "kernelspec": {
   "display_name": "Python 3",
   "language": "python",
   "name": "python3"
  },
  "language_info": {
   "codemirror_mode": {
    "name": "ipython",
    "version": 3
   },
   "file_extension": ".py",
   "mimetype": "text/x-python",
   "name": "python",
   "nbconvert_exporter": "python",
   "pygments_lexer": "ipython3",
   "version": "3.8.5"
  }
 },
 "nbformat": 4,
 "nbformat_minor": 4
}
