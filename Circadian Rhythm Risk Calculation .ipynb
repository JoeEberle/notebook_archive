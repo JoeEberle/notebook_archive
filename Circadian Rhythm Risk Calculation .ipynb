{
 "cells": [
  {
   "cell_type": "markdown",
   "metadata": {},
   "source": [
    "## Circadian Rhythm Risk Calculation"
   ]
  },
  {
   "cell_type": "code",
   "execution_count": 1,
   "metadata": {},
   "outputs": [],
   "source": [
    "import pandas as pd #Pandas is high performance data manipulation \n",
    "import numpy as np   #numpy is for array processing\n",
    "import random as rd\n",
    "import matplotlib.pyplot as plt   # matplot is for python graphics\n",
    "import seaborn  as sns\n",
    "# pd.set_option('max_columns', None)"
   ]
  },
  {
   "cell_type": "code",
   "execution_count": 2,
   "metadata": {},
   "outputs": [
    {
     "data": {
      "text/html": [
       "<div>\n",
       "<style scoped>\n",
       "    .dataframe tbody tr th:only-of-type {\n",
       "        vertical-align: middle;\n",
       "    }\n",
       "\n",
       "    .dataframe tbody tr th {\n",
       "        vertical-align: top;\n",
       "    }\n",
       "\n",
       "    .dataframe thead th {\n",
       "        text-align: right;\n",
       "    }\n",
       "</style>\n",
       "<table border=\"1\" class=\"dataframe\">\n",
       "  <thead>\n",
       "    <tr style=\"text-align: right;\">\n",
       "      <th></th>\n",
       "      <th>Index</th>\n",
       "      <th>Year</th>\n",
       "      <th>Patient Ordinal</th>\n",
       "      <th>Birth Date</th>\n",
       "      <th>Age</th>\n",
       "      <th>Decade</th>\n",
       "      <th>Gender</th>\n",
       "      <th>Race</th>\n",
       "      <th>Race Category</th>\n",
       "      <th>Diabetes</th>\n",
       "      <th>...</th>\n",
       "      <th>PAM Q4</th>\n",
       "      <th>PAM Q5</th>\n",
       "      <th>PAM Q6</th>\n",
       "      <th>PAM Q7</th>\n",
       "      <th>PAM Q8</th>\n",
       "      <th>PAM Q9</th>\n",
       "      <th>PAM Q10</th>\n",
       "      <th>PAM Q11</th>\n",
       "      <th>PAM Q12</th>\n",
       "      <th>PAM Q13</th>\n",
       "    </tr>\n",
       "  </thead>\n",
       "  <tbody>\n",
       "    <tr>\n",
       "      <th>0</th>\n",
       "      <td>0</td>\n",
       "      <td>2020</td>\n",
       "      <td>Patient_1</td>\n",
       "      <td>1972-04-12</td>\n",
       "      <td>49</td>\n",
       "      <td>4</td>\n",
       "      <td>Male</td>\n",
       "      <td>1</td>\n",
       "      <td>White</td>\n",
       "      <td>0</td>\n",
       "      <td>...</td>\n",
       "      <td>5</td>\n",
       "      <td>2</td>\n",
       "      <td>3</td>\n",
       "      <td>4</td>\n",
       "      <td>4</td>\n",
       "      <td>1</td>\n",
       "      <td>1</td>\n",
       "      <td>2</td>\n",
       "      <td>5</td>\n",
       "      <td>4</td>\n",
       "    </tr>\n",
       "    <tr>\n",
       "      <th>1</th>\n",
       "      <td>1</td>\n",
       "      <td>2020</td>\n",
       "      <td>Patient_2</td>\n",
       "      <td>1947-09-03</td>\n",
       "      <td>73</td>\n",
       "      <td>7</td>\n",
       "      <td>Male</td>\n",
       "      <td>1</td>\n",
       "      <td>White</td>\n",
       "      <td>0</td>\n",
       "      <td>...</td>\n",
       "      <td>2</td>\n",
       "      <td>1</td>\n",
       "      <td>2</td>\n",
       "      <td>4</td>\n",
       "      <td>1</td>\n",
       "      <td>5</td>\n",
       "      <td>4</td>\n",
       "      <td>5</td>\n",
       "      <td>4</td>\n",
       "      <td>5</td>\n",
       "    </tr>\n",
       "    <tr>\n",
       "      <th>2</th>\n",
       "      <td>2</td>\n",
       "      <td>2020</td>\n",
       "      <td>Patient_3</td>\n",
       "      <td>1971-09-16</td>\n",
       "      <td>49</td>\n",
       "      <td>4</td>\n",
       "      <td>Male</td>\n",
       "      <td>1</td>\n",
       "      <td>White</td>\n",
       "      <td>0</td>\n",
       "      <td>...</td>\n",
       "      <td>2</td>\n",
       "      <td>1</td>\n",
       "      <td>1</td>\n",
       "      <td>4</td>\n",
       "      <td>5</td>\n",
       "      <td>3</td>\n",
       "      <td>1</td>\n",
       "      <td>1</td>\n",
       "      <td>1</td>\n",
       "      <td>5</td>\n",
       "    </tr>\n",
       "    <tr>\n",
       "      <th>3</th>\n",
       "      <td>3</td>\n",
       "      <td>2020</td>\n",
       "      <td>Patient_4</td>\n",
       "      <td>1934-01-08</td>\n",
       "      <td>87</td>\n",
       "      <td>8</td>\n",
       "      <td>Female</td>\n",
       "      <td>1</td>\n",
       "      <td>White</td>\n",
       "      <td>0</td>\n",
       "      <td>...</td>\n",
       "      <td>2</td>\n",
       "      <td>1</td>\n",
       "      <td>5</td>\n",
       "      <td>2</td>\n",
       "      <td>1</td>\n",
       "      <td>4</td>\n",
       "      <td>4</td>\n",
       "      <td>3</td>\n",
       "      <td>4</td>\n",
       "      <td>5</td>\n",
       "    </tr>\n",
       "    <tr>\n",
       "      <th>4</th>\n",
       "      <td>4</td>\n",
       "      <td>2020</td>\n",
       "      <td>Patient_5</td>\n",
       "      <td>1934-05-12</td>\n",
       "      <td>87</td>\n",
       "      <td>8</td>\n",
       "      <td>Male</td>\n",
       "      <td>1</td>\n",
       "      <td>White</td>\n",
       "      <td>0</td>\n",
       "      <td>...</td>\n",
       "      <td>3</td>\n",
       "      <td>5</td>\n",
       "      <td>5</td>\n",
       "      <td>5</td>\n",
       "      <td>4</td>\n",
       "      <td>3</td>\n",
       "      <td>1</td>\n",
       "      <td>3</td>\n",
       "      <td>3</td>\n",
       "      <td>5</td>\n",
       "    </tr>\n",
       "  </tbody>\n",
       "</table>\n",
       "<p>5 rows × 491 columns</p>\n",
       "</div>"
      ],
      "text/plain": [
       "   Index   Year Patient Ordinal Birth Date  Age  Decade  Gender  Race  \\\n",
       "0       0  2020       Patient_1 1972-04-12   49       4    Male     1   \n",
       "1       1  2020       Patient_2 1947-09-03   73       7    Male     1   \n",
       "2       2  2020       Patient_3 1971-09-16   49       4    Male     1   \n",
       "3       3  2020       Patient_4 1934-01-08   87       8  Female     1   \n",
       "4       4  2020       Patient_5 1934-05-12   87       8    Male     1   \n",
       "\n",
       "  Race Category  Diabetes  ...  PAM Q4  PAM Q5  PAM Q6  PAM Q7  PAM Q8  \\\n",
       "0         White         0  ...       5       2       3       4       4   \n",
       "1         White         0  ...       2       1       2       4       1   \n",
       "2         White         0  ...       2       1       1       4       5   \n",
       "3         White         0  ...       2       1       5       2       1   \n",
       "4         White         0  ...       3       5       5       5       4   \n",
       "\n",
       "   PAM Q9  PAM Q10  PAM Q11  PAM Q12  PAM Q13  \n",
       "0       1        1        2        5        4  \n",
       "1       5        4        5        4        5  \n",
       "2       3        1        1        1        5  \n",
       "3       4        4        3        4        5  \n",
       "4       3        1        3        3        5  \n",
       "\n",
       "[5 rows x 491 columns]"
      ]
     },
     "execution_count": 2,
     "metadata": {},
     "output_type": "execute_result"
    }
   ],
   "source": [
    "# Read in the integrated Data Files \n",
    "# df_Patient = pd.read_excel(\"C:/Users/josep/documents/datasets/AIHS_Patient.xlsx\",nrows=10000)\n",
    "df_Patient = pd.read_excel(\"C:/Users/josep/documents/datasets/AIHS_Patient.xlsx\",nrows=1000)\n",
    "df_Patient.head()"
   ]
  },
  {
   "cell_type": "code",
   "execution_count": 3,
   "metadata": {},
   "outputs": [],
   "source": [
    "df_Patient.to_excel('c:\\\\working_directory\\\\excel\\\\AIHS_patient.xlsx')"
   ]
  },
  {
   "cell_type": "code",
   "execution_count": 4,
   "metadata": {},
   "outputs": [
    {
     "data": {
      "text/plain": [
       "Index(['Index ', 'Year', 'Patient Ordinal', 'Birth Date', 'Age', 'Decade',\n",
       "       'Gender', 'Race', 'Race Category', 'Diabetes',\n",
       "       ...\n",
       "       'PAM Q4', 'PAM Q5', 'PAM Q6', 'PAM Q7', 'PAM Q8', 'PAM Q9', 'PAM Q10',\n",
       "       'PAM Q11', 'PAM Q12', 'PAM Q13'],\n",
       "      dtype='object', length=491)"
      ]
     },
     "execution_count": 4,
     "metadata": {},
     "output_type": "execute_result"
    }
   ],
   "source": [
    "df_Patient.columns "
   ]
  },
  {
   "cell_type": "code",
   "execution_count": 5,
   "metadata": {},
   "outputs": [],
   "source": [
    "df_PERC = df_Patient[[ 'Age','Gender','Diabetes','BMI','Simulated BMI Class','Total Calculated AIHS Risk Stratifcation','PERSDOC2', \\\n",
    "                       'ADEAT1','ALCDAY5','AVEDRNK2','MAXDRNKS','ADANXEV','SMOKE100',  \\\n",
    "                       'SMOKDAY2','STOPSMK2','USENOW3','MEDCOST',]]"
   ]
  },
  {
   "cell_type": "code",
   "execution_count": 6,
   "metadata": {},
   "outputs": [
    {
     "name": "stderr",
     "output_type": "stream",
     "text": [
      "C:\\Users\\josep\\AppData\\Local\\Temp\\ipykernel_20200\\505942946.py:1: SettingWithCopyWarning: \n",
      "A value is trying to be set on a copy of a slice from a DataFrame\n",
      "\n",
      "See the caveats in the documentation: https://pandas.pydata.org/pandas-docs/stable/user_guide/indexing.html#returning-a-view-versus-a-copy\n",
      "  df_PERC.rename(columns={\"ADANXEV\": \"Adverse Childhood Event\"}, inplace=True)\n",
      "C:\\Users\\josep\\AppData\\Local\\Temp\\ipykernel_20200\\505942946.py:2: SettingWithCopyWarning: \n",
      "A value is trying to be set on a copy of a slice from a DataFrame\n",
      "\n",
      "See the caveats in the documentation: https://pandas.pydata.org/pandas-docs/stable/user_guide/indexing.html#returning-a-view-versus-a-copy\n",
      "  df_PERC.rename(columns={\"ADEAT1\": \"History of Anxiety and Depression\"}, inplace=True)\n",
      "C:\\Users\\josep\\AppData\\Local\\Temp\\ipykernel_20200\\505942946.py:3: SettingWithCopyWarning: \n",
      "A value is trying to be set on a copy of a slice from a DataFrame\n",
      "\n",
      "See the caveats in the documentation: https://pandas.pydata.org/pandas-docs/stable/user_guide/indexing.html#returning-a-view-versus-a-copy\n",
      "  df_PERC.rename(columns={\"ALCDAY5\": \"Alcohol Days last 30 Days or Week\"}, inplace=True)\n",
      "C:\\Users\\josep\\AppData\\Local\\Temp\\ipykernel_20200\\505942946.py:4: SettingWithCopyWarning: \n",
      "A value is trying to be set on a copy of a slice from a DataFrame\n",
      "\n",
      "See the caveats in the documentation: https://pandas.pydata.org/pandas-docs/stable/user_guide/indexing.html#returning-a-view-versus-a-copy\n",
      "  df_PERC.rename(columns={\"SMOKE100\": \"Have you smoked >100 cigerettes in life\"}, inplace=True)\n",
      "C:\\Users\\josep\\AppData\\Local\\Temp\\ipykernel_20200\\505942946.py:5: SettingWithCopyWarning: \n",
      "A value is trying to be set on a copy of a slice from a DataFrame\n",
      "\n",
      "See the caveats in the documentation: https://pandas.pydata.org/pandas-docs/stable/user_guide/indexing.html#returning-a-view-versus-a-copy\n",
      "  df_PERC.rename(columns={\"SMOKDAY2\": \"Do you now smoke cigarettes every day, some days, or not at all?\"}, inplace=True)\n",
      "C:\\Users\\josep\\AppData\\Local\\Temp\\ipykernel_20200\\505942946.py:6: SettingWithCopyWarning: \n",
      "A value is trying to be set on a copy of a slice from a DataFrame\n",
      "\n",
      "See the caveats in the documentation: https://pandas.pydata.org/pandas-docs/stable/user_guide/indexing.html#returning-a-view-versus-a-copy\n",
      "  df_PERC.rename(columns={\"USENOW3\": \"Do you currently use any tobacco products?\"}, inplace=True)\n",
      "C:\\Users\\josep\\AppData\\Local\\Temp\\ipykernel_20200\\505942946.py:7: SettingWithCopyWarning: \n",
      "A value is trying to be set on a copy of a slice from a DataFrame\n",
      "\n",
      "See the caveats in the documentation: https://pandas.pydata.org/pandas-docs/stable/user_guide/indexing.html#returning-a-view-versus-a-copy\n",
      "  df_PERC.rename(columns={\"STOPSMK2\": \"Have you tried to stop smoking?\"}, inplace=True)\n",
      "C:\\Users\\josep\\AppData\\Local\\Temp\\ipykernel_20200\\505942946.py:8: SettingWithCopyWarning: \n",
      "A value is trying to be set on a copy of a slice from a DataFrame\n",
      "\n",
      "See the caveats in the documentation: https://pandas.pydata.org/pandas-docs/stable/user_guide/indexing.html#returning-a-view-versus-a-copy\n",
      "  df_PERC.rename(columns={\"MEDCOST\": \"Have you avioided necessary medical do to cost in last year?\"}, inplace=True)\n",
      "C:\\Users\\josep\\AppData\\Local\\Temp\\ipykernel_20200\\505942946.py:9: SettingWithCopyWarning: \n",
      "A value is trying to be set on a copy of a slice from a DataFrame\n",
      "\n",
      "See the caveats in the documentation: https://pandas.pydata.org/pandas-docs/stable/user_guide/indexing.html#returning-a-view-versus-a-copy\n",
      "  df_PERC.rename(columns={\"ALCDAY5\": \"During the past 30 days how many days per week or per month did you have at least one drink of any alcoholic\"}, inplace=True)\n",
      "C:\\Users\\josep\\AppData\\Local\\Temp\\ipykernel_20200\\505942946.py:10: SettingWithCopyWarning: \n",
      "A value is trying to be set on a copy of a slice from a DataFrame\n",
      "\n",
      "See the caveats in the documentation: https://pandas.pydata.org/pandas-docs/stable/user_guide/indexing.html#returning-a-view-versus-a-copy\n",
      "  df_PERC.rename(columns={\"AVEDRNK2\": \"During the past 30 days on the days when you drank about how many drinks average\"}, inplace=True)\n",
      "C:\\Users\\josep\\AppData\\Local\\Temp\\ipykernel_20200\\505942946.py:11: SettingWithCopyWarning: \n",
      "A value is trying to be set on a copy of a slice from a DataFrame\n",
      "\n",
      "See the caveats in the documentation: https://pandas.pydata.org/pandas-docs/stable/user_guide/indexing.html#returning-a-view-versus-a-copy\n",
      "  df_PERC.rename(columns={\"MAXDRNKS\": \"During the past 30 days, what is the largest number of drinks you had on any occasion?\"}, inplace=True)\n",
      "C:\\Users\\josep\\AppData\\Local\\Temp\\ipykernel_20200\\505942946.py:12: SettingWithCopyWarning: \n",
      "A value is trying to be set on a copy of a slice from a DataFrame\n",
      "\n",
      "See the caveats in the documentation: https://pandas.pydata.org/pandas-docs/stable/user_guide/indexing.html#returning-a-view-versus-a-copy\n",
      "  df_PERC.rename(columns={\"DRNK3GE5\": \"Any alcoholic beverages, how many times during the past 30 days did you have\"}, inplace=True)\n",
      "C:\\Users\\josep\\AppData\\Local\\Temp\\ipykernel_20200\\505942946.py:13: SettingWithCopyWarning: \n",
      "A value is trying to be set on a copy of a slice from a DataFrame\n",
      "\n",
      "See the caveats in the documentation: https://pandas.pydata.org/pandas-docs/stable/user_guide/indexing.html#returning-a-view-versus-a-copy\n",
      "  df_PERC.rename(columns={\"PERSDOC2\": \"Do you have one person you think of as your personal doctor or health care provider?\"}, inplace=True)\n"
     ]
    }
   ],
   "source": [
    "df_PERC.rename(columns={\"ADANXEV\": \"Adverse Childhood Event\"}, inplace=True)\n",
    "df_PERC.rename(columns={\"ADEAT1\": \"History of Anxiety and Depression\"}, inplace=True)\n",
    "df_PERC.rename(columns={\"ALCDAY5\": \"Alcohol Days last 30 Days or Week\"}, inplace=True)\n",
    "df_PERC.rename(columns={\"SMOKE100\": \"Have you smoked >100 cigerettes in life\"}, inplace=True)\n",
    "df_PERC.rename(columns={\"SMOKDAY2\": \"Do you now smoke cigarettes every day, some days, or not at all?\"}, inplace=True)\n",
    "df_PERC.rename(columns={\"USENOW3\": \"Do you currently use any tobacco products?\"}, inplace=True)\n",
    "df_PERC.rename(columns={\"STOPSMK2\": \"Have you tried to stop smoking?\"}, inplace=True)\n",
    "df_PERC.rename(columns={\"MEDCOST\": \"Have you avioided necessary medical do to cost in last year?\"}, inplace=True)\n",
    "df_PERC.rename(columns={\"ALCDAY5\": \"During the past 30 days how many days per week or per month did you have at least one drink of any alcoholic\"}, inplace=True)\n",
    "df_PERC.rename(columns={\"AVEDRNK2\": \"During the past 30 days on the days when you drank about how many drinks average\"}, inplace=True)\n",
    "df_PERC.rename(columns={\"MAXDRNKS\": \"During the past 30 days, what is the largest number of drinks you had on any occasion?\"}, inplace=True)\n",
    "df_PERC.rename(columns={\"DRNK3GE5\": \"Any alcoholic beverages, how many times during the past 30 days did you have\"}, inplace=True)\n",
    "df_PERC.rename(columns={\"PERSDOC2\": \"Do you have one person you think of as your personal doctor or health care provider?\"}, inplace=True)\n"
   ]
  },
  {
   "cell_type": "code",
   "execution_count": 7,
   "metadata": {},
   "outputs": [],
   "source": [
    "def interpret_acute_childhood_event(row):\n",
    "    if (row['Do you currently use any tobacco products?'] == 1.0):  \n",
    "        row['Acute Childhood Event']= 1\n",
    "    else: row['Acute Childhood Event'] = 0      \n",
    "    return row\n",
    "\n",
    "def interpret_anxiety_depression_history(row):\n",
    "    if (row['History of Anxiety and Depression'] == 1.0):  \n",
    "        row['History of Anxiety or Depression']= 1\n",
    "    else: row['History of Anxiety or Depression'] = 0      \n",
    "    return row\n",
    "\n",
    "def interpret_financial_stress(row):\n",
    "    if (row['Have you avioided necessary medical do to cost in last year?'] == 1.0):  \n",
    "        row['Financial Stress']= 1\n",
    "    else: row['Financial Stress'] = 0      \n",
    "    return row\n",
    "\n",
    "def interpret_binging_overeating(row):\n",
    "    #  Interpret BMI for Binging, Overeating, emotional Eating\n",
    "    if (row['BMI'] > 30):  \n",
    "        row['Binging or Overeating or Emotional Eating']= 1\n",
    "    else: row['Binging or Overeating or Emotional Eating'] = 0      \n",
    "    return row\n",
    "\n",
    "def interpret_sweet_tooth(row):\n",
    "    #  Interpret BMI for Binging, Overeating, emotional Eating\n",
    "    if (row['BMI'] > 30):  \n",
    "        row['Sweet tooth or Sugar Drinks']= 1\n",
    "    else: row['Sweet tooth or Sugar Drinks'] = 0      \n",
    "    return row\n",
    "\n",
    "def interpret_overweight_struggling_to_lose(row):\n",
    "    #  Interpret BMI for Binging, Overeating, emotional Eating\n",
    "    if (row['BMI'] > 30):  \n",
    "        row['Overweight Struggling to Lose']= 1\n",
    "    else: row['Overweight Struggling to Lose'] = 0      \n",
    "    return row\n",
    "\n",
    "def interpret_escape_or_coping_mechanism(row):\n",
    "    #  Interpret Escape or copying using TV or regular alcohol consumption\n",
    "    if (row['During the past 30 days, what is the largest number of drinks you had on any occasion?'] > 3.0):   \n",
    "        row['Escape or Coping Mechanism']= 1\n",
    "    else: row['Escape or Coping Mechanism'] = 0      \n",
    "    return row      \n",
    "              \n",
    "def interpret_binge_drinking(row): \n",
    "    # The row is a single Series object which is a single row indexed by column values\n",
    "    if (row['During the past 30 days, what is the largest number of drinks you had on any occasion?'] > 3.0):  \n",
    "        row['Binge Drinking']= 1\n",
    "    else: row['Binge Drinking'] = 0      \n",
    "    return row              \n",
    "    \n",
    "def interpret_smoking_risk(row):\n",
    "    # The row is a single Series object which is a single row indexed by column values\n",
    "    if row['Do you currently use any tobacco products?'] == 1.0: \n",
    "        row['Smoker']= 1\n",
    "    else: row['Smoker'] = 0      \n",
    "    return row              \n",
    "              \n",
    "def interpret_stop_smoking_risk(row):\n",
    "    # The row is a single Series object which is a single row indexed by column values\n",
    "    if (row['Have you tried to stop smoking?'] == 1.0):  \n",
    "        row['Failed Attempts to Stop Smoking']= 1\n",
    "    else: row['Failed Attempts to Stop Smoking'] = 0      \n",
    "    return row  \n",
    "              \n",
    "def interpret_sedentary(row):\n",
    "    if (row['BMI'] > 30):\n",
    "        row['Sedentary Lifestyle']= 1\n",
    "    else: row['Sedentary Lifestyle'] = 0      \n",
    "    return row      \n",
    "\n",
    "def interpret_self_efficacy(row):\n",
    "    if (row['Have you avioided necessary medical do to cost in last year?'] == 1.0):  \n",
    "        row['Self Efficacy']= 1\n",
    "    else: row['Self Efficacy'] = 0      \n",
    "    return row      \n",
    "              \n",
    "def interpret_social_support_network(row):\n",
    "    if (row['Have you avioided necessary medical do to cost in last year?'] == 1.0):  \n",
    "        row['Poor Social Support']= 1\n",
    "    else: row['Poor Social Support'] = 0      \n",
    "    return row      \n",
    "                 \n",
    "              \n",
    "def sum_PERC_risk_Factors(row):\n",
    "    row['Poor Emotional Regulatory Control Factors'] =  row['Acute Childhood Event'] + row['History of Anxiety or Depression'] + \\\n",
    "    row['Financial Stress'] + row['Binging or Overeating or Emotional Eating'] + \\\n",
    "    row['Sweet tooth or Sugar Drinks'] + row['Overweight Struggling to Lose'] + \\\n",
    "    row['Escape or Coping Mechanism'] + row['Smoker'] + \\\n",
    "    row['Failed Attempts to Stop Smoking']  +  row['Binge Drinking'] + \\\n",
    "    row['Sedentary Lifestyle'] + \\\n",
    "    row['Self Efficacy'] + row['Poor Social Support']\n",
    "    return row  \n",
    "              \n",
    "def sum_PERC_risk_Strat(row):\n",
    "    row['Poor Emotional Regulatory Control Risk'] =  row['Poor Emotional Regulatory Control Factors'] / 14\n",
    "    return row\n",
    "              \n",
    "def sum_PERC_risk_Score(row):\n",
    "    row['Poor Emotional Regulatory Control Score'] =  (row['Acute Childhood Event'] * 1.0) + (row['History of Anxiety or Depression'] * 1.0)+ \\\n",
    "    (row['Financial Stress'] * 1.0) + (row['Binging or Overeating or Emotional Eating'] * 1.0) + \\\n",
    "    (row['Sweet tooth or Sugar Drinks'] * 1.0) + (row['Overweight Struggling to Lose'] * 1.0) + \\\n",
    "    (row['Escape or Coping Mechanism'] * 1.0) + (row['Smoker'] * 1.0) + \\\n",
    "    (row['Failed Attempts to Stop Smoking'] * 1.0) +  (row['Binge Drinking'] * 1.0) + \\\n",
    "    (row['Sedentary Lifestyle'] * 1.0) + \\\n",
    "    (row['Self Efficacy'] * 1.0) + (row['Poor Social Support'] * 1.0)\n",
    "    return row     \n",
    "\n",
    "def sum_PERC_risk_Cohort(row):\n",
    "    perc_cohort = '' \n",
    "    if (row['Acute Childhood Event'] == 1.0):\n",
    "        perc_cohort = perc_cohort + 'Acute Childhood Event, '\n",
    "    if (row['History of Anxiety or Depression'] == 1.0):\n",
    "        perc_cohort = perc_cohort + 'Anxiety or Depression, '\n",
    "    if (row['Financial Stress'] == 1.0):\n",
    "        perc_cohort = perc_cohort + 'Financial Stress, '       \n",
    "    if (row['Binging or Overeating or Emotional Eating'] == 1.0):\n",
    "        perc_cohort = perc_cohort + 'Binge Eating, ' \n",
    "    if (row['Sweet tooth or Sugar Drinks'] == 1.0):\n",
    "        perc_cohort = perc_cohort + 'Sweet Tooth, '  \n",
    "    if (row['Escape or Coping Mechanism'] == 1.0):\n",
    "        perc_cohort = perc_cohort + 'Coping Mechanism, '          \n",
    "    if (row['Overweight Struggling to Lose'] == 1.0):\n",
    "        perc_cohort = perc_cohort + 'Cant lose weight, '   \n",
    "    if (row['Smoker'] == 1.0):\n",
    "        perc_cohort = perc_cohort + 'Smoker, '           \n",
    "    if (row['Failed Attempts to Stop Smoking'] == 1.0):\n",
    "        perc_cohort = perc_cohort + 'Cant Quit Smoking, '         \n",
    "    if (row['Binge Drinking'] == 1.0):\n",
    "        perc_cohort = perc_cohort + 'Binge Drinking, '       \n",
    "    if (row['Sedentary Lifestyle'] == 1.0):\n",
    "        perc_cohort = perc_cohort + 'Sedentary Lifestyle, '        \n",
    "    if (row['Self Efficacy'] == 1.0):\n",
    "        perc_cohort = perc_cohort + 'Self Efficacy, '   \n",
    "    if (row['Poor Social Support'] == 1.0):\n",
    "        perc_cohort = perc_cohort + 'Poor Social Support, '          \n",
    " \n",
    "        \n",
    "    row['Poor Emotional Regulatory Control Cohort'] = perc_cohort\n",
    "    return row    \n",
    "              \n",
    "              "
   ]
  },
  {
   "cell_type": "code",
   "execution_count": 8,
   "metadata": {},
   "outputs": [],
   "source": [
    "# calculate all risk factors \n",
    "\n",
    "df_PERC=df_PERC.apply(interpret_acute_childhood_event, axis='columns')\n",
    "df_PERC=df_PERC.apply(interpret_anxiety_depression_history, axis='columns')\n",
    "df_PERC=df_PERC.apply(interpret_financial_stress, axis='columns')\n",
    "df_PERC=df_PERC.apply(interpret_binging_overeating, axis='columns')\n",
    "df_PERC=df_PERC.apply(interpret_anxiety_depression_history, axis='columns')\n",
    "df_PERC=df_PERC.apply(interpret_sweet_tooth, axis='columns')\n",
    "df_PERC=df_PERC.apply(interpret_overweight_struggling_to_lose, axis='columns')\n",
    "df_PERC=df_PERC.apply(interpret_anxiety_depression_history, axis='columns')\n",
    "df_PERC=df_PERC.apply(interpret_binge_drinking, axis='columns')\n",
    "df_PERC=df_PERC.apply(interpret_smoking_risk, axis='columns')\n",
    "df_PERC=df_PERC.apply(interpret_stop_smoking_risk, axis='columns')\n",
    "df_PERC=df_PERC.apply(interpret_sedentary, axis='columns')\n",
    "df_PERC=df_PERC.apply(interpret_self_efficacy, axis='columns')\n",
    "df_PERC=df_PERC.apply(interpret_social_support_network, axis='columns')\n",
    "df_PERC=df_PERC.apply(interpret_escape_or_coping_mechanism, axis='columns')\n",
    "\n",
    " \n",
    "df_PERC=df_PERC.apply(sum_PERC_risk_Factors, axis='columns')\n",
    "df_PERC=df_PERC.apply(sum_PERC_risk_Strat, axis='columns')\n",
    "df_PERC=df_PERC.apply(sum_PERC_risk_Score, axis='columns')\n",
    "df_PERC=df_PERC.apply(sum_PERC_risk_Cohort, axis='columns')"
   ]
  },
  {
   "cell_type": "code",
   "execution_count": 8,
   "metadata": {},
   "outputs": [
    {
     "data": {
      "text/plain": [
       "0     4435\n",
       "4     2662\n",
       "3      603\n",
       "2      564\n",
       "7      487\n",
       "1      422\n",
       "6      362\n",
       "5      264\n",
       "8      109\n",
       "9       73\n",
       "10      16\n",
       "11       3\n",
       "Name: Poor Emotional Regulatory Control Factors, dtype: int64"
      ]
     },
     "execution_count": 8,
     "metadata": {},
     "output_type": "execute_result"
    }
   ],
   "source": [
    "df_PERC['Poor Emotional Regulatory Control Factors'].value_counts() "
   ]
  },
  {
   "cell_type": "code",
   "execution_count": 9,
   "metadata": {},
   "outputs": [
    {
     "data": {
      "text/plain": [
       "                                                                                                                                                              485\n",
       "Binge Eating, Sweet Tooth, Cant lose weight, Sedentary Lifestyle,                                                                                             283\n",
       "Financial Stress, Self Efficacy, Poor Social Support,                                                                                                          53\n",
       "Cant Quit Smoking,                                                                                                                                             37\n",
       "Financial Stress, Binge Eating, Sweet Tooth, Cant lose weight, Sedentary Lifestyle, Self Efficacy, Poor Social Support,                                        35\n",
       "Coping Mechanism, Binge Drinking,                                                                                                                              25\n",
       "Binge Eating, Sweet Tooth, Coping Mechanism, Cant lose weight, Binge Drinking, Sedentary Lifestyle,                                                            14\n",
       "Binge Eating, Sweet Tooth, Cant lose weight, Cant Quit Smoking, Sedentary Lifestyle,                                                                           14\n",
       "Financial Stress, Cant Quit Smoking, Self Efficacy, Poor Social Support,                                                                                        9\n",
       "Acute Childhood Event, Binge Eating, Sweet Tooth, Cant lose weight, Smoker, Sedentary Lifestyle,                                                                8\n",
       "Coping Mechanism, Cant Quit Smoking, Binge Drinking,                                                                                                            8\n",
       "Binge Eating, Sweet Tooth, Coping Mechanism, Cant lose weight, Cant Quit Smoking, Binge Drinking, Sedentary Lifestyle,                                          7\n",
       "Financial Stress, Binge Eating, Sweet Tooth, Cant lose weight, Cant Quit Smoking, Sedentary Lifestyle, Self Efficacy, Poor Social Support,                      5\n",
       "Acute Childhood Event, Smoker,                                                                                                                                  4\n",
       "Financial Stress, Coping Mechanism, Binge Drinking, Self Efficacy, Poor Social Support,                                                                         4\n",
       "Acute Childhood Event, Financial Stress, Coping Mechanism, Smoker, Cant Quit Smoking, Binge Drinking, Self Efficacy, Poor Social Support,                       2\n",
       "Acute Childhood Event, Coping Mechanism, Smoker, Binge Drinking,                                                                                                2\n",
       "Financial Stress, Coping Mechanism, Cant Quit Smoking, Binge Drinking, Self Efficacy, Poor Social Support,                                                      2\n",
       "Acute Childhood Event, Smoker, Cant Quit Smoking,                                                                                                               1\n",
       "Acute Childhood Event, Financial Stress, Binge Eating, Sweet Tooth, Cant lose weight, Smoker, Sedentary Lifestyle, Self Efficacy, Poor Social Support,          1\n",
       "Financial Stress, Binge Eating, Sweet Tooth, Coping Mechanism, Cant lose weight, Binge Drinking, Sedentary Lifestyle, Self Efficacy, Poor Social Support,       1\n",
       "Name: Poor Emotional Regulatory Control Cohort, dtype: int64"
      ]
     },
     "execution_count": 9,
     "metadata": {},
     "output_type": "execute_result"
    }
   ],
   "source": [
    "df_PERC['Poor Emotional Regulatory Control Cohort'].value_counts() "
   ]
  },
  {
   "cell_type": "code",
   "execution_count": 10,
   "metadata": {},
   "outputs": [
    {
     "data": {
      "text/html": [
       "<div>\n",
       "<style scoped>\n",
       "    .dataframe tbody tr th:only-of-type {\n",
       "        vertical-align: middle;\n",
       "    }\n",
       "\n",
       "    .dataframe tbody tr th {\n",
       "        vertical-align: top;\n",
       "    }\n",
       "\n",
       "    .dataframe thead th {\n",
       "        text-align: right;\n",
       "    }\n",
       "</style>\n",
       "<table border=\"1\" class=\"dataframe\">\n",
       "  <thead>\n",
       "    <tr style=\"text-align: right;\">\n",
       "      <th></th>\n",
       "      <th>Age</th>\n",
       "      <th>Gender</th>\n",
       "      <th>Diabetes</th>\n",
       "      <th>BMI</th>\n",
       "      <th>Simulated BMI Class</th>\n",
       "      <th>Total Calculated AIHS Risk Stratifcation</th>\n",
       "      <th>Do you have one person you think of as your personal doctor or health care provider?</th>\n",
       "      <th>History of Anxiety and Depression</th>\n",
       "      <th>Alcohol Days last 30 Days or Week</th>\n",
       "      <th>During the past 30 days on the days when you drank about how many drinks average</th>\n",
       "      <th>...</th>\n",
       "      <th>Smoker</th>\n",
       "      <th>Failed Attempts to Stop Smoking</th>\n",
       "      <th>Sedentary Lifestyle</th>\n",
       "      <th>Self Efficacy</th>\n",
       "      <th>Poor Social Support</th>\n",
       "      <th>Escape or Coping Mechanism</th>\n",
       "      <th>Poor Emotional Regulatory Control Factors</th>\n",
       "      <th>Poor Emotional Regulatory Control Risk</th>\n",
       "      <th>Poor Emotional Regulatory Control Score</th>\n",
       "      <th>Poor Emotional Regulatory Control Cohort</th>\n",
       "    </tr>\n",
       "  </thead>\n",
       "  <tbody>\n",
       "    <tr>\n",
       "      <th>0</th>\n",
       "      <td>49</td>\n",
       "      <td>Male</td>\n",
       "      <td>0</td>\n",
       "      <td>40.175405</td>\n",
       "      <td>Obese</td>\n",
       "      <td>6.70</td>\n",
       "      <td>1</td>\n",
       "      <td>NaN</td>\n",
       "      <td>888.0</td>\n",
       "      <td>NaN</td>\n",
       "      <td>...</td>\n",
       "      <td>0</td>\n",
       "      <td>0</td>\n",
       "      <td>1</td>\n",
       "      <td>0</td>\n",
       "      <td>0</td>\n",
       "      <td>0</td>\n",
       "      <td>4</td>\n",
       "      <td>0.285714</td>\n",
       "      <td>4.0</td>\n",
       "      <td>Binge Eating, Sweet Tooth, Cant lose weight, S...</td>\n",
       "    </tr>\n",
       "    <tr>\n",
       "      <th>1</th>\n",
       "      <td>73</td>\n",
       "      <td>Male</td>\n",
       "      <td>0</td>\n",
       "      <td>25.087907</td>\n",
       "      <td>Healthy Weight</td>\n",
       "      <td>5.30</td>\n",
       "      <td>1</td>\n",
       "      <td>NaN</td>\n",
       "      <td>888.0</td>\n",
       "      <td>NaN</td>\n",
       "      <td>...</td>\n",
       "      <td>0</td>\n",
       "      <td>0</td>\n",
       "      <td>0</td>\n",
       "      <td>1</td>\n",
       "      <td>1</td>\n",
       "      <td>0</td>\n",
       "      <td>3</td>\n",
       "      <td>0.214286</td>\n",
       "      <td>3.0</td>\n",
       "      <td>Financial Stress, Self Efficacy, Poor Social S...</td>\n",
       "    </tr>\n",
       "    <tr>\n",
       "      <th>2</th>\n",
       "      <td>49</td>\n",
       "      <td>Male</td>\n",
       "      <td>0</td>\n",
       "      <td>22.036301</td>\n",
       "      <td>Over Weight</td>\n",
       "      <td>5.01</td>\n",
       "      <td>2</td>\n",
       "      <td>NaN</td>\n",
       "      <td>NaN</td>\n",
       "      <td>NaN</td>\n",
       "      <td>...</td>\n",
       "      <td>0</td>\n",
       "      <td>0</td>\n",
       "      <td>0</td>\n",
       "      <td>0</td>\n",
       "      <td>0</td>\n",
       "      <td>0</td>\n",
       "      <td>0</td>\n",
       "      <td>0.000000</td>\n",
       "      <td>0.0</td>\n",
       "      <td></td>\n",
       "    </tr>\n",
       "    <tr>\n",
       "      <th>3</th>\n",
       "      <td>87</td>\n",
       "      <td>Female</td>\n",
       "      <td>0</td>\n",
       "      <td>28.191696</td>\n",
       "      <td>Obese</td>\n",
       "      <td>9.55</td>\n",
       "      <td>2</td>\n",
       "      <td>NaN</td>\n",
       "      <td>888.0</td>\n",
       "      <td>NaN</td>\n",
       "      <td>...</td>\n",
       "      <td>0</td>\n",
       "      <td>0</td>\n",
       "      <td>0</td>\n",
       "      <td>1</td>\n",
       "      <td>1</td>\n",
       "      <td>0</td>\n",
       "      <td>3</td>\n",
       "      <td>0.214286</td>\n",
       "      <td>3.0</td>\n",
       "      <td>Financial Stress, Self Efficacy, Poor Social S...</td>\n",
       "    </tr>\n",
       "    <tr>\n",
       "      <th>4</th>\n",
       "      <td>87</td>\n",
       "      <td>Male</td>\n",
       "      <td>0</td>\n",
       "      <td>24.373994</td>\n",
       "      <td>Obese</td>\n",
       "      <td>10.25</td>\n",
       "      <td>1</td>\n",
       "      <td>NaN</td>\n",
       "      <td>888.0</td>\n",
       "      <td>NaN</td>\n",
       "      <td>...</td>\n",
       "      <td>0</td>\n",
       "      <td>0</td>\n",
       "      <td>0</td>\n",
       "      <td>0</td>\n",
       "      <td>0</td>\n",
       "      <td>0</td>\n",
       "      <td>0</td>\n",
       "      <td>0.000000</td>\n",
       "      <td>0.0</td>\n",
       "      <td></td>\n",
       "    </tr>\n",
       "    <tr>\n",
       "      <th>5</th>\n",
       "      <td>59</td>\n",
       "      <td>Male</td>\n",
       "      <td>0</td>\n",
       "      <td>26.520575</td>\n",
       "      <td>Obese</td>\n",
       "      <td>6.36</td>\n",
       "      <td>1</td>\n",
       "      <td>NaN</td>\n",
       "      <td>888.0</td>\n",
       "      <td>NaN</td>\n",
       "      <td>...</td>\n",
       "      <td>0</td>\n",
       "      <td>0</td>\n",
       "      <td>0</td>\n",
       "      <td>0</td>\n",
       "      <td>0</td>\n",
       "      <td>0</td>\n",
       "      <td>0</td>\n",
       "      <td>0.000000</td>\n",
       "      <td>0.0</td>\n",
       "      <td></td>\n",
       "    </tr>\n",
       "    <tr>\n",
       "      <th>6</th>\n",
       "      <td>96</td>\n",
       "      <td>Female</td>\n",
       "      <td>0</td>\n",
       "      <td>23.887580</td>\n",
       "      <td>Over Weight</td>\n",
       "      <td>3.08</td>\n",
       "      <td>1</td>\n",
       "      <td>NaN</td>\n",
       "      <td>203.0</td>\n",
       "      <td>1.0</td>\n",
       "      <td>...</td>\n",
       "      <td>0</td>\n",
       "      <td>0</td>\n",
       "      <td>0</td>\n",
       "      <td>0</td>\n",
       "      <td>0</td>\n",
       "      <td>0</td>\n",
       "      <td>0</td>\n",
       "      <td>0.000000</td>\n",
       "      <td>0.0</td>\n",
       "      <td></td>\n",
       "    </tr>\n",
       "    <tr>\n",
       "      <th>7</th>\n",
       "      <td>91</td>\n",
       "      <td>Male</td>\n",
       "      <td>0</td>\n",
       "      <td>33.821407</td>\n",
       "      <td>Over Weight</td>\n",
       "      <td>1.30</td>\n",
       "      <td>1</td>\n",
       "      <td>NaN</td>\n",
       "      <td>888.0</td>\n",
       "      <td>NaN</td>\n",
       "      <td>...</td>\n",
       "      <td>0</td>\n",
       "      <td>0</td>\n",
       "      <td>1</td>\n",
       "      <td>1</td>\n",
       "      <td>1</td>\n",
       "      <td>0</td>\n",
       "      <td>7</td>\n",
       "      <td>0.500000</td>\n",
       "      <td>7.0</td>\n",
       "      <td>Financial Stress, Binge Eating, Sweet Tooth, C...</td>\n",
       "    </tr>\n",
       "    <tr>\n",
       "      <th>8</th>\n",
       "      <td>74</td>\n",
       "      <td>Female</td>\n",
       "      <td>0</td>\n",
       "      <td>14.879779</td>\n",
       "      <td>Obese</td>\n",
       "      <td>9.16</td>\n",
       "      <td>1</td>\n",
       "      <td>NaN</td>\n",
       "      <td>888.0</td>\n",
       "      <td>NaN</td>\n",
       "      <td>...</td>\n",
       "      <td>0</td>\n",
       "      <td>0</td>\n",
       "      <td>0</td>\n",
       "      <td>0</td>\n",
       "      <td>0</td>\n",
       "      <td>0</td>\n",
       "      <td>0</td>\n",
       "      <td>0.000000</td>\n",
       "      <td>0.0</td>\n",
       "      <td></td>\n",
       "    </tr>\n",
       "    <tr>\n",
       "      <th>9</th>\n",
       "      <td>68</td>\n",
       "      <td>Male</td>\n",
       "      <td>0</td>\n",
       "      <td>25.215906</td>\n",
       "      <td>Healthy Weight</td>\n",
       "      <td>3.80</td>\n",
       "      <td>1</td>\n",
       "      <td>NaN</td>\n",
       "      <td>888.0</td>\n",
       "      <td>NaN</td>\n",
       "      <td>...</td>\n",
       "      <td>0</td>\n",
       "      <td>0</td>\n",
       "      <td>0</td>\n",
       "      <td>0</td>\n",
       "      <td>0</td>\n",
       "      <td>0</td>\n",
       "      <td>0</td>\n",
       "      <td>0.000000</td>\n",
       "      <td>0.0</td>\n",
       "      <td></td>\n",
       "    </tr>\n",
       "  </tbody>\n",
       "</table>\n",
       "<p>10 rows × 34 columns</p>\n",
       "</div>"
      ],
      "text/plain": [
       "   Age  Gender  Diabetes        BMI Simulated BMI Class  \\\n",
       "0   49    Male         0  40.175405               Obese   \n",
       "1   73    Male         0  25.087907      Healthy Weight   \n",
       "2   49    Male         0  22.036301         Over Weight   \n",
       "3   87  Female         0  28.191696               Obese   \n",
       "4   87    Male         0  24.373994               Obese   \n",
       "5   59    Male         0  26.520575               Obese   \n",
       "6   96  Female         0  23.887580         Over Weight   \n",
       "7   91    Male         0  33.821407         Over Weight   \n",
       "8   74  Female         0  14.879779               Obese   \n",
       "9   68    Male         0  25.215906      Healthy Weight   \n",
       "\n",
       "   Total Calculated AIHS Risk Stratifcation  \\\n",
       "0                                      6.70   \n",
       "1                                      5.30   \n",
       "2                                      5.01   \n",
       "3                                      9.55   \n",
       "4                                     10.25   \n",
       "5                                      6.36   \n",
       "6                                      3.08   \n",
       "7                                      1.30   \n",
       "8                                      9.16   \n",
       "9                                      3.80   \n",
       "\n",
       "   Do you have one person you think of as your personal doctor or health care provider?  \\\n",
       "0                                                  1                                      \n",
       "1                                                  1                                      \n",
       "2                                                  2                                      \n",
       "3                                                  2                                      \n",
       "4                                                  1                                      \n",
       "5                                                  1                                      \n",
       "6                                                  1                                      \n",
       "7                                                  1                                      \n",
       "8                                                  1                                      \n",
       "9                                                  1                                      \n",
       "\n",
       "   History of Anxiety and Depression  Alcohol Days last 30 Days or Week  \\\n",
       "0                                NaN                              888.0   \n",
       "1                                NaN                              888.0   \n",
       "2                                NaN                                NaN   \n",
       "3                                NaN                              888.0   \n",
       "4                                NaN                              888.0   \n",
       "5                                NaN                              888.0   \n",
       "6                                NaN                              203.0   \n",
       "7                                NaN                              888.0   \n",
       "8                                NaN                              888.0   \n",
       "9                                NaN                              888.0   \n",
       "\n",
       "   During the past 30 days on the days when you drank about how many drinks average  \\\n",
       "0                                                NaN                                  \n",
       "1                                                NaN                                  \n",
       "2                                                NaN                                  \n",
       "3                                                NaN                                  \n",
       "4                                                NaN                                  \n",
       "5                                                NaN                                  \n",
       "6                                                1.0                                  \n",
       "7                                                NaN                                  \n",
       "8                                                NaN                                  \n",
       "9                                                NaN                                  \n",
       "\n",
       "   ...  Smoker  Failed Attempts to Stop Smoking  Sedentary Lifestyle  \\\n",
       "0  ...       0                                0                    1   \n",
       "1  ...       0                                0                    0   \n",
       "2  ...       0                                0                    0   \n",
       "3  ...       0                                0                    0   \n",
       "4  ...       0                                0                    0   \n",
       "5  ...       0                                0                    0   \n",
       "6  ...       0                                0                    0   \n",
       "7  ...       0                                0                    1   \n",
       "8  ...       0                                0                    0   \n",
       "9  ...       0                                0                    0   \n",
       "\n",
       "   Self Efficacy  Poor Social Support  Escape or Coping Mechanism  \\\n",
       "0              0                    0                           0   \n",
       "1              1                    1                           0   \n",
       "2              0                    0                           0   \n",
       "3              1                    1                           0   \n",
       "4              0                    0                           0   \n",
       "5              0                    0                           0   \n",
       "6              0                    0                           0   \n",
       "7              1                    1                           0   \n",
       "8              0                    0                           0   \n",
       "9              0                    0                           0   \n",
       "\n",
       "   Poor Emotional Regulatory Control Factors  \\\n",
       "0                                          4   \n",
       "1                                          3   \n",
       "2                                          0   \n",
       "3                                          3   \n",
       "4                                          0   \n",
       "5                                          0   \n",
       "6                                          0   \n",
       "7                                          7   \n",
       "8                                          0   \n",
       "9                                          0   \n",
       "\n",
       "   Poor Emotional Regulatory Control Risk  \\\n",
       "0                                0.285714   \n",
       "1                                0.214286   \n",
       "2                                0.000000   \n",
       "3                                0.214286   \n",
       "4                                0.000000   \n",
       "5                                0.000000   \n",
       "6                                0.000000   \n",
       "7                                0.500000   \n",
       "8                                0.000000   \n",
       "9                                0.000000   \n",
       "\n",
       "   Poor Emotional Regulatory Control Score  \\\n",
       "0                                      4.0   \n",
       "1                                      3.0   \n",
       "2                                      0.0   \n",
       "3                                      3.0   \n",
       "4                                      0.0   \n",
       "5                                      0.0   \n",
       "6                                      0.0   \n",
       "7                                      7.0   \n",
       "8                                      0.0   \n",
       "9                                      0.0   \n",
       "\n",
       "            Poor Emotional Regulatory Control Cohort  \n",
       "0  Binge Eating, Sweet Tooth, Cant lose weight, S...  \n",
       "1  Financial Stress, Self Efficacy, Poor Social S...  \n",
       "2                                                     \n",
       "3  Financial Stress, Self Efficacy, Poor Social S...  \n",
       "4                                                     \n",
       "5                                                     \n",
       "6                                                     \n",
       "7  Financial Stress, Binge Eating, Sweet Tooth, C...  \n",
       "8                                                     \n",
       "9                                                     \n",
       "\n",
       "[10 rows x 34 columns]"
      ]
     },
     "execution_count": 10,
     "metadata": {},
     "output_type": "execute_result"
    }
   ],
   "source": [
    "df_PERC.head(10)\n"
   ]
  },
  {
   "cell_type": "code",
   "execution_count": 11,
   "metadata": {},
   "outputs": [],
   "source": [
    "df_PERC.rename(columns={\"ADANXEV\": \"Anxiety and Depression\"}, inplace=True)\n",
    "df_PERC.rename(columns={\"ALCDAY5\": \"Alcohol Days last 30 Days or Week\"}, inplace=True)\n",
    "df_PERC.rename(columns={\"SMOKE100\": \"have you smoked >100 cigerettes in life\"}, inplace=True)\n",
    "df_PERC.rename(columns={\"SMOKDAY2\": \"Do you now smoke cigarettes every day, some days, or not at all?\"}, inplace=True)\n",
    "df_PERC.rename(columns={\"USENOW3\": \"Do you currently use any tobacco products?\"}, inplace=True)\n",
    "df_PERC.rename(columns={\"STOPSMK2\": \"Have you tried to stop smoking?\"}, inplace=True)\n",
    "df_PERC.rename(columns={\"MEDCOST\": \"Have you avioided necessary medical do to cost in last year?\"}, inplace=True)\n",
    "df_PERC.rename(columns={\"ALCDAY5\": \"During the past 30 days how many days per week or per month did you have at least one drink of any alcoholic\"}, inplace=True)\n",
    "df_PERC.rename(columns={\"AVEDRNK2\": \"During the past 30 days on the days when you drank about how many drinks average\"}, inplace=True)\n",
    "df_PERC.rename(columns={\"MAXDRNKS\": \"During the past 30 days, what is the largest number of drinks you had on any occasion?\"}, inplace=True)\n",
    "df_PERC.rename(columns={\"DRNK3GE5\": \"Any alcoholic beverages, how many times during the past 30 days did you have\"}, inplace=True)\n"
   ]
  },
  {
   "cell_type": "code",
   "execution_count": 12,
   "metadata": {},
   "outputs": [],
   "source": [
    "# Interpret binge Drinking\n",
    "df_PERC=df_PERC.apply(interpret_binge_drinking, axis='columns')\n"
   ]
  },
  {
   "cell_type": "code",
   "execution_count": 13,
   "metadata": {},
   "outputs": [
    {
     "data": {
      "text/plain": [
       "0    935\n",
       "1     65\n",
       "Name: Binge Drinking, dtype: int64"
      ]
     },
     "execution_count": 13,
     "metadata": {},
     "output_type": "execute_result"
    }
   ],
   "source": [
    "df_PERC['Binge Drinking'].value_counts() "
   ]
  },
  {
   "cell_type": "code",
   "execution_count": 14,
   "metadata": {},
   "outputs": [],
   "source": [
    "df_PERC.to_csv(\"C:/Users/josep/documents/datasets/patient_PERC_factors.csv\")"
   ]
  },
  {
   "cell_type": "markdown",
   "metadata": {},
   "source": [
    "# Poor Emotional Regulation Control "
   ]
  },
  {
   "cell_type": "code",
   "execution_count": 15,
   "metadata": {},
   "outputs": [
    {
     "ename": "SyntaxError",
     "evalue": "invalid syntax (4151274048.py, line 1)",
     "output_type": "error",
     "traceback": [
      "\u001b[1;36m  Cell \u001b[1;32mIn[15], line 1\u001b[1;36m\u001b[0m\n\u001b[1;33m    1. Poor Emotional Regulation Cohort (ORANGE)\u001b[0m\n\u001b[1;37m       ^\u001b[0m\n\u001b[1;31mSyntaxError\u001b[0m\u001b[1;31m:\u001b[0m invalid syntax\n"
     ]
    }
   ],
   "source": [
    "1. Poor Emotional Regulation Cohort (ORANGE)\n",
    "1.\tHigh ACE score (>5 out of 10)\n",
    "2.\tHistory of anxiety and/or depression (but exclude current depression)\n",
    "3.\tMore likely to be low income or struggling financially\n",
    "4.\tBinging, overeating, emotional eating\n",
    "5.\tSweet tooth, eats dessert, has cravings\n",
    "6.\tLikely overweight and perpetually struggling to lose weight\n",
    "7.\tRegular alcohol consumption, TV watching or other escape mechanisms\n",
    "8.\tCan't manage to quit smoking\n",
    "9.\tProbably sedentary or low exercise\n",
    "10.\tLow self efficacy/confidence (due to repeated failure with diets and exercise programs)\n",
    "11.\tLack of social support network (few friends, loneliness)\n",
    "12.\tEXCLUDE: depression, drug use\n"
   ]
  },
  {
   "cell_type": "code",
   "execution_count": 19,
   "metadata": {},
   "outputs": [
    {
     "data": {
      "application/vnd.jupyter.widget-view+json": {
       "model_id": "c2a695ba96a14607b78814609da34bbf",
       "version_major": 2,
       "version_minor": 0
      },
      "text/plain": [
       "Dropdown(description='Login Patient', options=(1, 2, 3), value=1)"
      ]
     },
     "metadata": {},
     "output_type": "display_data"
    }
   ],
   "source": [
    "from IPython.display import *\n",
    "import ipywidgets as widgets\n",
    "from ipywidgets import *\n",
    "\n",
    "# Widgets\n",
    "widget1 = Dropdown(options = [1,2,3],description = 'Login Patient')\n",
    "patientindex = display(widget1)"
   ]
  },
  {
   "cell_type": "code",
   "execution_count": 20,
   "metadata": {},
   "outputs": [
    {
     "name": "stdout",
     "output_type": "stream",
     "text": [
      "enter your login name\n",
      "Joe Eberle\n"
     ]
    }
   ],
   "source": [
    "print(\"enter your login name\")\n",
    "name=input()"
   ]
  },
  {
   "cell_type": "code",
   "execution_count": 26,
   "metadata": {},
   "outputs": [
    {
     "data": {
      "application/vnd.jupyter.widget-view+json": {
       "model_id": "0f25082b1eb94d62a8cae0239a92e3a0",
       "version_major": 2,
       "version_minor": 0
      },
      "text/plain": [
       "Dropdown(description='What data?', options=('Demographic', 'Simulated BMI', 'Nutrition'), value='Demographic')"
      ]
     },
     "metadata": {},
     "output_type": "display_data"
    }
   ],
   "source": [
    "from IPython.display import *\n",
    "import ipywidgets as widgets\n",
    "from ipywidgets import *\n",
    "\n",
    "# Widgets\n",
    "widget2 = Dropdown(options = ['Demographic','Simulated BMI','Nutrition'],description = 'What data?')\n",
    "topic = display(widget2)\n"
   ]
  },
  {
   "cell_type": "code",
   "execution_count": 27,
   "metadata": {},
   "outputs": [
    {
     "ename": "AttributeError",
     "evalue": "'NoneType' object has no attribute 'value'",
     "output_type": "error",
     "traceback": [
      "\u001b[1;31m---------------------------------------------------------------------------\u001b[0m",
      "\u001b[1;31mAttributeError\u001b[0m                            Traceback (most recent call last)",
      "Cell \u001b[1;32mIn[27], line 1\u001b[0m\n\u001b[1;32m----> 1\u001b[0m \u001b[38;5;28mprint\u001b[39m(\u001b[43mtopic\u001b[49m\u001b[38;5;241;43m.\u001b[39;49m\u001b[43mvalue\u001b[49m())\n",
      "\u001b[1;31mAttributeError\u001b[0m: 'NoneType' object has no attribute 'value'"
     ]
    }
   ],
   "source": [
    "\n",
    "print(topic.value())"
   ]
  },
  {
   "cell_type": "code",
   "execution_count": 23,
   "metadata": {},
   "outputs": [
    {
     "ename": "AttributeError",
     "evalue": "'NoneType' object has no attribute 'value'",
     "output_type": "error",
     "traceback": [
      "\u001b[1;31m---------------------------------------------------------------------------\u001b[0m",
      "\u001b[1;31mAttributeError\u001b[0m                            Traceback (most recent call last)",
      "Cell \u001b[1;32mIn[23], line 1\u001b[0m\n\u001b[1;32m----> 1\u001b[0m \u001b[38;5;28;01mif\u001b[39;00m \u001b[43mtopic\u001b[49m\u001b[38;5;241;43m.\u001b[39;49m\u001b[43mvalue\u001b[49m() \u001b[38;5;241m>\u001b[39m\u001b[38;5;241m=\u001b[39m \u001b[38;5;124m'\u001b[39m\u001b[38;5;124mDemographic\u001b[39m\u001b[38;5;124m'\u001b[39m:\n\u001b[0;32m      2\u001b[0m     df_demo \u001b[38;5;241m=\u001b[39m pd\u001b[38;5;241m.\u001b[39mDataFrame(df_Patient\u001b[38;5;241m.\u001b[39mloc[\u001b[38;5;241m1\u001b[39m:\u001b[38;5;241m2\u001b[39m , [\u001b[38;5;124m'\u001b[39m\u001b[38;5;124mAge\u001b[39m\u001b[38;5;124m'\u001b[39m, \u001b[38;5;124m'\u001b[39m\u001b[38;5;124mGender\u001b[39m\u001b[38;5;124m'\u001b[39m, \u001b[38;5;124m'\u001b[39m\u001b[38;5;124mRace\u001b[39m\u001b[38;5;124m'\u001b[39m]]) \n\u001b[0;32m      3\u001b[0m \u001b[38;5;28;01melse\u001b[39;00m:\n",
      "\u001b[1;31mAttributeError\u001b[0m: 'NoneType' object has no attribute 'value'"
     ]
    }
   ],
   "source": [
    "if topic.value() >= 'Demographic':\n",
    "    df_demo = pd.DataFrame(df_Patient.loc[1:2 , ['Age', 'Gender', 'Race']]) \n",
    "else:\n",
    "    df_demo = pd.DataFrame(df_Patient.loc[1:2 , ['Age', 'Race']]) \n",
    "\n",
    "df_demo.iloc[1:2 , : ]\n"
   ]
  },
  {
   "cell_type": "code",
   "execution_count": null,
   "metadata": {},
   "outputs": [],
   "source": []
  },
  {
   "cell_type": "code",
   "execution_count": 28,
   "metadata": {},
   "outputs": [
    {
     "data": {
      "text/plain": [
       "NoneType"
      ]
     },
     "execution_count": 28,
     "metadata": {},
     "output_type": "execute_result"
    }
   ],
   "source": [
    "type(topic) "
   ]
  },
  {
   "cell_type": "code",
   "execution_count": 29,
   "metadata": {},
   "outputs": [
    {
     "name": "stdout",
     "output_type": "stream",
     "text": [
      "enter your login name\n",
      "j\n",
      "Q1. Body, Mind, or Soul ?\n",
      "A.Body  B.Mind  C.Soul \n",
      "\n",
      "a\n",
      "\n",
      "\n",
      "Q2. Want to see the data II have about you ? \n",
      "A.Demographic  B.BMI  C.Nutrition  D.Pre-Diabetes Risk\n",
      "\n",
      "b\n",
      "\n",
      "\n",
      "Q3. What do you want help with? ?\n",
      "A.Increasing Acitivity B.Losing Weight  C.Nutrition  D.Managing Your Diabetes Risk\n",
      "\n",
      "a\n",
      "\n",
      "\n"
     ]
    }
   ],
   "source": [
    "print(\"enter your login name\")\n",
    "name=input()\n",
    "\n",
    "questions_list = [\"Q1. Body, Mind, or Soul ?\",\"Q2. Want to see the data II have about you ? \", \"Q3. What do you want help with? ?\"]\n",
    "\n",
    "answers_list = [[\"A.Body \", \" B.Mind \", \" C.Soul \"],\n",
    "               [\"A.Demographic \", \" B.BMI \", \" C.Nutrition \",\" D.Pre-Diabetes Risk\"],\n",
    "               [\"A.Increasing Acitivity\", \" B.Losing Weight \", \" C.Nutrition \",\" D.Managing Your Diabetes Risk\"],]\n",
    "\n",
    "for questions, answers in zip(questions_list, answers_list):\n",
    "    print(questions + '\\n' + ''.join(answers)+'\\n')\n",
    "    get_answer = input()\n",
    "    print('\\n')\n"
   ]
  },
  {
   "cell_type": "code",
   "execution_count": 31,
   "metadata": {},
   "outputs": [
    {
     "name": "stdout",
     "output_type": "stream",
     "text": [
      "enter your login name\n",
      "j\n",
      "Q1. Body, Mind, or Soul ?\n",
      "A.Body  B.Mind  C.Soul \n",
      "\n",
      "a\n",
      "\n",
      "\n",
      "Q2. Want to see the data II have about you ? \n",
      "A.Demographic  B.BMI  C.Nutrition  D.Pre-Diabetes Risk\n",
      "\n",
      "b\n",
      "\n",
      "\n",
      "Q3. What do you want help with? ?\n",
      "A.Increasing Acitivity B.Losing Weight  C.Nutrition  D.Managing Your Diabetes Risk\n",
      "\n",
      "a\n",
      "\n",
      "\n"
     ]
    }
   ],
   "source": [
    "print(\"enter your login name\")\n",
    "name=input()\n",
    "\n",
    "questions_list = [\"Q1. Body, Mind, or Soul ?\",\"Q2. Want to see the data II have about you ? \", \"Q3. What do you want help with? ?\"]\n",
    "\n",
    "answers_list = [[\"A.Body \", \" B.Mind \", \" C.Soul \"],\n",
    "               [\"A.Demographic \", \" B.BMI \", \" C.Nutrition \",\" D.Pre-Diabetes Risk\"],\n",
    "               [\"A.Increasing Acitivity\", \" B.Losing Weight \", \" C.Nutrition \",\" D.Managing Your Diabetes Risk\"],]\n",
    "\n",
    "\n",
    "for questions, answers in zip(questions_list, answers_list):\n",
    "    print(questions + '\\n' + ''.join(answers)+'\\n')\n",
    "    get_answer = input()\n",
    "    print('\\n')\n",
    "    \n",
    "    \n",
    "#     1\n",
    "# Strongly disagree\t2\n",
    "# Disagree\t3\n",
    "# Neither Agree nor disagree\t4\n",
    "# Agree\t5\n",
    "# Strongly agree"
   ]
  },
  {
   "cell_type": "code",
   "execution_count": null,
   "metadata": {},
   "outputs": [],
   "source": [
    "print(\"enter your login name\")\n",
    "name=input()"
   ]
  },
  {
   "cell_type": "code",
   "execution_count": null,
   "metadata": {},
   "outputs": [],
   "source": [
    "\n",
    "bmi = df_Patient['BMI Class'].value_counts() \n",
    "# Returns object containing counts of unique values.\n",
    "# The resulting object will be in descending order so that the first element is the most frequently-occurring element. \n",
    "# Excludes NA values by default.\n",
    "print(type(bmi))\n",
    "bmi.head()\n",
    "\n",
    "people = df_Patient['Gender'].value_counts() \n",
    "# Returns object containing counts of unique values.\n",
    "# The resulting object will be in descending order so that the first element is the most frequently-occurring element. \n",
    "# Excludes NA values by default.\n",
    "print(type(people))\n",
    "people.head()\n",
    "\n",
    "\n",
    "fig = plt.figure(figsize=(20,8))\n",
    "plt.title(\"Total Data\",loc='center',weight=10,size=15)\n",
    "plt.xticks([]) # to disable xticks\n",
    "plt.yticks([]) # to disable yticks\n",
    "\n",
    "# first pie-plot\n",
    "ax1 = fig.add_subplot(121)\n",
    "ax1.axis('equal')\n",
    "explode = (0.01,)*(len(people))\n",
    "\n",
    "wedges, texts, autotexts =  ax1.pie(people,\n",
    "                                    radius=0.8,\n",
    "                                    explode=explode,\n",
    "                                    labels=['female','male'],\n",
    "                                    colors=['#f7879a','#49759c'],\n",
    "                                    autopct=\"%1.1f%%\",\n",
    "                                    pctdistance=0.7,\n",
    "                                    textprops=dict(color='k'),\n",
    "                                    wedgeprops = { 'linewidth' : 3, 'edgecolor' : 'w' }\n",
    "                                    )\n",
    "plt.setp(autotexts,size=17)\n",
    "plt.setp(texts,size=15)\n",
    "my_circle = plt.Circle((0,0),0.5,color='white')\n",
    "p = plt.gcf() # get current figure reference\n",
    "p.gca().add_artist(my_circle) # get current axes\n",
    "\n",
    "# Second pie-plot\n",
    "ax2 = fig.add_subplot(122)\n",
    "ax2.axis('equal')\n",
    "explode = (0.01,)*(len(bmi))\n",
    "wedges2, texts2, autotexts2 =  ax2.pie(bmi,\n",
    "                                    radius=0.8,\n",
    "                                    explode=explode,\n",
    "                                    labels=['Overweight','Obese','Healthy Weight','Morbidly Obese','Underweight'],\n",
    "                                    autopct=\"%1.1f%%\",\n",
    "                                    pctdistance=0.5,\n",
    "                                    textprops=dict(color='k'),\n",
    "                                    wedgeprops = { 'linewidth' : 3, 'edgecolor' : 'w' }\n",
    "                                    )\n",
    "plt.setp(autotexts2,size=17)\n",
    "plt.setp(texts2,size=15)\n",
    "my_circle = plt.Circle((0,0),0.5,color='white')\n",
    "p = plt.gcf() # get current figure referenceq\n",
    "p.gca().add_artist(my_circle) # get current axes"
   ]
  },
  {
   "cell_type": "code",
   "execution_count": null,
   "metadata": {},
   "outputs": [],
   "source": [
    "pd.DataFrame(df_Patient.Gender.value_counts())\n",
    "pd.DataFrame(df_Patient.Race.value_counts())"
   ]
  },
  {
   "cell_type": "code",
   "execution_count": null,
   "metadata": {},
   "outputs": [],
   "source": [
    "cols = df_Patient.columns\n",
    "df_Patient.shape\n",
    "cols\n"
   ]
  },
  {
   "cell_type": "code",
   "execution_count": null,
   "metadata": {},
   "outputs": [],
   "source": [
    "df_Patient_Demographic = df_Patient[[ 'Age', 'Decade','Gender', 'Race', 'Race Category','BMI','Activity Level','Physical Activity Minutes','Hypertension','Diabetes']]\n",
    "df_Patient_Demographic"
   ]
  },
  {
   "cell_type": "code",
   "execution_count": null,
   "metadata": {},
   "outputs": [],
   "source": [
    "df_Patient_Demographic.BMI.describe"
   ]
  },
  {
   "cell_type": "code",
   "execution_count": null,
   "metadata": {},
   "outputs": [],
   "source": [
    "pd.DataFrame(df_Patient_Demographic.Gender.value_counts())\n"
   ]
  },
  {
   "cell_type": "code",
   "execution_count": null,
   "metadata": {},
   "outputs": [],
   "source": [
    "correlation_matrix = df_Patient_Demographic.corr()     #establish a correlation matrix for all fields\n",
    "top_correlation_features = correlation_matrix.index\n",
    "plt.figure(figsize=(20,20))\n",
    "g=sns.heatmap(df_Patient_Demographic[top_correlation_features].corr(),annot=True,cmap=\"RdYlGn\")"
   ]
  },
  {
   "cell_type": "code",
   "execution_count": null,
   "metadata": {},
   "outputs": [],
   "source": [
    "df_BRFSS_REDUCED['Gender'].value_counts() "
   ]
  },
  {
   "cell_type": "code",
   "execution_count": null,
   "metadata": {},
   "outputs": [],
   "source": [
    "# Read in the BRFSS data set \n",
    "df_BRFSS = pd.read_csv(\"C:/Data/brfss cdc/BRFSS_2015.csv\",nrows=10000)\n",
    "df_BRFSS.shape"
   ]
  },
  {
   "cell_type": "code",
   "execution_count": null,
   "metadata": {},
   "outputs": [],
   "source": [
    "# Save the transformed file \n",
    "df_BRFSS.to_csv(\"C:/Users/josep/documents/datasets/BRFSS_Redux.csv\") "
   ]
  },
  {
   "cell_type": "code",
   "execution_count": null,
   "metadata": {},
   "outputs": [],
   "source": [
    "# Read in the integrated Data Files \n",
    "df_BRFSS_RAW = pd.read_csv(\"C:/Users/josep/documents/datasets/AIHS_SIM_V4_BRFSS_RAW.csv\") \n",
    "df_BRFSS_RAW.head()"
   ]
  },
  {
   "cell_type": "code",
   "execution_count": null,
   "metadata": {},
   "outputs": [],
   "source": [
    "# Save the transformed file \n",
    "df_BRFSS.to_csv(\"C:/Users/josep/documents/datasets/AIHS_BRFSS_RAW.csv\") "
   ]
  },
  {
   "cell_type": "code",
   "execution_count": null,
   "metadata": {},
   "outputs": [],
   "source": [
    "df_BRFSS.head()"
   ]
  },
  {
   "cell_type": "code",
   "execution_count": null,
   "metadata": {},
   "outputs": [],
   "source": [
    "# Calculate the AIHS health risk stratification \n",
    "def calc_age_risk(age):\n",
    "    if age < 40: \n",
    "        age_risk =  0.0\n",
    "    elif age < 50: \n",
    "        age_risk =  1 + ((age-40) * .1)\n",
    "    elif age  < 60: \n",
    "        age_risk =  2 + ((age-50) * .1)\n",
    "    elif age  < 90: \n",
    "        age_risk =  3 + ((age-60) * .1)\n",
    "    elif age  < 110:    # Age over 90 non actionable ????\n",
    "        age_risk =  0      \n",
    "    \n",
    "    return age_risk   "
   ]
  },
  {
   "cell_type": "code",
   "execution_count": null,
   "metadata": {},
   "outputs": [],
   "source": [
    "kilo_grams = float(input('Enter weight in Kg to Convert into pounds:'))\n",
    "pounds = kilo_grams * 2.2046\n",
    "print(kilo_grams,' Kilograms =', pounds,' Pounds')"
   ]
  },
  {
   "cell_type": "code",
   "execution_count": null,
   "metadata": {},
   "outputs": [],
   "source": [
    "def calc_AIHS_age_risk(row):\n",
    "    # The row is a single Series object which is a single row indexed by column values\n",
    "    # Let's extract the firstname and create a new entry in the series\n",
    "    if row['Age'] < 40: \n",
    "        row['AIHS Age Risk']=  0.0\n",
    "    elif row['Age'] < 50: \n",
    "        row['AIHS Age Risk']=  1 + ((row['Age']-40) * .1)\n",
    "    elif row['Age']  < 60: \n",
    "        row['AIHS Age Risk']=  2 + ((row['Age']-50) * .1)\n",
    "    elif row['Age']  < 90: \n",
    "        row['AIHS Age Risk']=  3 + ((row['Age']-60) * .1)\n",
    "    elif row['Age']  < 110:    # Age over 90 non actionable ????\n",
    "        row['AIHS Age Risk']=  0      \n",
    "   \n",
    "    return row"
   ]
  },
  {
   "cell_type": "code",
   "execution_count": null,
   "metadata": {},
   "outputs": [],
   "source": [
    "def calc_height_in_feet(row):\n",
    "    # Converts from centimeters to feet and inches \n",
    "    row['Simulated Height IN']=  round(row['Simulated Height CM']  * 0.0328,1) \n",
    "    return row"
   ]
  },
  {
   "cell_type": "code",
   "execution_count": null,
   "metadata": {},
   "outputs": [],
   "source": [
    "def calc_weight_in_pounds(row):\n",
    "    # Converts from centimeters to feet and inches \n",
    "    row['Simulated Weight LBS']=   round(row['Simulated Weight KG']  * 2.2046,1)\n",
    "    return row"
   ]
  },
  {
   "cell_type": "code",
   "execution_count": null,
   "metadata": {},
   "outputs": [],
   "source": [
    "def calc_body_mass_index(row):\n",
    "    # Converts from centimeters to feet and inches \n",
    "    row['Simulated BMI']=  row['Simulated Weight KG']/(row['Simulated Height CM']**2)  \n",
    "    return row"
   ]
  },
  {
   "cell_type": "code",
   "execution_count": null,
   "metadata": {},
   "outputs": [],
   "source": [
    "def calc_ADA_age_risk(row):\n",
    "    # The row is a single Series object which is a single row indexed by column values\n",
    "    # Let's extract the firstname and create a new entry in the series\n",
    "    if row['Age'] < 40: \n",
    "        row['ADA Age Risk']= 0\n",
    "    elif row['Age'] < 50: \n",
    "        row['ADA Age Risk']=  1  \n",
    "    elif row['Age']  < 60: \n",
    "        row['ADA Age Risk']=  2  \n",
    "    elif row['Age']  < 90: \n",
    "        row['ADA Age Risk']=  3  \n",
    "    elif row['Age']  < 110:    # Age over 90 non actionable ????\n",
    "        row['ADA Age Risk']=  0      \n",
    "    return row"
   ]
  },
  {
   "cell_type": "code",
   "execution_count": null,
   "metadata": {},
   "outputs": [],
   "source": [
    "def calc_ADA_BMI_risk(row):\n",
    "    # The row is a single Series object which is a single row indexed by column values\n",
    "    # Let's extract the firstname and create a new entry in the series\n",
    "    if row['Simulated BMI'] < 18.5: \n",
    "        row['ADA BMI Risk']= 0\n",
    "    elif row['Simulated BMI'] < 25: \n",
    "        row['ADA BMI Risk']=  0  \n",
    "    elif row['Simulated BMI']  < 30: \n",
    "        row['ADA BMI Risk']=  1  \n",
    "    elif row['Simulated BMI']  < 40: \n",
    "        row['ADA BMI Risk']=  2  \n",
    "    elif row['Simulated BMI']  < 60:    # Age over 90 non actionable ????\n",
    "        row['ADA BMI Risk']=  3      \n",
    "    return row"
   ]
  },
  {
   "cell_type": "code",
   "execution_count": null,
   "metadata": {},
   "outputs": [],
   "source": [
    "def calc_AIHS_BMI_risk(row):\n",
    "    # The row is a single Series object which is a single row indexed by column values\n",
    "    # Let's extract the firstname and create a new entry in the series\n",
    "    if row['Simulated BMI'] < 18.5: \n",
    "        row['AIHS BMI Risk']= 0\n",
    "    elif row['Simulated BMI'] < 25: \n",
    "        row['AIHS BMI Risk']=  0  \n",
    "    elif row['Simulated BMI']  < 30: \n",
    "        row['AIHS BMI Risk']=  1 +  ((row['Simulated BMI']-26) * .1)\n",
    "    elif row['Simulated BMI']  < 40: \n",
    "        row['AIHS BMI Risk']=  2 +  ((row['Simulated BMI']-31) * .1) \n",
    "    elif row['Simulated BMI']  < 60:    # Age over 90 non actionable ????\n",
    "        row['AIHS BMI Risk']=  3 +  ((row['Simulated BMI']-41) * .1)      \n",
    "    return row"
   ]
  },
  {
   "cell_type": "markdown",
   "metadata": {},
   "source": [
    "## Read In the core demographic data set "
   ]
  },
  {
   "cell_type": "code",
   "execution_count": null,
   "metadata": {},
   "outputs": [],
   "source": [
    "#df = pd.read_csv(\"C:/Users/josep/documents/datasets/dg.csv\", nrows=5000)\n",
    "df = pd.read_csv(\"C:/Users/josep/documents/datasets/dg_BMI_risk.csv\")\n",
    "df.head(5)"
   ]
  },
  {
   "cell_type": "code",
   "execution_count": null,
   "metadata": {},
   "outputs": [],
   "source": [
    "df.head()"
   ]
  },
  {
   "cell_type": "code",
   "execution_count": null,
   "metadata": {},
   "outputs": [],
   "source": [
    "cols = df.columns\n",
    "print(cols)"
   ]
  },
  {
   "cell_type": "code",
   "execution_count": null,
   "metadata": {},
   "outputs": [],
   "source": [
    "df['Simulated Height CM'] = np.random.randint(155, 187, df.shape[0])\n",
    "df['Simulated Weight KG'] = np.random.randint(60, 130, df.shape[0])\n",
    "df['Simulated BMI']=  round(df['Simulated Weight KG']/((df['Simulated Height CM']/100)**2),1)  \n",
    "df.head() "
   ]
  },
  {
   "cell_type": "code",
   "execution_count": null,
   "metadata": {},
   "outputs": [],
   "source": [
    "height = float(input(\"Enter height in meters: \"))\n",
    "\n",
    "weight = float(input(\"Enter weight in kg: \"))\n",
    "\n",
    "bmi = weight/(height**2)\n",
    "\n",
    "print(\"Your BMI is: {0} and you are: \".format(bmi), end='')\n",
    "\n",
    "if ( bmi < 16):\n",
    "    print(\"severely underweight\")\n",
    "\n",
    "elif ( bmi >= 16 and bmi < 18.5):\n",
    "    print(\"underweight\")\n",
    "\n",
    "elif ( bmi >= 18.5 and bmi < 25):\n",
    "    print(\"Healthy\")\n",
    "\n",
    "elif ( bmi >= 25 and bmi < 30):\n",
    "    print(\"overweight\")\n",
    "\n",
    "elif ( bmi >=30):\n",
    "    print(\"severely overweight\")"
   ]
  },
  {
   "cell_type": "code",
   "execution_count": null,
   "metadata": {},
   "outputs": [],
   "source": [
    "df.to_csv(\"C:/Users/josep/documents/datasets/dg_BMI_risk_III.csv\")"
   ]
  },
  {
   "cell_type": "code",
   "execution_count": null,
   "metadata": {},
   "outputs": [],
   "source": [
    "df_BRFSS = pd.read_csv(\"C:/Data/brfss cdc/BRFSS_2015.csv\",nrows=5000)\n",
    "df_BRFSS.shape"
   ]
  },
  {
   "cell_type": "code",
   "execution_count": null,
   "metadata": {},
   "outputs": [],
   "source": [
    "df_BRFSS[\"Patient Number\"]= np.arange(len(df_BRFSS)) + 1"
   ]
  },
  {
   "cell_type": "code",
   "execution_count": null,
   "metadata": {},
   "outputs": [],
   "source": [
    "df_BRFSS[\"Patient ID\"]= \"Patient_Number_\" + df_BRFSS[\"Patient Number\"].astype(str)"
   ]
  },
  {
   "cell_type": "code",
   "execution_count": null,
   "metadata": {},
   "outputs": [],
   "source": [
    "df_BRFSS.head()"
   ]
  },
  {
   "cell_type": "code",
   "execution_count": null,
   "metadata": {},
   "outputs": [],
   "source": [
    "df[\"Age Decade\"]=df['Age'] / 10 \n",
    "df[\"Patient Number\"]= np.arange(len(df)) + 1 \n",
    "cols = df.columns\n",
    "df.head()"
   ]
  },
  {
   "cell_type": "code",
   "execution_count": null,
   "metadata": {},
   "outputs": [],
   "source": [
    "df[\"Age Dec\"]=df['Age Decade'].astype(int) \n",
    "df[\"Patient ID\"]= \"Patient_Number_\" + df[\"Patient Number\"].astype(str)\n",
    "cols = df.columns\n",
    "df.head()"
   ]
  },
  {
   "cell_type": "code",
   "execution_count": null,
   "metadata": {},
   "outputs": [],
   "source": [
    "dfm = df.merge(df_BRFSS, how='left', on='Patient ID')"
   ]
  },
  {
   "cell_type": "code",
   "execution_count": null,
   "metadata": {},
   "outputs": [],
   "source": [
    "dfm.shape"
   ]
  },
  {
   "cell_type": "code",
   "execution_count": null,
   "metadata": {},
   "outputs": [],
   "source": [
    "#take input from user\n",
    "cm=int(input(\"Enter the height in centimeters:\"))\n",
    " \n",
    "#convert centimeter to feet\n",
    "feet=0.0328*cm\n",
    " \n",
    "#print result\n",
    "print(\"The length in feet\",round(feet,2))\n"
   ]
  },
  {
   "cell_type": "code",
   "execution_count": null,
   "metadata": {},
   "outputs": [],
   "source": [
    "dfm.head()"
   ]
  },
  {
   "cell_type": "code",
   "execution_count": null,
   "metadata": {},
   "outputs": [],
   "source": [
    "df.head()"
   ]
  },
  {
   "cell_type": "code",
   "execution_count": null,
   "metadata": {},
   "outputs": [],
   "source": [
    "dfm.to_csv(\"C:/Users/josep/documents/datasets/patient_demo_behavior.csv\")"
   ]
  },
  {
   "cell_type": "code",
   "execution_count": null,
   "metadata": {},
   "outputs": [],
   "source": [
    "df[\"Age Dec\"]=df['Age Decade'].astype(int) \n",
    "df[\"Patient ID\"]= \"Patient_Number_\" + df[\"Patient Number\"].astype(str)\n",
    "cols = df.columns\n",
    "df.head()"
   ]
  },
  {
   "cell_type": "code",
   "execution_count": null,
   "metadata": {},
   "outputs": [],
   "source": [
    "#df=df.apply(calc_ADS_age_risk, axis='columns')\n",
    "df=df.apply(calc_height_in_feet, axis='columns')\n",
    "df.head()"
   ]
  },
  {
   "cell_type": "code",
   "execution_count": null,
   "metadata": {},
   "outputs": [],
   "source": [
    "#df=df.apply(calc_ADS_age_risk, axis='columns')\n",
    "df=df.apply(calc_weight_in_pounds, axis='columns')\n",
    "df.head()"
   ]
  },
  {
   "cell_type": "code",
   "execution_count": null,
   "metadata": {},
   "outputs": [],
   "source": [
    "#cols = cols + 'Computed AIHS Age Risk'\n",
    "df = df[cols]\n",
    "df.head(10)\n",
    "\n"
   ]
  },
  {
   "cell_type": "code",
   "execution_count": null,
   "metadata": {},
   "outputs": [],
   "source": [
    "#df=df.apply(calc_ADS_age_risk, axis='columns')\n",
    "df=df.apply(calc_AIHS_age_risk, axis='columns')\n",
    "df.head()\n"
   ]
  },
  {
   "cell_type": "code",
   "execution_count": null,
   "metadata": {},
   "outputs": [],
   "source": [
    "#df=df.apply(calc_ADS_age_risk, axis='columns')\n",
    "df=df.apply(calc_ADA_BMI_risk, axis='columns')\n",
    "df.head()"
   ]
  },
  {
   "cell_type": "code",
   "execution_count": null,
   "metadata": {},
   "outputs": [],
   "source": [
    "#df=df.apply(calc_ADS_age_risk, axis='columns')\n",
    "df=df.apply(calc_AIHS_BMI_risk, axis='columns')\n",
    "pd.options.display.max_columns = None\n",
    "df.head(5)"
   ]
  }
 ],
 "metadata": {
  "kernelspec": {
   "display_name": "Python 3 (ipykernel)",
   "language": "python",
   "name": "python3"
  },
  "language_info": {
   "codemirror_mode": {
    "name": "ipython",
    "version": 3
   },
   "file_extension": ".py",
   "mimetype": "text/x-python",
   "name": "python",
   "nbconvert_exporter": "python",
   "pygments_lexer": "ipython3",
   "version": "3.8.5"
  }
 },
 "nbformat": 4,
 "nbformat_minor": 4
}
