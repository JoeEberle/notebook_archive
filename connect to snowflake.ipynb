{
 "cells": [
  {
   "cell_type": "code",
   "execution_count": 1,
   "id": "1e0f0716",
   "metadata": {},
   "outputs": [],
   "source": [
    "import os\n",
    "import snowflake.connector\n",
    "import pandas as pd \n",
    "from platform import python_version"
   ]
  },
  {
   "cell_type": "code",
   "execution_count": 2,
   "id": "5f151841",
   "metadata": {},
   "outputs": [
    {
     "name": "stdout",
     "output_type": "stream",
     "text": [
      "Selected Jupyter core packages...\n",
      "IPython          : 7.29.0\n",
      "ipykernel        : 6.4.1\n",
      "ipywidgets       : 7.6.5\n",
      "jupyter_client   : 6.1.12\n",
      "jupyter_core     : 4.8.1\n",
      "jupyter_server   : 1.4.1\n",
      "jupyterlab       : 3.2.1\n",
      "nbclient         : 0.5.3\n",
      "nbconvert        : 6.1.0\n",
      "nbformat         : 5.1.3\n",
      "notebook         : 6.4.5\n",
      "qtconsole        : 5.1.1\n",
      "traitlets        : 5.1.0\n"
     ]
    }
   ],
   "source": [
    "!jupyter --version "
   ]
  },
  {
   "cell_type": "code",
   "execution_count": 3,
   "id": "7ee17721",
   "metadata": {},
   "outputs": [
    {
     "data": {
      "text/plain": [
       "'3.9.7'"
      ]
     },
     "execution_count": 3,
     "metadata": {},
     "output_type": "execute_result"
    }
   ],
   "source": [
    "python_version()"
   ]
  },
  {
   "cell_type": "code",
   "execution_count": 5,
   "id": "e1673466",
   "metadata": {},
   "outputs": [
    {
     "name": "stdout",
     "output_type": "stream",
     "text": [
      "^C\n"
     ]
    }
   ],
   "source": [
    "!pip uninstall pyarrow"
   ]
  },
  {
   "cell_type": "code",
   "execution_count": 4,
   "id": "f17b5ec9",
   "metadata": {},
   "outputs": [
    {
     "name": "stdout",
     "output_type": "stream",
     "text": [
      "Name: pyarrow\n",
      "Version: 8.0.0\n",
      "Summary: Python library for Apache Arrow\n",
      "Home-page: https://arrow.apache.org/\n",
      "Author: \n",
      "Author-email: \n",
      "License: Apache License, Version 2.0\n",
      "Location: c:\\users\\jae670\\anaconda3\\lib\\site-packages\n",
      "Requires: numpy\n",
      "Required-by: \n"
     ]
    }
   ],
   "source": [
    "!pip show pyarrow"
   ]
  },
  {
   "cell_type": "code",
   "execution_count": null,
   "id": "09683465",
   "metadata": {},
   "outputs": [],
   "source": [
    "!pip show pyarrow"
   ]
  },
  {
   "cell_type": "code",
   "execution_count": 20,
   "id": "37a66811",
   "metadata": {},
   "outputs": [
    {
     "name": "stdout",
     "output_type": "stream",
     "text": [
      "Name: snowflake-connector-python\n",
      "Version: 2.7.11\n",
      "Summary: Snowflake Connector for Python\n",
      "Home-page: https://www.snowflake.com/\n",
      "Author: Snowflake, Inc\n",
      "Author-email: triage-snowpark-python-api-dl@snowflake.com\n",
      "License: Apache-2.0\n",
      "Location: c:\\users\\jae670\\anaconda3\\lib\\site-packages\n",
      "Requires: pyOpenSSL, pyjwt, setuptools, pytz, charset-normalizer, asn1crypto, cryptography, pycryptodomex, cffi, certifi, requests, oscrypto, idna, urllib3, typing-extensions\n",
      "Required-by: \n"
     ]
    }
   ],
   "source": [
    "!pip show snowflake.connector.python"
   ]
  },
  {
   "cell_type": "code",
   "execution_count": null,
   "id": "e7ba7618",
   "metadata": {},
   "outputs": [],
   "source": [
    "!pip  snowflake.connector.python"
   ]
  },
  {
   "cell_type": "code",
   "execution_count": 23,
   "id": "14bae7b9",
   "metadata": {},
   "outputs": [
    {
     "name": "stdout",
     "output_type": "stream",
     "text": [
      "Collecting snowflake.connector.python==2.8.0\n",
      "  Downloading snowflake_connector_python-2.8.0-cp39-cp39-win_amd64.whl (9.8 MB)\n",
      "Requirement already satisfied: oscrypto<2.0.0 in c:\\users\\jae670\\anaconda3\\lib\\site-packages (from snowflake.connector.python==2.8.0) (1.3.0)\n",
      "Requirement already satisfied: pytz in c:\\users\\jae670\\anaconda3\\lib\\site-packages (from snowflake.connector.python==2.8.0) (2021.3)\n",
      "Requirement already satisfied: charset-normalizer<3,>=2 in c:\\users\\jae670\\anaconda3\\lib\\site-packages (from snowflake.connector.python==2.8.0) (2.0.4)\n",
      "Requirement already satisfied: urllib3<1.27,>=1.21.1 in c:\\users\\jae670\\anaconda3\\lib\\site-packages (from snowflake.connector.python==2.8.0) (1.26.7)\n",
      "Collecting filelock<4,>=3.5\n",
      "  Downloading filelock-3.8.0-py3-none-any.whl (10 kB)\n",
      "Requirement already satisfied: idna<4,>=2.5 in c:\\users\\jae670\\anaconda3\\lib\\site-packages (from snowflake.connector.python==2.8.0) (3.2)\n",
      "Requirement already satisfied: requests<3.0.0 in c:\\users\\jae670\\anaconda3\\lib\\site-packages (from snowflake.connector.python==2.8.0) (2.26.0)\n",
      "Requirement already satisfied: typing-extensions<5,>=4.3 in c:\\users\\jae670\\anaconda3\\lib\\site-packages (from snowflake.connector.python==2.8.0) (4.3.0)\n",
      "Requirement already satisfied: pycryptodomex!=3.5.0,<4.0.0,>=3.2 in c:\\users\\jae670\\anaconda3\\lib\\site-packages (from snowflake.connector.python==2.8.0) (3.15.0)\n",
      "Requirement already satisfied: pyOpenSSL<23.0.0,>=16.2.0 in c:\\users\\jae670\\anaconda3\\lib\\site-packages (from snowflake.connector.python==2.8.0) (21.0.0)\n",
      "Requirement already satisfied: setuptools>34.0.0 in c:\\users\\jae670\\anaconda3\\lib\\site-packages (from snowflake.connector.python==2.8.0) (58.0.4)\n",
      "Requirement already satisfied: cryptography<37.0.0,>=3.1.0 in c:\\users\\jae670\\anaconda3\\lib\\site-packages (from snowflake.connector.python==2.8.0) (3.4.8)\n",
      "Requirement already satisfied: certifi>=2017.4.17 in c:\\users\\jae670\\anaconda3\\lib\\site-packages (from snowflake.connector.python==2.8.0) (2021.10.8)\n",
      "Requirement already satisfied: cffi<2.0.0,>=1.9 in c:\\users\\jae670\\anaconda3\\lib\\site-packages (from snowflake.connector.python==2.8.0) (1.14.6)\n",
      "Requirement already satisfied: pyjwt<3.0.0 in c:\\users\\jae670\\anaconda3\\lib\\site-packages (from snowflake.connector.python==2.8.0) (2.1.0)\n",
      "Requirement already satisfied: asn1crypto<2.0.0,>0.24.0 in c:\\users\\jae670\\anaconda3\\lib\\site-packages (from snowflake.connector.python==2.8.0) (1.5.1)\n",
      "Requirement already satisfied: pycparser in c:\\users\\jae670\\anaconda3\\lib\\site-packages (from cffi<2.0.0,>=1.9->snowflake.connector.python==2.8.0) (2.20)\n",
      "Requirement already satisfied: six>=1.5.2 in c:\\users\\jae670\\anaconda3\\lib\\site-packages (from pyOpenSSL<23.0.0,>=16.2.0->snowflake.connector.python==2.8.0) (1.16.0)\n",
      "Installing collected packages: filelock, snowflake.connector.python\n",
      "  Attempting uninstall: filelock\n",
      "    Found existing installation: filelock 3.3.1\n",
      "    Uninstalling filelock-3.3.1:\n",
      "      Successfully uninstalled filelock-3.3.1\n",
      "  Attempting uninstall: snowflake.connector.python\n",
      "    Found existing installation: snowflake-connector-python 2.7.11\n",
      "    Uninstalling snowflake-connector-python-2.7.11:\n",
      "      Successfully uninstalled snowflake-connector-python-2.7.11\n",
      "Successfully installed filelock-3.8.0 snowflake.connector.python-2.8.0\n"
     ]
    }
   ],
   "source": [
    "!pip install snowflake.connector.python==2.8.0 "
   ]
  },
  {
   "cell_type": "code",
   "execution_count": 14,
   "id": "63c3a68d",
   "metadata": {},
   "outputs": [
    {
     "name": "stdout",
     "output_type": "stream",
     "text": [
      "^C\n"
     ]
    }
   ],
   "source": [
    "!pip uninstall pandas "
   ]
  },
  {
   "cell_type": "code",
   "execution_count": 16,
   "id": "5bc21127",
   "metadata": {},
   "outputs": [
    {
     "name": "stdout",
     "output_type": "stream",
     "text": [
      "Collecting pandas==1.4.4"
     ]
    },
    {
     "name": "stderr",
     "output_type": "stream",
     "text": [
      "ERROR: Could not install packages due to an OSError: [WinError 5] Access is denied: 'C:\\\\Users\\\\Jae670\\\\Anaconda3\\\\Lib\\\\site-packages\\\\~andas\\\\_libs\\\\algos.cp39-win_amd64.pyd'\n",
      "Consider using the `--user` option or check the permissions.\n",
      "\n"
     ]
    },
    {
     "name": "stdout",
     "output_type": "stream",
     "text": [
      "\n",
      "  Downloading pandas-1.4.4-cp39-cp39-win_amd64.whl (10.6 MB)\n",
      "Requirement already satisfied: numpy>=1.18.5 in c:\\users\\jae670\\anaconda3\\lib\\site-packages (from pandas==1.4.4) (1.20.3)\n",
      "Requirement already satisfied: python-dateutil>=2.8.1 in c:\\users\\jae670\\anaconda3\\lib\\site-packages (from pandas==1.4.4) (2.8.2)\n",
      "Requirement already satisfied: pytz>=2020.1 in c:\\users\\jae670\\anaconda3\\lib\\site-packages (from pandas==1.4.4) (2021.3)\n",
      "Requirement already satisfied: six>=1.5 in c:\\users\\jae670\\anaconda3\\lib\\site-packages (from python-dateutil>=2.8.1->pandas==1.4.4) (1.16.0)\n",
      "Installing collected packages: pandas\n",
      "  Attempting uninstall: pandas\n",
      "    Found existing installation: pandas 1.3.4\n",
      "    Uninstalling pandas-1.3.4:\n",
      "      Successfully uninstalled pandas-1.3.4\n"
     ]
    }
   ],
   "source": [
    "!pip install pandas==1.4.4 "
   ]
  },
  {
   "cell_type": "code",
   "execution_count": 4,
   "id": "ed33a178",
   "metadata": {},
   "outputs": [
    {
     "name": "stdout",
     "output_type": "stream",
     "text": [
      "Requirement already satisfied: pyarrow==8.0.0 in c:\\users\\jae670\\anaconda3\\lib\\site-packages (8.0.0)\n",
      "Requirement already satisfied: numpy>=1.16.6 in c:\\users\\jae670\\anaconda3\\lib\\site-packages (from pyarrow==8.0.0) (1.20.3)\n"
     ]
    }
   ],
   "source": [
    "!pip install pyarrow==8.0.0"
   ]
  },
  {
   "cell_type": "code",
   "execution_count": 26,
   "id": "b84ea19f",
   "metadata": {},
   "outputs": [
    {
     "name": "stdout",
     "output_type": "stream",
     "text": [
      "Collecting numpy==1.21.5\n",
      "  Downloading numpy-1.21.5-cp39-cp39-win_amd64.whl (14.0 MB)\n",
      "Installing collected packages: numpy\n",
      "  Attempting uninstall: numpy\n",
      "    Found existing installation: numpy 1.20.3\n",
      "    Uninstalling numpy-1.20.3:\n",
      "      Successfully uninstalled numpy-1.20.3\n"
     ]
    },
    {
     "name": "stderr",
     "output_type": "stream",
     "text": [
      "ERROR: Could not install packages due to an OSError: [WinError 5] Access is denied: 'C:\\\\Users\\\\Jae670\\\\Anaconda3\\\\Lib\\\\site-packages\\\\~umpy\\\\core\\\\_multiarray_tests.cp39-win_amd64.pyd'\n",
      "Consider using the `--user` option or check the permissions.\n",
      "\n"
     ]
    }
   ],
   "source": [
    "!pip install numpy==1.21.5"
   ]
  },
  {
   "cell_type": "code",
   "execution_count": 27,
   "id": "9f95355c",
   "metadata": {},
   "outputs": [
    {
     "name": "stdout",
     "output_type": "stream",
     "text": [
      "Name: numpy\n",
      "Version: 1.21.5\n",
      "Summary: NumPy is the fundamental package for array computing with Python.\n",
      "Home-page: https://www.numpy.org\n",
      "Author: Travis E. Oliphant et al.\n",
      "Author-email: \n",
      "License: BSD\n",
      "Location: c:\\users\\jae670\\anaconda3\\lib\\site-packages\n",
      "Requires: \n",
      "Required-by: tifffile, tables, statsmodels, seaborn, scipy, scikit-learn, scikit-image, PyWavelets, pyerfa, pyarrow, patsy, pandas, numexpr, numba, mkl-random, mkl-fft, matplotlib, imageio, imagecodecs, h5py, fastparquet, daal4py, Bottleneck, bokeh, bkcharts, astropy\n"
     ]
    }
   ],
   "source": [
    "!pip show numpy "
   ]
  },
  {
   "cell_type": "code",
   "execution_count": 5,
   "id": "b4aacf0f",
   "metadata": {},
   "outputs": [
    {
     "data": {
      "text/html": [
       "<div>\n",
       "<style scoped>\n",
       "    .dataframe tbody tr th:only-of-type {\n",
       "        vertical-align: middle;\n",
       "    }\n",
       "\n",
       "    .dataframe tbody tr th {\n",
       "        vertical-align: top;\n",
       "    }\n",
       "\n",
       "    .dataframe thead th {\n",
       "        text-align: right;\n",
       "    }\n",
       "</style>\n",
       "<table border=\"1\" class=\"dataframe\">\n",
       "  <thead>\n",
       "    <tr style=\"text-align: right;\">\n",
       "      <th></th>\n",
       "      <th>CLAIM_YEAR</th>\n",
       "      <th>CLAIM_MONTH</th>\n",
       "      <th>PATIENT_EMPI_ID</th>\n",
       "      <th>CLAIM_ID</th>\n",
       "      <th>LINE_NUMBER</th>\n",
       "      <th>MEMBER_ID</th>\n",
       "      <th>FORM_TYPE</th>\n",
       "      <th>PLACE_OF_SERVICE_CODE</th>\n",
       "      <th>PLACE_OF_SERVICE</th>\n",
       "      <th>PAYER_NAME</th>\n",
       "      <th>...</th>\n",
       "      <th>ORDERING_PROVIDER_TAX_ID</th>\n",
       "      <th>ATTRIBUTED_PROVIDER_NPI</th>\n",
       "      <th>EPISODE_ATTRIBUTED_PROVIDER_NPI</th>\n",
       "      <th>BILLING_ORGANIZATION_NPI</th>\n",
       "      <th>PROVIDER_NPI</th>\n",
       "      <th>DIAGNOSIS_CODE_2</th>\n",
       "      <th>DIAGNOSIS_CODE_3</th>\n",
       "      <th>DIAGNOSIS_CODE_4</th>\n",
       "      <th>DIAGNOSIS_CODE_5</th>\n",
       "      <th>TCRRV_PROXY_LINE_AMOUNT</th>\n",
       "    </tr>\n",
       "  </thead>\n",
       "  <tbody>\n",
       "    <tr>\n",
       "      <th>0</th>\n",
       "      <td>2021</td>\n",
       "      <td>10</td>\n",
       "      <td>2e9e13df-f8da-4cc9-8366-498977f7fb8d</td>\n",
       "      <td>20211210001627</td>\n",
       "      <td>12</td>\n",
       "      <td>DBQ39943J00</td>\n",
       "      <td>P</td>\n",
       "      <td>21</td>\n",
       "      <td>Inpatient Hospital</td>\n",
       "      <td>OPA IHA Claims</td>\n",
       "      <td>...</td>\n",
       "      <td>None</td>\n",
       "      <td>1942234489</td>\n",
       "      <td>None</td>\n",
       "      <td>1881909711</td>\n",
       "      <td>1881909711</td>\n",
       "      <td>U07.1</td>\n",
       "      <td>I50.9</td>\n",
       "      <td>None</td>\n",
       "      <td>None</td>\n",
       "      <td>159.6934</td>\n",
       "    </tr>\n",
       "    <tr>\n",
       "      <th>1</th>\n",
       "      <td>2021</td>\n",
       "      <td>10</td>\n",
       "      <td>2e995e8a-699b-4164-a861-4b28198cc8e4</td>\n",
       "      <td>20211019012384</td>\n",
       "      <td>6</td>\n",
       "      <td>DEQ46853P00</td>\n",
       "      <td>I</td>\n",
       "      <td>23</td>\n",
       "      <td>Emergency Room - Hospital</td>\n",
       "      <td>OPA IHA Claims</td>\n",
       "      <td>...</td>\n",
       "      <td>None</td>\n",
       "      <td>1508158304</td>\n",
       "      <td>None</td>\n",
       "      <td>1164464921</td>\n",
       "      <td>1164464921</td>\n",
       "      <td>Z20.822</td>\n",
       "      <td>None</td>\n",
       "      <td>None</td>\n",
       "      <td>None</td>\n",
       "      <td>11.9906</td>\n",
       "    </tr>\n",
       "    <tr>\n",
       "      <th>2</th>\n",
       "      <td>2021</td>\n",
       "      <td>10</td>\n",
       "      <td>2e995e8a-699b-4164-a861-4b28198cc8e4</td>\n",
       "      <td>20211019012384</td>\n",
       "      <td>3</td>\n",
       "      <td>DEQ46853P00</td>\n",
       "      <td>I</td>\n",
       "      <td>23</td>\n",
       "      <td>Emergency Room - Hospital</td>\n",
       "      <td>OPA IHA Claims</td>\n",
       "      <td>...</td>\n",
       "      <td>None</td>\n",
       "      <td>1508158304</td>\n",
       "      <td>None</td>\n",
       "      <td>1164464921</td>\n",
       "      <td>1164464921</td>\n",
       "      <td>Z20.822</td>\n",
       "      <td>None</td>\n",
       "      <td>None</td>\n",
       "      <td>None</td>\n",
       "      <td>16.3509</td>\n",
       "    </tr>\n",
       "    <tr>\n",
       "      <th>3</th>\n",
       "      <td>2021</td>\n",
       "      <td>10</td>\n",
       "      <td>2e995e8a-699b-4164-a861-4b28198cc8e4</td>\n",
       "      <td>20211019012384</td>\n",
       "      <td>2</td>\n",
       "      <td>DEQ46853P00</td>\n",
       "      <td>I</td>\n",
       "      <td>23</td>\n",
       "      <td>Emergency Room - Hospital</td>\n",
       "      <td>OPA IHA Claims</td>\n",
       "      <td>...</td>\n",
       "      <td>None</td>\n",
       "      <td>1508158304</td>\n",
       "      <td>None</td>\n",
       "      <td>1164464921</td>\n",
       "      <td>1164464921</td>\n",
       "      <td>Z20.822</td>\n",
       "      <td>None</td>\n",
       "      <td>None</td>\n",
       "      <td>None</td>\n",
       "      <td>0</td>\n",
       "    </tr>\n",
       "    <tr>\n",
       "      <th>4</th>\n",
       "      <td>2021</td>\n",
       "      <td>10</td>\n",
       "      <td>2e9acfaa-b87f-4ee5-818c-b530424bce55</td>\n",
       "      <td>322822458</td>\n",
       "      <td>1</td>\n",
       "      <td>88045310501</td>\n",
       "      <td>P</td>\n",
       "      <td>11</td>\n",
       "      <td>Office</td>\n",
       "      <td>HealthNow BCBS Claims</td>\n",
       "      <td>...</td>\n",
       "      <td>None</td>\n",
       "      <td>1588629216</td>\n",
       "      <td>None</td>\n",
       "      <td>1306896220</td>\n",
       "      <td>1306896220</td>\n",
       "      <td>M99.02</td>\n",
       "      <td>M47.22</td>\n",
       "      <td>M79.18</td>\n",
       "      <td>None</td>\n",
       "      <td>43.6023</td>\n",
       "    </tr>\n",
       "  </tbody>\n",
       "</table>\n",
       "<p>5 rows × 45 columns</p>\n",
       "</div>"
      ],
      "text/plain": [
       "  CLAIM_YEAR CLAIM_MONTH                       PATIENT_EMPI_ID  \\\n",
       "0       2021          10  2e9e13df-f8da-4cc9-8366-498977f7fb8d   \n",
       "1       2021          10  2e995e8a-699b-4164-a861-4b28198cc8e4   \n",
       "2       2021          10  2e995e8a-699b-4164-a861-4b28198cc8e4   \n",
       "3       2021          10  2e995e8a-699b-4164-a861-4b28198cc8e4   \n",
       "4       2021          10  2e9acfaa-b87f-4ee5-818c-b530424bce55   \n",
       "\n",
       "         CLAIM_ID LINE_NUMBER    MEMBER_ID FORM_TYPE PLACE_OF_SERVICE_CODE  \\\n",
       "0  20211210001627          12  DBQ39943J00         P                    21   \n",
       "1  20211019012384           6  DEQ46853P00         I                    23   \n",
       "2  20211019012384           3  DEQ46853P00         I                    23   \n",
       "3  20211019012384           2  DEQ46853P00         I                    23   \n",
       "4       322822458           1  88045310501         P                    11   \n",
       "\n",
       "            PLACE_OF_SERVICE             PAYER_NAME  ...  \\\n",
       "0         Inpatient Hospital         OPA IHA Claims  ...   \n",
       "1  Emergency Room - Hospital         OPA IHA Claims  ...   \n",
       "2  Emergency Room - Hospital         OPA IHA Claims  ...   \n",
       "3  Emergency Room - Hospital         OPA IHA Claims  ...   \n",
       "4                     Office  HealthNow BCBS Claims  ...   \n",
       "\n",
       "  ORDERING_PROVIDER_TAX_ID ATTRIBUTED_PROVIDER_NPI  \\\n",
       "0                     None              1942234489   \n",
       "1                     None              1508158304   \n",
       "2                     None              1508158304   \n",
       "3                     None              1508158304   \n",
       "4                     None              1588629216   \n",
       "\n",
       "  EPISODE_ATTRIBUTED_PROVIDER_NPI BILLING_ORGANIZATION_NPI PROVIDER_NPI  \\\n",
       "0                            None               1881909711   1881909711   \n",
       "1                            None               1164464921   1164464921   \n",
       "2                            None               1164464921   1164464921   \n",
       "3                            None               1164464921   1164464921   \n",
       "4                            None               1306896220   1306896220   \n",
       "\n",
       "  DIAGNOSIS_CODE_2 DIAGNOSIS_CODE_3 DIAGNOSIS_CODE_4 DIAGNOSIS_CODE_5  \\\n",
       "0            U07.1            I50.9             None             None   \n",
       "1          Z20.822             None             None             None   \n",
       "2          Z20.822             None             None             None   \n",
       "3          Z20.822             None             None             None   \n",
       "4           M99.02           M47.22           M79.18             None   \n",
       "\n",
       "  TCRRV_PROXY_LINE_AMOUNT  \n",
       "0                159.6934  \n",
       "1                 11.9906  \n",
       "2                 16.3509  \n",
       "3                       0  \n",
       "4                 43.6023  \n",
       "\n",
       "[5 rows x 45 columns]"
      ]
     },
     "execution_count": 5,
     "metadata": {},
     "output_type": "execute_result"
    }
   ],
   "source": [
    "import snowflake.connector\n",
    "import pandas as pd \n",
    "from platform import python_version\n",
    "import pyarrow\n",
    "ctx = snowflake.connector.connect(\n",
    "    user='JOE EBERLE',\n",
    "    password='Jae$2052sf',\n",
    "    account='cerner-healtheedw_wny')\n",
    "\n",
    "# Create a cursor object.\n",
    "cur = ctx.cursor()\n",
    "\n",
    "# Execute a statement that will generate a result set. \n",
    "sql = \"select * from WNY_DB.WNY_ANALYST.DS_COPE_MED_CLAIM limit 10\"\n",
    "cur.execute(sql)\n",
    "\n",
    "# Fetch the result set from the cursor and deliver it as the Pandas DataFrame.\n",
    "df = cur.fetch_pandas_all()\n",
    "# result_list = cur.fetchall()\n",
    "# df = pd.DataFrame(result_list)\n",
    "cur.close()\n",
    "ctx.close()\n",
    "df.head()\n",
    " "
   ]
  },
  {
   "cell_type": "code",
   "execution_count": 6,
   "id": "f89964e1",
   "metadata": {},
   "outputs": [
    {
     "data": {
      "text/html": [
       "<div>\n",
       "<style scoped>\n",
       "    .dataframe tbody tr th:only-of-type {\n",
       "        vertical-align: middle;\n",
       "    }\n",
       "\n",
       "    .dataframe tbody tr th {\n",
       "        vertical-align: top;\n",
       "    }\n",
       "\n",
       "    .dataframe thead th {\n",
       "        text-align: right;\n",
       "    }\n",
       "</style>\n",
       "<table border=\"1\" class=\"dataframe\">\n",
       "  <thead>\n",
       "    <tr style=\"text-align: right;\">\n",
       "      <th></th>\n",
       "      <th>ORGANIZATION_CLASS</th>\n",
       "      <th>ORGANIZATION_NAME</th>\n",
       "      <th>PROVIDER_NAME</th>\n",
       "      <th>PROVIDER_NPI</th>\n",
       "      <th>PATIENT_NAME</th>\n",
       "      <th>BIRTH_DATE</th>\n",
       "      <th>AGE_YEARS</th>\n",
       "      <th>AGE</th>\n",
       "      <th>GENDER</th>\n",
       "      <th>PHONE</th>\n",
       "      <th>...</th>\n",
       "      <th>PROVIDER_ID</th>\n",
       "      <th>PLAN_NAME</th>\n",
       "      <th>PAYER_NAME</th>\n",
       "      <th>CLAIM_COUNT</th>\n",
       "      <th>ENCOUNTER_COUNT</th>\n",
       "      <th>PERSONNEL_ID</th>\n",
       "      <th>NPPES_PROVIDER_ORGANIZATION</th>\n",
       "      <th>ROLLING_YEAR_ENCOUNTER_COUNT</th>\n",
       "      <th>ROLLING_YEAR_CLAIM_COUNT</th>\n",
       "      <th>EMAIL_ADDRESS</th>\n",
       "    </tr>\n",
       "  </thead>\n",
       "  <tbody>\n",
       "    <tr>\n",
       "      <th>0</th>\n",
       "      <td>None</td>\n",
       "      <td>None</td>\n",
       "      <td>Aube-Marchant, Derek</td>\n",
       "      <td>1972736825</td>\n",
       "      <td>Wiegand, Terisa</td>\n",
       "      <td>1970-09-01</td>\n",
       "      <td>52.0</td>\n",
       "      <td>52 Years 244 Days</td>\n",
       "      <td>Female</td>\n",
       "      <td>7169944646</td>\n",
       "      <td>...</td>\n",
       "      <td>None</td>\n",
       "      <td>Pharmacy</td>\n",
       "      <td>BCBS</td>\n",
       "      <td>0</td>\n",
       "      <td>1</td>\n",
       "      <td>None</td>\n",
       "      <td>None</td>\n",
       "      <td>0</td>\n",
       "      <td>0</td>\n",
       "      <td>tiggyzip39@gmail.com</td>\n",
       "    </tr>\n",
       "    <tr>\n",
       "      <th>1</th>\n",
       "      <td>Independent GLIN Provider</td>\n",
       "      <td>LR PCP Canalside Primary Care PC 43 Niagara St</td>\n",
       "      <td>Ross, Lynne</td>\n",
       "      <td>1154388049</td>\n",
       "      <td>Kish, Sandra</td>\n",
       "      <td>1970-06-13</td>\n",
       "      <td>52.0</td>\n",
       "      <td>52 Years 164 Days</td>\n",
       "      <td>Female</td>\n",
       "      <td>7165500106</td>\n",
       "      <td>...</td>\n",
       "      <td>None</td>\n",
       "      <td>IHA Commercial</td>\n",
       "      <td>IHA</td>\n",
       "      <td>1</td>\n",
       "      <td>0</td>\n",
       "      <td>a8f96ce4-a212-4b1f-b2c4-664136c2c8be</td>\n",
       "      <td>None</td>\n",
       "      <td>0</td>\n",
       "      <td>0</td>\n",
       "      <td>skish42@hotmail.com</td>\n",
       "    </tr>\n",
       "    <tr>\n",
       "      <th>2</th>\n",
       "      <td>None</td>\n",
       "      <td>None</td>\n",
       "      <td>None</td>\n",
       "      <td>1366460321</td>\n",
       "      <td>Kish, Sandra</td>\n",
       "      <td>1970-06-13</td>\n",
       "      <td>52.0</td>\n",
       "      <td>52 Years 164 Days</td>\n",
       "      <td>Female</td>\n",
       "      <td>7165500106</td>\n",
       "      <td>...</td>\n",
       "      <td>None</td>\n",
       "      <td>IHA Commercial</td>\n",
       "      <td>IHA</td>\n",
       "      <td>3</td>\n",
       "      <td>0</td>\n",
       "      <td>None</td>\n",
       "      <td>QUEST DIAGNOSTICS OF PENNSYLVANIA INC.</td>\n",
       "      <td>0</td>\n",
       "      <td>0</td>\n",
       "      <td>skish42@hotmail.com</td>\n",
       "    </tr>\n",
       "    <tr>\n",
       "      <th>3</th>\n",
       "      <td>None</td>\n",
       "      <td>None</td>\n",
       "      <td>None</td>\n",
       "      <td>1942294467</td>\n",
       "      <td>Shields, Joanne M</td>\n",
       "      <td>1949-04-06</td>\n",
       "      <td>73.0</td>\n",
       "      <td>73 Years 96 Days</td>\n",
       "      <td>Female</td>\n",
       "      <td>7166941958</td>\n",
       "      <td>...</td>\n",
       "      <td>None</td>\n",
       "      <td>OTHER</td>\n",
       "      <td>WORKERS COMP</td>\n",
       "      <td>5</td>\n",
       "      <td>0</td>\n",
       "      <td>None</td>\n",
       "      <td>UB FAMILY MEDICINE, INC</td>\n",
       "      <td>0</td>\n",
       "      <td>0</td>\n",
       "      <td>jmsjasmine335@gmail.com</td>\n",
       "    </tr>\n",
       "    <tr>\n",
       "      <th>4</th>\n",
       "      <td>None</td>\n",
       "      <td>None</td>\n",
       "      <td>None</td>\n",
       "      <td>1285384412</td>\n",
       "      <td>Woodmansee, Delores</td>\n",
       "      <td>1944-05-12</td>\n",
       "      <td>78.0</td>\n",
       "      <td>78 Years 133 Days</td>\n",
       "      <td>Female</td>\n",
       "      <td>5853072246</td>\n",
       "      <td>...</td>\n",
       "      <td>None</td>\n",
       "      <td>NEW YORK MEDICAID</td>\n",
       "      <td>NEW YORK MEDICAID</td>\n",
       "      <td>0</td>\n",
       "      <td>5</td>\n",
       "      <td>None</td>\n",
       "      <td>OLEAN MEDICAL PRACTICE PLLC</td>\n",
       "      <td>5</td>\n",
       "      <td>0</td>\n",
       "      <td>deeliw9@gmail.com</td>\n",
       "    </tr>\n",
       "  </tbody>\n",
       "</table>\n",
       "<p>5 rows × 33 columns</p>\n",
       "</div>"
      ],
      "text/plain": [
       "          ORGANIZATION_CLASS                               ORGANIZATION_NAME  \\\n",
       "0                       None                                            None   \n",
       "1  Independent GLIN Provider  LR PCP Canalside Primary Care PC 43 Niagara St   \n",
       "2                       None                                            None   \n",
       "3                       None                                            None   \n",
       "4                       None                                            None   \n",
       "\n",
       "          PROVIDER_NAME PROVIDER_NPI         PATIENT_NAME  BIRTH_DATE  \\\n",
       "0  Aube-Marchant, Derek   1972736825      Wiegand, Terisa  1970-09-01   \n",
       "1           Ross, Lynne   1154388049         Kish, Sandra  1970-06-13   \n",
       "2                  None   1366460321         Kish, Sandra  1970-06-13   \n",
       "3                  None   1942294467    Shields, Joanne M  1949-04-06   \n",
       "4                  None   1285384412  Woodmansee, Delores  1944-05-12   \n",
       "\n",
       "   AGE_YEARS                 AGE  GENDER       PHONE  ... PROVIDER_ID  \\\n",
       "0       52.0  52 Years 244 Days   Female  7169944646  ...        None   \n",
       "1       52.0  52 Years 164 Days   Female  7165500106  ...        None   \n",
       "2       52.0  52 Years 164 Days   Female  7165500106  ...        None   \n",
       "3       73.0   73 Years 96 Days   Female  7166941958  ...        None   \n",
       "4       78.0  78 Years 133 Days   Female  5853072246  ...        None   \n",
       "\n",
       "           PLAN_NAME         PAYER_NAME CLAIM_COUNT  ENCOUNTER_COUNT  \\\n",
       "0           Pharmacy               BCBS           0                1   \n",
       "1     IHA Commercial                IHA           1                0   \n",
       "2     IHA Commercial                IHA           3                0   \n",
       "3              OTHER       WORKERS COMP           5                0   \n",
       "4  NEW YORK MEDICAID  NEW YORK MEDICAID           0                5   \n",
       "\n",
       "                           PERSONNEL_ID  \\\n",
       "0                                  None   \n",
       "1  a8f96ce4-a212-4b1f-b2c4-664136c2c8be   \n",
       "2                                  None   \n",
       "3                                  None   \n",
       "4                                  None   \n",
       "\n",
       "              NPPES_PROVIDER_ORGANIZATION  ROLLING_YEAR_ENCOUNTER_COUNT  \\\n",
       "0                                    None                             0   \n",
       "1                                    None                             0   \n",
       "2  QUEST DIAGNOSTICS OF PENNSYLVANIA INC.                             0   \n",
       "3                 UB FAMILY MEDICINE, INC                             0   \n",
       "4             OLEAN MEDICAL PRACTICE PLLC                             5   \n",
       "\n",
       "   ROLLING_YEAR_CLAIM_COUNT            EMAIL_ADDRESS  \n",
       "0                         0     tiggyzip39@gmail.com  \n",
       "1                         0      skish42@hotmail.com  \n",
       "2                         0      skish42@hotmail.com  \n",
       "3                         0  jmsjasmine335@gmail.com  \n",
       "4                         0        deeliw9@gmail.com  \n",
       "\n",
       "[5 rows x 33 columns]"
      ]
     },
     "execution_count": 6,
     "metadata": {},
     "output_type": "execute_result"
    }
   ],
   "source": [
    "ctx = snowflake.connector.connect(\n",
    "    user='JOE EBERLE',\n",
    "    password='Jae$2052sf',\n",
    "    account='cerner-healtheedw_wny')\n",
    "\n",
    "# Create a cursor object.\n",
    "cur = ctx.cursor()\n",
    "\n",
    "# Execute a statement that will generate a result set. \n",
    "\n",
    "sql = \"select * from WNY_DB.WNY_ANALYST.DS_TREATED_PATIENT_DETAIL\"\n",
    "cur.execute(sql)\n",
    "\n",
    "# Fetch the result set from the cursor and deliver it as the Pandas DataFrame.\n",
    "df = cur.fetch_pandas_all()\n",
    "cur.close()\n",
    "ctx.close()\n",
    "df.head()\n"
   ]
  },
  {
   "cell_type": "code",
   "execution_count": null,
   "id": "5a6a9c1f",
   "metadata": {},
   "outputs": [],
   "source": [
    "df.info()"
   ]
  },
  {
   "cell_type": "code",
   "execution_count": null,
   "id": "29e3efe0",
   "metadata": {},
   "outputs": [],
   "source": [
    "df.head()\n"
   ]
  }
 ],
 "metadata": {
  "kernelspec": {
   "display_name": "Python 3 (ipykernel)",
   "language": "python",
   "name": "python3"
  },
  "language_info": {
   "codemirror_mode": {
    "name": "ipython",
    "version": 3
   },
   "file_extension": ".py",
   "mimetype": "text/x-python",
   "name": "python",
   "nbconvert_exporter": "python",
   "pygments_lexer": "ipython3",
   "version": "3.9.7"
  }
 },
 "nbformat": 4,
 "nbformat_minor": 5
}
