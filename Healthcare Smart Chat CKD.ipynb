{
 "cells": [
  {
   "cell_type": "markdown",
   "metadata": {},
   "source": [
    "# This is an AI chatbot that learns from a corpus on the web\n",
    "# https://www.mayoclinic.org/diseases-conditions/chronic-kidney-disease/symptoms-causes/syc-20354521"
   ]
  },
  {
   "cell_type": "code",
   "execution_count": null,
   "metadata": {},
   "outputs": [],
   "source": [
    "pip install nltk\n"
   ]
  },
  {
   "cell_type": "code",
   "execution_count": 2,
   "metadata": {},
   "outputs": [
    {
     "name": "stdout",
     "output_type": "stream",
     "text": [
      "Requirement already satisfied: newspaper3k in c:\\users\\josep\\anaconda3\\lib\\site-packages (0.2.8)\n",
      "Requirement already satisfied: cssselect>=0.9.2 in c:\\users\\josep\\anaconda3\\lib\\site-packages (from newspaper3k) (1.1.0)\n",
      "Requirement already satisfied: nltk>=3.2.1 in c:\\users\\josep\\anaconda3\\lib\\site-packages (from newspaper3k) (3.5)\n",
      "Requirement already satisfied: requests>=2.10.0 in c:\\users\\josep\\anaconda3\\lib\\site-packages (from newspaper3k) (2.24.0)\n",
      "Requirement already satisfied: feedparser>=5.2.1 in c:\\users\\josep\\anaconda3\\lib\\site-packages (from newspaper3k) (6.0.2)\n",
      "Requirement already satisfied: beautifulsoup4>=4.4.1 in c:\\users\\josep\\anaconda3\\lib\\site-packages (from newspaper3k) (4.9.3)\n",
      "Requirement already satisfied: Pillow>=3.3.0 in c:\\users\\josep\\anaconda3\\lib\\site-packages (from newspaper3k) (8.0.1)\n",
      "Requirement already satisfied: python-dateutil>=2.5.3 in c:\\users\\josep\\anaconda3\\lib\\site-packages (from newspaper3k) (2.8.1)\n",
      "Requirement already satisfied: tldextract>=2.0.1 in c:\\users\\josep\\anaconda3\\lib\\site-packages (from newspaper3k) (3.1.0)\n",
      "Requirement already satisfied: tinysegmenter==0.3 in c:\\users\\josep\\anaconda3\\lib\\site-packages (from newspaper3k) (0.3)\n",
      "Requirement already satisfied: jieba3k>=0.35.1 in c:\\users\\josep\\anaconda3\\lib\\site-packages (from newspaper3k) (0.35.1)\n",
      "Requirement already satisfied: feedfinder2>=0.0.4 in c:\\users\\josep\\anaconda3\\lib\\site-packages (from newspaper3k) (0.0.4)\n",
      "Requirement already satisfied: PyYAML>=3.11 in c:\\users\\josep\\anaconda3\\lib\\site-packages (from newspaper3k) (5.3.1)\n",
      "Requirement already satisfied: lxml>=3.6.0 in c:\\users\\josep\\anaconda3\\lib\\site-packages (from newspaper3k) (4.6.1)\n",
      "Requirement already satisfied: regex in c:\\users\\josep\\anaconda3\\lib\\site-packages (from nltk>=3.2.1->newspaper3k) (2020.10.15)\n",
      "Requirement already satisfied: click in c:\\users\\josep\\anaconda3\\lib\\site-packages (from nltk>=3.2.1->newspaper3k) (7.1.2)\n",
      "Requirement already satisfied: joblib in c:\\users\\josep\\anaconda3\\lib\\site-packages (from nltk>=3.2.1->newspaper3k) (0.17.0)\n",
      "Requirement already satisfied: tqdm in c:\\users\\josep\\anaconda3\\lib\\site-packages (from nltk>=3.2.1->newspaper3k) (4.50.2)\n",
      "Requirement already satisfied: urllib3!=1.25.0,!=1.25.1,<1.26,>=1.21.1 in c:\\users\\josep\\anaconda3\\lib\\site-packages (from requests>=2.10.0->newspaper3k) (1.25.11)\n",
      "Requirement already satisfied: chardet<4,>=3.0.2 in c:\\users\\josep\\anaconda3\\lib\\site-packages (from requests>=2.10.0->newspaper3k) (3.0.4)\n",
      "Requirement already satisfied: certifi>=2017.4.17 in c:\\users\\josep\\anaconda3\\lib\\site-packages (from requests>=2.10.0->newspaper3k) (2020.6.20)\n",
      "Requirement already satisfied: idna<3,>=2.5 in c:\\users\\josep\\anaconda3\\lib\\site-packages (from requests>=2.10.0->newspaper3k) (2.10)\n",
      "Requirement already satisfied: sgmllib3k in c:\\users\\josep\\anaconda3\\lib\\site-packages (from feedparser>=5.2.1->newspaper3k) (1.0.0)\n",
      "Requirement already satisfied: soupsieve>1.2; python_version >= \"3.0\" in c:\\users\\josep\\anaconda3\\lib\\site-packages (from beautifulsoup4>=4.4.1->newspaper3k) (2.0.1)\n",
      "Requirement already satisfied: six>=1.5 in c:\\users\\josep\\anaconda3\\lib\\site-packages (from python-dateutil>=2.5.3->newspaper3k) (1.15.0)\n",
      "Requirement already satisfied: requests-file>=1.4 in c:\\users\\josep\\anaconda3\\lib\\site-packages (from tldextract>=2.0.1->newspaper3k) (1.5.1)\n",
      "Requirement already satisfied: filelock>=3.0.8 in c:\\users\\josep\\anaconda3\\lib\\site-packages (from tldextract>=2.0.1->newspaper3k) (3.0.12)\n",
      "Note: you may need to restart the kernel to use updated packages.\n"
     ]
    }
   ],
   "source": [
    "pip install newspaper3k"
   ]
  },
  {
   "cell_type": "markdown",
   "metadata": {},
   "source": [
    "#https://www.mayoclinic.org/diseases-conditions/chronic-kidney-disease/symptoms-causes/syc-20354521"
   ]
  },
  {
   "cell_type": "code",
   "execution_count": 3,
   "metadata": {},
   "outputs": [],
   "source": [
    "#Import the libraries\n",
    "from newspaper import Article\n",
    "import random\n",
    "import string\n",
    "import nltk\n",
    "from sklearn.feature_extraction.text import CountVectorizer\n",
    "from sklearn.metrics.pairwise import cosine_similarity\n",
    "import numpy as np\n",
    "import warnings\n",
    "warnings.filterwarnings('ignore')"
   ]
  },
  {
   "cell_type": "code",
   "execution_count": 4,
   "metadata": {},
   "outputs": [
    {
     "data": {
      "text/plain": [
       "True"
      ]
     },
     "execution_count": 4,
     "metadata": {},
     "output_type": "execute_result"
    }
   ],
   "source": [
    "# Download trhe punkt package\n",
    "nltk.download('punkt', quiet=True)"
   ]
  },
  {
   "cell_type": "code",
   "execution_count": 5,
   "metadata": {},
   "outputs": [],
   "source": [
    "#get the Article\n",
    "article = Article('https://www.mayoclinic.org/diseases-conditions/chronic-kidney-disease/symptoms-causes/syc-20354521')\n",
    "article.download()\n",
    "article.parse()\n",
    "article.nlp()\n",
    "corpus = article.text"
   ]
  },
  {
   "cell_type": "code",
   "execution_count": 6,
   "metadata": {},
   "outputs": [
    {
     "name": "stdout",
     "output_type": "stream",
     "text": [
      "Overview\n",
      "\n",
      "Chronic kidney disease, also called chronic kidney failure, involves a gradual loss of kidney function. Your kidneys filter wastes and excess fluids from your blood, which are then removed in your urine. Advanced chronic kidney disease can cause dangerous levels of fluid, electrolytes and wastes to build up in your body.\n",
      "\n",
      "In the early stages of chronic kidney disease, you might have few signs or symptoms. You might not realize that you have kidney disease until the condition is advanced.\n",
      "\n",
      "Treatment for chronic kidney disease focuses on slowing the progression of kidney damage, usually by controlling the cause. But, even controlling the cause might not keep kidney damage from progressing. Chronic kidney disease can progress to end-stage kidney failure, which is fatal without artificial filtering (dialysis) or a kidney transplant.\n",
      "\n",
      "How kidneys work Show transcript for video How kidneys work One of the important jobs of the kidneys is to clean the blood. As blood moves through the body, it picks up extra fluid, chemicals and waste. The kidneys separate this material from the blood. It's carried out of the body in urine. If the kidneys are unable to do this and the condition is untreated, serious health problems result, with eventual loss of life.\n",
      "\n",
      "Symptoms\n",
      "\n",
      "Signs and symptoms of chronic kidney disease develop over time if kidney damage progresses slowly. Loss of kidney function can cause a buildup of fluid or body waste or electrolyte problems. Depending on how severe it is, loss of kidney function can cause:\n",
      "\n",
      "Nausea\n",
      "\n",
      "Vomiting\n",
      "\n",
      "Loss of appetite\n",
      "\n",
      "Fatigue and weakness\n",
      "\n",
      "Sleep problems\n",
      "\n",
      "Urinating more or less\n",
      "\n",
      "Decreased mental sharpness\n",
      "\n",
      "Muscle cramps\n",
      "\n",
      "Swelling of feet and ankles\n",
      "\n",
      "Dry, itchy skin\n",
      "\n",
      "High blood pressure (hypertension) that's difficult to control\n",
      "\n",
      "Shortness of breath, if fluid builds up in the lungs\n",
      "\n",
      "Chest pain, if fluid builds up around the lining of the heart\n",
      "\n",
      "Signs and symptoms of kidney disease are often nonspecific. This means they can also be caused by other illnesses. Because your kidneys are able to make up for lost function, you might not develop signs and symptoms until irreversible damage has occurred.\n",
      "\n",
      "When to see a doctor\n",
      "\n",
      "Make an appointment with your doctor if you have signs or symptoms of kidney disease. Early detection might help prevent kidney disease from progressing to kidney failure.\n",
      "\n",
      "If you have a medical condition that increases your risk of kidney disease, your doctor may monitor your blood pressure and kidney function with urine and blood tests during office visits. Ask your doctor whether these tests are necessary for you.\n",
      "\n",
      "Causes\n",
      "\n",
      "Normal kidney vs. diseased kidney Open pop-up dialog box Close Normal kidney vs. diseased kidney Normal kidney vs. diseased kidney A normal kidney has about 1 million filtering units. Each unit, called a glomerulus, connects to a tubule, which collects urine. Conditions such as high blood pressure and diabetes take a toll on kidney function by damaging these filtering units and collecting tubules and causing scarring.\n",
      "\n",
      "Polycystic kidney Open pop-up dialog box Close Polycystic kidney Polycystic kidney A healthy kidney (left) eliminates waste from the blood and maintains the body's balance. With polycystic kidney disease (right), fluid-filled sacs called cysts develop in the kidneys, causing them to grow larger and gradually lose their ability to function normally.\n",
      "\n",
      "Chronic kidney disease occurs when a disease or condition impairs kidney function, causing kidney damage to worsen over several months or years.\n",
      "\n",
      "Diseases and conditions that cause chronic kidney disease include:\n",
      "\n",
      "Type 1 or type 2 diabetes\n",
      "\n",
      "High blood pressure\n",
      "\n",
      "Glomerulonephritis (gloe-mer-u-low-nuh-FRY-tis), an inflammation of the kidney's filtering units (glomeruli)\n",
      "\n",
      "Interstitial nephritis (in-tur-STISH-ul nuh-FRY-tis), an inflammation of the kidney's tubules and surrounding structures\n",
      "\n",
      "Polycystic kidney disease or other inherited kidney diseases\n",
      "\n",
      "Prolonged obstruction of the urinary tract, from conditions such as enlarged prostate, kidney stones and some cancers\n",
      "\n",
      "Vesicoureteral (ves-ih-koe-yoo-REE-tur-ul) reflux, a condition that causes urine to back up into your kidneys\n",
      "\n",
      "Recurrent kidney infection, also called pyelonephritis (pie-uh-low-nuh-FRY-tis)\n",
      "\n",
      "Risk factors\n",
      "\n",
      "Factors that can increase your risk of chronic kidney disease include:\n",
      "\n",
      "Diabetes\n",
      "\n",
      "High blood pressure\n",
      "\n",
      "Heart (cardiovascular) disease\n",
      "\n",
      "Smoking\n",
      "\n",
      "Obesity\n",
      "\n",
      "Being Black, Native American or Asian American\n",
      "\n",
      "Family history of kidney disease\n",
      "\n",
      "Abnormal kidney structure\n",
      "\n",
      "Older age\n",
      "\n",
      "Frequent use of medications that can damage the kidneys\n",
      "\n",
      "Complications\n",
      "\n",
      "Chronic kidney disease can affect almost every part of your body. Potential complications include:\n",
      "\n",
      "Fluid retention, which could lead to swelling in your arms and legs, high blood pressure, or fluid in your lungs (pulmonary edema)\n",
      "\n",
      "A sudden rise in potassium levels in your blood (hyperkalemia), which could impair your heart's function and can be life-threatening\n",
      "\n",
      "Anemia\n",
      "\n",
      "Heart disease\n",
      "\n",
      "Weak bones and an increased risk of bone fractures\n",
      "\n",
      "Decreased sex drive, erectile dysfunction or reduced fertility\n",
      "\n",
      "Damage to your central nervous system, which can cause difficulty concentrating, personality changes or seizures\n",
      "\n",
      "Decreased immune response, which makes you more vulnerable to infection\n",
      "\n",
      "Pericarditis, an inflammation of the saclike membrane that envelops your heart (pericardium)\n",
      "\n",
      "Pregnancy complications that carry risks for the mother and the developing fetus\n",
      "\n",
      "Irreversible damage to your kidneys (end-stage kidney disease), eventually requiring either dialysis or a kidney transplant for survival\n",
      "\n",
      "Prevention\n",
      "\n",
      "To reduce your risk of developing kidney disease:\n"
     ]
    }
   ],
   "source": [
    "#Print the article\n",
    "print(corpus)"
   ]
  },
  {
   "cell_type": "code",
   "execution_count": 7,
   "metadata": {},
   "outputs": [],
   "source": [
    "#Toknenize the text of the Corpus\n",
    "text = corpus\n",
    "sentence_list = nltk.sent_tokenize(text) # a List of sentences "
   ]
  },
  {
   "cell_type": "code",
   "execution_count": 8,
   "metadata": {},
   "outputs": [
    {
     "name": "stdout",
     "output_type": "stream",
     "text": [
      "['Overview\\n\\nChronic kidney disease, also called chronic kidney failure, involves a gradual loss of kidney function.', 'Your kidneys filter wastes and excess fluids from your blood, which are then removed in your urine.', 'Advanced chronic kidney disease can cause dangerous levels of fluid, electrolytes and wastes to build up in your body.', 'In the early stages of chronic kidney disease, you might have few signs or symptoms.', 'You might not realize that you have kidney disease until the condition is advanced.', 'Treatment for chronic kidney disease focuses on slowing the progression of kidney damage, usually by controlling the cause.', 'But, even controlling the cause might not keep kidney damage from progressing.', 'Chronic kidney disease can progress to end-stage kidney failure, which is fatal without artificial filtering (dialysis) or a kidney transplant.', 'How kidneys work Show transcript for video How kidneys work One of the important jobs of the kidneys is to clean the blood.', 'As blood moves through the body, it picks up extra fluid, chemicals and waste.', 'The kidneys separate this material from the blood.', \"It's carried out of the body in urine.\", 'If the kidneys are unable to do this and the condition is untreated, serious health problems result, with eventual loss of life.', 'Symptoms\\n\\nSigns and symptoms of chronic kidney disease develop over time if kidney damage progresses slowly.', 'Loss of kidney function can cause a buildup of fluid or body waste or electrolyte problems.', \"Depending on how severe it is, loss of kidney function can cause:\\n\\nNausea\\n\\nVomiting\\n\\nLoss of appetite\\n\\nFatigue and weakness\\n\\nSleep problems\\n\\nUrinating more or less\\n\\nDecreased mental sharpness\\n\\nMuscle cramps\\n\\nSwelling of feet and ankles\\n\\nDry, itchy skin\\n\\nHigh blood pressure (hypertension) that's difficult to control\\n\\nShortness of breath, if fluid builds up in the lungs\\n\\nChest pain, if fluid builds up around the lining of the heart\\n\\nSigns and symptoms of kidney disease are often nonspecific.\", 'This means they can also be caused by other illnesses.', 'Because your kidneys are able to make up for lost function, you might not develop signs and symptoms until irreversible damage has occurred.', 'When to see a doctor\\n\\nMake an appointment with your doctor if you have signs or symptoms of kidney disease.', 'Early detection might help prevent kidney disease from progressing to kidney failure.', 'If you have a medical condition that increases your risk of kidney disease, your doctor may monitor your blood pressure and kidney function with urine and blood tests during office visits.', 'Ask your doctor whether these tests are necessary for you.', 'Causes\\n\\nNormal kidney vs. diseased kidney Open pop-up dialog box Close Normal kidney vs. diseased kidney Normal kidney vs. diseased kidney A normal kidney has about 1 million filtering units.', 'Each unit, called a glomerulus, connects to a tubule, which collects urine.', 'Conditions such as high blood pressure and diabetes take a toll on kidney function by damaging these filtering units and collecting tubules and causing scarring.', \"Polycystic kidney Open pop-up dialog box Close Polycystic kidney Polycystic kidney A healthy kidney (left) eliminates waste from the blood and maintains the body's balance.\", 'With polycystic kidney disease (right), fluid-filled sacs called cysts develop in the kidneys, causing them to grow larger and gradually lose their ability to function normally.', 'Chronic kidney disease occurs when a disease or condition impairs kidney function, causing kidney damage to worsen over several months or years.', \"Diseases and conditions that cause chronic kidney disease include:\\n\\nType 1 or type 2 diabetes\\n\\nHigh blood pressure\\n\\nGlomerulonephritis (gloe-mer-u-low-nuh-FRY-tis), an inflammation of the kidney's filtering units (glomeruli)\\n\\nInterstitial nephritis (in-tur-STISH-ul nuh-FRY-tis), an inflammation of the kidney's tubules and surrounding structures\\n\\nPolycystic kidney disease or other inherited kidney diseases\\n\\nProlonged obstruction of the urinary tract, from conditions such as enlarged prostate, kidney stones and some cancers\\n\\nVesicoureteral (ves-ih-koe-yoo-REE-tur-ul) reflux, a condition that causes urine to back up into your kidneys\\n\\nRecurrent kidney infection, also called pyelonephritis (pie-uh-low-nuh-FRY-tis)\\n\\nRisk factors\\n\\nFactors that can increase your risk of chronic kidney disease include:\\n\\nDiabetes\\n\\nHigh blood pressure\\n\\nHeart (cardiovascular) disease\\n\\nSmoking\\n\\nObesity\\n\\nBeing Black, Native American or Asian American\\n\\nFamily history of kidney disease\\n\\nAbnormal kidney structure\\n\\nOlder age\\n\\nFrequent use of medications that can damage the kidneys\\n\\nComplications\\n\\nChronic kidney disease can affect almost every part of your body.\", \"Potential complications include:\\n\\nFluid retention, which could lead to swelling in your arms and legs, high blood pressure, or fluid in your lungs (pulmonary edema)\\n\\nA sudden rise in potassium levels in your blood (hyperkalemia), which could impair your heart's function and can be life-threatening\\n\\nAnemia\\n\\nHeart disease\\n\\nWeak bones and an increased risk of bone fractures\\n\\nDecreased sex drive, erectile dysfunction or reduced fertility\\n\\nDamage to your central nervous system, which can cause difficulty concentrating, personality changes or seizures\\n\\nDecreased immune response, which makes you more vulnerable to infection\\n\\nPericarditis, an inflammation of the saclike membrane that envelops your heart (pericardium)\\n\\nPregnancy complications that carry risks for the mother and the developing fetus\\n\\nIrreversible damage to your kidneys (end-stage kidney disease), eventually requiring either dialysis or a kidney transplant for survival\\n\\nPrevention\\n\\nTo reduce your risk of developing kidney disease:\"]\n"
     ]
    }
   ],
   "source": [
    "# print the sentence list\n",
    "print(sentence_list)"
   ]
  },
  {
   "cell_type": "code",
   "execution_count": 9,
   "metadata": {},
   "outputs": [],
   "source": [
    "# a function to return a random greeting responce\n",
    "def greeting_response(text):\n",
    "    text = text.lower()\n",
    "    \n",
    "    #bots greeting responses\n",
    "    bot_greetings = ['howdy','hi','hey', 'hello','hola']\n",
    "    #Users greetings\n",
    "    user_greetings =['hi','hey','hello','hola','wassup','greetings','howdy','goodmorning']\n",
    "    \n",
    "    for word in text.split(): \n",
    "        if word in user_greetings:\n",
    "            return random.choice(bot_greetings)\n",
    "        \n"
   ]
  },
  {
   "cell_type": "code",
   "execution_count": 10,
   "metadata": {},
   "outputs": [],
   "source": [
    "def index_sort(list_var):\n",
    "    length = len(list_var)\n",
    "    list_index = list(range(0,length))\n",
    "    \n",
    "    x = list_var\n",
    "    for i in range(length): \n",
    "        for j in range(length):\n",
    "            if x[list_index[i]] > x[list_index[j]]:\n",
    "                #swap\n",
    "                temp = list_index[i]\n",
    "                list_index[i] = list_index[j]\n",
    "                list_index[j] = temp\n",
    "                \n",
    "                \n",
    "    return list_index\n",
    "   "
   ]
  },
  {
   "cell_type": "code",
   "execution_count": 11,
   "metadata": {},
   "outputs": [],
   "source": [
    "# a function to create the bots response\n",
    "def bot_response(user_input):\n",
    "    user_input = user_input.lower()\n",
    "    sentence_list.append(user_input)\n",
    "    bot_response = ''\n",
    "    cm = CountVectorizer().fit_transform(sentence_list)\n",
    "    similarity_scores = cosine_similarity(cm[-1], cm)\n",
    "    similarity_scores_list = similarity_scores.flatten()\n",
    "    index = index_sort(similarity_scores_list)\n",
    "    index = index[1:]\n",
    "    response_flag = 0 \n",
    "    \n",
    "    j = 0 \n",
    "    for i in range(len(index)):\n",
    "        if similarity_scores_list[index[i]] > 0.0:\n",
    "            bot_response = bot_response+' '+sentence_list[index[i]]\n",
    "            response_flag = 1\n",
    "            j = j + 1\n",
    "        if j > 2:\n",
    "            break\n",
    "            \n",
    "    if response_flag == 0:\n",
    "        bot_response+' '+'I apologize, I dont understand'\n",
    "        \n",
    "    sentence_list.remove(user_input)\n",
    "    \n",
    "    return bot_response"
   ]
  },
  {
   "cell_type": "code",
   "execution_count": 12,
   "metadata": {},
   "outputs": [
    {
     "name": "stdout",
     "output_type": "stream",
     "text": [
      "Doc Alan Bot: I am doc bot. I will answer your questions about Diabetes Risk. If you want to exit type bye\n",
      "hi\n",
      "Doc Alan  Bot: howdy\n",
      "hello\n",
      "Doc Alan  Bot: hello\n",
      "hi\n",
      "Doc Alan  Bot: hi\n",
      "what are the symptoms of chronic kidney disease\n",
      "Doc Alan bot: Symptoms\n",
      "\n",
      "Signs and symptoms of chronic kidney disease develop over time if kidney damage progresses slowly. In the early stages of chronic kidney disease, you might have few signs or symptoms. Treatment for chronic kidney disease focuses on slowing the progression of kidney damage, usually by controlling the cause.\n",
      "Symptoms\n",
      "Doc Alan bot: Symptoms\n",
      "\n",
      "Signs and symptoms of chronic kidney disease develop over time if kidney damage progresses slowly. In the early stages of chronic kidney disease, you might have few signs or symptoms. When to see a doctor\n",
      "\n",
      "Make an appointment with your doctor if you have signs or symptoms of kidney disease.\n",
      "exit\n",
      "Doc Alan  Bot: chat with you later !!\n"
     ]
    }
   ],
   "source": [
    "# start the chat \n",
    "print('Doc Alan Bot: I am doc bot. I will answer your questions about Diabetes Risk. If you want to exit type bye')\n",
    "\n",
    "exit_list = ['exit','see you later','quit','break','bye']\n",
    "\n",
    "while(True):\n",
    "    user_input = input()\n",
    "    if user_input.lower() in exit_list:\n",
    "        print('Doc Alan  Bot: chat with you later !!')\n",
    "        break\n",
    "    else:\n",
    "        if greeting_response(user_input) != None:\n",
    "            print('Doc Alan  Bot: '+greeting_response(user_input))\n",
    "        else:\n",
    "            print('Doc Alan bot:'+bot_response(user_input))\n",
    "        "
   ]
  }
 ],
 "metadata": {
  "kernelspec": {
   "display_name": "Python 3 (ipykernel)",
   "language": "python",
   "name": "python3"
  },
  "language_info": {
   "codemirror_mode": {
    "name": "ipython",
    "version": 3
   },
   "file_extension": ".py",
   "mimetype": "text/x-python",
   "name": "python",
   "nbconvert_exporter": "python",
   "pygments_lexer": "ipython3",
   "version": "3.8.5"
  }
 },
 "nbformat": 4,
 "nbformat_minor": 4
}
