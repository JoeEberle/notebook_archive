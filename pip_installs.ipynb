{
 "cells": [
  {
   "cell_type": "code",
   "execution_count": null,
   "metadata": {},
   "outputs": [],
   "source": [
    "# PIP Install any Python Libraries you dont already have installed \n",
    "#!pip install pyttsx3\n",
    "#!pip install pandas\n",
    "#!pip install pyodbc\n",
    "#!pip install opencv-python\n",
    "\n",
    "\n",
    "def pip_install(library_name):\n",
    "    pip_command := '!pip install' + library_name\n",
    "    return  pip_command "
   ]
  }
 ],
 "metadata": {
  "kernelspec": {
   "display_name": "Python 3",
   "language": "python",
   "name": "python3"
  },
  "language_info": {
   "codemirror_mode": {
    "name": "ipython",
    "version": 3
   },
   "file_extension": ".py",
   "mimetype": "text/x-python",
   "name": "python",
   "nbconvert_exporter": "python",
   "pygments_lexer": "ipython3",
   "version": "3.8.5"
  }
 },
 "nbformat": 4,
 "nbformat_minor": 4
}
