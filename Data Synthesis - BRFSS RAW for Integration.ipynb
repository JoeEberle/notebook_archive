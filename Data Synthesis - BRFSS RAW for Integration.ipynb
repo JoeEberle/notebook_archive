{
 "cells": [
  {
   "cell_type": "markdown",
   "metadata": {},
   "source": [
    "## Data Synthesis - BRFSS Cleansing for Integration"
   ]
  },
  {
   "cell_type": "code",
   "execution_count": 9,
   "metadata": {},
   "outputs": [],
   "source": [
    "import pandas as pd\n",
    "import numpy as np\n",
    "import random as rd"
   ]
  },
  {
   "cell_type": "code",
   "execution_count": 10,
   "metadata": {},
   "outputs": [
    {
     "data": {
      "text/plain": [
       "(10000, 427)"
      ]
     },
     "execution_count": 10,
     "metadata": {},
     "output_type": "execute_result"
    }
   ],
   "source": [
    "# Read in the AIHS Data set integrated with RAW BRFSS data set \n",
    "df_BRFSS = pd.read_csv(\"C:/Users/josep/documents/datasets/AIHS_SIM_V4_BRFSS_RAW.csv\",nrows=10000)\n",
    "df_BRFSS.shape"
   ]
  },
  {
   "cell_type": "code",
   "execution_count": null,
   "metadata": {},
   "outputs": [],
   "source": [
    "# Read in the AIHS Data set integrated with RAW BRFSS data set \n",
    "df_BRFSS = pd.read_csv(\"C:/Users/josep/documents/datasets/BRFSS_Redux.csv\",nrows=31546)\n",
    "df_BRFSS.shape"
   ]
  },
  {
   "cell_type": "code",
   "execution_count": 11,
   "metadata": {},
   "outputs": [],
   "source": [
    "# Save the transformed file \n",
    "df_BRFSS.to_csv(\"C:/Users/josep/documents/datasets/AIHS_SIM_BRFSS_RAW_Reduced.csv\") "
   ]
  },
  {
   "cell_type": "code",
   "execution_count": 5,
   "metadata": {},
   "outputs": [
    {
     "data": {
      "text/html": [
       "<div>\n",
       "<style scoped>\n",
       "    .dataframe tbody tr th:only-of-type {\n",
       "        vertical-align: middle;\n",
       "    }\n",
       "\n",
       "    .dataframe tbody tr th {\n",
       "        vertical-align: top;\n",
       "    }\n",
       "\n",
       "    .dataframe thead th {\n",
       "        text-align: right;\n",
       "    }\n",
       "</style>\n",
       "<table border=\"1\" class=\"dataframe\">\n",
       "  <thead>\n",
       "    <tr style=\"text-align: right;\">\n",
       "      <th></th>\n",
       "      <th>_STATE</th>\n",
       "      <th>FMONTH</th>\n",
       "      <th>IDATE</th>\n",
       "      <th>IMONTH</th>\n",
       "      <th>IDAY</th>\n",
       "      <th>IYEAR</th>\n",
       "      <th>DISPCODE</th>\n",
       "      <th>SEQNO</th>\n",
       "      <th>_PSU</th>\n",
       "      <th>CTELENUM</th>\n",
       "      <th>...</th>\n",
       "      <th>_PAREC1</th>\n",
       "      <th>_PASTAE1</th>\n",
       "      <th>_LMTACT1</th>\n",
       "      <th>_LMTWRK1</th>\n",
       "      <th>_LMTSCL1</th>\n",
       "      <th>_RFSEAT2</th>\n",
       "      <th>_RFSEAT3</th>\n",
       "      <th>_FLSHOT6</th>\n",
       "      <th>_PNEUMO2</th>\n",
       "      <th>_AIDTST3</th>\n",
       "    </tr>\n",
       "  </thead>\n",
       "  <tbody>\n",
       "    <tr>\n",
       "      <th>0</th>\n",
       "      <td>1</td>\n",
       "      <td>1</td>\n",
       "      <td>b'01292015'</td>\n",
       "      <td>b'01'</td>\n",
       "      <td>b'29'</td>\n",
       "      <td>b'2015'</td>\n",
       "      <td>1200</td>\n",
       "      <td>2015000001</td>\n",
       "      <td>2015000001</td>\n",
       "      <td>1.0</td>\n",
       "      <td>...</td>\n",
       "      <td>4</td>\n",
       "      <td>2</td>\n",
       "      <td>1.0</td>\n",
       "      <td>1.0</td>\n",
       "      <td>1.0</td>\n",
       "      <td>1</td>\n",
       "      <td>1</td>\n",
       "      <td>NaN</td>\n",
       "      <td>NaN</td>\n",
       "      <td>1.0</td>\n",
       "    </tr>\n",
       "    <tr>\n",
       "      <th>1</th>\n",
       "      <td>1</td>\n",
       "      <td>1</td>\n",
       "      <td>b'01202015'</td>\n",
       "      <td>b'01'</td>\n",
       "      <td>b'20'</td>\n",
       "      <td>b'2015'</td>\n",
       "      <td>1100</td>\n",
       "      <td>2015000002</td>\n",
       "      <td>2015000002</td>\n",
       "      <td>1.0</td>\n",
       "      <td>...</td>\n",
       "      <td>2</td>\n",
       "      <td>2</td>\n",
       "      <td>3.0</td>\n",
       "      <td>3.0</td>\n",
       "      <td>4.0</td>\n",
       "      <td>2</td>\n",
       "      <td>2</td>\n",
       "      <td>NaN</td>\n",
       "      <td>NaN</td>\n",
       "      <td>2.0</td>\n",
       "    </tr>\n",
       "    <tr>\n",
       "      <th>2</th>\n",
       "      <td>1</td>\n",
       "      <td>1</td>\n",
       "      <td>b'02012015'</td>\n",
       "      <td>b'02'</td>\n",
       "      <td>b'01'</td>\n",
       "      <td>b'2015'</td>\n",
       "      <td>1200</td>\n",
       "      <td>2015000003</td>\n",
       "      <td>2015000003</td>\n",
       "      <td>1.0</td>\n",
       "      <td>...</td>\n",
       "      <td>9</td>\n",
       "      <td>9</td>\n",
       "      <td>9.0</td>\n",
       "      <td>9.0</td>\n",
       "      <td>9.0</td>\n",
       "      <td>9</td>\n",
       "      <td>9</td>\n",
       "      <td>9.0</td>\n",
       "      <td>9.0</td>\n",
       "      <td>NaN</td>\n",
       "    </tr>\n",
       "    <tr>\n",
       "      <th>3</th>\n",
       "      <td>1</td>\n",
       "      <td>1</td>\n",
       "      <td>b'01142015'</td>\n",
       "      <td>b'01'</td>\n",
       "      <td>b'14'</td>\n",
       "      <td>b'2015'</td>\n",
       "      <td>1100</td>\n",
       "      <td>2015000004</td>\n",
       "      <td>2015000004</td>\n",
       "      <td>1.0</td>\n",
       "      <td>...</td>\n",
       "      <td>4</td>\n",
       "      <td>2</td>\n",
       "      <td>1.0</td>\n",
       "      <td>1.0</td>\n",
       "      <td>1.0</td>\n",
       "      <td>1</td>\n",
       "      <td>1</td>\n",
       "      <td>NaN</td>\n",
       "      <td>NaN</td>\n",
       "      <td>9.0</td>\n",
       "    </tr>\n",
       "    <tr>\n",
       "      <th>4</th>\n",
       "      <td>1</td>\n",
       "      <td>1</td>\n",
       "      <td>b'01142015'</td>\n",
       "      <td>b'01'</td>\n",
       "      <td>b'14'</td>\n",
       "      <td>b'2015'</td>\n",
       "      <td>1100</td>\n",
       "      <td>2015000005</td>\n",
       "      <td>2015000005</td>\n",
       "      <td>1.0</td>\n",
       "      <td>...</td>\n",
       "      <td>4</td>\n",
       "      <td>2</td>\n",
       "      <td>1.0</td>\n",
       "      <td>1.0</td>\n",
       "      <td>1.0</td>\n",
       "      <td>1</td>\n",
       "      <td>1</td>\n",
       "      <td>NaN</td>\n",
       "      <td>NaN</td>\n",
       "      <td>1.0</td>\n",
       "    </tr>\n",
       "  </tbody>\n",
       "</table>\n",
       "<p>5 rows × 330 columns</p>\n",
       "</div>"
      ],
      "text/plain": [
       "   _STATE  FMONTH        IDATE IMONTH   IDAY    IYEAR  DISPCODE       SEQNO  \\\n",
       "0       1       1  b'01292015'  b'01'  b'29'  b'2015'      1200  2015000001   \n",
       "1       1       1  b'01202015'  b'01'  b'20'  b'2015'      1100  2015000002   \n",
       "2       1       1  b'02012015'  b'02'  b'01'  b'2015'      1200  2015000003   \n",
       "3       1       1  b'01142015'  b'01'  b'14'  b'2015'      1100  2015000004   \n",
       "4       1       1  b'01142015'  b'01'  b'14'  b'2015'      1100  2015000005   \n",
       "\n",
       "         _PSU  CTELENUM  ...  _PAREC1  _PASTAE1  _LMTACT1  _LMTWRK1  _LMTSCL1  \\\n",
       "0  2015000001       1.0  ...        4         2       1.0       1.0       1.0   \n",
       "1  2015000002       1.0  ...        2         2       3.0       3.0       4.0   \n",
       "2  2015000003       1.0  ...        9         9       9.0       9.0       9.0   \n",
       "3  2015000004       1.0  ...        4         2       1.0       1.0       1.0   \n",
       "4  2015000005       1.0  ...        4         2       1.0       1.0       1.0   \n",
       "\n",
       "   _RFSEAT2  _RFSEAT3  _FLSHOT6  _PNEUMO2  _AIDTST3  \n",
       "0         1         1       NaN       NaN       1.0  \n",
       "1         2         2       NaN       NaN       2.0  \n",
       "2         9         9       9.0       9.0       NaN  \n",
       "3         1         1       NaN       NaN       9.0  \n",
       "4         1         1       NaN       NaN       1.0  \n",
       "\n",
       "[5 rows x 330 columns]"
      ]
     },
     "execution_count": 5,
     "metadata": {},
     "output_type": "execute_result"
    }
   ],
   "source": [
    "df_BRFSS.head()"
   ]
  },
  {
   "cell_type": "code",
   "execution_count": null,
   "metadata": {},
   "outputs": [],
   "source": [
    "# Calculate the AIHS health risk stratification \n",
    "def calc_age_risk(age):\n",
    "    if age < 40: \n",
    "        age_risk =  0.0\n",
    "    elif age < 50: \n",
    "        age_risk =  1 + ((age-40) * .1)\n",
    "    elif age  < 60: \n",
    "        age_risk =  2 + ((age-50) * .1)\n",
    "    elif age  < 90: \n",
    "        age_risk =  3 + ((age-60) * .1)\n",
    "    elif age  < 110:    # Age over 90 non actionable ????\n",
    "        age_risk =  0      \n",
    "    \n",
    "    return age_risk   "
   ]
  },
  {
   "cell_type": "code",
   "execution_count": null,
   "metadata": {},
   "outputs": [],
   "source": [
    "kilo_grams = float(input('Enter weight in Kg to Convert into pounds:'))\n",
    "pounds = kilo_grams * 2.2046\n",
    "print(kilo_grams,' Kilograms =', pounds,' Pounds')"
   ]
  },
  {
   "cell_type": "code",
   "execution_count": null,
   "metadata": {},
   "outputs": [],
   "source": [
    "def calc_AIHS_age_risk(row):\n",
    "    # The row is a single Series object which is a single row indexed by column values\n",
    "    # Let's extract the firstname and create a new entry in the series\n",
    "    if row['Age'] < 40: \n",
    "        row['AIHS Age Risk']=  0.0\n",
    "    elif row['Age'] < 50: \n",
    "        row['AIHS Age Risk']=  1 + ((row['Age']-40) * .1)\n",
    "    elif row['Age']  < 60: \n",
    "        row['AIHS Age Risk']=  2 + ((row['Age']-50) * .1)\n",
    "    elif row['Age']  < 90: \n",
    "        row['AIHS Age Risk']=  3 + ((row['Age']-60) * .1)\n",
    "    elif row['Age']  < 110:    # Age over 90 non actionable ????\n",
    "        row['AIHS Age Risk']=  0      \n",
    "   \n",
    "    return row"
   ]
  },
  {
   "cell_type": "code",
   "execution_count": null,
   "metadata": {},
   "outputs": [],
   "source": [
    "def calc_height_in_feet(row):\n",
    "    # Converts from centimeters to feet and inches \n",
    "    row['Simulated Height IN']=  round(row['Simulated Height CM']  * 0.0328,1) \n",
    "    return row"
   ]
  },
  {
   "cell_type": "code",
   "execution_count": null,
   "metadata": {},
   "outputs": [],
   "source": [
    "def calc_weight_in_pounds(row):\n",
    "    # Converts from centimeters to feet and inches \n",
    "    row['Simulated Weight LBS']=   round(row['Simulated Weight KG']  * 2.2046,1)\n",
    "    return row"
   ]
  },
  {
   "cell_type": "code",
   "execution_count": null,
   "metadata": {},
   "outputs": [],
   "source": [
    "def calc_body_mass_index(row):\n",
    "    # Converts from centimeters to feet and inches \n",
    "    row['Simulated BMI']=  row['Simulated Weight KG']/(row['Simulated Height CM']**2)  \n",
    "    return row"
   ]
  },
  {
   "cell_type": "code",
   "execution_count": null,
   "metadata": {},
   "outputs": [],
   "source": [
    "def calc_ADA_age_risk(row):\n",
    "    # The row is a single Series object which is a single row indexed by column values\n",
    "    # Let's extract the firstname and create a new entry in the series\n",
    "    if row['Age'] < 40: \n",
    "        row['ADA Age Risk']= 0\n",
    "    elif row['Age'] < 50: \n",
    "        row['ADA Age Risk']=  1  \n",
    "    elif row['Age']  < 60: \n",
    "        row['ADA Age Risk']=  2  \n",
    "    elif row['Age']  < 90: \n",
    "        row['ADA Age Risk']=  3  \n",
    "    elif row['Age']  < 110:    # Age over 90 non actionable ????\n",
    "        row['ADA Age Risk']=  0      \n",
    "    return row"
   ]
  },
  {
   "cell_type": "code",
   "execution_count": null,
   "metadata": {},
   "outputs": [],
   "source": [
    "def calc_ADA_BMI_risk(row):\n",
    "    # The row is a single Series object which is a single row indexed by column values\n",
    "    # Let's extract the firstname and create a new entry in the series\n",
    "    if row['Simulated BMI'] < 18.5: \n",
    "        row['ADA BMI Risk']= 0\n",
    "    elif row['Simulated BMI'] < 25: \n",
    "        row['ADA BMI Risk']=  0  \n",
    "    elif row['Simulated BMI']  < 30: \n",
    "        row['ADA BMI Risk']=  1  \n",
    "    elif row['Simulated BMI']  < 40: \n",
    "        row['ADA BMI Risk']=  2  \n",
    "    elif row['Simulated BMI']  < 60:    # Age over 90 non actionable ????\n",
    "        row['ADA BMI Risk']=  3      \n",
    "    return row"
   ]
  },
  {
   "cell_type": "code",
   "execution_count": null,
   "metadata": {},
   "outputs": [],
   "source": [
    "def calc_AIHS_BMI_risk(row):\n",
    "    # The row is a single Series object which is a single row indexed by column values\n",
    "    # Let's extract the firstname and create a new entry in the series\n",
    "    if row['Simulated BMI'] < 18.5: \n",
    "        row['AIHS BMI Risk']= 0\n",
    "    elif row['Simulated BMI'] < 25: \n",
    "        row['AIHS BMI Risk']=  0  \n",
    "    elif row['Simulated BMI']  < 30: \n",
    "        row['AIHS BMI Risk']=  1 +  ((row['Simulated BMI']-26) * .1)\n",
    "    elif row['Simulated BMI']  < 40: \n",
    "        row['AIHS BMI Risk']=  2 +  ((row['Simulated BMI']-31) * .1) \n",
    "    elif row['Simulated BMI']  < 60:    # Age over 90 non actionable ????\n",
    "        row['AIHS BMI Risk']=  3 +  ((row['Simulated BMI']-41) * .1)      \n",
    "    return row"
   ]
  },
  {
   "cell_type": "markdown",
   "metadata": {},
   "source": [
    "## Read In the core demographic data set "
   ]
  },
  {
   "cell_type": "code",
   "execution_count": null,
   "metadata": {},
   "outputs": [],
   "source": [
    "#df = pd.read_csv(\"C:/Users/josep/documents/datasets/dg.csv\", nrows=5000)\n",
    "df = pd.read_csv(\"C:/Users/josep/documents/datasets/dg_BMI_risk.csv\")\n",
    "df.head(5)"
   ]
  },
  {
   "cell_type": "code",
   "execution_count": null,
   "metadata": {},
   "outputs": [],
   "source": [
    "df.head()"
   ]
  },
  {
   "cell_type": "code",
   "execution_count": null,
   "metadata": {},
   "outputs": [],
   "source": [
    "cols = df.columns\n",
    "print(cols)"
   ]
  },
  {
   "cell_type": "code",
   "execution_count": null,
   "metadata": {},
   "outputs": [],
   "source": [
    "df['Simulated Height CM'] = np.random.randint(155, 187, df.shape[0])\n",
    "df['Simulated Weight KG'] = np.random.randint(60, 130, df.shape[0])\n",
    "df['Simulated BMI']=  round(df['Simulated Weight KG']/((df['Simulated Height CM']/100)**2),1)  \n",
    "df.head() "
   ]
  },
  {
   "cell_type": "code",
   "execution_count": null,
   "metadata": {},
   "outputs": [],
   "source": [
    "height = float(input(\"Enter height in meters: \"))\n",
    "\n",
    "weight = float(input(\"Enter weight in kg: \"))\n",
    "\n",
    "bmi = weight/(height**2)\n",
    "\n",
    "print(\"Your BMI is: {0} and you are: \".format(bmi), end='')\n",
    "\n",
    "if ( bmi < 16):\n",
    "    print(\"severely underweight\")\n",
    "\n",
    "elif ( bmi >= 16 and bmi < 18.5):\n",
    "    print(\"underweight\")\n",
    "\n",
    "elif ( bmi >= 18.5 and bmi < 25):\n",
    "    print(\"Healthy\")\n",
    "\n",
    "elif ( bmi >= 25 and bmi < 30):\n",
    "    print(\"overweight\")\n",
    "\n",
    "elif ( bmi >=30):\n",
    "    print(\"severely overweight\")"
   ]
  },
  {
   "cell_type": "code",
   "execution_count": null,
   "metadata": {},
   "outputs": [],
   "source": [
    "df.to_csv(\"C:/Users/josep/documents/datasets/dg_BMI_risk_III.csv\")"
   ]
  },
  {
   "cell_type": "code",
   "execution_count": null,
   "metadata": {},
   "outputs": [],
   "source": [
    "df_BRFSS = pd.read_csv(\"C:/Data/brfss cdc/BRFSS_2015.csv\",nrows=5000)\n",
    "df_BRFSS.shape"
   ]
  },
  {
   "cell_type": "code",
   "execution_count": null,
   "metadata": {},
   "outputs": [],
   "source": [
    "df_BRFSS[\"Patient Number\"]= np.arange(len(df_BRFSS)) + 1"
   ]
  },
  {
   "cell_type": "code",
   "execution_count": null,
   "metadata": {},
   "outputs": [],
   "source": [
    "df_BRFSS[\"Patient ID\"]= \"Patient_Number_\" + df_BRFSS[\"Patient Number\"].astype(str)"
   ]
  },
  {
   "cell_type": "code",
   "execution_count": null,
   "metadata": {},
   "outputs": [],
   "source": [
    "df_BRFSS.head()"
   ]
  },
  {
   "cell_type": "code",
   "execution_count": null,
   "metadata": {},
   "outputs": [],
   "source": [
    "df[\"Age Decade\"]=df['Age'] / 10 \n",
    "df[\"Patient Number\"]= np.arange(len(df)) + 1 \n",
    "cols = df.columns\n",
    "df.head()"
   ]
  },
  {
   "cell_type": "code",
   "execution_count": null,
   "metadata": {},
   "outputs": [],
   "source": [
    "df[\"Age Dec\"]=df['Age Decade'].astype(int) \n",
    "df[\"Patient ID\"]= \"Patient_Number_\" + df[\"Patient Number\"].astype(str)\n",
    "cols = df.columns\n",
    "df.head()"
   ]
  },
  {
   "cell_type": "code",
   "execution_count": null,
   "metadata": {},
   "outputs": [],
   "source": [
    "dfm = df.merge(df_BRFSS, how='left', on='Patient ID')"
   ]
  },
  {
   "cell_type": "code",
   "execution_count": null,
   "metadata": {},
   "outputs": [],
   "source": [
    "dfm.shape"
   ]
  },
  {
   "cell_type": "code",
   "execution_count": null,
   "metadata": {},
   "outputs": [],
   "source": [
    "#take input from user\n",
    "cm=int(input(\"Enter the height in centimeters:\"))\n",
    " \n",
    "#convert centimeter to feet\n",
    "feet=0.0328*cm\n",
    " \n",
    "#print result\n",
    "print(\"The length in feet\",round(feet,2))\n"
   ]
  },
  {
   "cell_type": "code",
   "execution_count": null,
   "metadata": {},
   "outputs": [],
   "source": [
    "dfm.head()"
   ]
  },
  {
   "cell_type": "code",
   "execution_count": null,
   "metadata": {},
   "outputs": [],
   "source": [
    "df.head()"
   ]
  },
  {
   "cell_type": "code",
   "execution_count": null,
   "metadata": {},
   "outputs": [],
   "source": [
    "dfm.to_csv(\"C:/Users/josep/documents/datasets/patient_demo_behavior.csv\")"
   ]
  },
  {
   "cell_type": "code",
   "execution_count": null,
   "metadata": {},
   "outputs": [],
   "source": [
    "df[\"Age Dec\"]=df['Age Decade'].astype(int) \n",
    "df[\"Patient ID\"]= \"Patient_Number_\" + df[\"Patient Number\"].astype(str)\n",
    "cols = df.columns\n",
    "df.head()"
   ]
  },
  {
   "cell_type": "code",
   "execution_count": null,
   "metadata": {},
   "outputs": [],
   "source": [
    "#df=df.apply(calc_ADS_age_risk, axis='columns')\n",
    "df=df.apply(calc_height_in_feet, axis='columns')\n",
    "df.head()"
   ]
  },
  {
   "cell_type": "code",
   "execution_count": null,
   "metadata": {},
   "outputs": [],
   "source": [
    "#df=df.apply(calc_ADS_age_risk, axis='columns')\n",
    "df=df.apply(calc_weight_in_pounds, axis='columns')\n",
    "df.head()"
   ]
  },
  {
   "cell_type": "code",
   "execution_count": null,
   "metadata": {},
   "outputs": [],
   "source": [
    "#cols = cols + 'Computed AIHS Age Risk'\n",
    "df = df[cols]\n",
    "df.head(10)\n",
    "\n"
   ]
  },
  {
   "cell_type": "code",
   "execution_count": null,
   "metadata": {},
   "outputs": [],
   "source": [
    "#df=df.apply(calc_ADS_age_risk, axis='columns')\n",
    "df=df.apply(calc_AIHS_age_risk, axis='columns')\n",
    "df.head()\n"
   ]
  },
  {
   "cell_type": "code",
   "execution_count": null,
   "metadata": {},
   "outputs": [],
   "source": [
    "#df=df.apply(calc_ADS_age_risk, axis='columns')\n",
    "df=df.apply(calc_ADA_BMI_risk, axis='columns')\n",
    "df.head()"
   ]
  },
  {
   "cell_type": "code",
   "execution_count": null,
   "metadata": {},
   "outputs": [],
   "source": [
    "#df=df.apply(calc_ADS_age_risk, axis='columns')\n",
    "df=df.apply(calc_AIHS_BMI_risk, axis='columns')\n",
    "pd.options.display.max_columns = None\n",
    "df.head(5)"
   ]
  }
 ],
 "metadata": {
  "kernelspec": {
   "display_name": "Python 3",
   "language": "python",
   "name": "python3"
  },
  "language_info": {
   "codemirror_mode": {
    "name": "ipython",
    "version": 3
   },
   "file_extension": ".py",
   "mimetype": "text/x-python",
   "name": "python",
   "nbconvert_exporter": "python",
   "pygments_lexer": "ipython3",
   "version": "3.8.5"
  }
 },
 "nbformat": 4,
 "nbformat_minor": 4
}
