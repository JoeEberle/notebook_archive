{
 "cells": [
  {
   "cell_type": "markdown",
   "metadata": {},
   "source": [
    "## ELIZA Chatbot Demo"
   ]
  },
  {
   "cell_type": "markdown",
   "metadata": {},
   "source": [
    "## Tkinter Chabot GUI ONLY "
   ]
  },
  {
   "cell_type": "code",
   "execution_count": 1,
   "metadata": {},
   "outputs": [],
   "source": [
    "# This chatbot simulates ELIZA one of the first libraries\n",
    "# Import Libraries \n",
    "import re \n",
    "import random \n",
    "# create a list of pre-built responses\n",
    "response = { \n",
    "    \"hello\":[\"Hello, how can I help you.\"],\n",
    "    \"hi\":[\"Hello, how can I help you.\"],\n",
    "    \"hola\":[\"Hello, how can I help you.\"],  \n",
    "    \"(.*) dog (.*) \": [\"I eat dogs.\", \"I love dogs.\", \"Sometimes dogs are a pest\"],       \n",
    "    \"i feel (.*)\": [\"Why do you feel {}?\", \"How long have you been feeling {}?\"],\n",
    "    \"i am (.*)\": [\"Why are you {}?\", \"How long have you been {}?\"],    \n",
    "    \"i'm (.*)\": [\"Why are you {}?\", \"How long have you been {}?\"],       \n",
    "    \"i (.*) myself\": [\"Why do you {} yourself?\", \"What makes you think you {} yourself?\"],       \n",
    "    \"(.*) sorry (.*) \": [\"You dont have to apologize.\", \"What are you apologizing for?\"],  \n",
    "    \"(.*) friend (.*) \": [\"Tell me more about yout friend.\", \"How do your friends make you feel?\"],      \n",
    "    \"(.*) family (.*) \": [\"Tell me more about yout family.\", \"How do your family make you feel?\"],  \n",
    "    \"(.*) mother (.*) \": [\"Tell me more about yout mother.\", \"How do your mother make you feel?\"], \n",
    "    \"(.*) father (.*) \": [\"Tell me more about yout father.\", \"How do your father make you feel?\"],     \n",
    "    \"(.*) sister (.*) \": [\"Tell me more about yout sister.\", \"How do your sister make you feel?\"],   \n",
    "    \"(.*) brother (.*) \": [\"Tell me more about yout brother.\", \"How do your brother make you feel?\"],          \n",
    "    \"yes\": [\"You seem quitr sure.\", \"Ok, but you can ellaborate\"],   \n",
    "    \"no\": [\"Why Not?\", \"Ok, but can you ellaborate a bit\"],  \n",
    "    \"ok\": [\"Why Not?\", \"Ok, but can you ellaborate a bit\"],       \n",
    "    \"(.*) sorry (.*) \": [\"You dont have to Apologize.\", \"What are you apologizing for?\"],     \n",
    "    \" (.*) \": [\"Please tell me more.\", \"Lets change focus a bit ... tell me about your family\", \"Please tell me more\"],         \n",
    "    \" \": [\"Why do you think that?\", \"Please tell me more\", \"Please tell me more\", \"Lets change focus a bit ... tell me about your familiy\", \"Please tell me more\"],   \n",
    "    \"\": [\"Why?\", \"Please tell me more\", \"Please explain more\", \"Lets change focus a bit ... tell me about your familiy\", \"Please tell me more\"],   \n",
    "}"
   ]
  },
  {
   "cell_type": "code",
   "execution_count": 2,
   "metadata": {},
   "outputs": [],
   "source": [
    "# define a vfunction to match the users input to a pre-defined response. \n",
    "def match_response(input_text):\n",
    "    # Loop over pre-built response library\n",
    "    for pattern, response_list in response.items():\n",
    "        matches = re.match(pattern, input_text.lower())\n",
    "        if matches:\n",
    "            chosen_response = random.choice(response_list)\n",
    "            return chosen_response.format(*matches.groups()) \n",
    "    return \"I'm sorry I dont understand what your saying.\"           "
   ]
  },
  {
   "cell_type": "code",
   "execution_count": 3,
   "metadata": {},
   "outputs": [
    {
     "name": "stdout",
     "output_type": "stream",
     "text": [
      "Welcome to the Elize Psychotherapist chatbot\n",
      "You: hi\n",
      "Eliza:  Hello, how can I help you.\n",
      "You: im really sad\n",
      "Eliza:  Why?\n",
      "You: my dog died\n",
      "Eliza:  Why?\n",
      "You: cancer\n",
      "Eliza:  Please tell me more\n",
      "You: Im really sad\n",
      "Eliza:  Lets change focus a bit ... tell me about your familiy\n",
      "You: my father is a psycho killer\n",
      "Eliza:  Tell me more about yout father.\n",
      "You: my father eats worms\n",
      "Eliza:  Tell me more about yout father.\n",
      "You: Im dpressed\n",
      "Eliza:  Why?\n",
      "You: I just told you\n",
      "Eliza:  Please tell me more\n",
      "You: My whole family sucks\n",
      "Eliza:  Please explain more\n",
      "You: my family is mean\n",
      "Eliza:  How do your family make you feel?\n",
      "You: lonely\n",
      "Eliza:  Lets change focus a bit ... tell me about your familiy\n",
      "You: dog\n",
      "Eliza:  Why?\n",
      "You: bye\n",
      "Eliza: Goodbye.\n"
     ]
    }
   ],
   "source": [
    "# create the main loop to start chatbot\n",
    "print(\"Welcome to the Elize Psychotherapist chatbot\")\n",
    "while True:\n",
    "    user_input = input(\"You: \")\n",
    "    if user_input.lower() == 'bye':\n",
    "        print(\"Eliza: Goodbye.\")\n",
    "        break\n",
    "    else:\n",
    "        print(\"Eliza: \",match_response(user_input)) "
   ]
  },
  {
   "cell_type": "code",
   "execution_count": null,
   "metadata": {},
   "outputs": [],
   "source": [
    "from tkinter import * \n",
    "\n",
    "# Initiate Tkinter \n",
    "root = Tk() \n",
    "\n",
    "# Create the title window\n",
    "root.title('AI Chatbot')\n",
    "\n",
    "# Give the window some dimensions\n",
    "root.geometry('500x600')\n",
    "\n",
    "# Add a main menu bar to the wndow\n",
    "main_menu = Menu(root)\n",
    "\n",
    "#create a sub menu\n",
    "file_menu = Menu(root)\n",
    "file_menu.add_command(label='New...')\n",
    "file_menu.add_command(label='Save As ...')\n",
    "file_menu.add_command(label='Exit')\n",
    "\n",
    "# Add Menu options\n",
    "main_menu.add_cascade(label='File', menu = file_menu)\n",
    "main_menu.add_command(label='Edit')\n",
    "main_menu.add_command(label='Quit')\n",
    "root.config(menu=main_menu)\n",
    "\n",
    "# Create a Chat Window\n",
    "chatWindow = Text(root, bd=1, bg='light blue', width = 50, height=8)\n",
    "chatWindow.place(x=6, y=6, height=500, width = 490)\n",
    "\n",
    "# Add a message window for user interactions\n",
    "MessageWindow = Text(root, bg='gray', width = 30, height=4)\n",
    "MessageWindow.place(x=128, y=510, height=88, width = 360)\n",
    "\n",
    "#Add a button to send the message\n",
    "button = Button(root, text='Send Chat', bg='light gray', activebackground='light blue', width = 12, height = 5, font=('Arial', 12) )\n",
    "button.place(x=6, y=510, height = 88, width = 120)\n",
    "\n",
    "#Add a scroll bar \n",
    "scrollbar = Scrollbar(root, command=chatWindow.yview())\n",
    "scrollbar.place(x=480, y=5, height =500)\n",
    "\n",
    "# Launch the window\n",
    "root.mainloop() \n"
   ]
  },
  {
   "cell_type": "code",
   "execution_count": null,
   "metadata": {},
   "outputs": [],
   "source": []
  }
 ],
 "metadata": {
  "kernelspec": {
   "display_name": "Python 3",
   "language": "python",
   "name": "python3"
  },
  "language_info": {
   "codemirror_mode": {
    "name": "ipython",
    "version": 3
   },
   "file_extension": ".py",
   "mimetype": "text/x-python",
   "name": "python",
   "nbconvert_exporter": "python",
   "pygments_lexer": "ipython3",
   "version": "3.8.5"
  }
 },
 "nbformat": 4,
 "nbformat_minor": 4
}
