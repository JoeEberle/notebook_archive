{
 "cells": [
  {
   "cell_type": "code",
   "execution_count": null,
   "metadata": {},
   "outputs": [],
   "source": [
    "# PIP Install any Python Libraries you dont already have installed \n",
    "#!pip install pyttsx3\n",
    "#!pip install pandas\n",
    "#!pip install pyodbc\n",
    "#!pip install opencv-python\n",
    "#!pip install pywin32\n",
    "#!pip install Pillow"
   ]
  },
  {
   "cell_type": "code",
   "execution_count": 1,
   "metadata": {},
   "outputs": [],
   "source": [
    "#install dependent Libraries is not already installed \n",
    "#!pip install pyttsx3\n",
    "\n",
    "# Import the necessary Libraries \n",
    "import glob, os\n",
    "import pandas as pd\n",
    "# import logging \n",
    "from pathlib import Path\n",
    "import numpy as np \n",
    "from PIL import ImageGrab\n",
    "from win32api import GetSystemMetrics\n",
    "import cv2\n",
    "\n",
    "import pyttsx3\n",
    "import pyodbc \n",
    "import timeit\n",
    "import time\n",
    "from datetime import date\n",
    "from datetime import datetime\n",
    "import sqlalchemy\n",
    "\n",
    "# Establish some import parameters \n",
    "\n",
    "importing_xlsx_files = False \n",
    "importing_csv_files = True \n",
    "#Data_Import_Starting_Directory = 'Y:/_Kaleida_Input/'\n",
    "Data_Import_Starting_Directory = 'C:/Data/'\n",
    "Process_Name = 'Importing CSV data into SQL'\n",
    "\n",
    "step_debugging = True\n",
    "detail_debugging = False\n",
    "Process_Step_Name = ''  \n",
    "Reading_Intro = False\n",
    "Reading_Credits =  False\n",
    "Reading_Steps = False \n",
    "Reading_Terms = False \n",
    "printing_output = True\n",
    "Talking_Code = True\n",
    "Talking_Voice_Male_Gender = True        # Set to False for Female Voice \n",
    "Code_Logging  = True \n",
    "event_log_row = 0 \n",
    "\n",
    "# Create some Global Variables for SQL Constructs \n",
    "column_inserts = ''\n",
    "column_question_mark   = ''\n",
    "create_table_SQL  = ''\n",
    "create_real_table_SQL  = ''\n",
    "insert_records_SQL  = ''\n",
    "create_schema_SQL  = '' \n",
    "create_real_schema_SQL  = '' \n",
    "Table_Name_Extension_Daily = '_DI'\n",
    "Table_Name_Extension_Historical = '_HX'\n",
    "Table_Name_Extension_Administrative = '_AD'\n",
    "Table_Name_Prefix = '[pbic_1_0].'\n",
    "\n",
    "# Create some Global Variables for SQL Connection\n",
    "server = 'Kalpwvsqlgppc01' \n",
    "database  = 'GPPC_DEV' \n",
    "username ='GPPC'\n",
    "pwd = 'Elephant-Trunk-06'\n",
    "sql_connector = 'DRIVER={SQL Server};SERVER='+server+';DATABASE='+database+';Trusted_Connection=No;UID='+username+';PWD='+pwd\n",
    "# log_filename='data_importing_log.log'\n",
    "\n",
    "# Configure the Logging to the DEBUG Level \n",
    "# logging.basicConfig(level=logging.DEBUG, filename=log_filename, format= '%(asctime)s %(clientip)-15s %(user)-8s %(message)s')\n",
    "Text_to_Speech = pyttsx3.init()\n",
    "\n",
    "## Dictionary For character_replacements List \n",
    "character_replacements = { \" \":\"_\",\"#\":\"Number\",\"#\":\"Number\",\"%\":\"Percentage\" \\\n",
    "                         ,'_Unnamed':'','_Level':'',\"$\":\"Dollar\",'_1':'' \\\n",
    "                         ,'_2':'','_3':'','_4':'','_5':''  \\\n",
    "                         ,'_6':'','_7':'','_8':'','_9':''  \\\n",
    "                         ,'_0':'',':7':'',':8':'',':':'' }\n",
    "## Dictionary For replacing data types in databases \n",
    "data_type_replacements = { \"object\":\"varchar\",\"float64\":\"float\",\"int64\":\"int\",\"%\":\"Percentage\" \\\n",
    "                         ,'_Unnamed':'','datetime64':'timestamp',\"timedelta64[ns]\":\"varchar\"}    \n",
    "\n",
    "\n",
    "\n",
    "\n",
    "## add the glaobal data frames for event loggging and Schema Creation \n",
    "df_event_log = pd.DataFrame(columns = ('Event_ID','Process_Name','Event_Name','Event_Date','Event_Time','Task_Start_Time','Task_End_Time','TASk_Duration','Comments'))\n",
    "df_import_directories = pd.DataFrame(columns = ('Root_Directory','Sub_Directory'))\n",
    "df_import_files = pd.DataFrame(columns = ('Root_Directory','Sub_Directory','Table_Name','Import_File_Name'))\n",
    "import_directory_file_Number  = 0\n",
    "import_file_Number  = 0 \n",
    "event_log_row = 0\n",
    "sub_directory_count = 0 "
   ]
  },
  {
   "cell_type": "code",
   "execution_count": 2,
   "metadata": {},
   "outputs": [
    {
     "name": "stdout",
     "output_type": "stream",
     "text": [
      "Image Count: 0 \n",
      "Image Count: 1 \n"
     ]
    }
   ],
   "source": [
    "img_count = 0 \n",
    "while True and img_count<2:\n",
    "    print('Image Count: {} '.format(img_count))\n",
    "    img_count += 1 \n",
    "    start_window_x = 0\n",
    "    start_window_y = 0 \n",
    "    max_window_width = GetSystemMetrics(0) \n",
    "    max_window_height = GetSystemMetrics(1)\n",
    "    #print('Screen Capture Window Width: {} Window Height: {} '.format(max_window_width, max_window_height))\n",
    "    img = ImageGrab.grab(bbox=(start_window_x, start_window_y, max_window_width, max_window_height))\n",
    "    img_np = np.array(img) \n",
    "    img_color = cv2.cvtColor(img_np, cv2.COLOR_BGR2RGB)\n",
    "    cv2.imshow('Screen Capture', img_color )\n",
    "    cv2.waitKey(10)  \n",
    "    "
   ]
  },
  {
   "cell_type": "code",
   "execution_count": null,
   "metadata": {},
   "outputs": [],
   "source": [
    "!pip install opencv-python"
   ]
  },
  {
   "cell_type": "code",
   "execution_count": null,
   "metadata": {},
   "outputs": [],
   "source": [
    "!pip install pywin32"
   ]
  },
  {
   "cell_type": "code",
   "execution_count": null,
   "metadata": {},
   "outputs": [],
   "source": [
    "!pip install Pillow"
   ]
  }
 ],
 "metadata": {
  "kernelspec": {
   "display_name": "Python 3",
   "language": "python",
   "name": "python3"
  },
  "language_info": {
   "codemirror_mode": {
    "name": "ipython",
    "version": 3
   },
   "file_extension": ".py",
   "mimetype": "text/x-python",
   "name": "python",
   "nbconvert_exporter": "python",
   "pygments_lexer": "ipython3",
   "version": "3.8.5"
  }
 },
 "nbformat": 4,
 "nbformat_minor": 4
}
