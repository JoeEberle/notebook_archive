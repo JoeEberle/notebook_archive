{
 "cells": [
  {
   "cell_type": "code",
   "execution_count": 2,
   "id": "a4db16da",
   "metadata": {},
   "outputs": [
    {
     "name": "stdout",
     "output_type": "stream",
     "text": [
      "Requirement already satisfied: django in c:\\users\\josep\\anaconda3\\lib\\site-packages (4.2.2)\n",
      "Requirement already satisfied: asgiref<4,>=3.6.0 in c:\\users\\josep\\anaconda3\\lib\\site-packages (from django) (3.7.2)\n",
      "Requirement already satisfied: sqlparse>=0.3.1 in c:\\users\\josep\\anaconda3\\lib\\site-packages (from django) (0.4.4)\n",
      "Requirement already satisfied: tzdata in c:\\users\\josep\\anaconda3\\lib\\site-packages (from django) (2023.3)\n",
      "Requirement already satisfied: backports.zoneinfo in c:\\users\\josep\\anaconda3\\lib\\site-packages (from django) (0.2.1)\n",
      "Requirement already satisfied: typing-extensions>=4 in c:\\users\\josep\\anaconda3\\lib\\site-packages (from asgiref<4,>=3.6.0->django) (4.4.0)\n"
     ]
    }
   ],
   "source": [
    "!pip3 install django"
   ]
  }
 ],
 "metadata": {
  "kernelspec": {
   "display_name": "Python 3 (ipykernel)",
   "language": "python",
   "name": "python3"
  },
  "language_info": {
   "codemirror_mode": {
    "name": "ipython",
    "version": 3
   },
   "file_extension": ".py",
   "mimetype": "text/x-python",
   "name": "python",
   "nbconvert_exporter": "python",
   "pygments_lexer": "ipython3",
   "version": "3.8.5"
  }
 },
 "nbformat": 4,
 "nbformat_minor": 5
}
