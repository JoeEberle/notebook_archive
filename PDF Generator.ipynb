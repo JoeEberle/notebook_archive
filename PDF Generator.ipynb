{
 "cells": [
  {
   "cell_type": "code",
   "execution_count": null,
   "metadata": {},
   "outputs": [],
   "source": [
    "#! pip install moviepy\n",
    "#! pip install fpdf2"
   ]
  },
  {
   "cell_type": "code",
   "execution_count": null,
   "metadata": {},
   "outputs": [],
   "source": [
    "#create FPDFS object \n",
    "#Layout import from fpdf2  import FPDF"
   ]
  },
  {
   "cell_type": "code",
   "execution_count": 1,
   "metadata": {},
   "outputs": [],
   "source": [
    "from fpdf import FPDF"
   ]
  },
  {
   "cell_type": "code",
   "execution_count": 2,
   "metadata": {},
   "outputs": [],
   "source": [
    "#create FPDFS object \n",
    "#Layout ('P','L')      Portrait , Landscape\n",
    "#Units ('mm','cm','in')\n",
    "#format ('A3','A4' (default), 'A5', 'Letter', 'Legal', (100,150))\n",
    "pdf = FPDF('P','mm','Letter')\n",
    "\n",
    "document_manager_name = 'Jamie Doc'\n",
    "document_number = '3 30 2022 d10000'\n",
    "#add a Page\n",
    "pdf.add_page()\n",
    "\n",
    "pdf.set_font('helvetica','BIU',16)\n",
    "\n",
    "pdf.cell(0,10, f'{document_manager_name} This is document {document_number}', ln=True)\n",
    "pdf.set_font('times','',12)\n",
    "path = 'C:/Users/josep/Documents/Kaleida/PDFS/' \n",
    "\n",
    "file= 'Attribution Algorithm Validation Dashboard User Guide[6030].pdf'\n",
    "\n",
    "         \n",
    "pdf.output(path + 'pdf_test.pdf')         \n",
    "\n"
   ]
  },
  {
   "cell_type": "code",
   "execution_count": 3,
   "metadata": {},
   "outputs": [
    {
     "ename": "ImportError",
     "evalue": "cannot import name 'plot_states' from 'time_series_analysis' (C:\\Users\\josep\\anaconda3\\lib\\site-packages\\time_series_analysis\\__init__.py)",
     "output_type": "error",
     "traceback": [
      "\u001b[1;31m---------------------------------------------------------------------------\u001b[0m",
      "\u001b[1;31mImportError\u001b[0m                               Traceback (most recent call last)",
      "\u001b[1;32m<ipython-input-3-4f29d40f6646>\u001b[0m in \u001b[0;36m<module>\u001b[1;34m\u001b[0m\n\u001b[0;32m      5\u001b[0m \u001b[1;33m\u001b[0m\u001b[0m\n\u001b[0;32m      6\u001b[0m \u001b[1;31m# Local libraries\u001b[0m\u001b[1;33m\u001b[0m\u001b[1;33m\u001b[0m\u001b[1;33m\u001b[0m\u001b[0m\n\u001b[1;32m----> 7\u001b[1;33m \u001b[1;32mfrom\u001b[0m \u001b[0mtime_series_analysis\u001b[0m \u001b[1;32mimport\u001b[0m \u001b[0mplot_states\u001b[0m\u001b[1;33m,\u001b[0m \u001b[0mplot_countries\u001b[0m\u001b[1;33m\u001b[0m\u001b[1;33m\u001b[0m\u001b[0m\n\u001b[0m\u001b[0;32m      8\u001b[0m \u001b[1;32mfrom\u001b[0m \u001b[0mdaily_counts\u001b[0m \u001b[1;32mimport\u001b[0m \u001b[0mplot_daily_count_states\u001b[0m\u001b[1;33m,\u001b[0m \u001b[0mplot_daily_count_countries\u001b[0m\u001b[1;33m\u001b[0m\u001b[1;33m\u001b[0m\u001b[0m\n\u001b[0;32m      9\u001b[0m \u001b[1;32mfrom\u001b[0m \u001b[0mcreate_case_maps\u001b[0m \u001b[1;32mimport\u001b[0m \u001b[0mplot_usa_case_map\u001b[0m\u001b[1;33m,\u001b[0m \u001b[0mplot_global_case_map\u001b[0m\u001b[1;33m\u001b[0m\u001b[1;33m\u001b[0m\u001b[0m\n",
      "\u001b[1;31mImportError\u001b[0m: cannot import name 'plot_states' from 'time_series_analysis' (C:\\Users\\josep\\anaconda3\\lib\\site-packages\\time_series_analysis\\__init__.py)"
     ]
    }
   ],
   "source": [
    "# Python libraries\n",
    "from fpdf import FPDF\n",
    "from datetime import datetime, timedelta\n",
    "import os\n",
    "\n",
    "# Local libraries\n",
    "from time_series_analysis import plot_states, plot_countries\n",
    "from daily_counts import plot_daily_count_states, plot_daily_count_countries\n",
    "from create_case_maps import plot_usa_case_map, plot_global_case_map\n",
    "from helper import Mode\n",
    "\n",
    "WIDTH = 210\n",
    "HEIGHT = 297\n",
    "\n",
    "TEST_DATE = \"10/20/20\"\n",
    "\n",
    "def create_title(day, pdf):\n",
    "  # Unicode is not yet supported in the py3k version; use windows-1252 standard font\n",
    "  pdf.set_font('Arial', '', 24)  \n",
    "  pdf.ln(60)\n",
    "  pdf.write(5, f\"Covid Analytics Report\")\n",
    "  pdf.ln(10)\n",
    "  pdf.set_font('Arial', '', 16)\n",
    "  pdf.write(4, f'{day}')\n",
    "  pdf.ln(5)\n",
    "\n",
    "def create_analytics_report(day=TEST_DATE, filename=\"report.pdf\"):\n",
    "  pdf = FPDF() # A4 (210 by 297 mm)\n",
    "\n",
    "  states = ['Massachusetts', 'New Hampshire']\n",
    "\n",
    "  ''' First Page '''\n",
    "  pdf.add_page()\n",
    "  pdf.image(\"./resources/letterhead_cropped.png\", 0, 0, WIDTH)\n",
    "  create_title(day, pdf)\n",
    "\n",
    "  plot_usa_case_map(\"./tmp/usa_cases.png\", day=day)\n",
    "  prev_days = 250\n",
    "  plot_states(states, days=prev_days, filename=\"./tmp/cases.png\", end_date=day)\n",
    "  plot_states(states, days=prev_days, mode=Mode.DEATHS, filename=\"./tmp/deaths.png\", end_date=day)\n",
    "\n",
    "  pdf.image(\"./tmp/usa_cases.png\", 5, 90, WIDTH-20)\n",
    "  pdf.image(\"./tmp/cases.png\", 5, 200, WIDTH/2-10)\n",
    "  pdf.image(\"./tmp/deaths.png\", WIDTH/2, 200, WIDTH/2-10)\n",
    "\n",
    "  ''' Second Page '''\n",
    "  pdf.add_page()\n",
    "\n",
    "  plot_daily_count_states(states, day=day, filename=\"./tmp/cases_day.png\")\n",
    "  plot_daily_count_states(states, day=day, mode=Mode.DEATHS, filename=\"./tmp/deaths_day.png\")\n",
    "  pdf.image(\"./tmp/cases_day.png\", 5, 20, WIDTH/2-10)\n",
    "  pdf.image(\"./tmp/deaths_day.png\", WIDTH/2, 20, WIDTH/2-10)\n",
    "\n",
    "  prev_days = 7\n",
    "  plot_states(states, days=prev_days, filename=\"./tmp/cases2.png\", end_date=day)\n",
    "  plot_states(states, days=prev_days, mode=Mode.DEATHS, filename=\"./tmp/deaths2.png\", end_date=day)\n",
    "  pdf.image(\"./tmp/cases2.png\", 5, 110, WIDTH/2-10)\n",
    "  pdf.image(\"./tmp/deaths2.png\", WIDTH/2, 110, WIDTH/2-10)\n",
    "\n",
    "  prev_days = 30\n",
    "  plot_states(states, days=prev_days, filename=\"./tmp/cases3.png\", end_date=day)\n",
    "  plot_states(states, days=prev_days, mode=Mode.DEATHS, filename=\"./tmp/deaths3.png\", end_date=day)\n",
    "  pdf.image(\"./tmp/cases3.png\", 5, 200, WIDTH/2-10)\n",
    "  pdf.image(\"./tmp/deaths3.png\", WIDTH/2, 200, WIDTH/2-10)\n",
    "\n",
    "  ''' Third Page '''\n",
    "  pdf.add_page()\n",
    "\n",
    "  plot_global_case_map(\"./tmp/global_cases.png\", day=day)\n",
    "\n",
    "  countries = ['US', 'India', 'Brazil']\n",
    "  prev_days = 7\n",
    "  plot_countries(countries, days=prev_days, filename=\"./tmp/cases4.png\", end_date=day)\n",
    "  plot_countries(countries, days=prev_days, mode=Mode.DEATHS, filename=\"./tmp/deaths4.png\", end_date=day)\n",
    "\n",
    "  pdf.image(\"./tmp/global_cases.png\", 5, 20, WIDTH-20)\n",
    "  pdf.image(\"./tmp/cases4.png\", 5, 130, WIDTH/2-10)\n",
    "  pdf.image(\"./tmp/deaths4.png\", WIDTH/2, 130, WIDTH/2-10)\n",
    "\n",
    "  pdf.output(filename, 'F')\n",
    "\n",
    "\n",
    "if __name__ == '__main__':\n",
    "  yesterday = (datetime.today() - timedelta(days=1)).strftime(\"%m/%d/%y\").replace(\"/0\",\"/\").lstrip(\"0\")\n",
    "  yesterday = \"10/10/20\" # Uncomment line for testing\n",
    "  \n",
    "  create_analytics_report(yesterday)"
   ]
  },
  {
   "cell_type": "code",
   "execution_count": null,
   "metadata": {},
   "outputs": [],
   "source": []
  }
 ],
 "metadata": {
  "kernelspec": {
   "display_name": "Python 3",
   "language": "python",
   "name": "python3"
  },
  "language_info": {
   "codemirror_mode": {
    "name": "ipython",
    "version": 3
   },
   "file_extension": ".py",
   "mimetype": "text/x-python",
   "name": "python",
   "nbconvert_exporter": "python",
   "pygments_lexer": "ipython3",
   "version": "3.8.5"
  }
 },
 "nbformat": 4,
 "nbformat_minor": 4
}
