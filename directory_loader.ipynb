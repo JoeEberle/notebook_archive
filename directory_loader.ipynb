{
 "cells": [
  {
   "cell_type": "code",
   "execution_count": 1,
   "metadata": {},
   "outputs": [],
   "source": [
    "# import the libraries we need\n",
    "import sqlite3\n",
    "import pandas as pd\n",
    "import sqlalchemy"
   ]
  },
  {
   "cell_type": "code",
   "execution_count": 2,
   "metadata": {},
   "outputs": [],
   "source": [
    "# create an engine this is not necessary for SQL lite but if ypu want \n",
    "# to attach to other DB like SQLserver, oracle or postgresql you need an engine \n",
    "db_engine = sqlalchemy.create_engine('sqlite:///database.db')"
   ]
  },
  {
   "cell_type": "code",
   "execution_count": 3,
   "metadata": {},
   "outputs": [
    {
     "name": "stdout",
     "output_type": "stream",
     "text": [
      "Testing function get_inferred_table_name with pretend_tes variable pretend_test_table\n",
      "Testing function get_inferred_table_name with pretend_tes variable unknown_table_blah_blah_blah\n"
     ]
    }
   ],
   "source": [
    "def get_inferred_table_name(directory_or_filemname): # WARNING! this inference may be WRONG! use explicit table names if known! \n",
    "    ''' The infer_table_name function returns a table name based upon the input directory or filename '''\n",
    "    table_name = 'unknown_table_' + directory_or_filemname.lower().replace(' ','_') # always return a unknown table name even in inference fails \n",
    "    df_name =  directory_or_filemname.lower() # Switch to lower case so you dont have to test case sensitivity\n",
    "    if df_name.find('solut') > -1:\n",
    "        table_name = 'solution'  \n",
    "    if df_name.find('gloss') > -1: \n",
    "        table_name = 'glossary_term' \n",
    "    if df_name.find('pretend_t') > -1: \n",
    "        table_name = 'pretend_test_table'\n",
    "        \n",
    "    return(table_name)    \n",
    "\n",
    "developing_and_testing = True\n",
    "if developing_and_testing: \n",
    "    inferred_table_name = get_inferred_table_name('pretend_tes')\n",
    "    print(f'Testing function get_inferred_table_name with pretend_tes variable {inferred_table_name}')\n",
    "    inferred_table_name = get_inferred_table_name('blah Blah BLAH')\n",
    "    print(f'Testing function get_inferred_table_name with pretend_tes variable {inferred_table_name}')     "
   ]
  },
  {
   "cell_type": "code",
   "execution_count": 4,
   "metadata": {},
   "outputs": [
    {
     "data": {
      "text/html": [
       "<div>\n",
       "<style scoped>\n",
       "    .dataframe tbody tr th:only-of-type {\n",
       "        vertical-align: middle;\n",
       "    }\n",
       "\n",
       "    .dataframe tbody tr th {\n",
       "        vertical-align: top;\n",
       "    }\n",
       "\n",
       "    .dataframe thead th {\n",
       "        text-align: right;\n",
       "    }\n",
       "</style>\n",
       "<table border=\"1\" class=\"dataframe\">\n",
       "  <thead>\n",
       "    <tr style=\"text-align: right;\">\n",
       "      <th></th>\n",
       "      <th>solution</th>\n",
       "      <th>description</th>\n",
       "    </tr>\n",
       "  </thead>\n",
       "  <tbody>\n",
       "    <tr>\n",
       "      <th>0</th>\n",
       "      <td>data_discovery</td>\n",
       "      <td>A data science that discovers data (walks the ...</td>\n",
       "    </tr>\n",
       "    <tr>\n",
       "      <th>1</th>\n",
       "      <td>library_registry</td>\n",
       "      <td>A data science that discovers manages a list o...</td>\n",
       "    </tr>\n",
       "    <tr>\n",
       "      <th>2</th>\n",
       "      <td>configuring_settings</td>\n",
       "      <td>A data science solution that creates and manag...</td>\n",
       "    </tr>\n",
       "    <tr>\n",
       "      <th>3</th>\n",
       "      <td>library_installer</td>\n",
       "      <td>A data science solution that installs or updat...</td>\n",
       "    </tr>\n",
       "  </tbody>\n",
       "</table>\n",
       "</div>"
      ],
      "text/plain": [
       "              solution                                         description\n",
       "0        data_discovery  A data science that discovers data (walks the ...\n",
       "1      library_registry  A data science that discovers manages a list o...\n",
       "2  configuring_settings  A data science solution that creates and manag...\n",
       "3     library_installer  A data science solution that installs or updat..."
      ]
     },
     "execution_count": 4,
     "metadata": {},
     "output_type": "execute_result"
    }
   ],
   "source": [
    "# read in sample data \n",
    "path = 'c:/infrastructure/excel/' \n",
    "filename = path + 'solution.xlsx'\n",
    "df = pd.read_excel(filename)\n",
    "df.head(100)                   "
   ]
  },
  {
   "cell_type": "code",
   "execution_count": 5,
   "metadata": {},
   "outputs": [],
   "source": [
    "table_name = 'solution'\n",
    "df.to_sql(table_name , db_engine, if_exists='append', index=False)"
   ]
  },
  {
   "cell_type": "code",
   "execution_count": 6,
   "metadata": {},
   "outputs": [],
   "source": [
    "table_name = 'solution'\n",
    "df.to_sql(table_name , db_engine, if_exists='replace', index=False)"
   ]
  },
  {
   "cell_type": "code",
   "execution_count": 7,
   "metadata": {},
   "outputs": [
    {
     "data": {
      "text/html": [
       "<div>\n",
       "<style scoped>\n",
       "    .dataframe tbody tr th:only-of-type {\n",
       "        vertical-align: middle;\n",
       "    }\n",
       "\n",
       "    .dataframe tbody tr th {\n",
       "        vertical-align: top;\n",
       "    }\n",
       "\n",
       "    .dataframe thead th {\n",
       "        text-align: right;\n",
       "    }\n",
       "</style>\n",
       "<table border=\"1\" class=\"dataframe\">\n",
       "  <thead>\n",
       "    <tr style=\"text-align: right;\">\n",
       "      <th></th>\n",
       "      <th>solution</th>\n",
       "      <th>description</th>\n",
       "    </tr>\n",
       "  </thead>\n",
       "  <tbody>\n",
       "    <tr>\n",
       "      <th>0</th>\n",
       "      <td>data_discovery</td>\n",
       "      <td>A data science that discovers data (walks the ...</td>\n",
       "    </tr>\n",
       "    <tr>\n",
       "      <th>1</th>\n",
       "      <td>library_registry</td>\n",
       "      <td>A data science that discovers manages a list o...</td>\n",
       "    </tr>\n",
       "    <tr>\n",
       "      <th>2</th>\n",
       "      <td>configuring_settings</td>\n",
       "      <td>A data science solution that creates and manag...</td>\n",
       "    </tr>\n",
       "    <tr>\n",
       "      <th>3</th>\n",
       "      <td>library_installer</td>\n",
       "      <td>A data science solution that installs or updat...</td>\n",
       "    </tr>\n",
       "  </tbody>\n",
       "</table>\n",
       "</div>"
      ],
      "text/plain": [
       "              solution                                         description\n",
       "0        data_discovery  A data science that discovers data (walks the ...\n",
       "1      library_registry  A data science that discovers manages a list o...\n",
       "2  configuring_settings  A data science solution that creates and manag...\n",
       "3     library_installer  A data science solution that installs or updat..."
      ]
     },
     "execution_count": 7,
     "metadata": {},
     "output_type": "execute_result"
    }
   ],
   "source": [
    "table_name = 'solution'\n",
    "pd.read_sql(table_name, db_engine)"
   ]
  }
 ],
 "metadata": {
  "kernelspec": {
   "display_name": "Python 3",
   "language": "python",
   "name": "python3"
  },
  "language_info": {
   "codemirror_mode": {
    "name": "ipython",
    "version": 3
   },
   "file_extension": ".py",
   "mimetype": "text/x-python",
   "name": "python",
   "nbconvert_exporter": "python",
   "pygments_lexer": "ipython3",
   "version": "3.8.5"
  }
 },
 "nbformat": 4,
 "nbformat_minor": 4
}
