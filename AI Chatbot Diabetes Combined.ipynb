{
 "cells": [
  {
   "cell_type": "markdown",
   "metadata": {},
   "source": [
    "# This is an AI chatbot that learns from a corpus on the web - Assessing Your Weight\n",
    "https://www.cdc.gov/healthyweight/assessing/index.html\n",
    "\n"
   ]
  },
  {
   "cell_type": "code",
   "execution_count": null,
   "metadata": {},
   "outputs": [],
   "source": [
    "# Make sure the Natural Language ToolKit is Installed "
   ]
  },
  {
   "cell_type": "code",
   "execution_count": 1,
   "metadata": {},
   "outputs": [
    {
     "name": "stdout",
     "output_type": "stream",
     "text": [
      "Requirement already satisfied: nltk in c:\\users\\josep\\anaconda3\\lib\\site-packages (3.5)\n",
      "Requirement already satisfied: joblib in c:\\users\\josep\\anaconda3\\lib\\site-packages (from nltk) (0.17.0)\n",
      "Requirement already satisfied: tqdm in c:\\users\\josep\\anaconda3\\lib\\site-packages (from nltk) (4.50.2)\n",
      "Requirement already satisfied: regex in c:\\users\\josep\\anaconda3\\lib\\site-packages (from nltk) (2020.10.15)\n",
      "Requirement already satisfied: click in c:\\users\\josep\\anaconda3\\lib\\site-packages (from nltk) (7.1.2)\n",
      "Note: you may need to restart the kernel to use updated packages.\n"
     ]
    }
   ],
   "source": [
    "pip install nltk   "
   ]
  },
  {
   "cell_type": "code",
   "execution_count": null,
   "metadata": {},
   "outputs": [],
   "source": [
    "# Make sure the newspaper3k library for artical scraping"
   ]
  },
  {
   "cell_type": "code",
   "execution_count": 2,
   "metadata": {},
   "outputs": [
    {
     "name": "stdout",
     "output_type": "stream",
     "text": [
      "Requirement already satisfied: newspaper3k in c:\\users\\josep\\anaconda3\\lib\\site-packages (0.2.8)\n",
      "Requirement already satisfied: jieba3k>=0.35.1 in c:\\users\\josep\\anaconda3\\lib\\site-packages (from newspaper3k) (0.35.1)\n",
      "Requirement already satisfied: feedparser>=5.2.1 in c:\\users\\josep\\anaconda3\\lib\\site-packages (from newspaper3k) (6.0.2)\n",
      "Requirement already satisfied: PyYAML>=3.11 in c:\\users\\josep\\anaconda3\\lib\\site-packages (from newspaper3k) (5.3.1)\n",
      "Requirement already satisfied: tldextract>=2.0.1 in c:\\users\\josep\\anaconda3\\lib\\site-packages (from newspaper3k) (3.1.0)\n",
      "Requirement already satisfied: beautifulsoup4>=4.4.1 in c:\\users\\josep\\anaconda3\\lib\\site-packages (from newspaper3k) (4.9.3)\n",
      "Requirement already satisfied: nltk>=3.2.1 in c:\\users\\josep\\anaconda3\\lib\\site-packages (from newspaper3k) (3.5)\n",
      "Requirement already satisfied: requests>=2.10.0 in c:\\users\\josep\\anaconda3\\lib\\site-packages (from newspaper3k) (2.24.0)\n",
      "Requirement already satisfied: feedfinder2>=0.0.4 in c:\\users\\josep\\anaconda3\\lib\\site-packages (from newspaper3k) (0.0.4)\n",
      "Requirement already satisfied: lxml>=3.6.0 in c:\\users\\josep\\anaconda3\\lib\\site-packages (from newspaper3k) (4.6.1)\n",
      "Requirement already satisfied: python-dateutil>=2.5.3 in c:\\users\\josep\\anaconda3\\lib\\site-packages (from newspaper3k) (2.8.1)\n",
      "Requirement already satisfied: tinysegmenter==0.3 in c:\\users\\josep\\anaconda3\\lib\\site-packages (from newspaper3k) (0.3)\n",
      "Requirement already satisfied: Pillow>=3.3.0 in c:\\users\\josep\\anaconda3\\lib\\site-packages (from newspaper3k) (8.0.1)\n",
      "Requirement already satisfied: cssselect>=0.9.2 in c:\\users\\josep\\anaconda3\\lib\\site-packages (from newspaper3k) (1.1.0)\n",
      "Requirement already satisfied: sgmllib3k in c:\\users\\josep\\anaconda3\\lib\\site-packages (from feedparser>=5.2.1->newspaper3k) (1.0.0)\n",
      "Requirement already satisfied: idna in c:\\users\\josep\\anaconda3\\lib\\site-packages (from tldextract>=2.0.1->newspaper3k) (2.10)\n",
      "Requirement already satisfied: filelock>=3.0.8 in c:\\users\\josep\\anaconda3\\lib\\site-packages (from tldextract>=2.0.1->newspaper3k) (3.0.12)\n",
      "Requirement already satisfied: requests-file>=1.4 in c:\\users\\josep\\anaconda3\\lib\\site-packages (from tldextract>=2.0.1->newspaper3k) (1.5.1)\n",
      "Requirement already satisfied: soupsieve>1.2; python_version >= \"3.0\" in c:\\users\\josep\\anaconda3\\lib\\site-packages (from beautifulsoup4>=4.4.1->newspaper3k) (2.0.1)\n",
      "Requirement already satisfied: tqdm in c:\\users\\josep\\anaconda3\\lib\\site-packages (from nltk>=3.2.1->newspaper3k) (4.50.2)\n",
      "Requirement already satisfied: joblib in c:\\users\\josep\\anaconda3\\lib\\site-packages (from nltk>=3.2.1->newspaper3k) (0.17.0)\n",
      "Requirement already satisfied: click in c:\\users\\josep\\anaconda3\\lib\\site-packages (from nltk>=3.2.1->newspaper3k) (7.1.2)\n",
      "Requirement already satisfied: regex in c:\\users\\josep\\anaconda3\\lib\\site-packages (from nltk>=3.2.1->newspaper3k) (2020.10.15)\n",
      "Requirement already satisfied: certifi>=2017.4.17 in c:\\users\\josep\\anaconda3\\lib\\site-packages (from requests>=2.10.0->newspaper3k) (2020.6.20)\n",
      "Requirement already satisfied: urllib3!=1.25.0,!=1.25.1,<1.26,>=1.21.1 in c:\\users\\josep\\anaconda3\\lib\\site-packages (from requests>=2.10.0->newspaper3k) (1.25.11)\n",
      "Requirement already satisfied: chardet<4,>=3.0.2 in c:\\users\\josep\\anaconda3\\lib\\site-packages (from requests>=2.10.0->newspaper3k) (3.0.4)\n",
      "Requirement already satisfied: six in c:\\users\\josep\\anaconda3\\lib\\site-packages (from feedfinder2>=0.0.4->newspaper3k) (1.15.0)\n",
      "Note: you may need to restart the kernel to use updated packages.\n"
     ]
    }
   ],
   "source": [
    "pip install newspaper3k"
   ]
  },
  {
   "cell_type": "code",
   "execution_count": 3,
   "metadata": {},
   "outputs": [],
   "source": [
    "#Import the libraries\n",
    "from newspaper import Article\n",
    "import random\n",
    "import string\n",
    "import nltk\n",
    "from sklearn.feature_extraction.text import CountVectorizer\n",
    "from sklearn.metrics.pairwise import cosine_similarity\n",
    "import numpy as np\n",
    "import warnings\n",
    "import pandas as pd \n",
    "warnings.filterwarnings('ignore')"
   ]
  },
  {
   "cell_type": "code",
   "execution_count": 4,
   "metadata": {},
   "outputs": [
    {
     "data": {
      "text/plain": [
       "True"
      ]
     },
     "execution_count": 4,
     "metadata": {},
     "output_type": "execute_result"
    }
   ],
   "source": [
    "# Download trhe punkt package\n",
    "nltk.download('punkt', quiet=True)\n"
   ]
  },
  {
   "cell_type": "code",
   "execution_count": 3,
   "metadata": {},
   "outputs": [],
   "source": [
    "#get the Article\n",
    "#article = Article('https://my.clevelandclinic.org/health/diseases/7104-diabetes-mellitus-an-overview')\n",
    "article = Article('https://www.mayoclinic.org/diseases-conditions/diabetes/symptoms-causes/syc-20371444')\n",
    "article.download()\n",
    "article.parse()\n",
    "article.nlp()\n",
    "corpus = article.text\n"
   ]
  },
  {
   "cell_type": "code",
   "execution_count": 57,
   "metadata": {},
   "outputs": [],
   "source": [
    "#get the Article\n",
    "article = Article('https://www.nia.nih.gov/health/four-types-exercise-can-improve-your-health-and-physical-ability')\n",
    "article.download()\n",
    "article.parse()\n",
    "article.nlp()\n",
    "corpus = article.text\n"
   ]
  },
  {
   "cell_type": "code",
   "execution_count": null,
   "metadata": {},
   "outputs": [],
   "source": [
    "#get the Article\n",
    "#article = Article('https://my.clevelandclinic.org/health/diseases/7104-diabetes-mellitus-an-overview')\n",
    "article = Article('https://www.mayoclinic.org/diseases-conditions/diabetes/symptoms-causes/syc-20371444')\n",
    "#article = Article('https://my.clevelandclinic.org/health/diseases/7104-diabetes-mellitus-an-overview')\n",
    "#article = Article(#https://www.cdc.gov/healthyweight/healthy_eating/index.html)\n",
    "article.download()\n",
    "article.parse()\n",
    "article.nlp()\n",
    "corpus = corpus + article.text"
   ]
  },
  {
   "cell_type": "code",
   "execution_count": null,
   "metadata": {},
   "outputs": [],
   "source": [
    "#get the Article\n",
    "#article = Article('https://my.clevelandclinic.org/health/diseases/7104-diabetes-mellitus-an-overview')\n",
    "#article = Article('https://www.mayoclinic.org/diseases-conditions/diabetes/symptoms-causes/syc-20371444')\n",
    "article = Article('https://www.cdc.gov/healthyweight/healthy_eating/index.html')\n",
    "#https://www.cdc.gov/healthyweight/healthy_eating/index.html\n",
    "article.download()\n",
    "article.parse()\n",
    "article.nlp()\n",
    "corpus = corpus + article.text"
   ]
  },
  {
   "cell_type": "code",
   "execution_count": 58,
   "metadata": {},
   "outputs": [
    {
     "name": "stdout",
     "output_type": "stream",
     "text": [
      "Learn about the four types of exercises and how they can benefit you. For workout videos and examples of how to do some of the exercises listed below, visit NIA’s YouTube channel .\n",
      "\n",
      "Most people tend to focus on one type of exercise or activity and think they’re doing enough. Research has shown that it’s important to get all four types of exercise: endurance, strength, balance, and flexibility. Each one has different benefits. Doing one kind also can improve your ability to do the others, and variety helps reduce boredom and risk of injury. No matter your age, you can find activities that meet your fitness level and needs!\n",
      "\n",
      "On this page:\n",
      "\n",
      "Endurance Exercises for Older Adults\n",
      "\n",
      "Endurance activities, often referred to as aerobic, increase your breathing and heart rates. These activities help keep you healthy, improve your fitness, and help you perform the tasks you need to do every day. Endurance exercises improve the health of your heart, lungs, and circulatory system. They also can delay or prevent many diseases that are common in older adults such as diabetes, colon and breast cancers, heart disease, and others. Physical activities that build endurance include:\n",
      "\n",
      "Brisk walking or jogging\n",
      "\n",
      "Yard work (mowing, raking)\n",
      "\n",
      "Dancing\n",
      "\n",
      "Swimming\n",
      "\n",
      "Biking\n",
      "\n",
      "Climbing stairs or hills\n",
      "\n",
      "Playing tennis or basketball\n",
      "\n",
      "Increase your endurance or “staying power” to help keep up with your grandchildren during a trip to the park, dance to your favorite songs at a family wedding, and rake the yard and bag up leaves. Build up to at least 150 minutes of activity a week that makes you breathe hard. Try to be active throughout your day to reach this goal and avoid sitting for long periods of time.\n",
      "\n",
      "Safety Tips\n",
      "\n",
      "Do a little light activity, such as easy walking, before and after your endurance activities to warm up and cool down.\n",
      "\n",
      "Listen to your body: endurance activities should not cause dizziness, chest pain or pressure, or a feeling like heartburn.\n",
      "\n",
      "Be sure to drink liquids when doing any activity that makes you sweat. If your doctor has told you to limit your fluids, be sure to check before increasing the amount of fluid you drink while exercising.\n",
      "\n",
      "If you are going to be exercising outdoors, be aware of your surroundings.\n",
      "\n",
      "Dress in layers so you can add or remove clothes as needed for hot and cold weather.\n",
      "\n",
      "To prevent injuries, use safety equipment, such as a helmet when bicycling.\n",
      "\n",
      "Quick Tip: Test Your Exercise Intensity When you’re being active, try talking: if you’re breathing hard but can still have a conversation easily, it’s moderate-intensity activity. If you can only say a few words before you have to take a breath, it’s vigorous-intensity activity.\n",
      "\n",
      "Strength Exercises for Older Adults\n",
      "\n",
      "Your muscular strength can make a big difference. Strong muscles help you stay independent and make everyday activities feel easier, like getting up from a chair, climbing stairs, and carrying groceries. Keeping your muscles strong can help with your balance and prevent falls and fall-related injuries. You are less likely to fall when your leg and hip muscles are strong. Some people call using weight to improve your muscle strength “strength training” or “resistance training.”\n",
      "\n",
      "Some people choose to use weights to help improve their strength. If you do, start by using light weights at first, then gradually add more. Other people use resistance bands, stretchy elastic bands that come in varying strengths. If you are a beginner, try exercising without the band or use a light band until you are comfortable. Add a band or move on to a stronger band (or more weight) when you can do two sets of 10 to 15 repetitions easily. Try to do strength exercises for all of your major muscle groups at least 2 days per week, but don’t exercise the same muscle group on any 2 days in a row. Below are a few examples of strength exercises:\n",
      "\n",
      "Safety Tips\n",
      "\n",
      "Don’t hold your breath during strength exercises and breathe regularly.\n",
      "\n",
      "Breathe out as you lift or push, and breathe in as you relax.\n",
      "\n",
      "Talk with your doctor if you are unsure about doing a particular exercise.\n",
      "\n",
      "Balance Exercises for Older Adults\n",
      "\n",
      "Balance exercises help prevent falls, a common problem in older adults that can have serious consequences. Many lower-body strength exercises also will improve your balance. Balance exercises include:\n",
      "\n",
      "Safety Tips\n",
      "\n",
      "Have a sturdy chair or a person nearby to hold on to if you feel unsteady.\n",
      "\n",
      "Talk with your doctor if you are unsure about a particular exercise.\n",
      "\n",
      "Flexibility Exercises for Older Adults\n",
      "\n",
      "Stretching can improve your flexibility. Moving more freely will make it easier for you to reach down to tie your shoes or look over your shoulder when you back your car out of the driveway. Flexibility exercises include:\n",
      "\n",
      "Safety Tips\n",
      "\n",
      "Stretch when your muscles are warmed up.\n",
      "\n",
      "Stretch after endurance or strength exercises.\n",
      "\n",
      "Don’t stretch so far that it hurts.\n",
      "\n",
      "Always remember to breathe normally while holding a stretch.\n",
      "\n",
      "Talk with your doctor if you are unsure about a particular exercise.\n",
      "\n",
      "For More Information About Exercise and Physical Activity\n",
      "\n",
      "American Council on Exercise\n",
      "\n",
      "888-825-3636 (toll-free)\n",
      "\n",
      "receptionist@acefitness.org\n",
      "\n",
      "www.acefitness.org\n",
      "\n",
      "American Physical Therapy Association\n",
      "\n",
      "800-999-2782 (toll-free)\n",
      "\n",
      "public-relations@apta.org\n",
      "\n",
      "www.choosept.com\n",
      "\n",
      "Centers for Disease Control and Prevention (CDC)\n",
      "\n",
      "800-232-4636 (toll-free)\n",
      "\n",
      "888-232-6348 (TTY/toll-free)\n",
      "\n",
      "cdcinfo@cdc.gov\n",
      "\n",
      "www.cdc.gov\n",
      "\n",
      "Office of Disease Prevention and Health Promotion (ODPHP)\n",
      "\n",
      "240-453-8280\n",
      "\n",
      "odphpinfo@hhs.gov\n",
      "\n",
      "https://health.gov/\n",
      "\n",
      "MedlinePlus\n",
      "\n",
      "National Library of Medicine\n",
      "\n",
      "www.medlineplus.gov\n",
      "\n",
      "National Council on Aging\n",
      "\n",
      "571-527-3900\n",
      "\n",
      "https://www.ncoa.org/\n",
      "\n",
      "This content is provided by the NIH National Institute on Aging (NIA). NIA scientists and other experts review this content to ensure it is accurate and up to date.\n"
     ]
    }
   ],
   "source": [
    "#Print the article\n",
    "print(corpus)"
   ]
  },
  {
   "cell_type": "code",
   "execution_count": 59,
   "metadata": {},
   "outputs": [],
   "source": [
    "#Toknenize the text of the Corpus\n",
    "text = corpus\n",
    "sentence_list = nltk.sent_tokenize(text) # a List of sentences "
   ]
  },
  {
   "cell_type": "code",
   "execution_count": 60,
   "metadata": {},
   "outputs": [
    {
     "name": "stdout",
     "output_type": "stream",
     "text": [
      "['Learn about the four types of exercises and how they can benefit you.', 'For workout videos and examples of how to do some of the exercises listed below, visit NIA’s YouTube channel .', 'Most people tend to focus on one type of exercise or activity and think they’re doing enough.', 'Research has shown that it’s important to get all four types of exercise: endurance, strength, balance, and flexibility.', 'Each one has different benefits.', 'Doing one kind also can improve your ability to do the others, and variety helps reduce boredom and risk of injury.', 'No matter your age, you can find activities that meet your fitness level and needs!', 'On this page:\\n\\nEndurance Exercises for Older Adults\\n\\nEndurance activities, often referred to as aerobic, increase your breathing and heart rates.', 'These activities help keep you healthy, improve your fitness, and help you perform the tasks you need to do every day.', 'Endurance exercises improve the health of your heart, lungs, and circulatory system.', 'They also can delay or prevent many diseases that are common in older adults such as diabetes, colon and breast cancers, heart disease, and others.', 'Physical activities that build endurance include:\\n\\nBrisk walking or jogging\\n\\nYard work (mowing, raking)\\n\\nDancing\\n\\nSwimming\\n\\nBiking\\n\\nClimbing stairs or hills\\n\\nPlaying tennis or basketball\\n\\nIncrease your endurance or “staying power” to help keep up with your grandchildren during a trip to the park, dance to your favorite songs at a family wedding, and rake the yard and bag up leaves.', 'Build up to at least 150 minutes of activity a week that makes you breathe hard.', 'Try to be active throughout your day to reach this goal and avoid sitting for long periods of time.', 'Safety Tips\\n\\nDo a little light activity, such as easy walking, before and after your endurance activities to warm up and cool down.', 'Listen to your body: endurance activities should not cause dizziness, chest pain or pressure, or a feeling like heartburn.', 'Be sure to drink liquids when doing any activity that makes you sweat.', 'If your doctor has told you to limit your fluids, be sure to check before increasing the amount of fluid you drink while exercising.', 'If you are going to be exercising outdoors, be aware of your surroundings.', 'Dress in layers so you can add or remove clothes as needed for hot and cold weather.', 'To prevent injuries, use safety equipment, such as a helmet when bicycling.', 'Quick Tip: Test Your Exercise Intensity When you’re being active, try talking: if you’re breathing hard but can still have a conversation easily, it’s moderate-intensity activity.', 'If you can only say a few words before you have to take a breath, it’s vigorous-intensity activity.', 'Strength Exercises for Older Adults\\n\\nYour muscular strength can make a big difference.', 'Strong muscles help you stay independent and make everyday activities feel easier, like getting up from a chair, climbing stairs, and carrying groceries.', 'Keeping your muscles strong can help with your balance and prevent falls and fall-related injuries.', 'You are less likely to fall when your leg and hip muscles are strong.', 'Some people call using weight to improve your muscle strength “strength training” or “resistance training.”\\n\\nSome people choose to use weights to help improve their strength.', 'If you do, start by using light weights at first, then gradually add more.', 'Other people use resistance bands, stretchy elastic bands that come in varying strengths.', 'If you are a beginner, try exercising without the band or use a light band until you are comfortable.', 'Add a band or move on to a stronger band (or more weight) when you can do two sets of 10 to 15 repetitions easily.', 'Try to do strength exercises for all of your major muscle groups at least 2 days per week, but don’t exercise the same muscle group on any 2 days in a row.', 'Below are a few examples of strength exercises:\\n\\nSafety Tips\\n\\nDon’t hold your breath during strength exercises and breathe regularly.', 'Breathe out as you lift or push, and breathe in as you relax.', 'Talk with your doctor if you are unsure about doing a particular exercise.', 'Balance Exercises for Older Adults\\n\\nBalance exercises help prevent falls, a common problem in older adults that can have serious consequences.', 'Many lower-body strength exercises also will improve your balance.', 'Balance exercises include:\\n\\nSafety Tips\\n\\nHave a sturdy chair or a person nearby to hold on to if you feel unsteady.', 'Talk with your doctor if you are unsure about a particular exercise.', 'Flexibility Exercises for Older Adults\\n\\nStretching can improve your flexibility.', 'Moving more freely will make it easier for you to reach down to tie your shoes or look over your shoulder when you back your car out of the driveway.', 'Flexibility exercises include:\\n\\nSafety Tips\\n\\nStretch when your muscles are warmed up.', 'Stretch after endurance or strength exercises.', 'Don’t stretch so far that it hurts.', 'Always remember to breathe normally while holding a stretch.', 'Talk with your doctor if you are unsure about a particular exercise.', 'For More Information About Exercise and Physical Activity\\n\\nAmerican Council on Exercise\\n\\n888-825-3636 (toll-free)\\n\\nreceptionist@acefitness.org\\n\\nwww.acefitness.org\\n\\nAmerican Physical Therapy Association\\n\\n800-999-2782 (toll-free)\\n\\npublic-relations@apta.org\\n\\nwww.choosept.com\\n\\nCenters for Disease Control and Prevention (CDC)\\n\\n800-232-4636 (toll-free)\\n\\n888-232-6348 (TTY/toll-free)\\n\\ncdcinfo@cdc.gov\\n\\nwww.cdc.gov\\n\\nOffice of Disease Prevention and Health Promotion (ODPHP)\\n\\n240-453-8280\\n\\nodphpinfo@hhs.gov\\n\\nhttps://health.gov/\\n\\nMedlinePlus\\n\\nNational Library of Medicine\\n\\nwww.medlineplus.gov\\n\\nNational Council on Aging\\n\\n571-527-3900\\n\\nhttps://www.ncoa.org/\\n\\nThis content is provided by the NIH National Institute on Aging (NIA).', 'NIA scientists and other experts review this content to ensure it is accurate and up to date.']\n"
     ]
    }
   ],
   "source": [
    "# print the sentence list\n",
    "print(sentence_list)"
   ]
  },
  {
   "cell_type": "code",
   "execution_count": 61,
   "metadata": {},
   "outputs": [],
   "source": [
    "# a function to return a random greeting responce\n",
    "def greeting_response(text):\n",
    "    text = text.lower()\n",
    "    \n",
    "    #bots greeting responses\n",
    "    bot_greetings = ['howdy','hi','hey', 'hello','hola']\n",
    "    #Users greetings\n",
    "    user_greetings =['hi','hey','hello','hola','wassup','greetings','howdy','goodmorning']\n",
    "    \n",
    "    for word in text.split(): \n",
    "        if word in user_greetings:\n",
    "            return random.choice(bot_greetings)\n",
    "        "
   ]
  },
  {
   "cell_type": "code",
   "execution_count": 63,
   "metadata": {},
   "outputs": [],
   "source": [
    "df_corpus = pd.DataFrame(sentence_list)\n",
    "df_corpus['Topic'] = 'Exercise'\n",
    "df_corpus['URL'] = 'https://www.nia.nih.gov/health/four-types-exercise-can-improve-your-health-and-physical-ability'\n",
    "df_corpus.iloc[:,:]\n",
    "df_corpus.columns =['Sentence', 'Topic','URL']\n",
    "# Save the transformed file \n",
    "df_corpus.to_csv(\"C:/Users/josep/documents/datasets/Chatbot_Corpus_Excercise.csv\") "
   ]
  },
  {
   "cell_type": "code",
   "execution_count": 24,
   "metadata": {},
   "outputs": [
    {
     "ename": "SyntaxError",
     "evalue": "invalid syntax (<ipython-input-24-2f9bb0225fec>, line 1)",
     "output_type": "error",
     "traceback": [
      "\u001b[1;36m  File \u001b[1;32m\"<ipython-input-24-2f9bb0225fec>\"\u001b[1;36m, line \u001b[1;32m1\u001b[0m\n\u001b[1;33m    df_corpus.URL =\u001b[0m\n\u001b[1;37m                    ^\u001b[0m\n\u001b[1;31mSyntaxError\u001b[0m\u001b[1;31m:\u001b[0m invalid syntax\n"
     ]
    }
   ],
   "source": [
    "df_corpus.URL = \n",
    "df_corpus.columns =['Sentence', 'Topic']\n",
    "df_corpus['URL'] = 'https://www.mayoclinic.org/diseases-conditions/diabetes/symptoms-causes/syc-20371444'"
   ]
  },
  {
   "cell_type": "code",
   "execution_count": 64,
   "metadata": {},
   "outputs": [],
   "source": [
    "def index_sort(list_var):\n",
    "    length = len(list_var)\n",
    "    list_index = list(range(0,length))\n",
    "    \n",
    "    x = list_var\n",
    "    for i in range(length): \n",
    "        for j in range(length):\n",
    "            if x[list_index[i]] > x[list_index[j]]:\n",
    "                #swap\n",
    "                temp = list_index[i]\n",
    "                list_index[i] = list_index[j]\n",
    "                list_index[j] = temp\n",
    "                \n",
    "                \n",
    "    return list_index"
   ]
  },
  {
   "cell_type": "code",
   "execution_count": 65,
   "metadata": {},
   "outputs": [],
   "source": [
    "# a function to create the bots response\n",
    "def bot_response(user_input):\n",
    "    user_input = user_input.lower()\n",
    "    sentence_list.append(user_input)\n",
    "    bot_response = ''\n",
    "    cm = CountVectorizer().fit_transform(sentence_list)\n",
    "    similarity_scores = cosine_similarity(cm[-1], cm)\n",
    "    similarity_scores_list = similarity_scores.flatten()\n",
    "    index = index_sort(similarity_scores_list)\n",
    "    index = index[1:]\n",
    "    response_flag = 0 \n",
    "    \n",
    "    j = 0 \n",
    "    for i in range(len(index)):\n",
    "        if similarity_scores_list[index[i]] > 0.0:\n",
    "            bot_response = bot_response+' '+sentence_list[index[i]]\n",
    "            response_flag = 1\n",
    "            j = j + 1\n",
    "        if j > 2:\n",
    "            break\n",
    "            \n",
    "    if response_flag == 0:\n",
    "        bot_response+' '+'I apologize, I dont understand'\n",
    "        \n",
    "    sentence_list.remove(user_input)\n",
    "    \n",
    "    return bot_response"
   ]
  },
  {
   "cell_type": "code",
   "execution_count": null,
   "metadata": {},
   "outputs": [
    {
     "name": "stdout",
     "output_type": "stream",
     "text": [
      "Doc Bot: I am doc bot. I will answer your questions about Diabetes treatment and Prevention. If you want to exit type bye\n",
      "hi\n",
      "Doc Bot: hi\n",
      "what excercise helps\n",
      "Doc bot: Doing one kind also can improve your ability to do the others, and variety helps reduce boredom and risk of injury.\n",
      "is walking good?\n",
      "Doc bot: NIA scientists and other experts review this content to ensure it is accurate and up to date. Safety Tips\n",
      "\n",
      "Do a little light activity, such as easy walking, before and after your endurance activities to warm up and cool down. Physical activities that build endurance include:\n",
      "\n",
      "Brisk walking or jogging\n",
      "\n",
      "Yard work (mowing, raking)\n",
      "\n",
      "Dancing\n",
      "\n",
      "Swimming\n",
      "\n",
      "Biking\n",
      "\n",
      "Climbing stairs or hills\n",
      "\n",
      "Playing tennis or basketball\n",
      "\n",
      "Increase your endurance or “staying power” to help keep up with your grandchildren during a trip to the park, dance to your favorite songs at a family wedding, and rake the yard and bag up leaves.\n",
      "is mowing excercise ?\n",
      "Doc bot: NIA scientists and other experts review this content to ensure it is accurate and up to date. Physical activities that build endurance include:\n",
      "\n",
      "Brisk walking or jogging\n",
      "\n",
      "Yard work (mowing, raking)\n",
      "\n",
      "Dancing\n",
      "\n",
      "Swimming\n",
      "\n",
      "Biking\n",
      "\n",
      "Climbing stairs or hills\n",
      "\n",
      "Playing tennis or basketball\n",
      "\n",
      "Increase your endurance or “staying power” to help keep up with your grandchildren during a trip to the park, dance to your favorite songs at a family wedding, and rake the yard and bag up leaves. For More Information About Exercise and Physical Activity\n",
      "\n",
      "American Council on Exercise\n",
      "\n",
      "888-825-3636 (toll-free)\n",
      "\n",
      "receptionist@acefitness.org\n",
      "\n",
      "www.acefitness.org\n",
      "\n",
      "American Physical Therapy Association\n",
      "\n",
      "800-999-2782 (toll-free)\n",
      "\n",
      "public-relations@apta.org\n",
      "\n",
      "www.choosept.com\n",
      "\n",
      "Centers for Disease Control and Prevention (CDC)\n",
      "\n",
      "800-232-4636 (toll-free)\n",
      "\n",
      "888-232-6348 (TTY/toll-free)\n",
      "\n",
      "cdcinfo@cdc.gov\n",
      "\n",
      "www.cdc.gov\n",
      "\n",
      "Office of Disease Prevention and Health Promotion (ODPHP)\n",
      "\n",
      "240-453-8280\n",
      "\n",
      "odphpinfo@hhs.gov\n",
      "\n",
      "https://health.gov/\n",
      "\n",
      "MedlinePlus\n",
      "\n",
      "National Library of Medicine\n",
      "\n",
      "www.medlineplus.gov\n",
      "\n",
      "National Council on Aging\n",
      "\n",
      "571-527-3900\n",
      "\n",
      "https://www.ncoa.org/\n",
      "\n",
      "This content is provided by the NIH National Institute on Aging (NIA).\n",
      "should I lift weights ?\n",
      "Doc bot: If you do, start by using light weights at first, then gradually add more. Breathe out as you lift or push, and breathe in as you relax. Listen to your body: endurance activities should not cause dizziness, chest pain or pressure, or a feeling like heartburn.\n",
      "should I dance ?\n",
      "Doc bot: Listen to your body: endurance activities should not cause dizziness, chest pain or pressure, or a feeling like heartburn. Physical activities that build endurance include:\n",
      "\n",
      "Brisk walking or jogging\n",
      "\n",
      "Yard work (mowing, raking)\n",
      "\n",
      "Dancing\n",
      "\n",
      "Swimming\n",
      "\n",
      "Biking\n",
      "\n",
      "Climbing stairs or hills\n",
      "\n",
      "Playing tennis or basketball\n",
      "\n",
      "Increase your endurance or “staying power” to help keep up with your grandchildren during a trip to the park, dance to your favorite songs at a family wedding, and rake the yard and bag up leaves.\n",
      "is swimming good for me ?\n",
      "Doc bot: Flexibility Exercises for Older Adults\n",
      "\n",
      "Stretching can improve your flexibility. Strength Exercises for Older Adults\n",
      "\n",
      "Your muscular strength can make a big difference. Dress in layers so you can add or remove clothes as needed for hot and cold weather.\n",
      "is endurance important?\n",
      "Doc bot: Research has shown that it’s important to get all four types of exercise: endurance, strength, balance, and flexibility. On this page:\n",
      "\n",
      "Endurance Exercises for Older Adults\n",
      "\n",
      "Endurance activities, often referred to as aerobic, increase your breathing and heart rates. Stretch after endurance or strength exercises.\n",
      "what helps my balance ?\n",
      "Doc bot: Balance Exercises for Older Adults\n",
      "\n",
      "Balance exercises help prevent falls, a common problem in older adults that can have serious consequences. Many lower-body strength exercises also will improve your balance. Research has shown that it’s important to get all four types of exercise: endurance, strength, balance, and flexibility.\n",
      "will I gain weight?\n",
      "Doc bot: Many lower-body strength exercises also will improve your balance. Add a band or move on to a stronger band (or more weight) when you can do two sets of 10 to 15 repetitions easily. Moving more freely will make it easier for you to reach down to tie your shoes or look over your shoulder when you back your car out of the driveway.\n",
      "What helps keep me active?\n",
      "Doc bot: Try to be active throughout your day to reach this goal and avoid sitting for long periods of time. Doing one kind also can improve your ability to do the others, and variety helps reduce boredom and risk of injury. These activities help keep you healthy, improve your fitness, and help you perform the tasks you need to do every day.\n",
      "is it ok to be lazy?\n",
      "Doc bot: NIA scientists and other experts review this content to ensure it is accurate and up to date. If you are going to be exercising outdoors, be aware of your surroundings. Try to be active throughout your day to reach this goal and avoid sitting for long periods of time.\n",
      "What helps with balance ?\n",
      "Doc bot: Keeping your muscles strong can help with your balance and prevent falls and fall-related injuries. Balance Exercises for Older Adults\n",
      "\n",
      "Balance exercises help prevent falls, a common problem in older adults that can have serious consequences. Many lower-body strength exercises also will improve your balance.\n"
     ]
    }
   ],
   "source": [
    "# start the chat \n",
    "print('Doc Bot: I am doc bot. I will answer your questions about Diabetes treatment and Prevention. If you want to exit type bye')\n",
    "\n",
    "exit_list = ['exit','see you later','quit','break','bye']\n",
    "\n",
    "while(True):\n",
    "    user_input = input()\n",
    "    if user_input.lower() in exit_list:\n",
    "        print('Doc Bot: chat with you later !!')\n",
    "        break\n",
    "    else:\n",
    "        if greeting_response(user_input) != None:\n",
    "            print('Doc Bot: '+greeting_response(user_input))\n",
    "        else:\n",
    "            print('Doc bot:'+bot_response(user_input))\n",
    "        "
   ]
  }
 ],
 "metadata": {
  "kernelspec": {
   "display_name": "Python 3",
   "language": "python",
   "name": "python3"
  },
  "language_info": {
   "codemirror_mode": {
    "name": "ipython",
    "version": 3
   },
   "file_extension": ".py",
   "mimetype": "text/x-python",
   "name": "python",
   "nbconvert_exporter": "python",
   "pygments_lexer": "ipython3",
   "version": "3.8.5"
  }
 },
 "nbformat": 4,
 "nbformat_minor": 4
}
