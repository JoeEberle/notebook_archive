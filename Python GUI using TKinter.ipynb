{
 "cells": [
  {
   "cell_type": "code",
   "execution_count": 1,
   "metadata": {},
   "outputs": [],
   "source": [
    "from tkinter import * "
   ]
  },
  {
   "cell_type": "code",
   "execution_count": 21,
   "metadata": {},
   "outputs": [],
   "source": [
    "# Create the root window using PACK method versus Positioning\n",
    "win = Tk()\n",
    "\n",
    "win.title(\"AIHA Chat\")\n",
    "\n",
    "saying = \"Hello There Tkinter :) !!! \"\n",
    "\n",
    "# Create a sample label widget \n",
    "myLabel = Label(win, text = saying)\n",
    "# Pack it onto the root window\n",
    "myLabel.pack()\n",
    "\n",
    "win.mainloop() "
   ]
  },
  {
   "cell_type": "code",
   "execution_count": 22,
   "metadata": {},
   "outputs": [],
   "source": [
    "# Create the root window using Grid Method \n",
    "win = Tk()\n",
    "\n",
    "# Create a sample label widget \n",
    "myLabel1 = Label(win, text = \"My Label 1  \")\n",
    "myLabel2 = Label(win, text = \"My Label 2 - Joe Eberle  \")\n",
    "myLabel3 = Label(win, text = \"My Label 3 - Filler  \")\n",
    "# Place on the window using grid  it onto the root window\n",
    "myLabel1.grid(row=0,column=0)\n",
    "myLabel2.grid(row=1,column=5)\n",
    "myLabel3.grid(row=2,column=1)\n",
    "\n",
    "win.mainloop() \n"
   ]
  }
 ],
 "metadata": {
  "kernelspec": {
   "display_name": "Python 3",
   "language": "python",
   "name": "python3"
  },
  "language_info": {
   "codemirror_mode": {
    "name": "ipython",
    "version": 3
   },
   "file_extension": ".py",
   "mimetype": "text/x-python",
   "name": "python",
   "nbconvert_exporter": "python",
   "pygments_lexer": "ipython3",
   "version": "3.8.5"
  }
 },
 "nbformat": 4,
 "nbformat_minor": 4
}
