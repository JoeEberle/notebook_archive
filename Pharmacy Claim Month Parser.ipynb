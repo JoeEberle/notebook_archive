{
 "cells": [
  {
   "cell_type": "markdown",
   "metadata": {},
   "source": [
    "### This notebook parses the pharmacy claims into months\n",
    "##### Added Excel Automation including Filtering to Month and Year\n",
    "#### Joe Eberle - 4/7/2022"
   ]
  },
  {
   "cell_type": "code",
   "execution_count": 1,
   "metadata": {},
   "outputs": [],
   "source": [
    "# Import Libraries for Spreadsheet Automation \n",
    "import pandas as pd\n",
    "import numpy as np\n",
    "import datetime as dt\n",
    "from datetime import date\n",
    "import random\n",
    "import math\n",
    "import os\n",
    "import glob\n",
    "from openpyxl import load_workbook\n",
    "from openpyxl.styles import colors\n",
    "from openpyxl.utils import get_column_letter\n",
    "from openpyxl.styles import NamedStyle, Font, Border, Side, PatternFill, GradientFill, Alignment, Color, Fill\n",
    "from openpyxl import Workbook\n",
    "import openpyxl\n",
    "import time"
   ]
  },
  {
   "cell_type": "code",
   "execution_count": 2,
   "metadata": {},
   "outputs": [
    {
     "name": "stdout",
     "output_type": "stream",
     "text": [
      "c:/Users/josep/Documents/Kaleida/Pharmacy_Extract.csv\n"
     ]
    }
   ],
   "source": [
    "# Configure the code and visual settings to have consistency \n",
    "path = 'c:/Users/josep/Documents/Kaleida/'\n",
    "# NOTE !!!! you need to configure the \n",
    "Path_to_Save = 'c:/Users/josep/Documents/Kaleida/Pharmacy_Months/'\n",
    "# Path_to_Share_Excel =  'https://kaleidahealth.sharefile.com/fo54e2c6-ffc7-4025-8649-443d1d382dff//'\n",
    "Path_to_Raw_Data = 'c:/Users/josep/Documents/Kaleida/'\n",
    "Raw_Data_File_Name_1 = 'Pharmacy_Extract.csv'\n",
    "\n",
    "print(Path_to_Raw_Data + Raw_Data_File_Name_1)\n"
   ]
  },
  {
   "cell_type": "code",
   "execution_count": 3,
   "metadata": {},
   "outputs": [],
   "source": [
    "# Read in the CSV SQL output for Patient Attribution \n",
    "claims = pd.read_csv(Path_to_Raw_Data + Raw_Data_File_Name_1)"
   ]
  },
  {
   "cell_type": "code",
   "execution_count": 5,
   "metadata": {},
   "outputs": [
    {
     "data": {
      "text/plain": [
       "<bound method DataFrame.info of     Service_from_Year  Service_from_Month  \\\n",
       "0                2021                   6   \n",
       "1                2021                   8   \n",
       "2                2021                   9   \n",
       "3                2021                   5   \n",
       "4                2020                   9   \n",
       "..                ...                 ...   \n",
       "95               2021                   5   \n",
       "96               2021                   5   \n",
       "97               2021                   5   \n",
       "98               2021                   5   \n",
       "99               2021                   6   \n",
       "\n",
       "                         Patient_EMPI_ID    Member_ID            Claim_ID  \\\n",
       "0   20eecd25-d0f8-42ca-b62e-20289ec36da6     15917566     CL_1CJTT03UITB5   \n",
       "1   20eecd25-d0f8-42ca-b62e-20289ec36da6     15917566     CL_1PBSKHF3PWNA   \n",
       "2   20eecd25-d0f8-42ca-b62e-20289ec36da6     15917566     CL_2X5SS3A26EB5   \n",
       "3   20eecd25-d0f8-42ca-b62e-20289ec36da6     15917566      CL_38ZGWCSUK9Q   \n",
       "4   20eecd25-d0f8-42ca-b62e-20289ec36da6     15917566     CL_3A15URZ4DJ80   \n",
       "..                                   ...          ...                 ...   \n",
       "95  2103489c-d123-457c-b5ba-f4f5e5d42bc8  AA051407400  CL_211274955576002   \n",
       "96  2103489c-d123-457c-b5ba-f4f5e5d42bc8  AA051407400  CL_211443726281004   \n",
       "97  2103489c-d123-457c-b5ba-f4f5e5d42bc8  AA051407400  CL_211453285737001   \n",
       "98  2103489c-d123-457c-b5ba-f4f5e5d42bc8  AA051407400  CL_211493537328002   \n",
       "99  2103489c-d123-457c-b5ba-f4f5e5d42bc8  AA051407400  CL_211653525870003   \n",
       "\n",
       "   Plan_Source_ID    Drug_Code                  Ordering_Provider_ID  \\\n",
       "0             NaN  51672413101  9f2a246b-dd99-47c6-b75f-3db401dd19e8   \n",
       "1             NaN  51672413101  9f2a246b-dd99-47c6-b75f-3db401dd19e8   \n",
       "2             NaN  16729017001  9f2a246b-dd99-47c6-b75f-3db401dd19e8   \n",
       "3             NaN  16729017001  9f2a246b-dd99-47c6-b75f-3db401dd19e8   \n",
       "4             NaN  33332042010  0c926f61-ef4a-4681-bce8-b7c2e86dbc16   \n",
       "..            ...          ...                                   ...   \n",
       "95            NaN  68462011944  c34534ea-fbf9-43af-b98f-5d5e0991f39c   \n",
       "96            NaN    378235193  c34534ea-fbf9-43af-b98f-5d5e0991f39c   \n",
       "97            NaN  27241009903  c34534ea-fbf9-43af-b98f-5d5e0991f39c   \n",
       "98            NaN  27808015701  c34534ea-fbf9-43af-b98f-5d5e0991f39c   \n",
       "99            NaN  43547026910  c34534ea-fbf9-43af-b98f-5d5e0991f39c   \n",
       "\n",
       "    Recieved_Date Service_from_Date  ... Reference_Drug_Brand_Type  \\\n",
       "0             NaN         6/17/2021  ...                   GENERIC   \n",
       "1             NaN         8/12/2021  ...                   GENERIC   \n",
       "2             NaN         9/21/2021  ...                   GENERIC   \n",
       "3             NaN         5/18/2021  ...                   GENERIC   \n",
       "4             NaN         9/25/2020  ...                     BRAND   \n",
       "..            ...               ...  ...                       ...   \n",
       "95            NaN          5/7/2021  ...                   GENERIC   \n",
       "96            NaN         5/24/2021  ...                   GENERIC   \n",
       "97            NaN         5/25/2021  ...                   GENERIC   \n",
       "98            NaN         5/29/2021  ...                   GENERIC   \n",
       "99            NaN         6/14/2021  ...                   GENERIC   \n",
       "\n",
       "    Pharmacy_Benefit_Coverage_Type  Reference_Drug_Brand_Type.1  \\\n",
       "0                            OTHER                      GENERIC   \n",
       "1                            OTHER                      GENERIC   \n",
       "2                            OTHER                      GENERIC   \n",
       "3                            OTHER                      GENERIC   \n",
       "4                            OTHER                        BRAND   \n",
       "..                             ...                          ...   \n",
       "95                           OTHER                      GENERIC   \n",
       "96                           OTHER                      GENERIC   \n",
       "97                           OTHER                      GENERIC   \n",
       "98                           OTHER                      GENERIC   \n",
       "99                           OTHER                      GENERIC   \n",
       "\n",
       "    Organization_Name  Dispense_as_Written_Code  \\\n",
       "0                 NaN                       NaN   \n",
       "1                 NaN                       NaN   \n",
       "2                 NaN                       NaN   \n",
       "3                 NaN                       NaN   \n",
       "4                 NaN                       NaN   \n",
       "..                ...                       ...   \n",
       "95                NaN                         0   \n",
       "96                NaN                         0   \n",
       "97                NaN                         0   \n",
       "98                NaN                         0   \n",
       "99                NaN                         0   \n",
       "\n",
       "    Pharmacy_Service_Type_Display  Refill_Count Days_Supply  \\\n",
       "0                             NaN           NaN          30   \n",
       "1                             NaN           NaN          30   \n",
       "2                             NaN           NaN          30   \n",
       "3                             NaN           NaN          30   \n",
       "4                             NaN           NaN          30   \n",
       "..                            ...           ...         ...   \n",
       "95                            NaN           NaN           1   \n",
       "96                            NaN           NaN          30   \n",
       "97                            NaN           NaN          30   \n",
       "98                            NaN           NaN          90   \n",
       "99                            NaN           NaN          30   \n",
       "\n",
       "   Pharmacy_Normal_Indicator.1 Service_from_Year.1  \n",
       "0                            1                2021  \n",
       "1                            1                2021  \n",
       "2                            1                2021  \n",
       "3                            1                2021  \n",
       "4                            0                2020  \n",
       "..                         ...                 ...  \n",
       "95                           0                2021  \n",
       "96                           0                2021  \n",
       "97                           0                2021  \n",
       "98                           0                2021  \n",
       "99                           0                2021  \n",
       "\n",
       "[100 rows x 27 columns]>"
      ]
     },
     "execution_count": 5,
     "metadata": {},
     "output_type": "execute_result"
    }
   ],
   "source": [
    "# Optional Verify the input file structures \n",
    "claims.columns\n",
    "claims.info"
   ]
  },
  {
   "cell_type": "code",
   "execution_count": null,
   "metadata": {},
   "outputs": [],
   "source": [
    "#rename specific column names\n",
    "claims.rename(columns = {'Service_from_Year':'Claim_Year', 'Service_from_Month':'Claim_Month'}, inplace = True)"
   ]
  },
  {
   "cell_type": "code",
   "execution_count": null,
   "metadata": {},
   "outputs": [],
   "source": [
    "# simplify and Organize the patient Panels\n",
    "claims = claims[['Claim_Year', 'Claim_Month', 'Patient_EMPI_ID', 'Member_ID', 'Claim_ID',\n",
    "       'Plan_Source_ID', 'Drug_Code', 'Ordering_Provider_ID', 'Recieved_Date',\n",
    "       'Service_from_Date', 'Paid_Date', 'Pharmacy_Normal_Indicator',\n",
    "       'Pharmacy_Paid_Amount', 'Pharmacy_Billed_Amount',\n",
    "       'Dispensing_Fee_Amount', 'Ingredient_Cost', 'Average_WholeSale_Price',\n",
    "       'Reference_Drug_Brand_Type', 'Pharmacy_Benefit_Coverage_Type',\n",
    "       'Reference_Drug_Brand_Type.1', 'Organization_Name',\n",
    "       'Dispense_as_Written_Code', 'Pharmacy_Service_Type_Display',\n",
    "       'Refill_Count', 'Days_Supply', 'Pharmacy_Normal_Indicator.1',]] "
   ]
  },
  {
   "cell_type": "code",
   "execution_count": null,
   "metadata": {},
   "outputs": [],
   "source": [
    "# The following function creates patient panels based upon organization name \n",
    "def create_claim_month(claim_year, claim_month):\n",
    "    Claim_month_year  = claims[(claims.Claim_Year == claim_year & claims.Claim_Month == claim_month)]    \n",
    "#    Claim_month  = claims[(claims.Claim_Month == claim_month)] \n",
    "    Path_to_Save = 'c:/Users/josep/Documents/Kaleida/Pharmacy_Months/'\n",
    "    csv_file_name = Path_to_Save+'Pharmacy_Claim_Year_' + str(claim_year) + '_Month_' + str(claim_month) + '.txt'\n",
    "    Claim_month_year.to_csv(csv_file_name, index = False, sep='|')  \n",
    "    print(csv_file_name)\n",
    "    return csv_file_name"
   ]
  },
  {
   "cell_type": "code",
   "execution_count": 8,
   "metadata": {},
   "outputs": [
    {
     "ename": "AttributeError",
     "evalue": "module 'pandas' has no attribute 'dir'",
     "output_type": "error",
     "traceback": [
      "\u001b[1;31m---------------------------------------------------------------------------\u001b[0m",
      "\u001b[1;31mAttributeError\u001b[0m                            Traceback (most recent call last)",
      "\u001b[1;32m<ipython-input-8-29396737deda>\u001b[0m in \u001b[0;36m<module>\u001b[1;34m\u001b[0m\n\u001b[1;32m----> 1\u001b[1;33m \u001b[0mpd\u001b[0m\u001b[1;33m.\u001b[0m\u001b[0mdir\u001b[0m\u001b[1;33m(\u001b[0m\u001b[1;33m)\u001b[0m\u001b[1;33m\u001b[0m\u001b[1;33m\u001b[0m\u001b[0m\n\u001b[0m",
      "\u001b[1;32m~\\anaconda3\\lib\\site-packages\\pandas\\__init__.py\u001b[0m in \u001b[0;36m__getattr__\u001b[1;34m(name)\u001b[0m\n\u001b[0;32m    256\u001b[0m             \u001b[1;32mreturn\u001b[0m \u001b[0m_SparseArray\u001b[0m\u001b[1;33m\u001b[0m\u001b[1;33m\u001b[0m\u001b[0m\n\u001b[0;32m    257\u001b[0m \u001b[1;33m\u001b[0m\u001b[0m\n\u001b[1;32m--> 258\u001b[1;33m         \u001b[1;32mraise\u001b[0m \u001b[0mAttributeError\u001b[0m\u001b[1;33m(\u001b[0m\u001b[1;34mf\"module 'pandas' has no attribute '{name}'\"\u001b[0m\u001b[1;33m)\u001b[0m\u001b[1;33m\u001b[0m\u001b[1;33m\u001b[0m\u001b[0m\n\u001b[0m\u001b[0;32m    259\u001b[0m \u001b[1;33m\u001b[0m\u001b[0m\n\u001b[0;32m    260\u001b[0m \u001b[1;33m\u001b[0m\u001b[0m\n",
      "\u001b[1;31mAttributeError\u001b[0m: module 'pandas' has no attribute 'dir'"
     ]
    }
   ],
   "source": [
    "pd.dir()"
   ]
  },
  {
   "cell_type": "code",
   "execution_count": null,
   "metadata": {},
   "outputs": [],
   "source": [
    "Claim_Years = claims.Claim_Year.unique()\n",
    "Claim_Months = claims.Claim_Month.unique()\n",
    "\n",
    "for yr in Claim_Years:\n",
    "    for mt in Claim_Months:\n",
    "        create_claim_month(yr , mt)"
   ]
  }
 ],
 "metadata": {
  "kernelspec": {
   "display_name": "Python 3",
   "language": "python",
   "name": "python3"
  },
  "language_info": {
   "codemirror_mode": {
    "name": "ipython",
    "version": 3
   },
   "file_extension": ".py",
   "mimetype": "text/x-python",
   "name": "python",
   "nbconvert_exporter": "python",
   "pygments_lexer": "ipython3",
   "version": "3.8.5"
  }
 },
 "nbformat": 4,
 "nbformat_minor": 4
}
