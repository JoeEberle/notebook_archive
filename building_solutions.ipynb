{
 "cells": [
  {
   "cell_type": "code",
   "execution_count": 12,
   "metadata": {},
   "outputs": [
    {
     "ename": "SyntaxError",
     "evalue": "invalid syntax (Temp/ipykernel_47908/1204600015.py, line 14)",
     "output_type": "error",
     "traceback": [
      "\u001b[1;36m  File \u001b[1;32m\"C:\\Users\\Jae670\\AppData\\Local\\Temp/ipykernel_47908/1204600015.py\"\u001b[1;36m, line \u001b[1;32m14\u001b[0m\n\u001b[1;33m    for item in self.:\u001b[0m\n\u001b[1;37m                     ^\u001b[0m\n\u001b[1;31mSyntaxError\u001b[0m\u001b[1;31m:\u001b[0m invalid syntax\n"
     ]
    }
   ],
   "source": [
    "class Solution:\n",
    "   \n",
    "    def __init__(self, solution_name, solution_introduction):\n",
    "        self.solution_name = solution_name\n",
    "        self.solution_introduction = solution_introduction   \n",
    "        \n",
    "    def __repr__(self):\n",
    "        return 'Solution: {} {} '.format(self.solution_name, self.solution_introduction)\n",
    "        \n",
    "    def __str__(self):\n",
    "        return ' {} {} '.format(self.solution_name, self.solution_introduction)  \n",
    "    \n",
    "    def __iter__(self):\n",
    "        for item in self.:\n",
    "            yield(item)\n",
    "        \n",
    "        \n",
    "    def get_documentation(self):\n",
    "        tab = '\\t'  # The tab escape character adds a tab when printed\n",
    "        nl  = '\\n'  # The tab escape character newline when printed\n",
    "        cr  = '\\n'  # The tab escape character carraige return  when printed   \n",
    "        solution_documentation = ''\n",
    "        solution_documentation = solution_documentation  + nl + 'Solution Name:' + nl + self.solution_name  + nl \n",
    "        solution_documentation = solution_documentation  + nl + 'Solution Introduction:' + nl + self.solution_introduction  + nl         \n",
    "        return solution_documentation    \n",
    "    \n",
    "    def get_solution_name(self):\n",
    "        return self.solution_name      \n",
    "    \n",
    "    def get_solution_introduction(self):\n",
    "        return self.solution_introduction\n",
    "    \n",
    "    def set_solution_name(self, solution_name):\n",
    "        self.solution_name =  solution_name      \n",
    "        \n",
    "    def set_solution_name(self, solution_introduction):\n",
    "        self.solution_introduction =  solution_introduction     \n",
    "        \n",
    "    def get_solution_credits(self):\n",
    "        return self.solution_credits  \n",
    "    \n",
    "    def set_solution_name(self, solution_credits):\n",
    "        self.solution_credits =  solution_credits       \n",
    "        \n",
    "    def get_solution_notes(self):\n",
    "        return self.solution_notes  \n",
    "    \n",
    "    def set_solution_name(self, solution_notes):\n",
    "        self.solution_notes =  solution_notes             \n",
    "    \n",
    "    \n",
    "solution_talk_to_me = Solution('talk_to_me','The talk_to_me solution provides an easy text explanation for your solution. ')\n",
    "solution_configuring_settings = Solution('configuring_settings','The configuring_settings solution provides an easy what to configure your solution. ')\n",
    "solution_data_discovery = Solution('data_discovery','The data_discovery solution provides an easy way to discover all your raw data to load. ')"
   ]
  },
  {
   "cell_type": "code",
   "execution_count": null,
   "metadata": {},
   "outputs": [],
   "source": []
  },
  {
   "cell_type": "code",
   "execution_count": 4,
   "metadata": {},
   "outputs": [
    {
     "name": "stdout",
     "output_type": "stream",
     "text": [
      "\n",
      "Solution Name:\n",
      "talk_to_me\n",
      "\n",
      "Solution Introduction:\n",
      "The talk_to_me solution provides an easy text explanation for your solution. \n",
      "\n",
      " talk_to_me The talk_to_me solution provides an easy text explanation for your solution.  \n",
      "Solution: talk_to_me The talk_to_me solution provides an easy text explanation for your solution.  \n",
      "\n",
      "Solution Name:\n",
      "configuring_settings\n",
      "\n",
      "Solution Introduction:\n",
      "The configuring_settings solution provides an easy what to configure your solution. \n",
      "\n"
     ]
    }
   ],
   "source": [
    "print(solution_talk_to_me.get_documentation())\n",
    "print(str(solution_talk_to_me))\n",
    "print(repr(solution_talk_to_me))\n",
    "\n",
    "print(solution_configuring_settings.get_documentation())"
   ]
  },
  {
   "cell_type": "code",
   "execution_count": 13,
   "metadata": {},
   "outputs": [
    {
     "ename": "TypeError",
     "evalue": "'type' object is not iterable",
     "output_type": "error",
     "traceback": [
      "\u001b[1;31m---------------------------------------------------------------------------\u001b[0m",
      "\u001b[1;31mTypeError\u001b[0m                                 Traceback (most recent call last)",
      "\u001b[1;32m~\\AppData\\Local\\Temp/ipykernel_47908/556414801.py\u001b[0m in \u001b[0;36m<module>\u001b[1;34m\u001b[0m\n\u001b[1;32m----> 1\u001b[1;33m \u001b[1;32mfor\u001b[0m \u001b[0msolut\u001b[0m \u001b[1;32min\u001b[0m \u001b[0mSolution\u001b[0m\u001b[1;33m:\u001b[0m\u001b[1;33m\u001b[0m\u001b[1;33m\u001b[0m\u001b[0m\n\u001b[0m\u001b[0;32m      2\u001b[0m     \u001b[0mprint\u001b[0m\u001b[1;33m(\u001b[0m\u001b[0msolut\u001b[0m\u001b[1;33m)\u001b[0m\u001b[1;33m\u001b[0m\u001b[1;33m\u001b[0m\u001b[0m\n",
      "\u001b[1;31mTypeError\u001b[0m: 'type' object is not iterable"
     ]
    }
   ],
   "source": [
    "for solut in Solution:\n",
    "    print(solut)"
   ]
  }
 ],
 "metadata": {
  "kernelspec": {
   "display_name": "Python 3",
   "language": "python",
   "name": "python3"
  },
  "language_info": {
   "codemirror_mode": {
    "name": "ipython",
    "version": 3
   },
   "file_extension": ".py",
   "mimetype": "text/x-python",
   "name": "python",
   "nbconvert_exporter": "python",
   "pygments_lexer": "ipython3",
   "version": "3.8.5"
  }
 },
 "nbformat": 4,
 "nbformat_minor": 5
}
