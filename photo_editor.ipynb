{
 "cells": [
  {
   "cell_type": "code",
   "execution_count": 4,
   "metadata": {},
   "outputs": [],
   "source": [
    "from PIL import Image, ImageEnhance, ImageFilter\n",
    "import os"
   ]
  },
  {
   "cell_type": "code",
   "execution_count": 9,
   "metadata": {},
   "outputs": [],
   "source": [
    "file_extension = 'jpg'\n",
    "path =  r'C:/working_directory/images_raw'\n",
    "editedpath =  r'C:/working_directory/images_edited'"
   ]
  },
  {
   "cell_type": "code",
   "execution_count": 14,
   "metadata": {},
   "outputs": [],
   "source": [
    "for filename in os.listedir(path):\n",
    "    image = Image.open(f'{path}/Filename')\n",
    "    edit = image.filter(ImageFilter.SHARPEN) \n",
    "    filename = filename.replace(\".jpg\",\"\")\n",
    "    filename = filename+'_edited'\n",
    "    edit.save((f'{path}/Filename'))\n",
    "    "
   ]
  },
  {
   "cell_type": "code",
   "execution_count": 20,
   "metadata": {},
   "outputs": [
    {
     "ename": "SyntaxError",
     "evalue": "invalid character in identifier (<ipython-input-20-78f132595429>, line 6)",
     "output_type": "error",
     "traceback": [
      "\u001b[1;36m  File \u001b[1;32m\"<ipython-input-20-78f132595429>\"\u001b[1;36m, line \u001b[1;32m6\u001b[0m\n\u001b[1;33m    text = rs.AddText(“Hello Rhino!”, point, height1)\u001b[0m\n\u001b[1;37m                           ^\u001b[0m\n\u001b[1;31mSyntaxError\u001b[0m\u001b[1;31m:\u001b[0m invalid character in identifier\n"
     ]
    }
   ],
   "source": [
    "import rhinoscriptsyntax as rs\n",
    "import Rhino.Geometry as rg\n",
    "import scriptcontext as sc\n",
    "\n",
    "def addtext(point,height1,distance):\n",
    "    text = rs.AddText(“Hello Rhino!”, point, height1)\n",
    "    new_text = rs.ExplodeText(text,True)\n",
    "    surface = rs.AddPlanarSrf(new_text)\n",
    "    new_surface = [rs.coercesurface(i) for i in surface]\n",
    "    list = surface+new_text\n",
    "    Text = [rg.Brep.CreateFromOffsetFace(j,distance,0.01,False,True) for j in new_surface ]\n",
    "    new_Text = [sc.doc.Objects.AddBrep(j) for j in Text]\n",
    "    rs.DeleteObjects(list)\n",
    "    sc.doc.Views.Redraw()\n",
    "    group = rs.AddGroup(“text”)\n",
    "    rs.AddObjectsToGroup(new_Text,“text”)\n",
    "\n",
    "if name==“main”:\n",
    "    rs.EnableRedraw(False)\n",
    "    addtext([0,0,0],3,0.3)"
   ]
  },
  {
   "cell_type": "code",
   "execution_count": 23,
   "metadata": {},
   "outputs": [
    {
     "name": "stdout",
     "output_type": "stream",
     "text": [
      "Collecting Rhino\n",
      "  Downloading Rhino-0.0.5.tar.gz (56 kB)\n",
      "Building wheels for collected packages: Rhino\n",
      "  Building wheel for Rhino (setup.py): started\n",
      "  Building wheel for Rhino (setup.py): finished with status 'done'\n",
      "  Created wheel for Rhino: filename=Rhino-0.0.5-py3-none-any.whl size=37840 sha256=48f8c155e45a85af0b948bd122d9fe8641693704c1891454435d089c316fd09a\n",
      "  Stored in directory: c:\\users\\josep\\appdata\\local\\pip\\cache\\wheels\\4b\\37\\0e\\c41759354f8769c3c36621ffa95932ef413014f37371b701e2\n",
      "Successfully built Rhino\n",
      "Installing collected packages: Rhino\n",
      "Successfully installed Rhino-0.0.5\n"
     ]
    }
   ],
   "source": [
    "! pip install Rhino"
   ]
  },
  {
   "cell_type": "code",
   "execution_count": 25,
   "metadata": {},
   "outputs": [
    {
     "name": "stderr",
     "output_type": "stream",
     "text": [
      "ERROR: Could not find a version that satisfies the requirement rhinoscriptsyntax (from versions: none)\n",
      "ERROR: No matching distribution found for rhinoscriptsyntax\n"
     ]
    }
   ],
   "source": [
    "! pip install rhinoscriptsyntax"
   ]
  },
  {
   "cell_type": "code",
   "execution_count": 24,
   "metadata": {},
   "outputs": [
    {
     "ename": "ModuleNotFoundError",
     "evalue": "No module named 'rhinoscriptsyntax'",
     "output_type": "error",
     "traceback": [
      "\u001b[1;31m---------------------------------------------------------------------------\u001b[0m",
      "\u001b[1;31mModuleNotFoundError\u001b[0m                       Traceback (most recent call last)",
      "\u001b[1;32m<ipython-input-24-594d09e7f109>\u001b[0m in \u001b[0;36m<module>\u001b[1;34m\u001b[0m\n\u001b[1;32m----> 1\u001b[1;33m \u001b[1;32mimport\u001b[0m \u001b[0mrhinoscriptsyntax\u001b[0m \u001b[1;32mas\u001b[0m \u001b[0mrs\u001b[0m\u001b[1;33m\u001b[0m\u001b[1;33m\u001b[0m\u001b[0m\n\u001b[0m\u001b[0;32m      2\u001b[0m \u001b[1;33m\u001b[0m\u001b[0m\n\u001b[0;32m      3\u001b[0m \u001b[0mcenterpoint\u001b[0m \u001b[1;33m=\u001b[0m \u001b[1;33m[\u001b[0m\u001b[1;36m1\u001b[0m\u001b[1;33m,\u001b[0m \u001b[1;36m2\u001b[0m\u001b[1;33m,\u001b[0m \u001b[1;36m4\u001b[0m\u001b[1;33m]\u001b[0m\u001b[1;33m\u001b[0m\u001b[1;33m\u001b[0m\u001b[0m\n\u001b[0;32m      4\u001b[0m \u001b[0mrs\u001b[0m\u001b[1;33m.\u001b[0m\u001b[0mAddCircle\u001b[0m\u001b[1;33m(\u001b[0m \u001b[0mcenterpoint\u001b[0m\u001b[1;33m,\u001b[0m \u001b[1;36m5.0\u001b[0m \u001b[1;33m)\u001b[0m\u001b[1;33m\u001b[0m\u001b[1;33m\u001b[0m\u001b[0m\n",
      "\u001b[1;31mModuleNotFoundError\u001b[0m: No module named 'rhinoscriptsyntax'"
     ]
    }
   ],
   "source": [
    "import rhinoscriptsyntax as rs\n",
    " \n",
    "centerpoint = [1, 2, 4]\n",
    "rs.AddCircle( centerpoint, 5.0 )\n"
   ]
  }
 ],
 "metadata": {
  "kernelspec": {
   "display_name": "Python 3",
   "language": "python",
   "name": "python3"
  },
  "language_info": {
   "codemirror_mode": {
    "name": "ipython",
    "version": 3
   },
   "file_extension": ".py",
   "mimetype": "text/x-python",
   "name": "python",
   "nbconvert_exporter": "python",
   "pygments_lexer": "ipython3",
   "version": "3.8.5"
  }
 },
 "nbformat": 4,
 "nbformat_minor": 4
}
