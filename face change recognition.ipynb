{
 "cells": [
  {
   "cell_type": "code",
   "execution_count": null,
   "metadata": {},
   "outputs": [],
   "source": [
    "!pip install opencv-contrib-python\n",
    "!pip install mediapipe\n",
    "!pip install pyserial"
   ]
  },
  {
   "cell_type": "code",
   "execution_count": null,
   "metadata": {},
   "outputs": [],
   "source": [
    "import cv2\n",
    "cam = cv2.VideoCapture(0)\n",
    "while True:\n",
    "    -, frame = cam.rewad()\n",
    "    "
   ]
  },
  {
   "cell_type": "code",
   "execution_count": null,
   "metadata": {},
   "outputs": [],
   "source": [
    "import os\n",
    "\n",
    "# Set the directory you want to search for files\n",
    "directory = '/path/to/directory'\n",
    "\n",
    "# Set the file extension you want to search for\n",
    "file_extension = '.txt'\n",
    "\n",
    "# Use the os.listdir() method to get a list of all files in the directory\n",
    "files = os.listdir(directory)\n",
    "\n",
    "# Use a for loop to iterate through the list of files\n",
    "for file in files:\n",
    "  # Use the os.path.splitext() method to split the file name and extension\n",
    "  name, ext = os.path.splitext(file)\n",
    "  # Check if the file extension matches the one you are looking for\n",
    "  if ext == file_extension:\n",
    "    # If the file extension matches, print the file name\n",
    "    print(file)"
   ]
  }
 ],
 "metadata": {
  "kernelspec": {
   "display_name": "Python 3",
   "language": "python",
   "name": "python3"
  },
  "language_info": {
   "codemirror_mode": {
    "name": "ipython",
    "version": 3
   },
   "file_extension": ".py",
   "mimetype": "text/x-python",
   "name": "python",
   "nbconvert_exporter": "python",
   "pygments_lexer": "ipython3",
   "version": "3.8.5"
  }
 },
 "nbformat": 4,
 "nbformat_minor": 4
}
