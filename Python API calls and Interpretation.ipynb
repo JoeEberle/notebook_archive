{
 "cells": [
  {
   "cell_type": "code",
   "execution_count": 16,
   "metadata": {},
   "outputs": [],
   "source": [
    "import requests\n",
    "from IPython.display import Image, display\n",
    "import json"
   ]
  },
  {
   "cell_type": "markdown",
   "metadata": {},
   "source": [
    "Get access to full VideoLab courses at:\n",
    "https://www.bit.ly/vl-udemy\n",
    "https://www.skl.sh/2XcqMYV\n",
    "\n",
    "Sign up to the VideoLab Digest to get exclusive content & deals:\n",
    "http://bit.ly/vl-digest\n",
    "\n",
    "The VideoLab Community gives you a chance to collaborate with other developers, learn new skills, and build a solid developer network. You can join at: http://bit.ly/vl-community\n",
    "\n",
    "For more courses & educational content, visit: \n",
    "http://www.bit.ly/vl-site\n",
    "http://www.bit.ly/videolab-yt (YouTube)\n",
    "http://www.bit.ly/videolab-tw (Twitter)\n",
    "http://www.bit.ly/videolab-ig (Instagram)\n",
    "http://bit.ly/videolab-fb (Facebook)\n",
    "\n",
    "https://randomfox.ca/floof"
   ]
  },
  {
   "cell_type": "code",
   "execution_count": 4,
   "metadata": {},
   "outputs": [
    {
     "name": "stdout",
     "output_type": "stream",
     "text": [
      "200\n",
      "{\"image\":\"https:\\/\\/randomfox.ca\\/images\\/94.jpg\",\"link\":\"https:\\/\\/randomfox.ca\\/?i=94\"}\n"
     ]
    }
   ],
   "source": [
    "response = requests.get(\"https://randomfox.ca/floof\")\n",
    "print(response.status_code)\n",
    "print(response.text)"
   ]
  },
  {
   "cell_type": "code",
   "execution_count": 6,
   "metadata": {},
   "outputs": [
    {
     "name": "stdout",
     "output_type": "stream",
     "text": [
      "200\n",
      "{'image': 'https://randomfox.ca/images/71.jpg', 'link': 'https://randomfox.ca/?i=71'}\n"
     ]
    }
   ],
   "source": [
    "response = requests.get(\"https://randomfox.ca/floof\")\n",
    "print(response.status_code)\n",
    "print(response.json())"
   ]
  },
  {
   "cell_type": "code",
   "execution_count": 17,
   "metadata": {},
   "outputs": [],
   "source": [
    "r = requests.get('https://api.github.com/events')\n",
    "r = requests.post('https://httpbin.org/post', data = {'name':'Joe'})\n",
    "r = requests.put('https://httpbin.org/put', data = {'name':'Joe'})\n",
    "r = requests.delete('https://httpbin.org/delete')\n",
    "r = requests.head('https://httpbin.org/get')\n",
    "r = requests.options('https://httpbin.org/get')"
   ]
  },
  {
   "cell_type": "code",
   "execution_count": null,
   "metadata": {},
   "outputs": [],
   "source": [
    "url = 'https://api.exchangeratesapi.io/latest'\n",
    "r = requests.get(url)\n",
    "print(r.text)"
   ]
  }
 ],
 "metadata": {
  "kernelspec": {
   "display_name": "Python 3",
   "language": "python",
   "name": "python3"
  },
  "language_info": {
   "codemirror_mode": {
    "name": "ipython",
    "version": 3
   },
   "file_extension": ".py",
   "mimetype": "text/x-python",
   "name": "python",
   "nbconvert_exporter": "python",
   "pygments_lexer": "ipython3",
   "version": "3.8.5"
  }
 },
 "nbformat": 4,
 "nbformat_minor": 4
}
