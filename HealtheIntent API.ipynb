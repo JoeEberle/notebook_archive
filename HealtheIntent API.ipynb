{
 "cells": [
  {
   "cell_type": "markdown",
   "metadata": {},
   "source": [
    "## HealtheIntent API's (including Personel Tool)\n",
    "### Joe Eberle  "
   ]
  },
  {
   "cell_type": "code",
   "execution_count": 2,
   "metadata": {},
   "outputs": [
    {
     "name": "stdout",
     "output_type": "stream",
     "text": [
      "Requirement already satisfied: Cerner-HealtheIntent in c:\\users\\josep\\anaconda3\\lib\\site-packages (0.0.1)\n",
      "Note: you may need to restart the kernel to use updated packages.\n"
     ]
    }
   ],
   "source": [
    "pip install Cerner-HealtheIntent"
   ]
  },
  {
   "cell_type": "code",
   "execution_count": 3,
   "metadata": {},
   "outputs": [
    {
     "name": "stdout",
     "output_type": "stream",
     "text": [
      "Requirement already satisfied: flatten_dict in c:\\users\\josep\\anaconda3\\lib\\site-packages (0.4.2)\n",
      "Requirement already satisfied: six<2.0,>=1.12 in c:\\users\\josep\\anaconda3\\lib\\site-packages (from flatten_dict) (1.15.0)\n",
      "Note: you may need to restart the kernel to use updated packages.\n"
     ]
    }
   ],
   "source": [
    "pip install flatten_dict"
   ]
  },
  {
   "cell_type": "code",
   "execution_count": 4,
   "metadata": {},
   "outputs": [],
   "source": [
    "# Import the healthintent api SO all personel fuunctions are available \n",
    "import healtheintentAPI as h \n",
    "from settings import *\n",
    "import requests\n",
    "import tarfile\n",
    "import datetime as dt\n",
    "import os\n",
    "import pandas as pd \n",
    "from flatten_dict import flatten\n",
    "from flatten_dict import unflatten"
   ]
  },
  {
   "cell_type": "code",
   "execution_count": 5,
   "metadata": {},
   "outputs": [
    {
     "data": {
      "text/plain": [
       "['BEARER_HEADER',\n",
       " 'BEARER_HEADER_OP_API',\n",
       " 'DataSyndication',\n",
       " 'Healtheintent',\n",
       " 'Organization',\n",
       " 'Personnel',\n",
       " '__builtins__',\n",
       " '__cached__',\n",
       " '__doc__',\n",
       " '__file__',\n",
       " '__loader__',\n",
       " '__name__',\n",
       " '__package__',\n",
       " '__path__',\n",
       " '__spec__',\n",
       " 'dt',\n",
       " 'healtheintentAPI',\n",
       " 'os',\n",
       " 'requests',\n",
       " 'tarfile']"
      ]
     },
     "execution_count": 5,
     "metadata": {},
     "output_type": "execute_result"
    }
   ],
   "source": [
    "dir(h)"
   ]
  },
  {
   "cell_type": "code",
   "execution_count": 7,
   "metadata": {},
   "outputs": [],
   "source": [
    "o1 = h.Organization()\n",
    "o = h.Organization()\n",
    "foo=o.get_organization()\n",
    "p = h.Personnel()"
   ]
  },
  {
   "cell_type": "code",
   "execution_count": 8,
   "metadata": {},
   "outputs": [
    {
     "name": "stdout",
     "output_type": "stream",
     "text": [
      "Help on class Organization in module healtheintentAPI.healtheintentAPI:\n",
      "\n",
      "class Organization(Healtheintent)\n",
      " |  # Organization Sub Class Commands\n",
      " |  \n",
      " |  Method resolution order:\n",
      " |      Organization\n",
      " |      Healtheintent\n",
      " |      builtins.object\n",
      " |  \n",
      " |  Methods defined here:\n",
      " |  \n",
      " |  create_location(self, data=None, json=None)\n",
      " |  \n",
      " |  create_organization(self, data=None, json=None)\n",
      " |  \n",
      " |  delete_location(self, location_id=None)\n",
      " |  \n",
      " |  delete_organization(self, organization_id=None)\n",
      " |  \n",
      " |  get_location_status(self, location_id=None)\n",
      " |  \n",
      " |  get_locations(self)\n",
      " |      # Location Object Commands\n",
      " |  \n",
      " |  get_organization(self, params=None)\n",
      " |  \n",
      " |  update_location(self, location_id=None, data=None, json=None)\n",
      " |  \n",
      " |  update_organization(self, organization_id=None, data=None, json=None)\n",
      " |  \n",
      " |  ----------------------------------------------------------------------\n",
      " |  Methods inherited from Healtheintent:\n",
      " |  \n",
      " |  __init__(self)\n",
      " |      Initialize self.  See help(type(self)) for accurate signature.\n",
      " |  \n",
      " |  __send_request__(self, endpoint, method=None, json=None, headers=None, params=None, data=None)\n",
      " |  \n",
      " |  ----------------------------------------------------------------------\n",
      " |  Data descriptors inherited from Healtheintent:\n",
      " |  \n",
      " |  __dict__\n",
      " |      dictionary for instance variables (if defined)\n",
      " |  \n",
      " |  __weakref__\n",
      " |      list of weak references to the object (if defined)\n",
      "\n"
     ]
    }
   ],
   "source": [
    "help(h.Organization)"
   ]
  },
  {
   "cell_type": "markdown",
   "metadata": {},
   "source": [
    "####  The following class defines all of the HealtheIntent Functions "
   ]
  },
  {
   "cell_type": "code",
   "execution_count": 9,
   "metadata": {},
   "outputs": [],
   "source": [
    "class Healtheintent(object):\n",
    "\n",
    "    def __init__(self):\n",
    "\n",
    "        self.uri = \"https://wny.api.us.healtheintent.com/\"\n",
    "        self.headers = BEARER_HEADER\n",
    "        self.headers_op = BEARER_HEADER_OP_API\n",
    "        self.channel_id = None\n",
    "        self.feed_id = None\n",
    "        self.personnel_id = None\n",
    "        self.organization_id = None\n",
    "        self.personnel_group = None\n",
    "        self.personnel_group_member_id = None\n",
    "        self.location_id = None\n",
    "        self.body = None\n",
    "\n",
    "    def __send_request__(self, endpoint,\n",
    "                         method = None, json = None, headers = None, params = None, data = None):\n",
    "        if method == 'GET':\n",
    "            return requests.get('{uri}{endpoint}'.format(uri=self.uri, endpoint=endpoint)\n",
    "                                , headers=headers\n",
    "                                , params=params).json()\n",
    "        elif method == 'DELETE':\n",
    "            return requests.delete('{uri}{endpoint}'.format(uri=self.uri, endpoint=endpoint)\n",
    "                                   , headers=headers, params=params)\n",
    "        elif method == 'POST':\n",
    "            return requests.post('{uri}{endpoint}'.format(uri=self.uri, endpoint=endpoint),\n",
    "                                   headers=headers, data=data, json=json)\n",
    "        elif method == 'PUT':\n",
    "            return requests.put('{uri}{endpoint}'.format(uri=self.uri, endpoint=endpoint),\n",
    "                                   headers=headers, params=params,data=data,json=json)\n",
    "        else:\n",
    "            return requests.get('{uri}{endpoint}'.format(uri=self.uri, endpoint=endpoint)\n",
    "                                , headers=headers, data=data, json=json)\n",
    "\n",
    "#Data Syndication SubClass      \n",
    "class DataSyndication(Healtheintent):\n",
    "\n",
    "    def get_feeds(self):\n",
    "        return self.__send_request__(endpoint='data-syndication/v1/feeds', method='GET', headers=self.headers)\n",
    "\n",
    "    def get_channels(self):\n",
    "        return self.__send_request__(endpoint='data-syndication/v1/channels', method='GET', headers=self.headers)\n",
    "\n",
    "    def get_channel_status(self, channel_id = None):\n",
    "        return self.__send_request__(endpoint='data-syndication/v1/channels/{channel_id}'.format(channel_id=channel_id),\n",
    "                                     method='GET',\n",
    "                                     headers=self.headers)\n",
    "\n",
    "    def get_channel_deliveries(self, channel_id = None):\n",
    "        return self.__send_request__(endpoint='data-syndication/v1/channels/{channel_id}/deliveries'.format(channel_id=channel_id),\n",
    "                                     method='GET', headers=self.headers)\n",
    "\n",
    "    def get_channel_downloads(self, delivery_id = None, destination_path = None):\n",
    "        response = self.__send_request__(endpoint='data-syndication/v1/downloads/{delivery_id}'.format(delivery_id=delivery_id)\n",
    "                                         , headers=self.headers)\n",
    "\n",
    "\n",
    "        wd = os.getcwd()\n",
    "        path = destination_path + '/' + dt.datetime.strftime(dt.datetime.today(), '%Y-%m-%d') + '.tar.gz'\n",
    "\n",
    "        if response.status_code == 200:\n",
    "            with open(path, 'wb') as i:\n",
    "                i.write(response.content)\n",
    "        i.close()\n",
    "\n",
    "        temp = tarfile.open(name=path, mode='r:gz')\n",
    "        os.chdir(destination_path)\n",
    "        temp.extractall()\n",
    "        temp.close()\n",
    "        os.chdir(wd)\n",
    "\n",
    "\n",
    "# Personnel Sub Class\n",
    "class Personnel(Healtheintent):\n",
    "    def get_personnel(self):\n",
    "        return self.__send_request__(endpoint='personnel/v1/personnel', method='GET'\n",
    "                                     , headers=self.headers_op)\n",
    "\n",
    "    def create_personnel(self,data=None,json=None):\n",
    "        return self.__send_request__(endpoint='personnel/v1/personnel'.format(data=data,json=json)\n",
    "                                     , method='POST'\n",
    "                                     , headers=self.headers_op\n",
    "                                     , data=data\n",
    "                                     , json=json)\n",
    "\n",
    "    def get_personnel_status(self, personnel_id = None):\n",
    "        return self.__send_request__(endpoint='personnel/v1/personnel/{personnel_id}'.format(personnel_id=personnel_id)\n",
    "                                     , method='GET'\n",
    "                                     , headers=self.headers_op)\n",
    "\n",
    "    def update_personnel(self, personnel_id=None, data=None, json=None):\n",
    "        return self.__send_request__(endpoint='personnel/v1/personnel/{personnel_id}'.format(personnel_id=personnel_id, data=data, json=json)\n",
    "                                     , method='PUT', headers=self.headers_op, data=data, json=json)\n",
    "\n",
    "    def delete_personnel(self, personnel_id = None):\n",
    "        return self.__send_request__(endpoint='personnel/v1/personnel/{personnel_id}'.format(personnel_id=personnel_id)\n",
    "                                     , method='DELETE'\n",
    "                                     , headers=self.headers_op)\n",
    "\n",
    "    \n",
    "# Personnel Group Object\n",
    "    def get_personnel_groups(self):\n",
    "        return self.__send_request__(endpoint='personnel/v1/personnel-groups'\n",
    "                                     , method='GET'\n",
    "                                     , headers=self.headers_op)\n",
    "\n",
    "    def create_personnel_group(self, data=None, json=None):\n",
    "        return self.__send_request__(endpoint='personnel/v1/personnel-groups'.format(data=data,json=json)\n",
    "                                     , method='POST'\n",
    "                                     , headers=self.headers_op)\n",
    "\n",
    "    def get_personnel_group_status(self, personnel_group_id = None):\n",
    "        return self.__send_request__(endpoint='personnel/v1/personnel-groups/{personnel_group_id}'.format(personnel_group_id=personnel_group_id)\n",
    "                                     , method='GET'\n",
    "                                     , headers=self.headers_op)\n",
    "\n",
    "    def update_personnel_group(self, personnel_group_id = None, data=None, json=None):\n",
    "        return self.__send_request__(endpoint='personnel/v1/personnel-groups/{personnel_group_id}'.format(personnel_group_id=personnel_group_id, data=data,json=json)\n",
    "            , method='PUT'\n",
    "            , headers=self.headers_op\n",
    "            , data=data\n",
    "            , json=json)\n",
    "\n",
    "    def delete_personnel_group(self, personnel_group_id = None):\n",
    "        return self.__send_request__(endpoint='personnel/v1/personnel-groups/{personnel_group_id}'.format(personnel_group_id=personnel_group_id)\n",
    "                                     , method='DELETE'\n",
    "                                     , headers=self.headers_op)\n",
    "\n",
    "    def get_personnel_group_members(self, personnel_group_id = None):\n",
    "        return self.__send_request__(endpoint='personnel/v1/personnel-groups/{personnel_group_id}/members'.format(personnel_group_id=personnel_group_id)\n",
    "                                     , method='GET'\n",
    "                                     , headers=self.headers_op)\n",
    "\n",
    "    # Testing Required\n",
    "    def add_personnel_group_members(self, personnel_group_id = None, personnel_group_member_id = None, data=None, json=None):\n",
    "        return self.__send_request__(endpoint='personnel/v1/personnel-groups/{personnel_group_id}/members/{personnel_group_member_id}'\n",
    "                                     , method='PUT'\n",
    "                                     , headers=self.headers_op\n",
    "                                    , data=data\n",
    "                                    , json=json)\n",
    "\n",
    "    def delete_personnel_group_members(self, personnel_group_id = None, personnel_group_member_id = None):\n",
    "        return self.__send_request__(endpoint='personnel/v1/{personnel_group_id}/members/{personnel_group_member_id}'\n",
    "                                     , method='DELETE'\n",
    "                                     , headers=self.headers_op)\n",
    "\n",
    "\n",
    "# Organization Sub Class Commands\n",
    "class Organization(Healtheintent):\n",
    "    \n",
    "    def get_organization(self,params=None):\n",
    "        return self.__send_request__(endpoint='organization/v1/organizations'.format(params=params)\n",
    "                                     , method='GET'\n",
    "                                     , headers=self.headers_op)\n",
    "    \n",
    "    def create_organization(self,data=None,json=None):\n",
    "        return self.__send_request__(endpoint='organization/v1/organizations'.format(data=data, json=json)\n",
    "                                     , method='POST'\n",
    "                                     , headers=self.headers_op\n",
    "                                     , data=data\n",
    "                                     , json=json)\n",
    "    \n",
    "    def delete_organization(self, organization_id = None):\n",
    "        return self.__send_request__(endpoint='organization/v1/organizations/{organization_id}'.format(organization_id=organization_id)\n",
    "                                     , method='DELETE'\n",
    "                                     , headers=self.headers_op)\n",
    "    \n",
    "    def update_organization(self, organization_id = None, data=None, json=None):\n",
    "        return self.__send_request__(endpoint='organization/v1/organizations/{organization_id}'.format(organization_id=organization_id,data=data,json=json)\n",
    "                                     , method='PUT'\n",
    "                                     , headers=self.headers_op\n",
    "                                    , data=data\n",
    "                                    , json=json)\n",
    "    \n",
    "    \n",
    "# Organization Sub Class Commands\n",
    "class Organization_Group(Healtheintent):\n",
    "    \n",
    "    def get_organization_group(self,params=None):\n",
    "        return self.__send_request__(endpoint='organization/v1/organizations'.format(params=params)\n",
    "                                     , method='GET'\n",
    "                                     , headers=self.headers_op)\n",
    "    \n",
    "    def create_organization_group(self,data=None,json=None):\n",
    "        return self.__send_request__(endpoint='organization/v1/organizations'.format(data=data, json=json)\n",
    "                                     , method='POST'\n",
    "                                     , headers=self.headers_op\n",
    "                                     , data=data\n",
    "                                     , json=json)\n",
    "    \n",
    "    def delete_organization_group(self, organization_id = None):\n",
    "        return self.__send_request__(endpoint='organization/v1/organizations/{organization_id}'.format(organization_id=organization_id)\n",
    "                                     , method='DELETE'\n",
    "                                     , headers=self.headers_op)\n",
    "    \n",
    "    def update_organization_group(self, organization_id = None, data=None, json=None):\n",
    "        return self.__send_request__(endpoint='organization/v1/organizations/{organization_id}'.format(organization_id=organization_id,data=data,json=json)\n",
    "                                     , method='PUT'\n",
    "                                     , headers=self.headers_op\n",
    "                                    , data=data\n",
    "                                    , json=json)    \n",
    "    \n",
    "    \n",
    "    \n",
    "    \n",
    "    # Location Object Commands\n",
    "    def get_locations(self):\n",
    "        return self.__send_request__(endpoint='organization/v1/locations'\n",
    "                                     , method='GET'\n",
    "                                     , headers=self.headers_op)\n",
    "\n",
    "    def create_location(self,data=None,json=None):\n",
    "        return self.__send_request__(endpoint='organization/v1/locations'.format(data=data, json=json)\n",
    "                                     , method='POST'\n",
    "                                     , headers=self.headers_op\n",
    "                                     , data=data\n",
    "                                     , json=json)\n",
    "    \n",
    "    def get_location_status(self, location_id = None):\n",
    "        return self.__send_request__(endpoint='organization/v1/locations/{location_id}'.format(location_id=location_id)\n",
    "                                     , method='GET'\n",
    "                                     , headers=self.headers_op)\n",
    "\n",
    "    def update_location(self, location_id = None, data=None, json= None):\n",
    "        return self.__send_request__(endpoint='organization/v1/locations/{location_id}'.format(location_id=location_id,data=data,json=json)\n",
    "                                     , method='PUT'\n",
    "                                     , headers=self.headers_op\n",
    "                                    , data=data\n",
    "                                    , json=json)\n",
    "\n",
    "    def delete_location(self, location_id = None):\n",
    "        return self.__send_request__(endpoint='organization/v1/locations/{location_id}'.format(location_id=location_id)\n",
    "                                     , method='DELETE'\n",
    "                                     , headers=self.headers_op)\n",
    "    \n",
    "    "
   ]
  },
  {
   "cell_type": "code",
   "execution_count": 10,
   "metadata": {},
   "outputs": [
    {
     "name": "stdout",
     "output_type": "stream",
     "text": [
      "Help on class Healtheintent in module __main__:\n",
      "\n",
      "class Healtheintent(builtins.object)\n",
      " |  Methods defined here:\n",
      " |  \n",
      " |  __init__(self)\n",
      " |      Initialize self.  See help(type(self)) for accurate signature.\n",
      " |  \n",
      " |  __send_request__(self, endpoint, method=None, json=None, headers=None, params=None, data=None)\n",
      " |  \n",
      " |  ----------------------------------------------------------------------\n",
      " |  Data descriptors defined here:\n",
      " |  \n",
      " |  __dict__\n",
      " |      dictionary for instance variables (if defined)\n",
      " |  \n",
      " |  __weakref__\n",
      " |      list of weak references to the object (if defined)\n",
      "\n"
     ]
    }
   ],
   "source": [
    "help(Healtheintent)\n"
   ]
  },
  {
   "cell_type": "code",
   "execution_count": 26,
   "metadata": {},
   "outputs": [],
   "source": [
    "# POST Testing - Update a Clinic \n",
    "# import json\n",
    "org_json_template_example = {\"name\":\"Joes Test Clinic\",\n",
    "        \"coverageAreaPostalCodes\":['14216'],\n",
    "        \"telecoms\":[{'system':'PHONE',\n",
    "                    'value':'7198675209'}],\n",
    "        \"addresses\":[{\"postalCode\":'14216', \n",
    "                      \"city\":'Buffalo',\n",
    "                      \"state\":'NY',\n",
    "                      'lines':['680','Seneca St']\n",
    "                     }],\n",
    "         \"aliases\":[{\"type\":'SOI',\n",
    "                     \"value\":'0123456789',\n",
    "                     \"system\":'2.16.840.1.113883.4.6'}],\n",
    "        'sourceIdentifiers': []}\n",
    "\n"
   ]
  },
  {
   "cell_type": "code",
   "execution_count": 24,
   "metadata": {},
   "outputs": [
    {
     "name": "stdout",
     "output_type": "stream",
     "text": [
      "{'name': 'Joes Test Clinic', 'coverageAreaPostalCodes': ['14216'], 'telecoms': [{'system': 'PHONE', 'value': '7198675209'}], 'addresses': [{'postalCode': '14216', 'city': 'Buffalo', 'state': 'NY', 'lines': ['680', 'Seneca St']}], 'aliases': [{'type': 'SOI', 'value': '0123456789', 'system': '2.16.840.1.113883.4.6'}], 'sourceIdentifiers': []}\n"
     ]
    }
   ],
   "source": [
    "print(org_json_template_example) "
   ]
  },
  {
   "cell_type": "code",
   "execution_count": 27,
   "metadata": {},
   "outputs": [
    {
     "data": {
      "text/plain": [
       "{'id': '64c43eb7-dab0-41ad-9780-e25fefa2d1c8',\n",
       " 'name': 'Joes Test Clinic',\n",
       " 'telecoms': [{'system': 'PHONE', 'value': '7198675209'}],\n",
       " 'addresses': [{'postalCode': '14216',\n",
       "   'city': 'Buffalo',\n",
       "   'state': 'NY',\n",
       "   'lines': ['680', 'Seneca St']}],\n",
       " 'aliases': [{'type': 'SOI',\n",
       "   'value': '0123456789',\n",
       "   'system': '2.16.840.1.113883.4.6'}],\n",
       " 'sourceIdentifiers': [],\n",
       " 'coverageAreaPostalCodes': ['14216']}"
      ]
     },
     "execution_count": 27,
     "metadata": {},
     "output_type": "execute_result"
    }
   ],
   "source": [
    "#body=json.dumps(body3)\n",
    "o.create_organization(json=org_json_template_example).json()"
   ]
  },
  {
   "cell_type": "code",
   "execution_count": 29,
   "metadata": {},
   "outputs": [
    {
     "data": {
      "text/plain": [
       "<Response [204]>"
      ]
     },
     "execution_count": 29,
     "metadata": {},
     "output_type": "execute_result"
    }
   ],
   "source": [
    "o.delete_organization('64c43eb7-dab0-41ad-9780-e25fefa2d1c8') "
   ]
  },
  {
   "cell_type": "code",
   "execution_count": 30,
   "metadata": {},
   "outputs": [
    {
     "data": {
      "text/plain": [
       "{'code': 409,\n",
       " 'message': 'Conflict',\n",
       " 'errorDetails': [{'message': 'One or more aliases in the entity body are already associated with existing organizations.',\n",
       "   'location': 'aliases',\n",
       "   'reason': 'organizationWithAliasAlreadyExists'}]}"
      ]
     },
     "execution_count": 30,
     "metadata": {},
     "output_type": "execute_result"
    }
   ],
   "source": [
    "# POST Testing - Update a Clinic \n",
    "# import json\n",
    "org_json = {\"name\":\"GPPC PCP Amherst Sheridan\",\n",
    "        \"coverageAreaPostalCodes\":['14226'],\n",
    "        \"telecoms\":[{'system':'PHONE',\n",
    "                    'value':'7168332200'}],\n",
    "        \"addresses\":[{\"postalCode\":'14226', \n",
    "                      \"city\":'Amherst',\n",
    "                      \"state\":'NY',\n",
    "                      'lines':['3980A Sheridan Drive','Suite 200']\n",
    "                     }],\n",
    "         \"aliases\":[{\"type\":'SOI',\n",
    "                     \"value\":'1093959322',\n",
    "                     \"system\":'2.16.840.1.113883.4.6'},\n",
    "                    {\"type\":'TAX',\n",
    "                     \"value\":'161460136',\n",
    "                     \"system\":'2.16.840.1.113883.4.6'}],\n",
    "        'sourceIdentifiers': []}\n",
    "#body=json.dumps(body3)\n",
    "o.create_organization(json=org_json).json()\n"
   ]
  },
  {
   "cell_type": "code",
   "execution_count": 31,
   "metadata": {},
   "outputs": [
    {
     "data": {
      "text/plain": [
       "{'id': '7fcd36af-19cb-4de4-ae76-ac34181175eb',\n",
       " 'name': 'GPPC PCP Amherst Sheridan',\n",
       " 'telecoms': [{'system': 'PHONE', 'value': '7168332200'}],\n",
       " 'addresses': [{'postalCode': '14226',\n",
       "   'city': 'Amherst',\n",
       "   'state': 'NY',\n",
       "   'lines': ['3980A Sheridan Drive', 'Suite 200']}],\n",
       " 'aliases': [],\n",
       " 'sourceIdentifiers': [],\n",
       " 'coverageAreaPostalCodes': ['14226']}"
      ]
     },
     "execution_count": 31,
     "metadata": {},
     "output_type": "execute_result"
    }
   ],
   "source": [
    "# POST Testing - Update a Clinic 'id': '7fcd36af-19cb-4de4-ae76-ac34181175eb',\n",
    "# import json\n",
    "org_json = {\"name\":\"GPPC PCP Amherst Sheridan\",\n",
    "        \"coverageAreaPostalCodes\":['14226'],\n",
    "        \"telecoms\":[{'system':'PHONE',\n",
    "                    'value':'7168332200'}],\n",
    "        \"addresses\":[{\"postalCode\":'14226', \n",
    "                      \"city\":'Amherst',\n",
    "                      \"state\":'NY',\n",
    "                      'lines':['3980A Sheridan Drive','Suite 200']\n",
    "                     }],\n",
    "        'sourceIdentifiers': []}\n",
    "#body=json.dumps(body3)\n",
    "o.create_organization(json=org_json).json()"
   ]
  },
  {
   "cell_type": "code",
   "execution_count": 32,
   "metadata": {},
   "outputs": [
    {
     "data": {
      "text/plain": [
       "{'id': '5811b42a-aabb-4387-9bfd-6757b830adde',\n",
       " 'name': 'GPPC PCP Buffalo Main',\n",
       " 'telecoms': [{'system': 'PHONE', 'value': '7168524772'}],\n",
       " 'addresses': [{'postalCode': '14209',\n",
       "   'city': 'Buffalo',\n",
       "   'state': 'NY',\n",
       "   'lines': ['1091 Main St', 'Ste 301']}],\n",
       " 'aliases': [],\n",
       " 'sourceIdentifiers': [],\n",
       " 'coverageAreaPostalCodes': ['14209']}"
      ]
     },
     "execution_count": 32,
     "metadata": {},
     "output_type": "execute_result"
    }
   ],
   "source": [
    "# POST Testing - Update a Clinic  {'id': '5811b42a-aabb-4387-9bfd-6757b830adde',\n",
    "# import json\n",
    "org_json = {\"name\":\"GPPC PCP Buffalo Main\",\n",
    "        \"coverageAreaPostalCodes\":['14209'],\n",
    "        \"telecoms\":[{'system':'PHONE',\n",
    "                    'value':'7168524772'}],\n",
    "        \"addresses\":[{\"postalCode\":'14209', \n",
    "                      \"city\":'Buffalo',\n",
    "                      \"state\":'NY',\n",
    "                      'lines':['1091 Main St','Ste 301']\n",
    "                     }],\n",
    "        'sourceIdentifiers': []}\n",
    "#body=json.dumps(body3)\n",
    "o.create_organization(json=org_json).json()"
   ]
  },
  {
   "cell_type": "code",
   "execution_count": 33,
   "metadata": {},
   "outputs": [
    {
     "data": {
      "text/plain": [
       "{'id': '31f310f6-9330-4987-a2b1-c9ba32386e90',\n",
       " 'name': 'GPPC PCP Dunkirk Vineyard Ste 1',\n",
       " 'telecoms': [{'system': 'PHONE', 'value': '7163636960'}],\n",
       " 'addresses': [{'postalCode': '14048',\n",
       "   'city': 'Dunkirk',\n",
       "   'state': 'NY',\n",
       "   'lines': ['3898 Vineyard Dr', 'Ste 1']}],\n",
       " 'aliases': [],\n",
       " 'sourceIdentifiers': [],\n",
       " 'coverageAreaPostalCodes': ['14048']}"
      ]
     },
     "execution_count": 33,
     "metadata": {},
     "output_type": "execute_result"
    }
   ],
   "source": [
    "# POST Testing - Update a Clinic  {'id': '31f310f6-9330-4987-a2b1-c9ba32386e90',\n",
    "# import json\n",
    "org_json = {\"name\":\"GPPC PCP Dunkirk Vineyard Ste 1\",\n",
    "        \"coverageAreaPostalCodes\":['14048'],\n",
    "        \"telecoms\":[{'system':'PHONE',\n",
    "                    'value':'7163636960'}],\n",
    "        \"addresses\":[{\"postalCode\":'14048', \n",
    "                      \"city\":'Dunkirk',\n",
    "                      \"state\":'NY',\n",
    "                      'lines':['3898 Vineyard Dr','Ste 1']\n",
    "                     }],\n",
    "        'sourceIdentifiers': []}\n",
    "#body=json.dumps(body3)\n",
    "o.create_organization(json=org_json).json()"
   ]
  },
  {
   "cell_type": "code",
   "execution_count": 34,
   "metadata": {},
   "outputs": [
    {
     "data": {
      "text/plain": [
       "{'id': 'a696e667-2027-4430-91f1-e5e1d763c509',\n",
       " 'name': 'GPPC PCP East Aurora Main',\n",
       " 'telecoms': [{'system': 'PHONE', 'value': '7165394200'}],\n",
       " 'addresses': [{'postalCode': '14052',\n",
       "   'city': 'E Aurora',\n",
       "   'state': 'NY',\n",
       "   'lines': ['268 Main St']}],\n",
       " 'aliases': [],\n",
       " 'sourceIdentifiers': [],\n",
       " 'coverageAreaPostalCodes': ['14052']}"
      ]
     },
     "execution_count": 34,
     "metadata": {},
     "output_type": "execute_result"
    }
   ],
   "source": [
    "# POST Testing - Update a Clinic  {'id': 'a696e667-2027-4430-91f1-e5e1d763c509',\n",
    "# import json\n",
    "org_json = {\"name\":\"GPPC PCP East Aurora Main\",\n",
    "        \"coverageAreaPostalCodes\":['14052'],\n",
    "        \"telecoms\":[{'system':'PHONE',\n",
    "                    'value':'7165394200'}],\n",
    "        \"addresses\":[{\"postalCode\":'14052', \n",
    "                      \"city\":'E Aurora',\n",
    "                      \"state\":'NY',\n",
    "                      'lines':['268 Main St',' ']\n",
    "                     }],\n",
    "        'sourceIdentifiers': []}\n",
    "#body=json.dumps(body3)\n",
    "o.create_organization(json=org_json).json()"
   ]
  },
  {
   "cell_type": "code",
   "execution_count": 35,
   "metadata": {},
   "outputs": [
    {
     "data": {
      "text/plain": [
       "{'id': '9aade2bb-4162-4026-9263-4ab98c372b4b',\n",
       " 'name': 'GPPC PCP Elma Transit',\n",
       " 'telecoms': [{'system': 'PHONE', 'value': '7166265840'}],\n",
       " 'addresses': [{'postalCode': '14059',\n",
       "   'city': 'Elma',\n",
       "   'state': 'NY',\n",
       "   'lines': ['2701 Transit Rd', 'Ste 143']}],\n",
       " 'aliases': [],\n",
       " 'sourceIdentifiers': [],\n",
       " 'coverageAreaPostalCodes': ['14059']}"
      ]
     },
     "execution_count": 35,
     "metadata": {},
     "output_type": "execute_result"
    }
   ],
   "source": [
    "# POST Testing - Update a Clinic  {'id': '9aade2bb-4162-4026-9263-4ab98c372b4b',\n",
    "org_json = {\"name\":\"GPPC PCP Elma Transit\",\n",
    "        \"coverageAreaPostalCodes\":['14059'],\n",
    "        \"telecoms\":[{'system':'PHONE',\n",
    "                    'value':'7166265840'}],\n",
    "        \"addresses\":[{\"postalCode\":'14059', \n",
    "                      \"city\":'Elma',\n",
    "                      \"state\":'NY',\n",
    "                      'lines':['2701 Transit Rd','Ste 143']\n",
    "                     }],\n",
    "        'sourceIdentifiers': []}\n",
    "o.create_organization(json=org_json).json()"
   ]
  },
  {
   "cell_type": "code",
   "execution_count": 36,
   "metadata": {},
   "outputs": [
    {
     "data": {
      "text/plain": [
       "{'id': '288e25e9-287a-4814-aebe-1563a58b1c34',\n",
       " 'name': 'GPPC PCP Hamburg Camp',\n",
       " 'telecoms': [{'system': 'PHONE', 'value': '7166462590'}],\n",
       " 'addresses': [{'postalCode': '14075',\n",
       "   'city': 'Hamburg',\n",
       "   'state': 'NY',\n",
       "   'lines': ['5470 Camp Rd', 'Ste 200']}],\n",
       " 'aliases': [],\n",
       " 'sourceIdentifiers': [],\n",
       " 'coverageAreaPostalCodes': ['14075']}"
      ]
     },
     "execution_count": 36,
     "metadata": {},
     "output_type": "execute_result"
    }
   ],
   "source": [
    "# POST Testing - Update a Clinic  {'id': '288e25e9-287a-4814-aebe-1563a58b1c34',\n",
    "org_json = {\"name\":\"GPPC PCP Hamburg Camp\",\n",
    "        \"coverageAreaPostalCodes\":['14075'],\n",
    "        \"telecoms\":[{'system':'PHONE',\n",
    "                    'value':'7166462590'}],\n",
    "        \"addresses\":[{\"postalCode\":'14075', \n",
    "                      \"city\":'Hamburg',\n",
    "                      \"state\":'NY',\n",
    "                      'lines':['5470 Camp Rd','Ste 200']\n",
    "                     }],\n",
    "        'sourceIdentifiers': []}\n",
    "o.create_organization(json=org_json).json()"
   ]
  },
  {
   "cell_type": "code",
   "execution_count": 37,
   "metadata": {},
   "outputs": [
    {
     "data": {
      "text/plain": [
       "{'id': '0112276c-9776-40ab-b1d4-4ee44cb219db',\n",
       " 'name': 'GPPC PCP Hamburg Southwestern',\n",
       " 'telecoms': [{'system': 'PHONE', 'value': '7167108266'}],\n",
       " 'addresses': [{'postalCode': '14075',\n",
       "   'city': 'Hamburg',\n",
       "   'state': 'NY',\n",
       "   'lines': ['5844 Southwestern Blvd', 'Ste 500']}],\n",
       " 'aliases': [],\n",
       " 'sourceIdentifiers': [],\n",
       " 'coverageAreaPostalCodes': ['14075']}"
      ]
     },
     "execution_count": 37,
     "metadata": {},
     "output_type": "execute_result"
    }
   ],
   "source": [
    "# POST Testing - Update a Clinic  {'id': '0112276c-9776-40ab-b1d4-4ee44cb219db',\n",
    "org_json = {\"name\":\"GPPC PCP Hamburg Southwestern\",\n",
    "        \"coverageAreaPostalCodes\":['14075'],\n",
    "        \"telecoms\":[{'system':'PHONE',\n",
    "                    'value':'7167108266'}],\n",
    "        \"addresses\":[{\"postalCode\":'14075', \n",
    "                      \"city\":'Hamburg',\n",
    "                      \"state\":'NY',\n",
    "                      'lines':['5844 Southwestern Blvd','Ste 500']\n",
    "                     }],\n",
    "        'sourceIdentifiers': []}\n",
    "o.create_organization(json=org_json).json()"
   ]
  },
  {
   "cell_type": "code",
   "execution_count": 38,
   "metadata": {},
   "outputs": [
    {
     "data": {
      "text/plain": [
       "{'id': 'de44fcf4-6fea-4418-9d31-7fc094f6cdc1',\n",
       " 'name': 'GPPC PCP Lancaster Transit',\n",
       " 'telecoms': [{'system': 'PHONE', 'value': '7166087040'}],\n",
       " 'addresses': [{'postalCode': '14043',\n",
       "   'city': 'Depew',\n",
       "   'state': 'NY',\n",
       "   'lines': ['4893 Transit Rd']}],\n",
       " 'aliases': [],\n",
       " 'sourceIdentifiers': [],\n",
       " 'coverageAreaPostalCodes': ['14043']}"
      ]
     },
     "execution_count": 38,
     "metadata": {},
     "output_type": "execute_result"
    }
   ],
   "source": [
    "# POST Testing - Update a Clinic  {'id': 'de44fcf4-6fea-4418-9d31-7fc094f6cdc1'\n",
    "org_json = {\"name\":\"GPPC PCP Lancaster Transit\",\n",
    "        \"coverageAreaPostalCodes\":['14043'],\n",
    "        \"telecoms\":[{'system':'PHONE',\n",
    "                    'value':'7166087040'}],\n",
    "        \"addresses\":[{\"postalCode\":'14043', \n",
    "                      \"city\":'Depew',\n",
    "                      \"state\":'NY',\n",
    "                      'lines':['4893 Transit Rd','']\n",
    "                     }],\n",
    "        'sourceIdentifiers': []}\n",
    "o.create_organization(json=org_json).json()"
   ]
  },
  {
   "cell_type": "code",
   "execution_count": 39,
   "metadata": {},
   "outputs": [
    {
     "data": {
      "text/plain": [
       "{'id': 'e340fef4-c36b-449b-8f3d-4f40d658bfeb',\n",
       " 'name': 'GPPC PCP Lockport Olcott',\n",
       " 'telecoms': [{'system': 'PHONE', 'value': '7168524772'}],\n",
       " 'addresses': [{'postalCode': '14094',\n",
       "   'city': 'Lockport',\n",
       "   'state': 'NY',\n",
       "   'lines': ['3805 Lockport-Olcott Rd']}],\n",
       " 'aliases': [],\n",
       " 'sourceIdentifiers': [],\n",
       " 'coverageAreaPostalCodes': ['14094']}"
      ]
     },
     "execution_count": 39,
     "metadata": {},
     "output_type": "execute_result"
    }
   ],
   "source": [
    "# POST Testing - Update a Clinic  'id': 'e340fef4-c36b-449b-8f3d-4f40d658bfeb',\n",
    "org_json = {\"name\":\"GPPC PCP Lockport Olcott\",\n",
    "        \"coverageAreaPostalCodes\":['14094'],\n",
    "        \"telecoms\":[{'system':'PHONE',\n",
    "                    'value':'7168524772'}],\n",
    "        \"addresses\":[{\"postalCode\":'14094', \n",
    "                      \"city\":'Lockport',\n",
    "                      \"state\":'NY',\n",
    "                      'lines':['3805 Lockport-Olcott Rd','']\n",
    "                     }],\n",
    "        'sourceIdentifiers': []}\n",
    "o.create_organization(json=org_json).json()"
   ]
  },
  {
   "cell_type": "code",
   "execution_count": 40,
   "metadata": {},
   "outputs": [
    {
     "data": {
      "text/plain": [
       "{'id': 'be514be9-c337-400a-9996-e822650f773d',\n",
       " 'name': 'GPPC PCP Lockport Snyder',\n",
       " 'telecoms': [{'system': 'PHONE', 'value': '7164338751'}],\n",
       " 'addresses': [{'postalCode': '14094',\n",
       "   'city': 'Lockport',\n",
       "   'state': 'NY',\n",
       "   'lines': ['5879 Snyder Rd']}],\n",
       " 'aliases': [],\n",
       " 'sourceIdentifiers': [],\n",
       " 'coverageAreaPostalCodes': ['14094']}"
      ]
     },
     "execution_count": 40,
     "metadata": {},
     "output_type": "execute_result"
    }
   ],
   "source": [
    "# POST Testing - Update a Clinic  {'id': 'be514be9-c337-400a-9996-e822650f773d',\n",
    "org_json = {\"name\":\"GPPC PCP Lockport Snyder\",\n",
    "        \"coverageAreaPostalCodes\":['14094'],\n",
    "        \"telecoms\":[{'system':'PHONE',\n",
    "                    'value':'7164338751'}],\n",
    "        \"addresses\":[{\"postalCode\":'14094', \n",
    "                      \"city\":'Lockport',\n",
    "                      \"state\":'NY',\n",
    "                      'lines':['5879 Snyder Rd','']\n",
    "                     }],\n",
    "        'sourceIdentifiers': []}\n",
    "o.create_organization(json=org_json).json()"
   ]
  },
  {
   "cell_type": "code",
   "execution_count": 41,
   "metadata": {},
   "outputs": [
    {
     "data": {
      "text/plain": [
       "{'id': '6bb543e1-9f6b-4cb0-a259-f383b83d6c9f',\n",
       " 'name': 'GPPC PCP Medina Ohio',\n",
       " 'telecoms': [{'system': 'PHONE', 'value': '5857983345'}],\n",
       " 'addresses': [{'postalCode': '14103',\n",
       "   'city': 'Medina',\n",
       "   'state': 'NY',\n",
       "   'lines': ['100 Ohio St.']}],\n",
       " 'aliases': [],\n",
       " 'sourceIdentifiers': [],\n",
       " 'coverageAreaPostalCodes': ['14103']}"
      ]
     },
     "execution_count": 41,
     "metadata": {},
     "output_type": "execute_result"
    }
   ],
   "source": [
    "# POST Testing - Update a Clinic  {'id': 'be514be9-c337-400a-9996-e822650f773d',\n",
    "org_json = {\"name\":\"GPPC PCP Medina Ohio\",\n",
    "        \"coverageAreaPostalCodes\":['14103'],\n",
    "        \"telecoms\":[{'system':'PHONE',\n",
    "                    'value':'5857983345'}],\n",
    "        \"addresses\":[{\"postalCode\":'14103', \n",
    "                      \"city\":'Medina',\n",
    "                      \"state\":'NY',\n",
    "                      'lines':['100 Ohio St.','']\n",
    "                     }],\n",
    "        'sourceIdentifiers': []}\n",
    "o.create_organization(json=org_json).json()"
   ]
  },
  {
   "cell_type": "code",
   "execution_count": 42,
   "metadata": {},
   "outputs": [
    {
     "data": {
      "text/plain": [
       "{'id': '8de2a8fe-d8e3-43b3-a8b8-b243e36d0904',\n",
       " 'name': 'GPPC PCP Orchard Park Big Tree Ste 107',\n",
       " 'telecoms': [{'system': 'PHONE', 'value': '7168524772'}],\n",
       " 'addresses': [{'postalCode': '14127',\n",
       "   'city': 'Orchard Park',\n",
       "   'state': 'NY',\n",
       "   'lines': ['5959 Big Tree Rd', 'Ste 107']}],\n",
       " 'aliases': [],\n",
       " 'sourceIdentifiers': [],\n",
       " 'coverageAreaPostalCodes': ['14127']}"
      ]
     },
     "execution_count": 42,
     "metadata": {},
     "output_type": "execute_result"
    }
   ],
   "source": [
    "# POST Testing - Update a Clinic  {'id': '8de2a8fe-d8e3-43b3-a8b8-b243e36d0904',\n",
    "org_json = {\"name\":\"GPPC PCP Orchard Park Big Tree Ste 107\",\n",
    "        \"coverageAreaPostalCodes\":['14127'],\n",
    "        \"telecoms\":[{'system':'PHONE',\n",
    "                    'value':'7168524772'}],\n",
    "        \"addresses\":[{\"postalCode\":'14127', \n",
    "                      \"city\":'Orchard Park',\n",
    "                      \"state\":'NY',\n",
    "                      'lines':['5959 Big Tree Rd','Ste 107']\n",
    "                     }],\n",
    "        'sourceIdentifiers': []}\n",
    "o.create_organization(json=org_json).json()"
   ]
  },
  {
   "cell_type": "code",
   "execution_count": 44,
   "metadata": {},
   "outputs": [
    {
     "data": {
      "text/plain": [
       "{'id': '3d130551-30d5-463e-be1a-467526866205',\n",
       " 'name': 'GPPC PCP Springville South Cascade',\n",
       " 'telecoms': [{'system': 'PHONE', 'value': '7165923600'}],\n",
       " 'addresses': [{'postalCode': '14141',\n",
       "   'city': 'Springville',\n",
       "   'state': 'NY',\n",
       "   'lines': ['230 S. Cascade Dr']}],\n",
       " 'aliases': [],\n",
       " 'sourceIdentifiers': [],\n",
       " 'coverageAreaPostalCodes': ['14141']}"
      ]
     },
     "execution_count": 44,
     "metadata": {},
     "output_type": "execute_result"
    }
   ],
   "source": [
    "# POST Testing - Update a Clinic  {'id': '3d130551-30d5-463e-be1a-467526866205',\n",
    "org_json = {\"name\":\"GPPC PCP Springville South Cascade\",\n",
    "        \"coverageAreaPostalCodes\":['14141'],\n",
    "        \"telecoms\":[{'system':'PHONE',\n",
    "                    'value':'7165923600'}],\n",
    "        \"addresses\":[{\"postalCode\":'14141', \n",
    "                      \"city\":'Springville',\n",
    "                      \"state\":'NY',\n",
    "                      'lines':['230 S. Cascade Dr','']\n",
    "                     }],\n",
    "        'sourceIdentifiers': []}\n",
    "o.create_organization(json=org_json).json()"
   ]
  },
  {
   "cell_type": "code",
   "execution_count": 45,
   "metadata": {},
   "outputs": [
    {
     "data": {
      "text/plain": [
       "{'id': '43eeac13-81ac-47ea-9df0-066693fb736d',\n",
       " 'name': 'GPPC PCP Tonawanda Colvin',\n",
       " 'telecoms': [{'system': 'PHONE', 'value': '7168744060'}],\n",
       " 'addresses': [{'postalCode': '14223',\n",
       "   'city': 'Tonawanda',\n",
       "   'state': 'NY',\n",
       "   'lines': ['1430 Colvin Blvd']}],\n",
       " 'aliases': [],\n",
       " 'sourceIdentifiers': [],\n",
       " 'coverageAreaPostalCodes': ['14223']}"
      ]
     },
     "execution_count": 45,
     "metadata": {},
     "output_type": "execute_result"
    }
   ],
   "source": [
    "# POST Testing - Update a Clinic  {'id': '43eeac13-81ac-47ea-9df0-066693fb736d',\n",
    "org_json = {\"name\":\"GPPC PCP Tonawanda Colvin\",\n",
    "        \"coverageAreaPostalCodes\":['14223'],\n",
    "        \"telecoms\":[{'system':'PHONE',\n",
    "                    'value':'7168744060'}],\n",
    "        \"addresses\":[{\"postalCode\":'14223', \n",
    "                      \"city\":'Tonawanda',\n",
    "                      \"state\":'NY',\n",
    "                      'lines':['1430 Colvin Blvd','']\n",
    "                     }],\n",
    "        'sourceIdentifiers': []}\n",
    "o.create_organization(json=org_json).json()"
   ]
  },
  {
   "cell_type": "code",
   "execution_count": 46,
   "metadata": {},
   "outputs": [
    {
     "data": {
      "text/plain": [
       "{'id': 'bd79cbe4-e0e7-4647-9f2e-44e57e4ca0b4',\n",
       " 'name': 'GPPC PCP Willamsville Maple',\n",
       " 'telecoms': [{'system': 'PHONE', 'value': '7167108266'}],\n",
       " 'addresses': [{'postalCode': '14221',\n",
       "   'city': 'Williamsville',\n",
       "   'state': 'NY',\n",
       "   'lines': ['705 Maple Rd', 'Ste 300']}],\n",
       " 'aliases': [],\n",
       " 'sourceIdentifiers': [],\n",
       " 'coverageAreaPostalCodes': ['14221']}"
      ]
     },
     "execution_count": 46,
     "metadata": {},
     "output_type": "execute_result"
    }
   ],
   "source": [
    "# POST Testing - Update a Clinic  {'id': 'bd79cbe4-e0e7-4647-9f2e-44e57e4ca0b4',\n",
    "org_json = {\"name\":\"GPPC PCP Willamsville Maple\",\n",
    "        \"coverageAreaPostalCodes\":['14221'],\n",
    "        \"telecoms\":[{'system':'PHONE',\n",
    "                    'value':'7167108266'}],\n",
    "        \"addresses\":[{\"postalCode\":'14221', \n",
    "                      \"city\":'Williamsville',\n",
    "                      \"state\":'NY',\n",
    "                      'lines':['705 Maple Rd','Ste 300']\n",
    "                     }],\n",
    "        'sourceIdentifiers': []}\n",
    "o.create_organization(json=org_json).json()"
   ]
  },
  {
   "cell_type": "code",
   "execution_count": 47,
   "metadata": {},
   "outputs": [
    {
     "data": {
      "text/plain": [
       "{'id': 'c2553d46-35f7-4a09-8de9-51cc07364dc9',\n",
       " 'name': 'GPPC PCP Williamsville Youngs',\n",
       " 'telecoms': [{'system': 'PHONE', 'value': '7169327777'}],\n",
       " 'addresses': [{'postalCode': '14221',\n",
       "   'city': 'Williamsville',\n",
       "   'state': 'NY',\n",
       "   'lines': ['1000 Youngs Rd']}],\n",
       " 'aliases': [],\n",
       " 'sourceIdentifiers': [],\n",
       " 'coverageAreaPostalCodes': ['14221']}"
      ]
     },
     "execution_count": 47,
     "metadata": {},
     "output_type": "execute_result"
    }
   ],
   "source": [
    "# POST Testing - Update a Clinic  {'id': 'bd79cbe4-e0e7-4647-9f2e-44e57e4ca0b4',\n",
    "org_json = {\"name\":\"GPPC PCP Williamsville Youngs\",\n",
    "        \"coverageAreaPostalCodes\":['14221'],\n",
    "        \"telecoms\":[{'system':'PHONE',\n",
    "                    'value':'7169327777'}],\n",
    "        \"addresses\":[{\"postalCode\":'14221', \n",
    "                      \"city\":'Williamsville',\n",
    "                      \"state\":'NY',\n",
    "                      'lines':['1000 Youngs Rd','']\n",
    "                     }],\n",
    "        'sourceIdentifiers': []}\n",
    "o.create_organization(json=org_json).json()"
   ]
  },
  {
   "cell_type": "code",
   "execution_count": 49,
   "metadata": {},
   "outputs": [
    {
     "data": {
      "text/plain": [
       "{'id': '586d6a46-55a7-4b56-b691-c3988062057f',\n",
       " 'name': 'GPPC Peds Dunkirk Vineyard Ste 3',\n",
       " 'telecoms': [{'system': 'PHONE', 'value': '7163636960'}],\n",
       " 'addresses': [{'postalCode': '14048',\n",
       "   'city': 'Williamsville',\n",
       "   'state': 'NY',\n",
       "   'lines': ['3898 Vineyard Drive', 'Ste 3']}],\n",
       " 'aliases': [],\n",
       " 'sourceIdentifiers': [],\n",
       " 'coverageAreaPostalCodes': ['14048']}"
      ]
     },
     "execution_count": 49,
     "metadata": {},
     "output_type": "execute_result"
    }
   ],
   "source": [
    "# POST Testing - Update a Clinic  {'id': '586d6a46-55a7-4b56-b691-c3988062057f',\n",
    "org_json = {\"name\":\"GPPC Peds Dunkirk Vineyard Ste 3\",\n",
    "        \"coverageAreaPostalCodes\":['14048'],\n",
    "        \"telecoms\":[{'system':'PHONE',\n",
    "                    'value':'7163636960'}],\n",
    "        \"addresses\":[{\"postalCode\":'14048', \n",
    "                      \"city\":'Williamsville',\n",
    "                      \"state\":'NY',\n",
    "                      'lines':['3898 Vineyard Drive','Ste 3']\n",
    "                     }],\n",
    "        'sourceIdentifiers': []}\n",
    "o.create_organization(json=org_json).json()\n",
    "\n"
   ]
  },
  {
   "cell_type": "code",
   "execution_count": 50,
   "metadata": {},
   "outputs": [
    {
     "data": {
      "text/plain": [
       "{'id': 'bbd76129-76f7-41dd-b569-4ad7cf9f9165',\n",
       " 'name': 'GPPC Post-Accute',\n",
       " 'telecoms': [{'system': 'PHONE', 'value': '7163094772'}],\n",
       " 'addresses': [{'postalCode': '14215',\n",
       "   'city': 'Buffalo',\n",
       "   'state': 'NY',\n",
       "   'lines': ['462 Grider Street', 'Terrace View at ECMC']}],\n",
       " 'aliases': [],\n",
       " 'sourceIdentifiers': [],\n",
       " 'coverageAreaPostalCodes': ['14215']}"
      ]
     },
     "execution_count": 50,
     "metadata": {},
     "output_type": "execute_result"
    }
   ],
   "source": [
    "# POST Testing - Update a Clinic  {'id': '586d6a46-55a7-4b56-b691-c3988062057f',\n",
    "org_json = {\"name\":\"GPPC Post-Accute\",\n",
    "        \"coverageAreaPostalCodes\":['14215'],\n",
    "        \"telecoms\":[{'system':'PHONE',\n",
    "                    'value':'7163094772'}],\n",
    "        \"addresses\":[{\"postalCode\":'14215', \n",
    "                      \"city\":'Buffalo',\n",
    "                      \"state\":'NY',\n",
    "                      'lines':['462 Grider Street','Terrace View at ECMC']\n",
    "                     }],\n",
    "        'sourceIdentifiers': []}\n",
    "o.create_organization(json=org_json).json()\n"
   ]
  },
  {
   "cell_type": "code",
   "execution_count": null,
   "metadata": {},
   "outputs": [],
   "source": [
    "GPPC PCP Amherst Sheridan\t3980A Sheridan Dr, Ste 200, Amherst, 14226\t(716)833-2200\n",
    "GPPC PCP Buffalo Main\t1091 Main St, Ste 301, Buffalo, NY 14209\t(716)852-4772\n",
    "GPPC PCP Dunkirk Vineyard Ste 1\t3898 Vineyard Dr, Ste 1, Dunkirk, NY 14048\t(716)363-6960\n",
    "GPPC PCP East Aurora Main\t268 Main St, E Aurora, 14052\t(716)539-4200\n",
    "GPPC PCP Elma Transit\t2701 Transit Rd, Ste 143, Elma, NY 14059\t(716)626-5840\n",
    "GPPC PCP Hamburg Camp\t5470 Camp Rd, Ste 200, Hamburg, NY 14075\t(716)646-2590\n",
    "GPPC PCP Hamburg Southwestern\t5844 Southwestern Blvd, Ste 500, Hamburg, NY 14075\t(716)710-8266\n",
    "GPPC PCP Lancaster Transit\t4893 Transit Rd, Depew, 14043\t(716)608-7040\n",
    "GPPC PCP Lockport Olcott\t3805 Lockport-Olcott Rd, Lockport, 14094\t(716)852-4772\n",
    "GPPC PCP Lockport Snyder\t5879 Snyder Rd, Lockport, 14094\t(716)433-8751\n",
    "GPPC PCP Medina Ohio\t100 Ohio St., Medina, NY 14103\t(585)798-3345\n",
    "GPPC PCP Orchard Park Big Tree Ste 107\t5959 Big Tree Rd, Ste 107, Orchard Park, NY 14127\t(716)852-4772\n",
    "GPPC PCP Springville South Cascade\t230 S. Cascade Dr, Springville, NY 14141\t(716)592-3600\n",
    "GPPC PCP Tonawanda Colvin\t1430 Colvin Blvd, Tonawanda, NY 14223\t(716)874-4060\n",
    "GPPC PCP Willamsville Maple\t705 Maple Rd, Ste 300, Williamsville, NY 14221\t(716)710-8266\n",
    "GPPC PCP Williamsville Youngs\t1000 Youngs Rd, Williamsville, NY 14221\t(716)932-7777\n",
    "GPPC Peds Dunkirk Vineyard Ste 3\t3898 Vineyard Drive, Suite 3, Dunkirk, NY 14048\t(716)363-6960\n"
   ]
  },
  {
   "cell_type": "code",
   "execution_count": null,
   "metadata": {},
   "outputs": [],
   "source": [
    "o.get_organization(json=org_json_template).json()"
   ]
  },
  {
   "cell_type": "code",
   "execution_count": null,
   "metadata": {},
   "outputs": [],
   "source": [
    "# POST Testing - Update a Clinic \n",
    "# import json\n",
    "org_json_template_example = {\"name\":\"GPPC PCP Buffalo Main\",\n",
    "        \"coverageAreaPostalCodes\":['14216'],\n",
    "        \"telecoms\":[{'system':'PHONE',`\n",
    "                    'value':'7198675209'}],\n",
    "        \"addresses\":[{\"postalCode\":'14216', \n",
    "                      \"city\":'Buffalo',\n",
    "                      \"state\":'NY',\n",
    "                      'lines':['680','Seneca St']\n",
    "                     }],\n",
    "         \"aliases\":[{\"type\":'SOI',\n",
    "                     \"value\":'0123456789',\n",
    "                     \"system\":'2.16.840.1.113883.4.6'}\n",
    "                    {\"type\":'TAX',\n",
    "                     \"value\":'0123456789',\n",
    "                     \"system\":'2.16.840.1.113883.4.6'}\n",
    "                   ],\n",
    "        'sourceIdentifiers': []}\n",
    "#body=json.dumps(body3)\n",
    "o.create_organization(json=org_json_template).json()\n"
   ]
  },
  {
   "cell_type": "code",
   "execution_count": null,
   "metadata": {},
   "outputs": [],
   "source": [
    "# POST Testing\n",
    "# import json \n",
    "org_json_template = {\"name\":\"Fld1_Org_Name\",\n",
    "        \"coverageAreaPostalCodes\":['Fld2_Coverage_Postal'],\n",
    "        \"telecoms\":[{'system':'Fld3_telecoms_phone_label',\n",
    "                    'value':'Fld4_telecoms_phone'}],\n",
    "        \"addresses\":[{\"postalCode\":'Fld5_addresses_postalCode', \n",
    "                      \"city\":'Fld6_addresses_City',\n",
    "                      \"state\":'Fld7_addresses_State',\n",
    "                      'lines':['Fld8_addresses_Line1','Fld9_addresses_Line2']\n",
    "                     }],\n",
    "         \"aliases\":[{\"type\":'Fld10_aliases_type',\n",
    "                     \"value\":'Fld11_aliases_value',\n",
    "                     \"system\":'Fld12_aliases_system'}],\n",
    "        'sourceIdentifiers': []}\n",
    "\n",
    "body=org_json_template.dumps()\n",
    "#o.create_organization(json=org_json_template).json()"
   ]
  },
  {
   "cell_type": "code",
   "execution_count": null,
   "metadata": {},
   "outputs": [],
   "source": [
    "dir(h)\n"
   ]
  },
  {
   "cell_type": "code",
   "execution_count": 14,
   "metadata": {},
   "outputs": [
    {
     "name": "stdout",
     "output_type": "stream",
     "text": [
      "{'name': 'ORG NAME', 'coverageAreaPostalCodes': ['Fld2_Coverage_Postal'], 'telecoms': [{'system': 'Fld3_telecoms_phone_label', 'value': 'Fld4_telecoms_phone'}], 'addresses': [{'postalCode': 'Fld5_addresses_postalCode', 'city': 'Fld6_addresses_City', 'state': 'Fld7_addresses_State', 'lines': ['Fld8_addresses_Line1', 'Fld9_addresses_Line2']}], 'aliases': [{'type': 'Fld10_aliases_type', 'value': 'Fld11_aliases_value', 'system': 'Fld12_aliases_system'}], 'sourceIdentifiers': []}\n"
     ]
    }
   ],
   "source": [
    "org_json_template = {\"name\":\"Fld1_Org_Name\",\n",
    "        \"coverageAreaPostalCodes\":['Fld2_Coverage_Postal'],\n",
    "        \"telecoms\":[{'system':'Fld3_telecoms_phone_label',\n",
    "                    'value':'Fld4_telecoms_phone'}],\n",
    "        \"addresses\":[{\"postalCode\":'Fld5_addresses_postalCode', \n",
    "                      \"city\":'Fld6_addresses_City',\n",
    "                      \"state\":'Fld7_addresses_State',\n",
    "                      'lines':['Fld8_addresses_Line1','Fld9_addresses_Line2']\n",
    "                     }],\n",
    "         \"aliases\":[{\"type\":'Fld10_aliases_type',\n",
    "                     \"value\":'Fld11_aliases_value',\n",
    "                     \"system\":'Fld12_aliases_system'}],\n",
    "        'sourceIdentifiers': []}\n",
    "\n",
    "org_json_template[\"name\"] = 'ORG NAME'\n",
    "#org_json_template['telecoms']['system'] =  'blah' \n",
    "\n",
    "print(org_json_template) \n"
   ]
  },
  {
   "cell_type": "code",
   "execution_count": null,
   "metadata": {},
   "outputs": [],
   "source": [
    "def fill_org_template(Fld1_Org_Name, Fld2_Coverage_Postal, Fld3_telecoms_phone_label\n",
    "                      , Fld4_telecoms_phone,Fld5_addresses_postalCode,Fld6_addresses_City\n",
    "                      , Fld7_addresses_State,Fld8_addresses_Line1,Fld9_addresses_Line2\n",
    "                      , Fld10_aliases_type,Fld11_aliases_value,Fld12_aliases_system):\n",
    "\n",
    "    org_json_template = {\"name\":\"Fld1_Org_Name\",\n",
    "        \"coverageAreaPostalCodes\":['Fld2_Coverage_Postal'],\n",
    "        \"telecoms\":[{'system':'Fld3_telecoms_phone_label',\n",
    "                    'value':'Fld4_telecoms_phone'}],\n",
    "        \"addresses\":[{\"postalCode\":'Fld5_addresses_postalCode', \n",
    "                      \"city\":'Fld6_addresses_City',\n",
    "                      \"state\":'Fld7_addresses_State',\n",
    "                      'lines':['Fld8_addresses_Line1','Fld9_addresses_Line2']\n",
    "                     }],\n",
    "         \"aliases\":[{\"type\":'Fld10_aliases_type',\n",
    "                     \"value\":'Fld11_aliases_value',\n",
    "                     \"system\":'Fld12_aliases_system'}],\n",
    "        'sourceIdentifiers': []}\n",
    "    org_json_template\n",
    "    org_json_template.update({\"name\": Fld1_Org_Name})\n",
    "    org_json_template.update({\"coverageAreaPostalCodes\": Fld2_Coverage_Postal})\n",
    "    org_json_template.update({\"system\": Fld3_telecoms_phone_label})\n",
    "    org_json_template.update({\"value\": Fld4_telecoms_phone})\n",
    "    org_json_template.update({\"postalCode\": Fld5_addresses_postalCode})\n",
    "    org_json_template.update({\"city\": Fld6_addresses_City})\n",
    "    org_json_template.update({\"state\": Fld7_addresses_State})\n",
    "    org_json_template.update({\"lines\": Fld8_addresses_Line1})\n",
    "    org_json_template.update({\"type\": Fld10_aliases_type})\n",
    "    org_json_template.update({\"value\": Fld11_aliases_value})    \n",
    "    org_json_template.update({\"system\": Fld12_aliases_system})     \n",
    "    \n",
    "    return org_json_template\n",
    "\n"
   ]
  },
  {
   "cell_type": "code",
   "execution_count": null,
   "metadata": {},
   "outputs": [],
   "source": [
    "org = fill_org_template('fld1','fld2','fld3','fld4','fld5','fld6','fld7','fld8','fld9','fld10','fld11','fld12')\n",
    "print(org1)"
   ]
  },
  {
   "cell_type": "code",
   "execution_count": null,
   "metadata": {},
   "outputs": [],
   "source": [
    "org2 =  flatten(org1)\n",
    "print(org2)"
   ]
  },
  {
   "cell_type": "code",
   "execution_count": null,
   "metadata": {},
   "outputs": [],
   "source": [
    "def dict_flatten(in_dict, dict_out=None, parent_key=None, separator=\"_\"):\n",
    "   if dict_out is None:\n",
    "      dict_out = {}\n",
    "\n",
    "   for k, v in in_dict.items():\n",
    "      k = f\"{parent_key}{separator}{k}\" if parent_key else k\n",
    "      if isinstance(v, dict):\n",
    "         dict_flatten(in_dict=v, dict_out=dict_out, parent_key=k)\n",
    "         continue\n",
    "\n",
    "      dict_out[k] = v\n",
    "\n",
    "   return dict_out\n",
    "\n"
   ]
  },
  {
   "cell_type": "code",
   "execution_count": null,
   "metadata": {},
   "outputs": [],
   "source": [
    "org = fill_org_template('Joes Test Clinic','14226','PHONE','(716)999-9999','14225','Buffalo','NY','680 Seneca Street','Address line 2 ??','SPI','123456789','55555')\n",
    "print(org)"
   ]
  },
  {
   "cell_type": "code",
   "execution_count": null,
   "metadata": {},
   "outputs": [],
   "source": [
    "# POST Testing\n",
    "#import json\n",
    "temp = {\"name\":\"Joes Test Clinic\",\n",
    "        \"coverageAreaPostalCodes\":['14216'],\n",
    "        \"telecoms\":[{'system':'PHONE',\n",
    "                    'value':'7198675209'}],\n",
    "        \"addresses\":[{\"postalCode\":'14216', \n",
    "                      \"city\":'Buffalo',\n",
    "                      \"state\":'NY',\n",
    "                      'lines':['680','Seneca St']\n",
    "                     }],\n",
    "#         \"aliases\":[{\"type\":'SOI',\n",
    "#                     \"value\":'0123456789',\n",
    "#                     \"system\":'2.16.840.1.113883.4.6'}],\n",
    "        'sourceIdentifiers': []}\n",
    "#body=json.dumps(body3)\n",
    "o.create_organization(json=temp).json()"
   ]
  },
  {
   "cell_type": "code",
   "execution_count": null,
   "metadata": {},
   "outputs": [],
   "source": [
    "temp = {\"birthDate\": \"1970-11-15\",\n",
    "      \"gender\": \"MALE\",\n",
    "      \"name\": {\n",
    "        \"prefix\": \"Dr.\",\n",
    "        \"given\": \"Joseph\",\n",
    "        \"middle\": \"Test\",\n",
    "        \"family\": \"Eberle\",\n",
    "     },\n",
    "      \"aliases\": [\n",
    "        {\n",
    "          \"value\": \"1234567890\",\n",
    "          \"system\": \"5ecaf544-01d5-01kf-95hj-8e2bcec12006\",\n",
    "          \"type\": \"SPI\"\n",
    "        }\n",
    "      ],\n",
    "      \"telecoms\": [\n",
    "        {\n",
    "          \"system\": \"PHONE\",\n",
    "          \"value\": \"111-111-1111\"\n",
    "        },\n",
    "        {\n",
    "          \"system\": \"EMAIL\",\n",
    "          \"value\": \"jane.smith@cerner.com\"\n",
    "        }\n",
    "            ]\n",
    "}\n",
    "\n",
    "#body=json.dumps(body3)\n",
    "p.create_personnel(json=temp).json()"
   ]
  },
  {
   "cell_type": "code",
   "execution_count": null,
   "metadata": {},
   "outputs": [],
   "source": [
    "#body=json.dumps(body3)\n",
    "o.create_organization(json=temp).json()"
   ]
  },
  {
   "cell_type": "code",
   "execution_count": null,
   "metadata": {},
   "outputs": [],
   "source": [
    "# POST Testing\n",
    "#import json\n",
    "temp = {\"name\":\"Joe Test Provider \",\n",
    "        \"coverageAreaPostalCodes\":['14216'],\n",
    "        \"telecoms\":[{'system':'PHONE',\n",
    "                    'value':'7198675209'}],\n",
    "        \"addresses\":[{\"postalCode\":'14216', \n",
    "                      \"city\":'Buffalo',\n",
    "                      \"state\":'NY',\n",
    "                      'lines':['680','Seneca St']\n",
    "                     }],\n",
    "#         \"aliases\":[{\"type\":'SOI',\n",
    "#                     \"value\":'0123456789',\n",
    "#                     \"system\":'2.16.840.1.113883.4.6'}],\n",
    "        'sourceIdentifiers': []}\n",
    "#body=json.dumps(body3)\n",
    "o.create_organization(json=temp).json()"
   ]
  },
  {
   "cell_type": "code",
   "execution_count": null,
   "metadata": {},
   "outputs": [],
   "source": [
    "p.delete_personnel('58973ab5-36da-4cb4-a6b4-1fbabbdfaf0c')\n",
    "de05eb21-af4f-4ed5-a757-41fc9ec42e76"
   ]
  },
  {
   "cell_type": "code",
   "execution_count": null,
   "metadata": {},
   "outputs": [],
   "source": [
    "from Gagnon, Patrick to everyone:    11:39 AM\n",
    "https://cernercentral.com/system-accounts/f0c56327-1cc5-4dfa-8539-61aa72178542\n",
    "from Barnes, Dave to everyone:    11:50 AM\n",
    "joe\n",
    "from Barnes, Dave to everyone:    11:50 AM\n",
    "bearer\n",
    "from Barnes, Dave to everyone:    11:50 AM\n",
    "eyJhbGciOiJub25lIn0.eyJpc3MiOiJodHRwczpcL1wvYXV0aG9yaXphdGlvbi5jZXJuZXIuY29tXC8iLCJpYXQiOjE2Mjg4NjU4ODIsInVybjpjZXJuZXI6YXV0aG9yaXphdGlvbjpzeXN0ZW0tYWNjb3VudC1jcmVkZW50aWFsLXRva2VuOnZlcnNpb246MSI6eyJ2ZXIiOiIxLjAiLCJzZWNyZXQiOiJ0VzZ2dzRyeVMyU195VWZ6Y00yVy1ZU3RzR2tYM2VjMSIsImtleSI6ImYwYzU2MzI3LTFjYzUtNGRmYS04NTM5LTYxYWE3MjE3ODU0MiJ9LCJqdGkiOiI4MmM4MTg1Mi0zMmViLTRmZWQtYTg4Yi1iYTc1NThhNjIwNGIifQ.\n",
    "from Gagnon, Patrick to everyone:    12:01 PM\n",
    "# POST Testing\n",
    "#import json\n",
    "temp = {\"name\":\"Rockcreek Clinic\",\n",
    "        \"coverageAreaPostalCodes\":['14216'],\n",
    "        \"telecoms\":[{'system':'PHONE',\n",
    "                    'value':'7198675209'}],\n",
    "        \"addresses\":[{\"postalCode\":'14216', \n",
    "                      \"city\":'Buffalo',\n",
    "                      \"state\":'NY',\n",
    "                      'lines':['680','Seneca St']\n",
    "                     }],\n",
    "#         \"aliases\":[{\"type\":'SOI',\n",
    "#                     \"value\":'0123456789',\n",
    "#                     \"system\":'2.16.840.1.113883.4.6'}],\n",
    "        'sourceIdentifiers': []}\n",
    "#body=json.dumps(body3)\n",
    "o.create_organization(json=temp).json()\n",
    "from Gagnon, Patrick to everyone:    12:04 PM\n",
    "# POST Testing Personnel\n",
    "temp = {\"name\":{\"given\":'delete',\"family\":'me'}}\n",
    "temp ={\"birthDate\":\"1991-05-17\",\n",
    "        \"gender\":'MALE',\n",
    "        \"languages\":['en'],\n",
    "        \"name\":{\"given\":'delete',\"family\":'me',\"middle\":'z'},\n",
    "        \"addresses\":[{\"postalCode\":'14210', \n",
    "                      \"city\":'Buffalo',\n",
    "                      \"state\":'NY',\n",
    "                      'lines':['608','Seneca St.']\n",
    "                     }],\n",
    "        \"qualifications\":[],\n",
    "        \"sourceIdentifiers\":[]\n",
    "}\n",
    "#p.create_personnel(json=temp).json()\n",
    "from Gagnon, Patrick to everyone:    12:05 PM\n",
    "https://wny.personneltool.healtheintent.com/"
   ]
  },
  {
   "cell_type": "code",
   "execution_count": 8,
   "metadata": {},
   "outputs": [],
   "source": [
    "org = pd.json_normalize(o.get_organization('e4dba7a2-6896-4878-8f32-560d4a0c0c38'))"
   ]
  },
  {
   "cell_type": "code",
   "execution_count": 11,
   "metadata": {},
   "outputs": [],
   "source": [
    "reqResponse = o.get_organization('cbbc83fe-6994-4889-a915-499380903fad')"
   ]
  },
  {
   "cell_type": "code",
   "execution_count": null,
   "metadata": {},
   "outputs": [],
   "source": [
    "reqResponse = o.get_organization_group('de05eb21-af4f-4ed5-a757-41fc9ec42e76')"
   ]
  },
  {
   "cell_type": "code",
   "execution_count": 12,
   "metadata": {},
   "outputs": [
    {
     "name": "stdout",
     "output_type": "stream",
     "text": [
      "{'items': [{'id': 'e4dba7a2-6896-4878-8f32-560d4a0c0c38', 'name': 'Akron Family Care', 'telecoms': [], 'addresses': [], 'aliases': [{'type': 'TAX', 'value': '161601272', 'system': '2.16.840.1.113883.4.2'}, {'type': 'SOI', 'value': '1619008869', 'system': '2.16.840.1.113883.4.6'}], 'sourceIdentifiers': [], 'coverageAreaPostalCodes': [], 'isManual': True, 'createdAt': '2019-11-19T14:46:53Z', 'updatedAt': '2021-05-11T16:06:13Z'}, {'id': 'cbbc83fe-6994-4889-a915-499380903fad', 'name': 'Alan M Antfleck Physician PLLC', 'telecoms': [], 'addresses': [], 'aliases': [{'type': 'SOI', 'value': '1366791998', 'system': '2.16.840.1.113883.4.6'}], 'sourceIdentifiers': [], 'coverageAreaPostalCodes': [], 'isManual': True, 'createdAt': '2021-03-02T14:59:25Z', 'updatedAt': '2021-03-02T14:59:25Z'}, {'id': '71522c48-58cd-467b-9b06-eaa22dcb94ee', 'name': 'Amandeep Pal MD PLLC', 'telecoms': [], 'addresses': [], 'aliases': [{'type': 'TAX', 'value': '472113619', 'system': '2.16.840.1.113883.4.2'}, {'type': 'SOI', 'value': '1801291307', 'system': '2.16.840.1.113883.4.6'}], 'sourceIdentifiers': [], 'coverageAreaPostalCodes': [], 'isManual': True, 'createdAt': '2019-11-19T14:47:56Z', 'updatedAt': '2021-05-11T16:06:41Z'}, {'id': '76c26e90-91ce-4d24-b5d6-510d484fee72', 'name': 'Aspire Health Center', 'telecoms': [], 'addresses': [{'postalCode': '14225', 'country': 'United States', 'text': '7 Community Drive Buffalo, NY 14225', 'city': 'Buffalo', 'state': 'New York', 'lines': ['7 Community Drive']}], 'aliases': [{'type': 'TAX', 'value': '160757756', 'system': '2.16.840.1.113883.4.2'}, {'type': 'SOI', 'value': '1346337011', 'system': '2.16.840.1.113883.4.6'}], 'sourceIdentifiers': [], 'coverageAreaPostalCodes': [], 'isManual': True, 'createdAt': '2016-12-27T19:10:28Z', 'updatedAt': '2020-07-30T15:23:09Z'}, {'id': 'ecb258a9-ad4d-4671-87fc-51ba2484c5f8', 'name': 'BestSelf Behavioral Health, Inc', 'telecoms': [], 'addresses': [], 'aliases': [{'type': 'SOI', 'value': '1023230695', 'system': '2.16.840.1.113883.4.6'}, {'type': 'SOI', 'value': '1497967129', 'system': '2.16.840.1.113883.4.6'}, {'type': 'SOI', 'value': '1891907507', 'system': '2.16.840.1.113883.4.6'}, {'type': 'SOI', 'value': '1922210657', 'system': '2.16.840.1.113883.4.6'}], 'sourceIdentifiers': [], 'coverageAreaPostalCodes': [], 'isManual': True, 'createdAt': '2018-06-05T15:21:31Z', 'updatedAt': '2019-11-26T15:06:34Z'}, {'id': 'c71a2630-bb55-49c2-beda-1574e78bc3bc', 'name': 'Bradford Family Medicine, Inc', 'telecoms': [], 'addresses': [], 'aliases': [{'type': 'TAX', 'value': '200328252', 'system': '2.16.840.1.113883.4.2'}, {'type': 'SOI', 'value': '1245272525', 'system': '2.16.840.1.113883.4.6'}], 'sourceIdentifiers': [], 'coverageAreaPostalCodes': [], 'isManual': True, 'createdAt': '2021-03-02T15:04:22Z', 'updatedAt': '2021-03-02T15:13:14Z'}, {'id': '70b0304a-954f-4c8f-a7d6-038b5ab6b707', 'name': 'Bradford Regional Medical Services', 'telecoms': [], 'addresses': [], 'aliases': [{'type': 'TAX', 'value': '232875157', 'system': '2.16.840.1.113883.4.2'}], 'sourceIdentifiers': [], 'coverageAreaPostalCodes': [], 'isManual': True, 'createdAt': '2021-03-02T15:09:47Z', 'updatedAt': '2021-03-02T15:09:47Z'}, {'id': '1414c45f-3ab6-41c9-821e-8316d801a113', 'name': 'Buffalo Medical Group', 'telecoms': [], 'addresses': [], 'aliases': [{'type': 'TAX', 'value': '161000580', 'system': '2.16.840.1.113883.4.2'}], 'sourceIdentifiers': [], 'coverageAreaPostalCodes': [], 'isManual': True, 'createdAt': '2021-03-02T16:17:51Z', 'updatedAt': '2021-03-02T16:17:51Z'}, {'id': 'cbc9c430-1b7b-4f54-bcb8-9554a2f90652', 'name': 'Buffalo Spine Medicine & Rehab PLLC', 'telecoms': [], 'addresses': [], 'aliases': [{'type': 'TAX', 'value': '453554953', 'system': '2.16.840.1.113883.4.2'}, {'type': 'SOI', 'value': '1326394701', 'system': '2.16.840.1.113883.4.6'}], 'sourceIdentifiers': [], 'coverageAreaPostalCodes': [], 'isManual': True, 'createdAt': '2021-03-02T16:26:01Z', 'updatedAt': '2021-03-02T16:27:13Z'}, {'id': '4d99ec80-1bff-4bd0-902f-df2bdd98172d', 'name': 'Chaudhuri and Chaudhuri Physicians, PLLC', 'telecoms': [], 'addresses': [], 'aliases': [{'type': 'TAX', 'value': '260170539', 'system': '2.16.840.1.113883.4.2'}, {'type': 'SOI', 'value': '1053512699', 'system': '2.16.840.1.113883.4.6'}], 'sourceIdentifiers': [], 'coverageAreaPostalCodes': [], 'isManual': True, 'createdAt': '2019-11-19T14:49:21Z', 'updatedAt': '2021-05-11T16:07:09Z'}, {'id': '7c758d7b-409d-47cd-ae43-166c69d3af2d', 'name': 'Christopher E Beney MD, PC', 'telecoms': [], 'addresses': [], 'aliases': [{'type': 'TAX', 'value': '161604155', 'system': '2.16.840.1.113883.4.2'}, {'type': 'SOI', 'value': '1053587519', 'system': '2.16.840.1.113883.4.6'}], 'sourceIdentifiers': [], 'coverageAreaPostalCodes': [], 'isManual': True, 'createdAt': '2019-11-19T14:50:02Z', 'updatedAt': '2021-05-11T16:07:42Z'}, {'id': '3ff64674-97f5-446e-932c-f2cc7f49e8f0', 'name': 'Clarke Family Medicine', 'telecoms': [], 'addresses': [], 'aliases': [{'type': 'TAX', 'value': '832442297', 'system': '2.16.840.1.113883.4.2'}, {'type': 'SOI', 'value': '1023581717', 'system': '2.16.840.1.113883.4.6'}], 'sourceIdentifiers': [], 'coverageAreaPostalCodes': [], 'isManual': True, 'createdAt': '2019-11-19T14:51:27Z', 'updatedAt': '2021-05-11T16:08:15Z'}, {'id': 'ef1e4aad-08ab-4d59-9e32-8017b17e8bf3', 'name': 'Community Health Center of Buffalo', 'telecoms': [], 'addresses': [], 'aliases': [{'type': 'SOI', 'value': '1790787919', 'system': '2.16.840.1.113883.4.6'}], 'sourceIdentifiers': [], 'coverageAreaPostalCodes': [], 'isManual': True, 'createdAt': '2018-08-22T13:30:18Z', 'updatedAt': '2020-07-30T15:23:10Z'}, {'id': '5124b6b5-f83b-45bb-befc-e8cb7a091831', 'name': 'Crystal Springs Medical PC', 'telecoms': [], 'addresses': [], 'aliases': [{'type': 'TAX', 'value': '421543315', 'system': '2.16.840.1.113883.4.2'}], 'sourceIdentifiers': [], 'coverageAreaPostalCodes': [], 'isManual': True, 'createdAt': '2021-03-02T16:32:29Z', 'updatedAt': '2021-03-02T16:32:29Z'}, {'id': 'd8b0a834-7e52-46b8-bdf5-8ca2644ae57d', 'name': 'Dale L Deahn MD', 'telecoms': [], 'addresses': [], 'aliases': [{'type': 'TAX', 'value': '161541726', 'system': '2.16.840.1.113883.4.2'}, {'type': 'SOI', 'value': '1760694269', 'system': '2.16.840.1.113883.4.6'}], 'sourceIdentifiers': [], 'coverageAreaPostalCodes': [], 'isManual': True, 'createdAt': '2019-11-19T14:52:23Z', 'updatedAt': '2021-05-11T16:08:44Z'}, {'id': '32d80e35-a02f-4085-b646-042abeb4de90', 'name': 'Delaware Pediatric Associates LLP', 'telecoms': [], 'addresses': [], 'aliases': [{'type': 'TAX', 'value': '160983980', 'system': '2.16.840.1.113883.4.2'}], 'sourceIdentifiers': [], 'coverageAreaPostalCodes': [], 'isManual': True, 'createdAt': '2021-03-02T16:40:02Z', 'updatedAt': '2021-03-02T16:40:02Z'}, {'id': '57f4c1d7-77ea-422c-9129-cecd7daca672', 'name': 'DeNardin Family Practice', 'telecoms': [], 'addresses': [], 'aliases': [{'type': 'TAX', 'value': '800097797', 'system': '2.16.840.1.113883.4.2'}, {'type': 'SOI', 'value': '1982660205', 'system': '2.16.840.1.113883.4.6'}], 'sourceIdentifiers': [], 'coverageAreaPostalCodes': [], 'isManual': True, 'createdAt': '2019-11-19T14:53:52Z', 'updatedAt': '2021-05-11T16:09:25Z'}, {'id': 'c9b7dc2b-dd38-40b6-ab0b-d4e89b7351f1', 'name': 'Dent Neurologic Group, LLC', 'telecoms': [], 'addresses': [], 'aliases': [{'type': 'TAX', 'value': '161582336', 'system': '2.16.840.1.113883.4.2'}], 'sourceIdentifiers': [], 'coverageAreaPostalCodes': [], 'isManual': True, 'createdAt': '2021-03-02T17:01:58Z', 'updatedAt': '2021-03-02T17:01:58Z'}, {'id': '86d347ec-4aee-4099-b506-22759766a17d', 'name': 'Dwight D Lewis MD', 'telecoms': [], 'addresses': [], 'aliases': [{'type': 'TAX', 'value': '161589460', 'system': '2.16.840.1.113883.4.2'}, {'type': 'SOI', 'value': '1942234489', 'system': '2.16.840.1.113883.4.6'}], 'sourceIdentifiers': [], 'coverageAreaPostalCodes': [], 'isManual': True, 'createdAt': '2017-10-05T21:49:58Z', 'updatedAt': '2021-05-11T17:16:49Z'}, {'id': '8b6eea16-1312-4d0f-b7e1-c738f18b8f8f', 'name': 'ECMC Family Health Center', 'telecoms': [], 'addresses': [{'postalCode': '14215', 'country': 'United States', 'text': '462 Grider Street, Buffalo, NY 14215', 'city': 'Buffalo', 'state': 'New York', 'lines': ['462 Grider Street']}], 'aliases': [{'type': 'SOI', 'value': '1073830725', 'system': '2.16.840.1.113883.4.6'}, {'type': 'SOI', 'value': '1093065138', 'system': '2.16.840.1.113883.4.6'}, {'type': 'SOI', 'value': '1194718486', 'system': '2.16.840.1.113883.4.6'}, {'type': 'SOI', 'value': '1629358379', 'system': '2.16.840.1.113883.4.6'}, {'type': 'SOI', 'value': '1700179827', 'system': '2.16.840.1.113883.4.6'}, {'type': 'SOI', 'value': '1750601779', 'system': '2.16.840.1.113883.4.6'}], 'sourceIdentifiers': [], 'coverageAreaPostalCodes': [], 'isManual': True, 'createdAt': '2016-12-27T18:11:45Z', 'updatedAt': '2021-01-11T16:03:56Z'}], 'firstLink': 'https://wny.api.us.healtheintent.com/organization/v1/organizations?offset=0&limit=20', 'lastLink': 'https://wny.api.us.healtheintent.com/organization/v1/organizations?offset=120&limit=20', 'nextLink': 'https://wny.api.us.healtheintent.com/organization/v1/organizations?offset=20&limit=20', 'totalResults': 139}\n"
     ]
    }
   ],
   "source": [
    "print(reqResponse) "
   ]
  },
  {
   "cell_type": "code",
   "execution_count": null,
   "metadata": {},
   "outputs": [],
   "source": []
  },
  {
   "cell_type": "code",
   "execution_count": null,
   "metadata": {},
   "outputs": [],
   "source": [
    "organizations = pd."
   ]
  },
  {
   "cell_type": "code",
   "execution_count": 9,
   "metadata": {},
   "outputs": [
    {
     "data": {
      "text/html": [
       "<div>\n",
       "<style scoped>\n",
       "    .dataframe tbody tr th:only-of-type {\n",
       "        vertical-align: middle;\n",
       "    }\n",
       "\n",
       "    .dataframe tbody tr th {\n",
       "        vertical-align: top;\n",
       "    }\n",
       "\n",
       "    .dataframe thead th {\n",
       "        text-align: right;\n",
       "    }\n",
       "</style>\n",
       "<table border=\"1\" class=\"dataframe\">\n",
       "  <thead>\n",
       "    <tr style=\"text-align: right;\">\n",
       "      <th></th>\n",
       "      <th>items</th>\n",
       "      <th>firstLink</th>\n",
       "      <th>lastLink</th>\n",
       "      <th>nextLink</th>\n",
       "      <th>totalResults</th>\n",
       "    </tr>\n",
       "  </thead>\n",
       "  <tbody>\n",
       "    <tr>\n",
       "      <th>0</th>\n",
       "      <td>[{'id': 'e4dba7a2-6896-4878-8f32-560d4a0c0c38'...</td>\n",
       "      <td>https://wny.api.us.healtheintent.com/organizat...</td>\n",
       "      <td>https://wny.api.us.healtheintent.com/organizat...</td>\n",
       "      <td>https://wny.api.us.healtheintent.com/organizat...</td>\n",
       "      <td>139</td>\n",
       "    </tr>\n",
       "  </tbody>\n",
       "</table>\n",
       "</div>"
      ],
      "text/plain": [
       "                                               items  \\\n",
       "0  [{'id': 'e4dba7a2-6896-4878-8f32-560d4a0c0c38'...   \n",
       "\n",
       "                                           firstLink  \\\n",
       "0  https://wny.api.us.healtheintent.com/organizat...   \n",
       "\n",
       "                                            lastLink  \\\n",
       "0  https://wny.api.us.healtheintent.com/organizat...   \n",
       "\n",
       "                                            nextLink  totalResults  \n",
       "0  https://wny.api.us.healtheintent.com/organizat...           139  "
      ]
     },
     "execution_count": 9,
     "metadata": {},
     "output_type": "execute_result"
    }
   ],
   "source": [
    "org.head()"
   ]
  },
  {
   "cell_type": "code",
   "execution_count": null,
   "metadata": {},
   "outputs": [],
   "source": [
    "org.shape\n",
    "\n",
    "de05eb21-af4f-4ed5-a757-41fc9ec42e76"
   ]
  },
  {
   "cell_type": "code",
   "execution_count": null,
   "metadata": {},
   "outputs": [],
   "source": [
    "from settings import *\n",
    "import requests\n",
    "import tarfile\n",
    "import datetime as dt\n",
    "import os\n",
    "\n",
    "class Healtheintent(object):\n",
    "\n",
    "    def __init__(self):\n",
    "\n",
    "        self.uri = \"https://wny.api.us.healtheintent.com/\"\n",
    "        self.headers = BEARER_HEADER\n",
    "        self.headers_op = BEARER_HEADER_OP_API\n",
    "        self.channel_id = None\n",
    "        self.feed_id = None\n",
    "        self.personnel_id = None\n",
    "        self.organization_id = None\n",
    "        self.personnel_group = None\n",
    "        self.personnel_group_member_id = None\n",
    "        self.location_id = None\n",
    "        self.body = None\n",
    "\n",
    "    def __send_request__(self, endpoint,\n",
    "                         method = None, json = None, headers = None, params = None, data = None):\n",
    "        if method == 'GET':\n",
    "            return requests.get('{uri}{endpoint}'.format(uri=self.uri, endpoint=endpoint)\n",
    "                                , headers=headers\n",
    "                                , params=params).json()\n",
    "        elif method == 'DELETE':\n",
    "            return requests.delete('{uri}{endpoint}'.format(uri=self.uri, endpoint=endpoint)\n",
    "                                   , headers=headers, params=params)\n",
    "        elif method == 'POST':\n",
    "            return requests.post('{uri}{endpoint}'.format(uri=self.uri, endpoint=endpoint),\n",
    "                                   headers=headers, data=data, json=json)\n",
    "        elif method == 'PUT':\n",
    "            return requests.put('{uri}{endpoint}'.format(uri=self.uri, endpoint=endpoint),\n",
    "                                   headers=headers, params=params,data=data,json=json)\n",
    "        else:\n",
    "            return requests.get('{uri}{endpoint}'.format(uri=self.uri, endpoint=endpoint)\n",
    "                                , headers=headers, data=data, json=json)\n",
    "\n",
    "#Data Syndication SubClass      \n",
    "class DataSyndication(Healtheintent):\n",
    "\n",
    "    def get_feeds(self):\n",
    "        return self.__send_request__(endpoint='data-syndication/v1/feeds', method='GET', headers=self.headers)\n",
    "\n",
    "    def get_channels(self):\n",
    "        return self.__send_request__(endpoint='data-syndication/v1/channels', method='GET', headers=self.headers)\n",
    "\n",
    "    def get_channel_status(self, channel_id = None):\n",
    "        return self.__send_request__(endpoint='data-syndication/v1/channels/{channel_id}'.format(channel_id=channel_id),\n",
    "                                     method='GET',\n",
    "                                     headers=self.headers)\n",
    "\n",
    "    def get_channel_deliveries(self, channel_id = None):\n",
    "        return self.__send_request__(endpoint='data-syndication/v1/channels/{channel_id}/deliveries'.format(channel_id=channel_id),\n",
    "                                     method='GET', headers=self.headers)\n",
    "\n",
    "    def get_channel_downloads(self, delivery_id = None, destination_path = None):\n",
    "        response = self.__send_request__(endpoint='data-syndication/v1/downloads/{delivery_id}'.format(delivery_id=delivery_id)\n",
    "                                         , headers=self.headers)\n",
    "\n",
    "\n",
    "        wd = os.getcwd()\n",
    "        path = destination_path + '/' + dt.datetime.strftime(dt.datetime.today(), '%Y-%m-%d') + '.tar.gz'\n",
    "\n",
    "        if response.status_code == 200:\n",
    "            with open(path, 'wb') as i:\n",
    "                i.write(response.content)\n",
    "        i.close()\n",
    "\n",
    "        temp = tarfile.open(name=path, mode='r:gz')\n",
    "        os.chdir(destination_path)\n",
    "        temp.extractall()\n",
    "        temp.close()\n",
    "        os.chdir(wd)\n",
    "\n",
    "\n",
    "# Personnel Sub Class\n",
    "class Personnel(Healtheintent):\n",
    "    def get_personnel(self):\n",
    "        return self.__send_request__(endpoint='personnel/v1/personnel', method='GET'\n",
    "                                     , headers=self.headers_op)\n",
    "\n",
    "    def create_personnel(self,data=None,json=None):\n",
    "        return self.__send_request__(endpoint='personnel/v1/personnel'.format(data=data,json=json)\n",
    "                                     , method='POST'\n",
    "                                     , headers=self.headers_op\n",
    "                                     , data=data\n",
    "                                     , json=json)\n",
    "\n",
    "    def get_personnel_status(self, personnel_id = None):\n",
    "        return self.__send_request__(endpoint='personnel/v1/personnel/{personnel_id}'.format(personnel_id=personnel_id)\n",
    "                                     , method='GET'\n",
    "                                     , headers=self.headers_op)\n",
    "\n",
    "    def update_personnel(self, personnel_id=None, data=None, json=None):\n",
    "        return self.__send_request__(endpoint='personnel/v1/personnel/{personnel_id}'.format(personnel_id=personnel_id, data=data, json=json)\n",
    "                                     , method='PUT', headers=self.headers_op, data=data, json=json)\n",
    "\n",
    "    def delete_personnel(self, personnel_id = None):\n",
    "        return self.__send_request__(endpoint='personnel/v1/personnel/{personnel_id}'.format(personnel_id=personnel_id)\n",
    "                                     , method='DELETE'\n",
    "                                     , headers=self.headers_op)\n",
    "\n",
    "    \n",
    "# Personnel Group Object\n",
    "    def get_personnel_groups(self):\n",
    "        return self.__send_request__(endpoint='personnel/v1/personnel-groups'\n",
    "                                     , method='GET'\n",
    "                                     , headers=self.headers_op)\n",
    "\n",
    "    def create_personnel_group(self, data=None, json=None):\n",
    "        return self.__send_request__(endpoint='personnel/v1/personnel-groups'.format(data=data,json=json)\n",
    "                                     , method='POST'\n",
    "                                     , headers=self.headers_op)\n",
    "\n",
    "    def get_personnel_group_status(self, personnel_group_id = None):\n",
    "        return self.__send_request__(endpoint='personnel/v1/personnel-groups/{personnel_group_id}'.format(personnel_group_id=personnel_group_id)\n",
    "                                     , method='GET'\n",
    "                                     , headers=self.headers_op)\n",
    "\n",
    "    def update_personnel_group(self, personnel_group_id = None, data=None, json=None):\n",
    "        return self.__send_request__(endpoint='personnel/v1/personnel-groups/{personnel_group_id}'.format(personnel_group_id=personnel_group_id, data=data,json=json)\n",
    "            , method='PUT'\n",
    "            , headers=self.headers_op\n",
    "            , data=data\n",
    "            , json=json)\n",
    "\n",
    "    def delete_personnel_group(self, personnel_group_id = None):\n",
    "        return self.__send_request__(endpoint='personnel/v1/personnel-groups/{personnel_group_id}'.format(personnel_group_id=personnel_group_id)\n",
    "                                     , method='DELETE'\n",
    "                                     , headers=self.headers_op)\n",
    "\n",
    "    def get_personnel_group_members(self, personnel_group_id = None):\n",
    "        return self.__send_request__(endpoint='personnel/v1/personnel-groups/{personnel_group_id}/members'.format(personnel_group_id=personnel_group_id)\n",
    "                                     , method='GET'\n",
    "                                     , headers=self.headers_op)\n",
    "\n",
    "    # Testing Required\n",
    "    def add_personnel_group_members(self, personnel_group_id = None, personnel_group_member_id = None, data=None, json=None):\n",
    "        return self.__send_request__(endpoint='personnel/v1/personnel-groups/{personnel_group_id}/members/{personnel_group_member_id}'\n",
    "                                     , method='PUT'\n",
    "                                     , headers=self.headers_op\n",
    "                                    , data=data\n",
    "                                    , json=json)\n",
    "\n",
    "    def delete_personnel_group_members(self, personnel_group_id = None, personnel_group_member_id = None):\n",
    "        return self.__send_request__(endpoint='personnel/v1/{personnel_group_id}/members/{personnel_group_member_id}'\n",
    "                                     , method='DELETE'\n",
    "                                     , headers=self.headers_op)\n",
    "\n",
    "\n",
    "# Organization Sub Class Commands\n",
    "class Organization(Healtheintent):\n",
    "    \n",
    "    def get_organization(self,params=None):\n",
    "        return self.__send_request__(endpoint='organization/v1/organizations'.format(params=params)\n",
    "                                     , method='GET'\n",
    "                                     , headers=self.headers_op)\n",
    "    \n",
    "    def create_organization(self,data=None,json=None):\n",
    "        return self.__send_request__(endpoint='organization/v1/organizations'.format(data=data, json=json)\n",
    "                                     , method='POST'\n",
    "                                     , headers=self.headers_op\n",
    "                                     , data=data\n",
    "                                     , json=json)\n",
    "    \n",
    "    def delete_organization(self, organization_id = None):\n",
    "        return self.__send_request__(endpoint='organization/v1/organizations/{organization_id}'.format(organization_id=organization_id)\n",
    "                                     , method='DELETE'\n",
    "                                     , headers=self.headers_op)\n",
    "    \n",
    "    def update_organization(self, organization_id = None, data=None, json=None):\n",
    "        return self.__send_request__(endpoint='organization/v1/organizations/{organization_id}'.format(organization_id=organization_id,data=data,json=json)\n",
    "                                     , method='PUT'\n",
    "                                     , headers=self.headers_op\n",
    "                                    , data=data\n",
    "                                    , json=json)\n",
    "    \n",
    "    \n",
    "    # Location Object Commands\n",
    "    def get_locations(self):\n",
    "        return self.__send_request__(endpoint='organization/v1/locations'\n",
    "                                     , method='GET'\n",
    "                                     , headers=self.headers_op)\n",
    "\n",
    "    def create_location(self,data=None,json=None):\n",
    "        return self.__send_request__(endpoint='organization/v1/locations'.format(data=data, json=json)\n",
    "                                     , method='POST'\n",
    "                                     , headers=self.headers_op\n",
    "                                     , data=data\n",
    "                                     , json=json)\n",
    "    \n",
    "    def get_location_status(self, location_id = None):\n",
    "        return self.__send_request__(endpoint='organization/v1/locations/{location_id}'.format(location_id=location_id)\n",
    "                                     , method='GET'\n",
    "                                     , headers=self.headers_op)\n",
    "\n",
    "    def update_location(self, location_id = None, data=None, json= None):\n",
    "        return self.__send_request__(endpoint='organization/v1/locations/{location_id}'.format(location_id=location_id,data=data,json=json)\n",
    "                                     , method='PUT'\n",
    "                                     , headers=self.headers_op\n",
    "                                    , data=data\n",
    "                                    , json=json)\n",
    "\n",
    "    def delete_location(self, location_id = None):\n",
    "        return self.__send_request__(endpoint='organization/v1/locations/{location_id}'.format(location_id=location_id)\n",
    "                                     , method='DELETE'\n",
    "                                     , headers=self.headers_op)"
   ]
  }
 ],
 "metadata": {
  "kernelspec": {
   "display_name": "Python 3",
   "language": "python",
   "name": "python3"
  },
  "language_info": {
   "codemirror_mode": {
    "name": "ipython",
    "version": 3
   },
   "file_extension": ".py",
   "mimetype": "text/x-python",
   "name": "python",
   "nbconvert_exporter": "python",
   "pygments_lexer": "ipython3",
   "version": "3.8.5"
  }
 },
 "nbformat": 4,
 "nbformat_minor": 4
}
