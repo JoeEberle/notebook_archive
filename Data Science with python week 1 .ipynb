{
 "cells": [
  {
   "cell_type": "markdown",
   "metadata": {},
   "source": [
    "## QUIZ 1 - Data Science with Python week 1 "
   ]
  },
  {
   "cell_type": "code",
   "execution_count": 60,
   "metadata": {},
   "outputs": [
    {
     "name": "stdout",
     "output_type": "stream",
     "text": [
      "['bat', 'bot']\n"
     ]
    }
   ],
   "source": [
    "import numpy as np \n",
    "import re\n",
    "string = 'bat, lat, mat, bet, let, met, bit, lit, mit, bot, lot, mot'\n",
    "result = re.findall('b[ao]t', string)\n",
    "print(result)\n"
   ]
  },
  {
   "cell_type": "code",
   "execution_count": 68,
   "metadata": {},
   "outputs": [],
   "source": [
    "def l2_dist(a, b):\n",
    "    result = ((a - b) * (a - b)).sum()\n",
    "    result = result ** 0.5\n",
    "    return result "
   ]
  },
  {
   "cell_type": "code",
   "execution_count": 4,
   "metadata": {},
   "outputs": [
    {
     "name": "stdout",
     "output_type": "stream",
     "text": [
      "5\n"
     ]
    }
   ],
   "source": [
    "import re\n",
    "s = 'ACAABAACAAAB'\n",
    "result = re.findall('A{1,2}', s)\n",
    "L = len(result)\n",
    "print(L)"
   ]
  },
  {
   "cell_type": "code",
   "execution_count": 16,
   "metadata": {},
   "outputs": [],
   "source": [
    "import numpy as np \n",
    "a = np.random.random((20,20))\n",
    "b = np.random.random((20,20))\n"
   ]
  },
  {
   "cell_type": "code",
   "execution_count": 69,
   "metadata": {},
   "outputs": [
    {
     "data": {
      "text/plain": [
       "8.216660037426713"
      ]
     },
     "execution_count": 69,
     "metadata": {},
     "output_type": "execute_result"
    }
   ],
   "source": [
    "l2_dist(np.reshape(a, (20 * 20)), np.reshape(b, (20 * 20)))"
   ]
  },
  {
   "cell_type": "code",
   "execution_count": 18,
   "metadata": {},
   "outputs": [
    {
     "name": "stdout",
     "output_type": "stream",
     "text": [
      "[[0.03315466 0.19870333 0.46452957 0.0600994  0.573972   0.86304673\n",
      "  0.46254299 0.06765874 0.41339295 0.27600344 0.70723316 0.41808555\n",
      "  0.14709391 0.36546909 0.6377183  0.73158335 0.8405008  0.99709218\n",
      "  0.55888841 0.21118734]\n",
      " [0.34845005 0.1071817  0.93816612 0.12170335 0.32433386 0.95544809\n",
      "  0.2383106  0.77452398 0.87443797 0.63419995 0.4851143  0.35533591\n",
      "  0.40360429 0.21693338 0.03606072 0.52406399 0.57445738 0.52745937\n",
      "  0.71625206 0.39531623]\n",
      " [0.53533395 0.1286429  0.73372255 0.41860589 0.90940704 0.90825232\n",
      "  0.97703433 0.72359087 0.41571014 0.49160981 0.32720152 0.75780772\n",
      "  0.36635284 0.61391629 0.47353278 0.87977357 0.78955144 0.96996284\n",
      "  0.26432755 0.00664021]\n",
      " [0.58720313 0.10642069 0.71676638 0.46182186 0.25889818 0.42003421\n",
      "  0.32257837 0.60594369 0.10365779 0.01190958 0.79861198 0.07096937\n",
      "  0.47279138 0.92644451 0.01354482 0.25075236 0.13522278 0.19080673\n",
      "  0.57312211 0.59246775]\n",
      " [0.09272566 0.47739598 0.08211623 0.88046451 0.63703298 0.71162042\n",
      "  0.29947542 0.34404736 0.81386461 0.12696704 0.20005457 0.32563664\n",
      "  0.93248322 0.51513315 0.42834017 0.07486728 0.7890135  0.9236538\n",
      "  0.07278664 0.80971844]\n",
      " [0.04714221 0.47286936 0.77698754 0.68907459 0.78791924 0.53842518\n",
      "  0.91996185 0.24946107 0.56953101 0.98064184 0.12144926 0.27482234\n",
      "  0.76475613 0.385763   0.51685353 0.82100547 0.99816475 0.63875191\n",
      "  0.43589855 0.04667522]\n",
      " [0.67396679 0.67275298 0.93984187 0.50307011 0.45851314 0.87842561\n",
      "  0.83368942 0.02079706 0.79308993 0.2412822  0.74526639 0.15432237\n",
      "  0.67756122 0.35286555 0.84996679 0.43879161 0.10039069 0.32546126\n",
      "  0.93293804 0.40830149]\n",
      " [0.85235037 0.32760261 0.81335873 0.97448145 0.12684539 0.42701653\n",
      "  0.66939532 0.75053967 0.00105506 0.85085214 0.84638921 0.40659551\n",
      "  0.80950553 0.78982394 0.06261438 0.26733093 0.0169194  0.42801546\n",
      "  0.08609446 0.80935621]\n",
      " [0.31827822 0.61985535 0.2505158  0.15683971 0.51690946 0.02046539\n",
      "  0.67263117 0.07918515 0.71226369 0.0391089  0.72679161 0.29884397\n",
      "  0.46597276 0.5343996  0.6362809  0.3609192  0.25569485 0.04264766\n",
      "  0.46873125 0.80762623]\n",
      " [0.14454406 0.10389621 0.21572274 0.79762915 0.73310362 0.22832269\n",
      "  0.18542417 0.48768237 0.63239589 0.26844304 0.7734915  0.04528121\n",
      "  0.26849423 0.27200498 0.6033437  0.08672849 0.94947079 0.43307122\n",
      "  0.77606042 0.6931392 ]\n",
      " [0.09047358 0.65781232 0.05311666 0.47573003 0.65398206 0.00265182\n",
      "  0.24991992 0.56033759 0.74645811 0.63320963 0.44333429 0.08133203\n",
      "  0.40896321 0.83795167 0.02974908 0.48693279 0.58716926 0.94835697\n",
      "  0.8750064  0.26974501]\n",
      " [0.0420298  0.05068799 0.24710504 0.18303463 0.79282586 0.45008109\n",
      "  0.19161035 0.56469771 0.20849527 0.22410226 0.96900383 0.19566345\n",
      "  0.89336319 0.48671899 0.32703059 0.33201823 0.0618439  0.86990019\n",
      "  0.37706369 0.2873253 ]\n",
      " [0.26912084 0.84037657 0.33468081 0.019109   0.68559979 0.5770952\n",
      "  0.56331942 0.96223878 0.18117178 0.62940163 0.14221067 0.66142911\n",
      "  0.3757223  0.43889378 0.47498608 0.73223153 0.25417947 0.49161518\n",
      "  0.13514929 0.30149041]\n",
      " [0.73421643 0.8639659  0.61292107 0.9339142  0.05260988 0.40178106\n",
      "  0.67597467 0.05698173 0.79274175 0.06478671 0.5761963  0.6537318\n",
      "  0.62946295 0.69729691 0.01153995 0.69048998 0.41016374 0.83723626\n",
      "  0.29191585 0.58832663]\n",
      " [0.26710673 0.418249   0.44710198 0.37070654 0.43700073 0.41891972\n",
      "  0.21803397 0.44775861 0.86421455 0.27764772 0.72618489 0.30345761\n",
      "  0.42071188 0.4635299  0.46040864 0.06836005 0.06064073 0.03773571\n",
      "  0.56680684 0.9967666 ]\n",
      " [0.83719554 0.07689587 0.59999635 0.34379649 0.65643268 0.0729705\n",
      "  0.24238563 0.63982837 0.02556039 0.36366789 0.25066773 0.63778959\n",
      "  0.34042563 0.32900881 0.1159627  0.7300042  0.24721923 0.45404592\n",
      "  0.07752716 0.47741219]\n",
      " [0.60888446 0.9765785  0.12944573 0.44206266 0.46586869 0.23120637\n",
      "  0.32442601 0.36504497 0.64343575 0.69644057 0.6533632  0.62778876\n",
      "  0.30033001 0.71719329 0.01701579 0.51711369 0.01002806 0.48665604\n",
      "  0.56095278 0.25650724]\n",
      " [0.81633296 0.54565762 0.38828997 0.70839207 0.61832878 0.94367178\n",
      "  0.12120926 0.51970702 0.7699142  0.21797389 0.19327124 0.27828177\n",
      "  0.90709269 0.4298248  0.41271359 0.71818273 0.28091971 0.56347718\n",
      "  0.33245214 0.79542649]\n",
      " [0.58470811 0.92827595 0.62590459 0.41780714 0.90636306 0.80550892\n",
      "  0.00310888 0.96743586 0.13142261 0.25480206 0.85537202 0.75380534\n",
      "  0.09751918 0.93309936 0.5980376  0.42092126 0.77206814 0.22800035\n",
      "  0.41117371 0.46229482]\n",
      " [0.41192725 0.20251899 0.84230974 0.85982466 0.71914053 0.83116863\n",
      "  0.43103974 0.00977912 0.95415212 0.13513486 0.08424067 0.19276286\n",
      "  0.10095988 0.4542444  0.84290172 0.22948696 0.02377864 0.65103366\n",
      "  0.98786326 0.99579345]]\n"
     ]
    }
   ],
   "source": [
    "print(a)"
   ]
  },
  {
   "cell_type": "code",
   "execution_count": 19,
   "metadata": {},
   "outputs": [
    {
     "data": {
      "text/plain": [
       "8.216660037426713"
      ]
     },
     "execution_count": 19,
     "metadata": {},
     "output_type": "execute_result"
    }
   ],
   "source": [
    "l2_dist(a, b)"
   ]
  },
  {
   "cell_type": "code",
   "execution_count": 20,
   "metadata": {},
   "outputs": [
    {
     "data": {
      "text/plain": [
       "164.82603108065624"
      ]
     },
     "execution_count": 20,
     "metadata": {},
     "output_type": "execute_result"
    }
   ],
   "source": [
    "l2_dist(np.reshape(a, (20 * 20)), np.reshape(b, (20 * 20, 1)))"
   ]
  },
  {
   "cell_type": "code",
   "execution_count": 21,
   "metadata": {},
   "outputs": [
    {
     "data": {
      "text/plain": [
       "8.216660037426713"
      ]
     },
     "execution_count": 21,
     "metadata": {},
     "output_type": "execute_result"
    }
   ],
   "source": [
    "l2_dist(a.T, b.T)"
   ]
  },
  {
   "cell_type": "code",
   "execution_count": 22,
   "metadata": {},
   "outputs": [],
   "source": [
    "a1 = np.random.rand(4)\n",
    "a2 = np.random.rand(4, 1)\n",
    "a3 = np.array([[1, 2, 3, 4]])\n",
    "a4 = np.arange(1, 4, 1)\n",
    "a5 = np.linspace(1 ,4, 4)\n"
   ]
  },
  {
   "cell_type": "code",
   "execution_count": 36,
   "metadata": {},
   "outputs": [
    {
     "name": "stdout",
     "output_type": "stream",
     "text": [
      "[1. 2. 3. 4.]\n",
      "True\n"
     ]
    }
   ],
   "source": [
    "print(a5)\n",
    "#print(a3.shape == a4.shape)\n",
    "print(a5.shape == a1.shape)\n",
    "#a1.shape == a2.shape\n",
    "#a4.ndim() == 1"
   ]
  },
  {
   "cell_type": "code",
   "execution_count": 37,
   "metadata": {},
   "outputs": [
    {
     "name": "stdout",
     "output_type": "stream",
     "text": [
      "[[0 0 1]\n",
      " [1 1 1]]\n"
     ]
    }
   ],
   "source": [
    "import numpy as np\n",
    "\n",
    "old = np.array([[1, 1, 1], [1, 1, 1]])\n",
    "new = old\n",
    "new[0, :2] = 0\n",
    "\n",
    "print(old)"
   ]
  },
  {
   "cell_type": "code",
   "execution_count": 40,
   "metadata": {},
   "outputs": [
    {
     "name": "stdout",
     "output_type": "stream",
     "text": [
      "['A']\n",
      "['AC', 'AC']\n",
      "['BC']\n",
      "['AC']\n"
     ]
    }
   ],
   "source": [
    "import re \n",
    "s = 'ACBCAC'\n",
    "print(re.findall('^[AC]', s))\n",
    "print(re.findall('AC', s))\n",
    "print(re.findall('[^A]C', s))\n",
    "print(re.findall('^AC', s))\n"
   ]
  },
  {
   "cell_type": "code",
   "execution_count": 41,
   "metadata": {},
   "outputs": [
    {
     "name": "stdout",
     "output_type": "stream",
     "text": [
      "5\n",
      "['A', 'AA', 'AA', 'AA', 'A']\n"
     ]
    }
   ],
   "source": [
    "import re\n",
    "s = 'ACAABAACAAAB'\n",
    "result = re.findall('A{1,2}', s)\n",
    "L = len(result)\n",
    "print(L)\n",
    "print(result)"
   ]
  },
  {
   "cell_type": "code",
   "execution_count": 47,
   "metadata": {},
   "outputs": [
    {
     "name": "stdout",
     "output_type": "stream",
     "text": [
      "['(734) 647-6333', '(734) 647-8044', '(734) 763-2285']\n"
     ]
    }
   ],
   "source": [
    "s = 'Office of Research Administration: (734) 647-6333 | 4325 North Quad' + 'Office of Budget and Financial Administration: (734) 647-8044 | 309 Maynard, Suite 205' + 'Health Informatics Program: (734) 763-2285 | 333 Maynard, Suite 500'\n",
    "#result = re.findall('\\d{3}[-]\\d{3}[-]\\d{4}', s)\n",
    "#result = re.findall('\\d{3}\\s\\d{3}[-]\\d{4}', s)\n",
    "#result = re.findall('[(]\\d{3}[)]\\d{3}[-]\\d{4}', s)\n",
    "result = re.findall('[(]\\d{3}[)]\\s\\d{3}[-]\\d{4}', s)\n",
    "print(result)"
   ]
  },
  {
   "cell_type": "code",
   "execution_count": 59,
   "metadata": {},
   "outputs": [
    {
     "name": "stdout",
     "output_type": "stream",
     "text": [
      "['google.com', 'www.baidu.com']\n"
     ]
    }
   ],
   "source": [
    "s = 'I refer to https://google.com and I never refer http://www.baidu.com if I have to search anything'\n",
    "#result = re.findall('(?<=https:\\/\\/)([A-Za-z0-9]*)', s)\n",
    "result = re.findall('(?<=[https]:\\/\\/)([A-Za-z0-9.]*)', s)\n",
    "#result = re.findall('(?<=https:\\/\\/)([.]*)', s)\n",
    "#result = re.findall('(?<=https:\\/\\/)([A-Za-z0-9.]*)', s)\n",
    "print(result)"
   ]
  },
  {
   "cell_type": "code",
   "execution_count": 67,
   "metadata": {},
   "outputs": [
    {
     "name": "stdout",
     "output_type": "stream",
     "text": [
      "4\n"
     ]
    }
   ],
   "source": [
    "text=r'''Everyone has the following fundamental freedoms:\n",
    "    (a) freedom of conscience and religion;\n",
    "    (b) freedom of thought, belief, opinion and expression, including freedom of the press and other media of communication;\n",
    "    (c) freedom of peaceful assembly; and\n",
    "    (d) freedom of association.'''\n",
    "\n",
    "import re\n",
    "pattern = '\\(.\\)'\n",
    "print(len(re.findall(pattern,text)))"
   ]
  }
 ],
 "metadata": {
  "kernelspec": {
   "display_name": "Python 3",
   "language": "python",
   "name": "python3"
  },
  "language_info": {
   "codemirror_mode": {
    "name": "ipython",
    "version": 3
   },
   "file_extension": ".py",
   "mimetype": "text/x-python",
   "name": "python",
   "nbconvert_exporter": "python",
   "pygments_lexer": "ipython3",
   "version": "3.8.5"
  }
 },
 "nbformat": 4,
 "nbformat_minor": 4
}
