{
 "cells": [
  {
   "cell_type": "code",
   "execution_count": 42,
   "metadata": {
    "scrolled": true
   },
   "outputs": [],
   "source": [
    "#!pip install time_series_analysis\n",
    "#!pip install helper\n",
    "#! pip install dataframe_image\n",
    "#!! pip install dataframe_image"
   ]
  },
  {
   "cell_type": "code",
   "execution_count": 63,
   "metadata": {},
   "outputs": [],
   "source": [
    "# Python libraries\n",
    "import pandas as pd \n",
    "from fpdf import FPDF\n",
    "from datetime import datetime, timedelta, date\n",
    "import pandas as pd\n",
    "import numpy as np\n",
    "import datetime as dt\n",
    "import random\n",
    "import math\n",
    "import os\n",
    "import glob\n",
    "import matplotlib.pyplot as plt   # matplot is for python graphics\n",
    "import dataframe_image as dfi\n",
    "\n",
    "# Local libraries\n",
    "#from time_series_analysis import plot_states, plot_countries\n",
    "#from daily_counts import plot_daily_count_states, plot_daily_count_countries\n",
    "#from create_case_maps import plot_usa_case_map, plot_global_case_map\n",
    "# from helper import Mode\n",
    " "
   ]
  },
  {
   "cell_type": "code",
   "execution_count": 39,
   "metadata": {},
   "outputs": [],
   "source": [
    "# Define PDF settings \n",
    "path = 'C:/Users/josep/Documents/Kaleida/PDFS/' \n",
    "WIDTH = 210\n",
    "HEIGHT = 297"
   ]
  },
  {
   "cell_type": "code",
   "execution_count": 40,
   "metadata": {},
   "outputs": [],
   "source": [
    "pdf = FPDF();\n",
    "pdf.add_page();\n",
    "pdf.set_font('Arial','B',16);\n",
    "pdf.cell(40,10,'Hello Population Health Analyst');\n",
    "pdf.output(path + 'test.pdf','F');\n",
    " "
   ]
  },
  {
   "cell_type": "code",
   "execution_count": 43,
   "metadata": {},
   "outputs": [],
   "source": [
    "# Read in the CSV SQL output for NCQA HEDIS Quality Measures \n",
    "Path_to_Raw_Data = 'c:/Users/josep/Documents/Kaleida/HEDIS_Prv_ft/'\n",
    "Raw_Data_File_Name_1 = 'GPPC_PCP_Lancaster_Transit_org_prv_quality.xlsx'\n",
    "Attribution = \"C:/Users/josep/Documents/Kaleida/Attribution_Formated/GPPC_PCP_Lancaster_Transit.xlsx\"\n",
    "#Organizational_Quality = pd.read_excel(Path_to_Raw_Data + Raw_Data_File_Name_1)\n",
    "Org_Attrib = pd.read_excel(\"C:/Users/josep/Documents/Kaleida/Attribution_Formated/GPPC_PCP_Lancaster_Transit.xlsx\")"
   ]
  },
  {
   "cell_type": "code",
   "execution_count": 74,
   "metadata": {},
   "outputs": [
    {
     "data": {
      "text/plain": [
       "Index(['Provider  Name', 'Patient  Name', 'Birth  Date', 'Age', 'Gender',\n",
       "       'Phone', 'Is Patient cared for by Organization (Y/N) ?',\n",
       "       'Is Patient attributed to correct PCP (Y/N) ?', 'Optional Comments',\n",
       "       'Deceased', 'Deceased  Date', 'Flagged for Test (Y/N)',\n",
       "       'Organization  Class', 'Organization  Name', 'Plan  Name',\n",
       "       'Payer  Name', 'Age  Years', 'Is Patient info Correct? (Y/N)', 'age'],\n",
       "      dtype='object')"
      ]
     },
     "execution_count": 74,
     "metadata": {},
     "output_type": "execute_result"
    }
   ],
   "source": [
    "Org_Attrib.columns"
   ]
  },
  {
   "cell_type": "code",
   "execution_count": 53,
   "metadata": {},
   "outputs": [
    {
     "data": {
      "text/html": [
       "<div>\n",
       "<style scoped>\n",
       "    .dataframe tbody tr th:only-of-type {\n",
       "        vertical-align: middle;\n",
       "    }\n",
       "\n",
       "    .dataframe tbody tr th {\n",
       "        vertical-align: top;\n",
       "    }\n",
       "\n",
       "    .dataframe thead th {\n",
       "        text-align: right;\n",
       "    }\n",
       "</style>\n",
       "<table border=\"1\" class=\"dataframe\">\n",
       "  <thead>\n",
       "    <tr style=\"text-align: right;\">\n",
       "      <th></th>\n",
       "      <th>Provider  Name</th>\n",
       "      <th>Patient  Name</th>\n",
       "      <th>Birth  Date</th>\n",
       "      <th>Age</th>\n",
       "      <th>Gender</th>\n",
       "      <th>Phone</th>\n",
       "      <th>Is Patient cared for by Organization (Y/N) ?</th>\n",
       "      <th>Is Patient attributed to correct PCP (Y/N) ?</th>\n",
       "      <th>Optional Comments</th>\n",
       "      <th>Deceased</th>\n",
       "      <th>Deceased  Date</th>\n",
       "      <th>Flagged for Test (Y/N)</th>\n",
       "      <th>Organization  Class</th>\n",
       "      <th>Organization  Name</th>\n",
       "      <th>Plan  Name</th>\n",
       "      <th>Payer  Name</th>\n",
       "      <th>Age  Years</th>\n",
       "      <th>Is Patient info Correct? (Y/N)</th>\n",
       "    </tr>\n",
       "  </thead>\n",
       "  <tbody>\n",
       "    <tr>\n",
       "      <th>0</th>\n",
       "      <td>Cleary, Kevin</td>\n",
       "      <td>Abedin, Khaleda</td>\n",
       "      <td>1985-09-28</td>\n",
       "      <td>36 Years 271 Days</td>\n",
       "      <td>Female</td>\n",
       "      <td>951-231-7365</td>\n",
       "      <td></td>\n",
       "      <td></td>\n",
       "      <td></td>\n",
       "      <td>0.0</td>\n",
       "      <td>NaN</td>\n",
       "      <td>N</td>\n",
       "      <td>General Physician PC</td>\n",
       "      <td>GPPC PCP Lancaster Transit</td>\n",
       "      <td>FIDELIS CARE</td>\n",
       "      <td>Fidelis</td>\n",
       "      <td>36</td>\n",
       "      <td></td>\n",
       "    </tr>\n",
       "    <tr>\n",
       "      <th>1</th>\n",
       "      <td>Cleary, Kevin</td>\n",
       "      <td>Abrams, Sharon L</td>\n",
       "      <td>1948-06-22</td>\n",
       "      <td>73 Years 174 Days</td>\n",
       "      <td>Female</td>\n",
       "      <td>716-656-8940</td>\n",
       "      <td></td>\n",
       "      <td></td>\n",
       "      <td></td>\n",
       "      <td>0.0</td>\n",
       "      <td>NaN</td>\n",
       "      <td>N</td>\n",
       "      <td>General Physician PC</td>\n",
       "      <td>GPPC PCP Lancaster Transit</td>\n",
       "      <td>Univera Medicare</td>\n",
       "      <td>Univera</td>\n",
       "      <td>73</td>\n",
       "      <td></td>\n",
       "    </tr>\n",
       "    <tr>\n",
       "      <th>2</th>\n",
       "      <td>Cleary, Kevin</td>\n",
       "      <td>Adams, Mark</td>\n",
       "      <td>1958-08-07</td>\n",
       "      <td>63 Years 219 Days</td>\n",
       "      <td>Male</td>\n",
       "      <td>716-440-3501</td>\n",
       "      <td></td>\n",
       "      <td></td>\n",
       "      <td></td>\n",
       "      <td>0.0</td>\n",
       "      <td>NaN</td>\n",
       "      <td>N</td>\n",
       "      <td>General Physician PC</td>\n",
       "      <td>GPPC PCP Lancaster Transit</td>\n",
       "      <td>Pharmacy</td>\n",
       "      <td>COMMUNITY BLUE</td>\n",
       "      <td>63</td>\n",
       "      <td></td>\n",
       "    </tr>\n",
       "    <tr>\n",
       "      <th>3</th>\n",
       "      <td>Cleary, Kevin</td>\n",
       "      <td>Adamski, Sue Ann L</td>\n",
       "      <td>1965-06-11</td>\n",
       "      <td>56 Years 162 Days</td>\n",
       "      <td>Female</td>\n",
       "      <td>716-941-1523</td>\n",
       "      <td></td>\n",
       "      <td></td>\n",
       "      <td></td>\n",
       "      <td>0.0</td>\n",
       "      <td>NaN</td>\n",
       "      <td>N</td>\n",
       "      <td>General Physician PC</td>\n",
       "      <td>GPPC PCP Lancaster Transit</td>\n",
       "      <td>Univera Commercial</td>\n",
       "      <td>Univera</td>\n",
       "      <td>56</td>\n",
       "      <td></td>\n",
       "    </tr>\n",
       "    <tr>\n",
       "      <th>4</th>\n",
       "      <td>Cleary, Kevin</td>\n",
       "      <td>Adduci, Patricia A</td>\n",
       "      <td>1946-09-12</td>\n",
       "      <td>75 Years 255 Days</td>\n",
       "      <td>Female</td>\n",
       "      <td>716-560-1463</td>\n",
       "      <td></td>\n",
       "      <td></td>\n",
       "      <td></td>\n",
       "      <td>0.0</td>\n",
       "      <td>NaN</td>\n",
       "      <td>N</td>\n",
       "      <td>General Physician PC</td>\n",
       "      <td>GPPC PCP Lancaster Transit</td>\n",
       "      <td>SENIOR BLUE</td>\n",
       "      <td>SENIOR BLUE</td>\n",
       "      <td>75</td>\n",
       "      <td></td>\n",
       "    </tr>\n",
       "  </tbody>\n",
       "</table>\n",
       "</div>"
      ],
      "text/plain": [
       "  Provider  Name       Patient  Name Birth  Date                 Age  Gender  \\\n",
       "0  Cleary, Kevin    Abedin, Khaleda   1985-09-28  36 Years 271 Days   Female   \n",
       "1  Cleary, Kevin    Abrams, Sharon L  1948-06-22  73 Years 174 Days   Female   \n",
       "2  Cleary, Kevin        Adams, Mark   1958-08-07  63 Years 219 Days     Male   \n",
       "3  Cleary, Kevin  Adamski, Sue Ann L  1965-06-11  56 Years 162 Days   Female   \n",
       "4  Cleary, Kevin  Adduci, Patricia A  1946-09-12  75 Years 255 Days   Female   \n",
       "\n",
       "           Phone Is Patient cared for by Organization (Y/N) ?  \\\n",
       "0   951-231-7365                                                \n",
       "1   716-656-8940                                                \n",
       "2   716-440-3501                                                \n",
       "3   716-941-1523                                                \n",
       "4   716-560-1463                                                \n",
       "\n",
       "  Is Patient attributed to correct PCP (Y/N) ? Optional Comments  Deceased  \\\n",
       "0                                                                      0.0   \n",
       "1                                                                      0.0   \n",
       "2                                                                      0.0   \n",
       "3                                                                      0.0   \n",
       "4                                                                      0.0   \n",
       "\n",
       "  Deceased  Date Flagged for Test (Y/N)   Organization  Class  \\\n",
       "0            NaN                      N  General Physician PC   \n",
       "1            NaN                      N  General Physician PC   \n",
       "2            NaN                      N  General Physician PC   \n",
       "3            NaN                      N  General Physician PC   \n",
       "4            NaN                      N  General Physician PC   \n",
       "\n",
       "           Organization  Name          Plan  Name     Payer  Name  Age  Years  \\\n",
       "0  GPPC PCP Lancaster Transit        FIDELIS CARE         Fidelis          36   \n",
       "1  GPPC PCP Lancaster Transit    Univera Medicare         Univera          73   \n",
       "2  GPPC PCP Lancaster Transit            Pharmacy  COMMUNITY BLUE          63   \n",
       "3  GPPC PCP Lancaster Transit  Univera Commercial         Univera          56   \n",
       "4  GPPC PCP Lancaster Transit         SENIOR BLUE     SENIOR BLUE          75   \n",
       "\n",
       "  Is Patient info Correct? (Y/N)  \n",
       "0                                 \n",
       "1                                 \n",
       "2                                 \n",
       "3                                 \n",
       "4                                 "
      ]
     },
     "execution_count": 53,
     "metadata": {},
     "output_type": "execute_result"
    }
   ],
   "source": [
    "Org_Attrib.head()"
   ]
  },
  {
   "cell_type": "code",
   "execution_count": 67,
   "metadata": {},
   "outputs": [
    {
     "data": {
      "text/plain": [
       "<AxesSubplot:>"
      ]
     },
     "execution_count": 67,
     "metadata": {},
     "output_type": "execute_result"
    },
    {
     "data": {
      "image/png": "[encoded data removed]",
      "text/plain": [
       "<Figure size 432x288 with 1 Axes>"
      ]
     },
     "metadata": {
      "needs_background": "light"
     },
     "output_type": "display_data"
    }
   ],
   "source": [
    "Org_Attrib['Gender'].value_counts().plot.bar(color=['blue','pink'])\n",
    "#Saving the plot as an image\n"
   ]
  },
  {
   "cell_type": "code",
   "execution_count": 68,
   "metadata": {},
   "outputs": [
    {
     "data": {
      "text/plain": [
       "<AxesSubplot:>"
      ]
     },
     "execution_count": 68,
     "metadata": {},
     "output_type": "execute_result"
    },
    {
     "data": {
      "image/png": "[encoded data removed]",
      "text/plain": [
       "<Figure size 432x288 with 1 Axes>"
      ]
     },
     "metadata": {
      "needs_background": "light"
     },
     "output_type": "display_data"
    }
   ],
   "source": [
    "Org_Attrib['Gender'].value_counts().plot.barh(color=['blue','pink'])"
   ]
  },
  {
   "cell_type": "code",
   "execution_count": 69,
   "metadata": {},
   "outputs": [
    {
     "data": {
      "text/plain": [
       "<AxesSubplot:>"
      ]
     },
     "execution_count": 69,
     "metadata": {},
     "output_type": "execute_result"
    },
    {
     "data": {
      "image/png": "[encoded data removed]",
      "text/plain": [
       "<Figure size 432x288 with 1 Axes>"
      ]
     },
     "metadata": {
      "needs_background": "light"
     },
     "output_type": "display_data"
    }
   ],
   "source": [
    "Org_Attrib['Age  Years'].value_counts().plot.barh(color=['blue','pink','yellow','red', 'green'])"
   ]
  },
  {
   "cell_type": "code",
   "execution_count": 72,
   "metadata": {},
   "outputs": [
    {
     "ename": "AttributeError",
     "evalue": "'DataFrameGroupBy' object has no attribute 'Age__Years'",
     "output_type": "error",
     "traceback": [
      "\u001b[1;31m---------------------------------------------------------------------------\u001b[0m",
      "\u001b[1;31mAttributeError\u001b[0m                            Traceback (most recent call last)",
      "\u001b[1;32m<ipython-input-72-b83d7075b1fb>\u001b[0m in \u001b[0;36m<module>\u001b[1;34m\u001b[0m\n\u001b[1;32m----> 1\u001b[1;33m \u001b[0mOrg_Attrib\u001b[0m\u001b[1;33m.\u001b[0m\u001b[0mgroupby\u001b[0m\u001b[1;33m(\u001b[0m\u001b[1;34m'Gender'\u001b[0m\u001b[1;33m)\u001b[0m\u001b[1;33m.\u001b[0m\u001b[0mAge__Years\u001b[0m\u001b[1;33m.\u001b[0m\u001b[0mplot\u001b[0m\u001b[1;33m(\u001b[0m\u001b[0mkind\u001b[0m\u001b[1;33m=\u001b[0m\u001b[1;34m'kde'\u001b[0m\u001b[1;33m)\u001b[0m\u001b[1;33m\u001b[0m\u001b[1;33m\u001b[0m\u001b[0m\n\u001b[0m",
      "\u001b[1;32m~\\anaconda3\\lib\\site-packages\\pandas\\core\\groupby\\groupby.py\u001b[0m in \u001b[0;36m__getattr__\u001b[1;34m(self, attr)\u001b[0m\n\u001b[0;32m    701\u001b[0m             \u001b[1;32mreturn\u001b[0m \u001b[0mself\u001b[0m\u001b[1;33m[\u001b[0m\u001b[0mattr\u001b[0m\u001b[1;33m]\u001b[0m\u001b[1;33m\u001b[0m\u001b[1;33m\u001b[0m\u001b[0m\n\u001b[0;32m    702\u001b[0m \u001b[1;33m\u001b[0m\u001b[0m\n\u001b[1;32m--> 703\u001b[1;33m         raise AttributeError(\n\u001b[0m\u001b[0;32m    704\u001b[0m             \u001b[1;34mf\"'{type(self).__name__}' object has no attribute '{attr}'\"\u001b[0m\u001b[1;33m\u001b[0m\u001b[1;33m\u001b[0m\u001b[0m\n\u001b[0;32m    705\u001b[0m         )\n",
      "\u001b[1;31mAttributeError\u001b[0m: 'DataFrameGroupBy' object has no attribute 'Age__Years'"
     ]
    }
   ],
   "source": [
    "Org_Attrib.groupby('Gender').Age__Years.plot(kind='kde')\n",
    "\n",
    "Org_Attrib"
   ]
  },
  {
   "cell_type": "code",
   "execution_count": 73,
   "metadata": {},
   "outputs": [],
   "source": [
    "Org_Attrib['age'] = Org_Attrib['Age  Years']\n",
    "\n",
    "#df1.groupby('sex').age.plot(kind='kde')"
   ]
  },
  {
   "cell_type": "code",
   "execution_count": 75,
   "metadata": {},
   "outputs": [
    {
     "data": {
      "text/plain": [
       "Gender\n",
       "Female    AxesSubplot(0.125,0.125;0.775x0.755)\n",
       "Male      AxesSubplot(0.125,0.125;0.775x0.755)\n",
       "Name: age, dtype: object"
      ]
     },
     "execution_count": 75,
     "metadata": {},
     "output_type": "execute_result"
    },
    {
     "data": {
      "image/png": "[encoded data removed]",
      "text/plain": [
       "<Figure size 432x288 with 1 Axes>"
      ]
     },
     "metadata": {
      "needs_background": "light"
     },
     "output_type": "display_data"
    }
   ],
   "source": [
    "Org_Attrib.groupby('Gender').age.plot(kind='kde')"
   ]
  },
  {
   "cell_type": "code",
   "execution_count": null,
   "metadata": {},
   "outputs": [],
   "source": [
    " "
   ]
  },
  {
   "cell_type": "code",
   "execution_count": 59,
   "metadata": {},
   "outputs": [
    {
     "ename": "AttributeError",
     "evalue": "'AxesSubplot' object has no attribute 'savefig'",
     "output_type": "error",
     "traceback": [
      "\u001b[1;31m---------------------------------------------------------------------------\u001b[0m",
      "\u001b[1;31mAttributeError\u001b[0m                            Traceback (most recent call last)",
      "\u001b[1;32m<ipython-input-59-79c27a313e1e>\u001b[0m in \u001b[0;36m<module>\u001b[1;34m\u001b[0m\n\u001b[0;32m      2\u001b[0m \u001b[0mfig\u001b[0m \u001b[1;33m=\u001b[0m \u001b[0mOrg_Attrib\u001b[0m\u001b[1;33m[\u001b[0m\u001b[1;34m'Gender'\u001b[0m\u001b[1;33m]\u001b[0m\u001b[1;33m.\u001b[0m\u001b[0mvalue_counts\u001b[0m\u001b[1;33m(\u001b[0m\u001b[1;33m)\u001b[0m\u001b[1;33m.\u001b[0m\u001b[0mplot\u001b[0m\u001b[1;33m.\u001b[0m\u001b[0mbar\u001b[0m\u001b[1;33m(\u001b[0m\u001b[0mcolor\u001b[0m\u001b[1;33m=\u001b[0m\u001b[1;33m[\u001b[0m\u001b[1;34m'blue'\u001b[0m\u001b[1;33m,\u001b[0m\u001b[1;34m'pink'\u001b[0m\u001b[1;33m]\u001b[0m\u001b[1;33m)\u001b[0m\u001b[1;33m\u001b[0m\u001b[1;33m\u001b[0m\u001b[0m\n\u001b[0;32m      3\u001b[0m \u001b[1;31m#Saving the plot as an image\u001b[0m\u001b[1;33m\u001b[0m\u001b[1;33m\u001b[0m\u001b[1;33m\u001b[0m\u001b[0m\n\u001b[1;32m----> 4\u001b[1;33m \u001b[0mfig\u001b[0m\u001b[1;33m.\u001b[0m\u001b[0msavefig\u001b[0m\u001b[1;33m(\u001b[0m\u001b[1;34m'C:/Users/josep/Documents/Kaleida/PDFS/Gender_Bar_Plot.jpg'\u001b[0m\u001b[1;33m,\u001b[0m \u001b[0mbbox_inches\u001b[0m\u001b[1;33m=\u001b[0m\u001b[1;34m'tight'\u001b[0m\u001b[1;33m,\u001b[0m \u001b[0mdpi\u001b[0m\u001b[1;33m=\u001b[0m\u001b[1;36m150\u001b[0m\u001b[1;33m)\u001b[0m\u001b[1;33m\u001b[0m\u001b[1;33m\u001b[0m\u001b[0m\n\u001b[0m\u001b[0;32m      5\u001b[0m \u001b[0mfig\u001b[0m\u001b[1;33m.\u001b[0m\u001b[0mshow\u001b[0m\u001b[1;33m(\u001b[0m\u001b[1;33m)\u001b[0m\u001b[1;33m\u001b[0m\u001b[1;33m\u001b[0m\u001b[0m\n\u001b[0;32m      6\u001b[0m \u001b[1;33m\u001b[0m\u001b[0m\n",
      "\u001b[1;31mAttributeError\u001b[0m: 'AxesSubplot' object has no attribute 'savefig'"
     ]
    },
    {
     "data": {
      "image/png": "[encoded data removed]",
      "text/plain": [
       "<Figure size 720x360 with 1 Axes>"
      ]
     },
     "metadata": {
      "needs_background": "light"
     },
     "output_type": "display_data"
    }
   ],
   "source": [
    "fig = plt.figure(figsize=(10,5))\n",
    "fig = Org_Attrib['Gender'].value_counts().plot.bar(color=['blue','pink'])\n",
    "#Saving the plot as an image\n",
    "fig.savefig('C:/Users/josep/Documents/Kaleida/PDFS/Gender_Bar_Plot.jpg', bbox_inches='tight', dpi=150) \n",
    "fig.show()\n",
    "\n",
    " "
   ]
  },
  {
   "cell_type": "code",
   "execution_count": null,
   "metadata": {},
   "outputs": [],
   "source": [
    "# Draw a vertical bar chart\n",
    "Org_Attrib.plot.bar(x=\"Gender\", y=\"Visits\", rot=70, title=\"Number of tourist visits - Year 2018\");\n",
    "plot.show(block=True);"
   ]
  },
  {
   "cell_type": "code",
   "execution_count": 55,
   "metadata": {},
   "outputs": [
    {
     "data": {
      "text/plain": [
       "<AxesSubplot:ylabel='Frequency'>"
      ]
     },
     "execution_count": 55,
     "metadata": {},
     "output_type": "execute_result"
    },
    {
     "data": {
      "image/png": "[encoded data removed]",
      "text/plain": [
       "<Figure size 432x288 with 1 Axes>"
      ]
     },
     "metadata": {
      "needs_background": "light"
     },
     "output_type": "display_data"
    }
   ],
   "source": [
    "Org_Attrib.groupby('Gender').size().plot.hist()\n",
    "Org_Attrib['Gender'].value_counts().plot.hist()"
   ]
  },
  {
   "cell_type": "code",
   "execution_count": null,
   "metadata": {},
   "outputs": [],
   "source": [
    "import dataframe_image as dfi\n",
    " \n",
    "df = pd.DataFrame({'A': [1,2,3,4],\n",
    "                   'B':['A','B','C','D']})\n",
    " \n",
    "dfi.export(df, 'dataframe.png')"
   ]
  },
  {
   "cell_type": "code",
   "execution_count": null,
   "metadata": {},
   "outputs": [],
   "source": []
  },
  {
   "cell_type": "code",
   "execution_count": 12,
   "metadata": {},
   "outputs": [
    {
     "ename": "ImportError",
     "evalue": "cannot import name 'plot_states' from 'time_series_analysis' (C:\\Users\\josep\\anaconda3\\lib\\site-packages\\time_series_analysis\\__init__.py)",
     "output_type": "error",
     "traceback": [
      "\u001b[1;31m---------------------------------------------------------------------------\u001b[0m",
      "\u001b[1;31mImportError\u001b[0m                               Traceback (most recent call last)",
      "\u001b[1;32m<ipython-input-12-51c6d2902c21>\u001b[0m in \u001b[0;36m<module>\u001b[1;34m\u001b[0m\n\u001b[0;32m      4\u001b[0m \u001b[1;33m\u001b[0m\u001b[0m\n\u001b[0;32m      5\u001b[0m \u001b[1;31m# Local libraries\u001b[0m\u001b[1;33m\u001b[0m\u001b[1;33m\u001b[0m\u001b[1;33m\u001b[0m\u001b[0m\n\u001b[1;32m----> 6\u001b[1;33m \u001b[1;32mfrom\u001b[0m \u001b[0mtime_series_analysis\u001b[0m \u001b[1;32mimport\u001b[0m \u001b[0mplot_states\u001b[0m\u001b[1;33m,\u001b[0m \u001b[0mplot_countries\u001b[0m\u001b[1;33m\u001b[0m\u001b[1;33m\u001b[0m\u001b[0m\n\u001b[0m\u001b[0;32m      7\u001b[0m \u001b[1;32mfrom\u001b[0m \u001b[0mdaily_counts\u001b[0m \u001b[1;32mimport\u001b[0m \u001b[0mplot_daily_count_states\u001b[0m\u001b[1;33m,\u001b[0m \u001b[0mplot_daily_count_countries\u001b[0m\u001b[1;33m\u001b[0m\u001b[1;33m\u001b[0m\u001b[0m\n\u001b[0;32m      8\u001b[0m \u001b[1;32mfrom\u001b[0m \u001b[0mcreate_case_maps\u001b[0m \u001b[1;32mimport\u001b[0m \u001b[0mplot_usa_case_map\u001b[0m\u001b[1;33m,\u001b[0m \u001b[0mplot_global_case_map\u001b[0m\u001b[1;33m\u001b[0m\u001b[1;33m\u001b[0m\u001b[0m\n",
      "\u001b[1;31mImportError\u001b[0m: cannot import name 'plot_states' from 'time_series_analysis' (C:\\Users\\josep\\anaconda3\\lib\\site-packages\\time_series_analysis\\__init__.py)"
     ]
    }
   ],
   "source": [
    "# Local libraries\n",
    "from time_series_analysis import plot_states, plot_countries\n",
    "from daily_counts import plot_daily_count_states, plot_daily_count_countries\n",
    "from create_case_maps import plot_usa_case_map, plot_global_case_map\n",
    "from helper import Mode\n",
    "\n",
    "WIDTH = 210\n",
    "HEIGHT = 297\n",
    "\n",
    "TEST_DATE = \"10/20/20\"\n",
    "\n",
    "def create_title(day, pdf):\n",
    "  # Unicode is not yet supported in the py3k version; use windows-1252 standard font\n",
    "  pdf.set_font('Arial', '', 24)  \n",
    "  pdf.ln(60)\n",
    "  pdf.write(5, f\"Covid Analytics Report\")\n",
    "  pdf.ln(10)\n",
    "  pdf.set_font('Arial', '', 16)\n",
    "  pdf.write(4, f'{day}')\n",
    "  pdf.ln(5)\n",
    "\n",
    "def create_analytics_report(day=TEST_DATE, filename=\"report.pdf\"):\n",
    "  pdf = FPDF() # A4 (210 by 297 mm)\n",
    "\n",
    "  states = ['Massachusetts', 'New Hampshire']\n",
    "\n",
    "  ''' First Page '''\n",
    "  pdf.add_page()\n",
    "  pdf.image(\"./resources/letterhead_cropped.png\", 0, 0, WIDTH)\n",
    "  create_title(day, pdf)\n",
    "\n",
    "  plot_usa_case_map(\"./tmp/usa_cases.png\", day=day)\n",
    "  prev_days = 250\n",
    "  plot_states(states, days=prev_days, filename=\"./tmp/cases.png\", end_date=day)\n",
    "  plot_states(states, days=prev_days, mode=Mode.DEATHS, filename=\"./tmp/deaths.png\", end_date=day)\n",
    "\n",
    "  pdf.image(\"./tmp/usa_cases.png\", 5, 90, WIDTH-20)\n",
    "  pdf.image(\"./tmp/cases.png\", 5, 200, WIDTH/2-10)\n",
    "  pdf.image(\"./tmp/deaths.png\", WIDTH/2, 200, WIDTH/2-10)\n",
    "\n",
    "  ''' Second Page '''\n",
    "  pdf.add_page()\n",
    "\n",
    "  plot_daily_count_states(states, day=day, filename=\"./tmp/cases_day.png\")\n",
    "  plot_daily_count_states(states, day=day, mode=Mode.DEATHS, filename=\"./tmp/deaths_day.png\")\n",
    "  pdf.image(\"./tmp/cases_day.png\", 5, 20, WIDTH/2-10)\n",
    "  pdf.image(\"./tmp/deaths_day.png\", WIDTH/2, 20, WIDTH/2-10)\n",
    "\n",
    "  prev_days = 7\n",
    "  plot_states(states, days=prev_days, filename=\"./tmp/cases2.png\", end_date=day)\n",
    "  plot_states(states, days=prev_days, mode=Mode.DEATHS, filename=\"./tmp/deaths2.png\", end_date=day)\n",
    "  pdf.image(\"./tmp/cases2.png\", 5, 110, WIDTH/2-10)\n",
    "  pdf.image(\"./tmp/deaths2.png\", WIDTH/2, 110, WIDTH/2-10)\n",
    "\n",
    "  prev_days = 30\n",
    "  plot_states(states, days=prev_days, filename=\"./tmp/cases3.png\", end_date=day)\n",
    "  plot_states(states, days=prev_days, mode=Mode.DEATHS, filename=\"./tmp/deaths3.png\", end_date=day)\n",
    "  pdf.image(\"./tmp/cases3.png\", 5, 200, WIDTH/2-10)\n",
    "  pdf.image(\"./tmp/deaths3.png\", WIDTH/2, 200, WIDTH/2-10)\n",
    "\n",
    "  ''' Third Page '''\n",
    "  pdf.add_page()\n",
    "\n",
    "  plot_global_case_map(\"./tmp/global_cases.png\", day=day)\n",
    "\n",
    "  countries = ['US', 'India', 'Brazil']\n",
    "  prev_days = 7\n",
    "  plot_countries(countries, days=prev_days, filename=\"./tmp/cases4.png\", end_date=day)\n",
    "  plot_countries(countries, days=prev_days, mode=Mode.DEATHS, filename=\"./tmp/deaths4.png\", end_date=day)\n",
    "\n",
    "  pdf.image(\"./tmp/global_cases.png\", 5, 20, WIDTH-20)\n",
    "  pdf.image(\"./tmp/cases4.png\", 5, 130, WIDTH/2-10)\n",
    "  pdf.image(\"./tmp/deaths4.png\", WIDTH/2, 130, WIDTH/2-10)\n",
    "\n",
    "  pdf.output(filename, 'F')\n",
    "\n",
    "\n",
    "if __name__ == '__main__':\n",
    "  yesterday = (datetime.today() - timedelta(days=1)).strftime(\"%m/%d/%y\").replace(\"/0\",\"/\").lstrip(\"0\")\n",
    "  yesterday = \"10/10/20\" # Uncomment line for testing\n",
    "  \n",
    "  create_analytics_report(yesterday)"
   ]
  },
  {
   "cell_type": "code",
   "execution_count": 9,
   "metadata": {},
   "outputs": [
    {
     "ename": "ModuleNotFoundError",
     "evalue": "No module named 'grp'",
     "output_type": "error",
     "traceback": [
      "\u001b[1;31m---------------------------------------------------------------------------\u001b[0m",
      "\u001b[1;31mModuleNotFoundError\u001b[0m                       Traceback (most recent call last)",
      "\u001b[1;32m<ipython-input-9-275a92cae353>\u001b[0m in \u001b[0;36m<module>\u001b[1;34m\u001b[0m\n\u001b[0;32m      5\u001b[0m \u001b[1;33m\u001b[0m\u001b[0m\n\u001b[0;32m      6\u001b[0m \u001b[1;31m# Local files\u001b[0m\u001b[1;33m\u001b[0m\u001b[1;33m\u001b[0m\u001b[1;33m\u001b[0m\u001b[0m\n\u001b[1;32m----> 7\u001b[1;33m \u001b[1;32mfrom\u001b[0m \u001b[0mhelper\u001b[0m \u001b[1;32mimport\u001b[0m \u001b[0mMode\u001b[0m\u001b[1;33m,\u001b[0m \u001b[0mload_relevant_data\u001b[0m\u001b[1;33m\u001b[0m\u001b[1;33m\u001b[0m\u001b[0m\n\u001b[0m",
      "\u001b[1;32m~\\anaconda3\\lib\\site-packages\\helper\\__init__.py\u001b[0m in \u001b[0;36m<module>\u001b[1;34m\u001b[0m\n\u001b[0;32m    132\u001b[0m \u001b[1;32mimport\u001b[0m \u001b[0msys\u001b[0m\u001b[1;33m\u001b[0m\u001b[1;33m\u001b[0m\u001b[0m\n\u001b[0;32m    133\u001b[0m \u001b[1;33m\u001b[0m\u001b[0m\n\u001b[1;32m--> 134\u001b[1;33m \u001b[1;32mfrom\u001b[0m \u001b[0mhelper\u001b[0m \u001b[1;32mimport\u001b[0m \u001b[0mparser\u001b[0m\u001b[1;33m,\u001b[0m \u001b[0munix\u001b[0m \u001b[1;32mas\u001b[0m \u001b[0mplatform\u001b[0m\u001b[1;33m\u001b[0m\u001b[1;33m\u001b[0m\u001b[0m\n\u001b[0m\u001b[0;32m    135\u001b[0m \u001b[1;33m\u001b[0m\u001b[0m\n\u001b[0;32m    136\u001b[0m \u001b[0m__version__\u001b[0m \u001b[1;33m=\u001b[0m \u001b[1;34m'2.5.0'\u001b[0m\u001b[1;33m\u001b[0m\u001b[1;33m\u001b[0m\u001b[0m\n",
      "\u001b[1;32m~\\anaconda3\\lib\\site-packages\\helper\\unix.py\u001b[0m in \u001b[0;36m<module>\u001b[1;34m\u001b[0m\n\u001b[0;32m      5\u001b[0m \u001b[1;32mimport\u001b[0m \u001b[0matexit\u001b[0m\u001b[1;33m\u001b[0m\u001b[1;33m\u001b[0m\u001b[0m\n\u001b[0;32m      6\u001b[0m \u001b[1;32mimport\u001b[0m \u001b[0mdatetime\u001b[0m\u001b[1;33m\u001b[0m\u001b[1;33m\u001b[0m\u001b[0m\n\u001b[1;32m----> 7\u001b[1;33m \u001b[1;32mimport\u001b[0m \u001b[0mgrp\u001b[0m\u001b[1;33m\u001b[0m\u001b[1;33m\u001b[0m\u001b[0m\n\u001b[0m\u001b[0;32m      8\u001b[0m \u001b[1;32mimport\u001b[0m \u001b[0mlogging\u001b[0m\u001b[1;33m\u001b[0m\u001b[1;33m\u001b[0m\u001b[0m\n\u001b[0;32m      9\u001b[0m \u001b[1;32mimport\u001b[0m \u001b[0mos\u001b[0m\u001b[1;33m\u001b[0m\u001b[1;33m\u001b[0m\u001b[0m\n",
      "\u001b[1;31mModuleNotFoundError\u001b[0m: No module named 'grp'"
     ]
    }
   ],
   "source": [
    "# Python Libraries\n",
    "import matplotlib.pyplot as plt\n",
    "import numpy as np\n",
    "import pandas as pd\n",
    "\n",
    "# Local files\n",
    "from helper import Mode, load_relevant_data"
   ]
  },
  {
   "cell_type": "code",
   "execution_count": 30,
   "metadata": {},
   "outputs": [
    {
     "ename": "ModuleNotFoundError",
     "evalue": "No module named 'grp'",
     "output_type": "error",
     "traceback": [
      "\u001b[1;31m---------------------------------------------------------------------------\u001b[0m",
      "\u001b[1;31mModuleNotFoundError\u001b[0m                       Traceback (most recent call last)",
      "\u001b[1;32m<ipython-input-30-97cc73c52fcd>\u001b[0m in \u001b[0;36m<module>\u001b[1;34m\u001b[0m\n\u001b[0;32m      5\u001b[0m \u001b[1;33m\u001b[0m\u001b[0m\n\u001b[0;32m      6\u001b[0m \u001b[1;31m# Local files\u001b[0m\u001b[1;33m\u001b[0m\u001b[1;33m\u001b[0m\u001b[1;33m\u001b[0m\u001b[0m\n\u001b[1;32m----> 7\u001b[1;33m \u001b[1;32mfrom\u001b[0m \u001b[0mhelper\u001b[0m \u001b[1;32mimport\u001b[0m \u001b[0mMode\u001b[0m\u001b[1;33m,\u001b[0m \u001b[0mload_relevant_data\u001b[0m\u001b[1;33m\u001b[0m\u001b[1;33m\u001b[0m\u001b[0m\n\u001b[0m\u001b[0;32m      8\u001b[0m \u001b[1;33m\u001b[0m\u001b[0m\n\u001b[0;32m      9\u001b[0m \u001b[0mTEST_DATE\u001b[0m \u001b[1;33m=\u001b[0m \u001b[1;34m\"10/20/20\"\u001b[0m\u001b[1;33m\u001b[0m\u001b[1;33m\u001b[0m\u001b[0m\n",
      "\u001b[1;32m~\\anaconda3\\lib\\site-packages\\helper\\__init__.py\u001b[0m in \u001b[0;36m<module>\u001b[1;34m\u001b[0m\n\u001b[0;32m    132\u001b[0m \u001b[1;32mimport\u001b[0m \u001b[0msys\u001b[0m\u001b[1;33m\u001b[0m\u001b[1;33m\u001b[0m\u001b[0m\n\u001b[0;32m    133\u001b[0m \u001b[1;33m\u001b[0m\u001b[0m\n\u001b[1;32m--> 134\u001b[1;33m \u001b[1;32mfrom\u001b[0m \u001b[0mhelper\u001b[0m \u001b[1;32mimport\u001b[0m \u001b[0mparser\u001b[0m\u001b[1;33m,\u001b[0m \u001b[0munix\u001b[0m \u001b[1;32mas\u001b[0m \u001b[0mplatform\u001b[0m\u001b[1;33m\u001b[0m\u001b[1;33m\u001b[0m\u001b[0m\n\u001b[0m\u001b[0;32m    135\u001b[0m \u001b[1;33m\u001b[0m\u001b[0m\n\u001b[0;32m    136\u001b[0m \u001b[0m__version__\u001b[0m \u001b[1;33m=\u001b[0m \u001b[1;34m'2.5.0'\u001b[0m\u001b[1;33m\u001b[0m\u001b[1;33m\u001b[0m\u001b[0m\n",
      "\u001b[1;32m~\\anaconda3\\lib\\site-packages\\helper\\unix.py\u001b[0m in \u001b[0;36m<module>\u001b[1;34m\u001b[0m\n\u001b[0;32m      5\u001b[0m \u001b[1;32mimport\u001b[0m \u001b[0matexit\u001b[0m\u001b[1;33m\u001b[0m\u001b[1;33m\u001b[0m\u001b[0m\n\u001b[0;32m      6\u001b[0m \u001b[1;32mimport\u001b[0m \u001b[0mdatetime\u001b[0m\u001b[1;33m\u001b[0m\u001b[1;33m\u001b[0m\u001b[0m\n\u001b[1;32m----> 7\u001b[1;33m \u001b[1;32mimport\u001b[0m \u001b[0mgrp\u001b[0m\u001b[1;33m\u001b[0m\u001b[1;33m\u001b[0m\u001b[0m\n\u001b[0m\u001b[0;32m      8\u001b[0m \u001b[1;32mimport\u001b[0m \u001b[0mlogging\u001b[0m\u001b[1;33m\u001b[0m\u001b[1;33m\u001b[0m\u001b[0m\n\u001b[0;32m      9\u001b[0m \u001b[1;32mimport\u001b[0m \u001b[0mos\u001b[0m\u001b[1;33m\u001b[0m\u001b[1;33m\u001b[0m\u001b[0m\n",
      "\u001b[1;31mModuleNotFoundError\u001b[0m: No module named 'grp'"
     ]
    }
   ],
   "source": [
    "# Python Libraries\n",
    "import matplotlib.pyplot as plt\n",
    "import numpy as np\n",
    "import pandas as pd\n",
    "\n",
    "# Local files\n",
    "from helper import Mode, load_relevant_data\n",
    "\n",
    "TEST_DATE = \"10/20/20\"\n",
    "\n",
    "def plot_daily_count_states(states=['Massachusetts'], day=TEST_DATE, mode=Mode.CASES, filename=None):\n",
    "\tCOLUMN = 'Province_State'\n",
    "\tdf = load_relevant_data(True, mode).groupby(COLUMN).sum().reset_index()\n",
    "\tplot_data(df, states, day, mode, COLUMN, filename)\n",
    "\n",
    "def plot_daily_count_countries(countries=['US'], day=TEST_DATE, mode=Mode.CASES, filename=None):\n",
    "\tCOLUMN = 'Country/Region'\n",
    "\tdf = load_relevant_data(False, mode).groupby(COLUMN).sum().reset_index()\n",
    "\tplot_data(df, countries, day, mode, COLUMN, filename)\n",
    "\n",
    "def plot_data(df, places, day, mode, column, filename):\n",
    "\tn = len(places)\n",
    "\tcolors = plt.cm.Reds(np.linspace(0.35,0.65,n))\n",
    "\n",
    "\tvalues = []\n",
    "\tfor index, place in enumerate(places):\n",
    "\t\tcumulative_data = df[df[column] == place]\n",
    "\t\tstart_column = cumulative_data.columns.get_loc(\"1/22/20\")\n",
    "\t\tcounts = cumulative_data.iloc[:, start_column:].diff(axis=1) # Converts from total case count to daily case count\n",
    "\t\tvalues.append(int(counts[day]))\n",
    "\n",
    "\tplt.bar(places, values, color=colors)\n",
    "\tlabel_figure(day, mode, filename)\n",
    "\t\n",
    "def label_figure(day, mode, filename):\n",
    "\tplt.title(f'{mode}, {day}')\n",
    "\tplt.ylabel(f\"{mode}\")\n",
    "\tfilename = filename if filename else f'{mode}_{day.replace(\"/\", \"-\")}.png'\n",
    "\tplt.savefig(filename)\n",
    "\tplt.close()\n",
    "\n",
    "if __name__ == '__main__':\n",
    "\t\n",
    "\tstates = [\"Massachusetts\", \"New Hampshire\", \"Rhode Island\"]\n",
    "\tplot_daily_count_states(states, day=\"10/10/20\")\n",
    "\tplot_daily_count_states(states, mode=Mode.DEATHS)\n",
    "\n",
    "\tplot_daily_count_countries([\"India\", \"US\", \"Brazil\"])\n"
   ]
  },
  {
   "cell_type": "code",
   "execution_count": null,
   "metadata": {},
   "outputs": [],
   "source": [
    "pip install "
   ]
  },
  {
   "cell_type": "code",
   "execution_count": null,
   "metadata": {},
   "outputs": [],
   "source": [
    "# Python libraries\n",
    "from fpdf import FPDF\n",
    "from datetime import datetime, timedelta\n",
    "import os\n",
    "\n",
    "# Local libraries\n",
    "from time_series_analysis import plot_states, plot_countries\n",
    "from daily_counts import plot_daily_count_states, plot_daily_count_countries\n",
    "from create_case_maps import plot_usa_case_map, plot_global_case_map\n",
    "from helper import Mode\n",
    "\n",
    "WIDTH = 210\n",
    "HEIGHT = 297\n",
    "\n",
    "TEST_DATE = \"10/20/20\"\n",
    "\n",
    "def create_title(day, pdf):\n",
    "  # Unicode is not yet supported in the py3k version; use windows-1252 standard font\n",
    "  pdf.set_font('Arial', '', 24)  \n",
    "  pdf.ln(60)\n",
    "  pdf.write(5, f\"Covid Analytics Report\")\n",
    "  pdf.ln(10)\n",
    "  pdf.set_font('Arial', '', 16)\n",
    "  pdf.write(4, f'{day}')\n",
    "  pdf.ln(5)\n",
    "\n",
    "def create_analytics_report(day=TEST_DATE, filename=\"report.pdf\"):\n",
    "  pdf = FPDF() # A4 (210 by 297 mm)\n",
    "\n",
    "  states = ['Massachusetts', 'New Hampshire']\n",
    "\n",
    "  ''' First Page '''\n",
    "  pdf.add_page()\n",
    "  pdf.image(\"./resources/letterhead_cropped.png\", 0, 0, WIDTH)\n",
    "  create_title(day, pdf)\n",
    "\n",
    "  plot_usa_case_map(\"./tmp/usa_cases.png\", day=day)\n",
    "  prev_days = 250\n",
    "  plot_states(states, days=prev_days, filename=\"./tmp/cases.png\", end_date=day)\n",
    "  plot_states(states, days=prev_days, mode=Mode.DEATHS, filename=\"./tmp/deaths.png\", end_date=day)\n",
    "\n",
    "  pdf.image(\"./tmp/usa_cases.png\", 5, 90, WIDTH-20)\n",
    "  pdf.image(\"./tmp/cases.png\", 5, 200, WIDTH/2-10)\n",
    "  pdf.image(\"./tmp/deaths.png\", WIDTH/2, 200, WIDTH/2-10)\n",
    "\n",
    "  ''' Second Page '''\n",
    "  pdf.add_page()\n",
    "\n",
    "  plot_daily_count_states(states, day=day, filename=\"./tmp/cases_day.png\")\n",
    "  plot_daily_count_states(states, day=day, mode=Mode.DEATHS, filename=\"./tmp/deaths_day.png\")\n",
    "  pdf.image(\"./tmp/cases_day.png\", 5, 20, WIDTH/2-10)\n",
    "  pdf.image(\"./tmp/deaths_day.png\", WIDTH/2, 20, WIDTH/2-10)\n",
    "\n",
    "  prev_days = 7\n",
    "  plot_states(states, days=prev_days, filename=\"./tmp/cases2.png\", end_date=day)\n",
    "  plot_states(states, days=prev_days, mode=Mode.DEATHS, filename=\"./tmp/deaths2.png\", end_date=day)\n",
    "  pdf.image(\"./tmp/cases2.png\", 5, 110, WIDTH/2-10)\n",
    "  pdf.image(\"./tmp/deaths2.png\", WIDTH/2, 110, WIDTH/2-10)\n",
    "\n",
    "  prev_days = 30\n",
    "  plot_states(states, days=prev_days, filename=\"./tmp/cases3.png\", end_date=day)\n",
    "  plot_states(states, days=prev_days, mode=Mode.DEATHS, filename=\"./tmp/deaths3.png\", end_date=day)\n",
    "  pdf.image(\"./tmp/cases3.png\", 5, 200, WIDTH/2-10)\n",
    "  pdf.image(\"./tmp/deaths3.png\", WIDTH/2, 200, WIDTH/2-10)\n",
    "\n",
    "  ''' Third Page '''\n",
    "  pdf.add_page()\n",
    "\n",
    "  plot_global_case_map(\"./tmp/global_cases.png\", day=day)\n",
    "\n",
    "  countries = ['US', 'India', 'Brazil']\n",
    "  prev_days = 7\n",
    "  plot_countries(countries, days=prev_days, filename=\"./tmp/cases4.png\", end_date=day)\n",
    "  plot_countries(countries, days=prev_days, mode=Mode.DEATHS, filename=\"./tmp/deaths4.png\", end_date=day)\n",
    "\n",
    "  pdf.image(\"./tmp/global_cases.png\", 5, 20, WIDTH-20)\n",
    "  pdf.image(\"./tmp/cases4.png\", 5, 130, WIDTH/2-10)\n",
    "  pdf.image(\"./tmp/deaths4.png\", WIDTH/2, 130, WIDTH/2-10)\n",
    "\n",
    "  pdf.output(filename, 'F')\n",
    "\n",
    "\n",
    "if __name__ == '__main__':\n",
    "  yesterday = (datetime.today() - timedelta(days=1)).strftime(\"%m/%d/%y\").replace(\"/0\",\"/\").lstrip(\"0\")\n",
    "  yesterday = \"10/10/20\" # Uncomment line for testing\n",
    "  \n",
    "  create_analytics_report(yesterday)"
   ]
  }
 ],
 "metadata": {
  "kernelspec": {
   "display_name": "Python 3",
   "language": "python",
   "name": "python3"
  },
  "language_info": {
   "codemirror_mode": {
    "name": "ipython",
    "version": 3
   },
   "file_extension": ".py",
   "mimetype": "text/x-python",
   "name": "python",
   "nbconvert_exporter": "python",
   "pygments_lexer": "ipython3",
   "version": "3.8.5"
  }
 },
 "nbformat": 4,
 "nbformat_minor": 4
}
